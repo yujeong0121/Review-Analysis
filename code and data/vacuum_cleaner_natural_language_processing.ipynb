{
 "cells": [
  {
   "cell_type": "markdown",
   "metadata": {
    "id": "CvGu5-6Dq3vH"
   },
   "source": [
    "# Konlpy 설치"
   ]
  },
  {
   "cell_type": "code",
   "execution_count": 1,
   "metadata": {
    "colab": {
     "base_uri": "https://localhost:8080/"
    },
    "id": "JaJa1kOZq2nI",
    "outputId": "45463856-6428-4ac8-fe81-e03f9389866c"
   },
   "outputs": [
    {
     "name": "stderr",
     "output_type": "stream",
     "text": [
      "C:\\Users\\skygg\\anaconda3\\envs\\py38_test\\lib\\site-packages\\numpy\\_distributor_init.py:30: UserWarning: loaded more than 1 DLL from .libs:\n",
      "C:\\Users\\skygg\\anaconda3\\envs\\py38_test\\lib\\site-packages\\numpy\\.libs\\libopenblas.NOIJJG62EMASZI6NYURL6JBKM4EVBGM7.gfortran-win_amd64.dll\n",
      "C:\\Users\\skygg\\anaconda3\\envs\\py38_test\\lib\\site-packages\\numpy\\.libs\\libopenblas.WCDJNK7YVMPZQ2ME2ZZHJJRJ3JIKNDB7.gfortran-win_amd64.dll\n",
      "  warnings.warn(\"loaded more than 1 DLL from .libs:\"\n"
     ]
    }
   ],
   "source": [
    "import re\n",
    "from konlpy.tag import Kkma\n",
    "from konlpy.tag import Okt\n",
    "import pandas as pd\n",
    "from pykospacing import Spacing\n",
    "import numpy as np\n",
    "from tqdm.auto import tqdm\n",
    "import os\n",
    "import json\n",
    "\n",
    "kkma = Kkma()\n",
    "okt = Okt()"
   ]
  },
  {
   "cell_type": "code",
   "execution_count": 2,
   "metadata": {},
   "outputs": [
    {
     "data": {
      "text/plain": [
       "'C:\\\\Users\\\\skygg\\\\무선 청소기 리뷰 감성 분석\\\\Vacuum-cleaner_Natural-language'"
      ]
     },
     "execution_count": 2,
     "metadata": {},
     "output_type": "execute_result"
    }
   ],
   "source": [
    "os.getcwd()"
   ]
  },
  {
   "cell_type": "markdown",
   "metadata": {
    "id": "DlA8U9a4xRNH"
   },
   "source": [
    "# 전처리\n",
    "크롤링한 데이터를 csv로 저장. 저장한 데이터를 가져와서 딕녀너리 형태로 변환 작업"
   ]
  },
  {
   "cell_type": "markdown",
   "metadata": {
    "id": "vtdthElfypWi"
   },
   "source": [
    "## 김찬희"
   ]
  },
  {
   "cell_type": "code",
   "execution_count": 4,
   "metadata": {
    "id": "0wOY4FWiq1Pa"
   },
   "outputs": [],
   "source": [
    "dyson_data= pd.read_csv('./data/다이슨.csv',encoding = 'cp949')"
   ]
  },
  {
   "cell_type": "code",
   "execution_count": 5,
   "metadata": {
    "colab": {
     "base_uri": "https://localhost:8080/"
    },
    "id": "-BfE17f83DqC",
    "outputId": "af033bcf-b64f-463a-e295-49d526d99451"
   },
   "outputs": [],
   "source": [
    "dyson_list = []\n",
    "dyson_dict = {}\n",
    "dyson_star = dyson_data['평점'].values\n",
    "dyson_model_name = dyson_data.drop_duplicates(['제품명'])['제품명']\n",
    "dyson_model_cost = dyson_data.drop_duplicates(['가격'])['가격']\n",
    "\n",
    "\n",
    "#해당 제조사의 제품숫자로 변경 \n",
    "for i in range(5):\n",
    "    \n",
    "    dyson_dict = {}\n",
    "    dyson_name = dyson_model_name.iloc[i]\n",
    "    dyson_cost = dyson_model_cost.iloc[i]\n",
    "    \n",
    "    dyson_test_1 = dyson_data['제품명'] == dyson_name\n",
    "    dyson_test = dyson_data[dyson_test_1]\n",
    "    dyson_star = dyson_test['평점'].tolist()[:100]\n",
    "    dyson_channel = dyson_test['채널'].tolist()[:100]\n",
    "    dyson_date = dyson_test['날짜'].tolist()[:100]\n",
    "    dyson_review = dyson_test['리뷰'].tolist()[:100]\n",
    "    \n",
    "    dyson_dict['제품명'] = dyson_name\n",
    "    dyson_dict['가격'] = dyson_cost\n",
    "    dyson_dict['평점'] = dyson_star\n",
    "    dyson_dict['채널'] = dyson_channel\n",
    "    dyson_dict['날짜'] = dyson_date\n",
    "    dyson_dict['리뷰'] = dyson_review\n",
    "    \n",
    "    dyson_list.append(dyson_dict)\n",
    "    \n"
   ]
  },
  {
   "cell_type": "code",
   "execution_count": 6,
   "metadata": {
    "id": "wc3NL50_rkQd"
   },
   "outputs": [],
   "source": [
    "dibea_data = pd.read_csv('./data/디베아.csv',encoding = 'cp949')"
   ]
  },
  {
   "cell_type": "code",
   "execution_count": 7,
   "metadata": {
    "colab": {
     "base_uri": "https://localhost:8080/"
    },
    "id": "sjzkuml2rkGh",
    "outputId": "06bc01fa-382c-4f19-88b3-4152ef09a7b6"
   },
   "outputs": [],
   "source": [
    "dibea_list = []\n",
    "dibea_dict = {}\n",
    "dibea_star = dibea_data['평점'].values\n",
    "dibea_model_name = dibea_data.drop_duplicates(['제품명'])['제품명']\n",
    "dibea_model_cost = dibea_data.drop_duplicates(['가격'])['가격']\n",
    "\n",
    "\n",
    "#해당 제조사의 제품숫자로 변경 \n",
    "for i in range(5):\n",
    "    \n",
    "    dibea_dict = {}\n",
    "    dibea_name = dibea_model_name.iloc[i]\n",
    "    dibea_cost = dibea_model_cost.iloc[i]\n",
    "    \n",
    "    dibea_test_1 = dibea_data['제품명'] == dibea_name\n",
    "    dibea_test = dibea_data[dibea_test_1]\n",
    "    dibea_star = dibea_test['평점'].tolist()[:100]\n",
    "    dibea_channel = dibea_test['채널'].tolist()[:100]\n",
    "    dibea_date = dibea_test['날짜'].tolist()[:100]\n",
    "    dibea_review = dibea_test['리뷰'].tolist()[:100]\n",
    "    \n",
    "    dibea_dict['제품명'] = dibea_name\n",
    "    dibea_dict['가격'] = dibea_cost\n",
    "    dibea_dict['평점'] = dibea_star\n",
    "    dibea_dict['채널'] = dibea_channel\n",
    "    dibea_dict['날짜'] = dibea_date\n",
    "    dibea_dict['리뷰'] = dibea_review\n",
    "    \n",
    "    dibea_list.append(dibea_dict)\n",
    "\n"
   ]
  },
  {
   "cell_type": "markdown",
   "metadata": {
    "id": "FOqUHErKyrGo"
   },
   "source": [
    "## 박유정"
   ]
  },
  {
   "cell_type": "markdown",
   "metadata": {
    "id": "_nIfvOWzNt4e"
   },
   "source": [
    "- 엘지"
   ]
  },
  {
   "cell_type": "code",
   "execution_count": 18,
   "metadata": {
    "colab": {
     "base_uri": "https://localhost:8080/",
     "height": 337
    },
    "id": "SIzSIfvODq2X",
    "outputId": "c0c80cfa-4bca-4c68-caf3-be2279d6e10b"
   },
   "outputs": [
    {
     "data": {
      "text/html": [
       "<div>\n",
       "<style scoped>\n",
       "    .dataframe tbody tr th:only-of-type {\n",
       "        vertical-align: middle;\n",
       "    }\n",
       "\n",
       "    .dataframe tbody tr th {\n",
       "        vertical-align: top;\n",
       "    }\n",
       "\n",
       "    .dataframe thead th {\n",
       "        text-align: right;\n",
       "    }\n",
       "</style>\n",
       "<table border=\"1\" class=\"dataframe\">\n",
       "  <thead>\n",
       "    <tr style=\"text-align: right;\">\n",
       "      <th></th>\n",
       "      <th>가격</th>\n",
       "      <th>평점</th>\n",
       "      <th>채널</th>\n",
       "      <th>날짜</th>\n",
       "      <th>제품명</th>\n",
       "      <th>리뷰</th>\n",
       "    </tr>\n",
       "  </thead>\n",
       "  <tbody>\n",
       "    <tr>\n",
       "      <th>0</th>\n",
       "      <td>775,970</td>\n",
       "      <td>평점5</td>\n",
       "      <td>보다쇼핑</td>\n",
       "      <td>21.11.01.</td>\n",
       "      <td>LG전자 코드제로 A9S 올인원타워 AS9370IKT</td>\n",
       "      <td>주문하고 3~4주 걸릴수있다고 안내전화받고 기다렸는데 10일만에 배송된다고 lg기사...</td>\n",
       "    </tr>\n",
       "    <tr>\n",
       "      <th>1</th>\n",
       "      <td>775,970</td>\n",
       "      <td>평점3</td>\n",
       "      <td>신세계TV쇼핑</td>\n",
       "      <td>21.11.05.</td>\n",
       "      <td>LG전자 코드제로 A9S 올인원타워 AS9370IKT</td>\n",
       "      <td>일단 배송이 한달 걸렸어요.. 삼성비스코프 청소기에 결함이 있어서 반품 처리 하고 ...</td>\n",
       "    </tr>\n",
       "    <tr>\n",
       "      <th>2</th>\n",
       "      <td>775,970</td>\n",
       "      <td>평점4</td>\n",
       "      <td>쇼핑엔티</td>\n",
       "      <td>21.11.16.</td>\n",
       "      <td>LG전자 코드제로 A9S 올인원타워 AS9370IKT</td>\n",
       "      <td>생각했던것보다 배송은 빨랐네요(10일 걸렸습니다)유선 청소기만 쓰다가 무선청소기 처...</td>\n",
       "    </tr>\n",
       "    <tr>\n",
       "      <th>3</th>\n",
       "      <td>775,970</td>\n",
       "      <td>평점3</td>\n",
       "      <td>CJ온스타일</td>\n",
       "      <td>21.09.15.</td>\n",
       "      <td>LG전자 코드제로 A9S 올인원타워 AS9370IKT</td>\n",
       "      <td>청소는 주로 남편이 하니까, 제가 청소기 쓸 일은 거의 없긴 한데요, 이것을 주로 ...</td>\n",
       "    </tr>\n",
       "    <tr>\n",
       "      <th>4</th>\n",
       "      <td>775,970</td>\n",
       "      <td>평점4</td>\n",
       "      <td>신세계TV쇼핑</td>\n",
       "      <td>21.09.20.</td>\n",
       "      <td>LG전자 코드제로 A9S 올인원타워 AS9370IKT</td>\n",
       "      <td>우선 먼지통 비우는 불편함이 없는점이 제일 좋았어요~소음도 생각보다 크지않고 청소기...</td>\n",
       "    </tr>\n",
       "  </tbody>\n",
       "</table>\n",
       "</div>"
      ],
      "text/plain": [
       "        가격   평점       채널         날짜                            제품명  \\\n",
       "0  775,970  평점5     보다쇼핑  21.11.01.  LG전자 코드제로 A9S 올인원타워 AS9370IKT   \n",
       "1  775,970  평점3  신세계TV쇼핑  21.11.05.  LG전자 코드제로 A9S 올인원타워 AS9370IKT   \n",
       "2  775,970  평점4     쇼핑엔티  21.11.16.  LG전자 코드제로 A9S 올인원타워 AS9370IKT   \n",
       "3  775,970  평점3   CJ온스타일  21.09.15.  LG전자 코드제로 A9S 올인원타워 AS9370IKT   \n",
       "4  775,970  평점4  신세계TV쇼핑  21.09.20.  LG전자 코드제로 A9S 올인원타워 AS9370IKT   \n",
       "\n",
       "                                                  리뷰  \n",
       "0  주문하고 3~4주 걸릴수있다고 안내전화받고 기다렸는데 10일만에 배송된다고 lg기사...  \n",
       "1  일단 배송이 한달 걸렸어요.. 삼성비스코프 청소기에 결함이 있어서 반품 처리 하고 ...  \n",
       "2  생각했던것보다 배송은 빨랐네요(10일 걸렸습니다)유선 청소기만 쓰다가 무선청소기 처...  \n",
       "3  청소는 주로 남편이 하니까, 제가 청소기 쓸 일은 거의 없긴 한데요, 이것을 주로 ...  \n",
       "4  우선 먼지통 비우는 불편함이 없는점이 제일 좋았어요~소음도 생각보다 크지않고 청소기...  "
      ]
     },
     "execution_count": 18,
     "metadata": {},
     "output_type": "execute_result"
    }
   ],
   "source": [
    "# 데이터 읽어오기\n",
    "lg_data = pd.read_csv('./data/엘지_중복제거.csv',  encoding = 'cp949')\n",
    "lg_data.head()"
   ]
  },
  {
   "cell_type": "code",
   "execution_count": 19,
   "metadata": {
    "colab": {
     "base_uri": "https://localhost:8080/"
    },
    "id": "vcyb9qFpDq4v",
    "outputId": "30393198-5513-4697-af46-0151ca90da7b"
   },
   "outputs": [
    {
     "name": "stdout",
     "output_type": "stream",
     "text": [
      "가격     0\n",
      "평점     0\n",
      "채널     0\n",
      "날짜     0\n",
      "제품명    0\n",
      "리뷰     0\n",
      "dtype: int64\n"
     ]
    }
   ],
   "source": [
    "# 결측치 확인\n",
    "print(lg_data.isnull().sum())"
   ]
  },
  {
   "cell_type": "code",
   "execution_count": 20,
   "metadata": {
    "id": "lnF-wuJODq66"
   },
   "outputs": [],
   "source": [
    "lg_model_name = lg_data.drop_duplicates(['제품명'])['제품명'] \n",
    "lg_model_cost = lg_data.drop_duplicates(['가격'])['가격']    "
   ]
  },
  {
   "cell_type": "code",
   "execution_count": 21,
   "metadata": {
    "colab": {
     "base_uri": "https://localhost:8080/"
    },
    "id": "YRItlEBIDrAp",
    "outputId": "061fe504-113c-4646-e987-ce039db2f1c2"
   },
   "outputs": [
    {
     "data": {
      "text/plain": [
       "0       LG전자 코드제로 A9S 올인원타워 AS9370IKT\n",
       "200                LG전자 오브제컬렉션 AO9571\n",
       "400               LG전자 코드제로 A9S A9370\n",
       "600         LG전자 A9S 오브제컬렉션 AO9471WKT\n",
       "800                  LG전자 코드제로 A9100S\n",
       "1000              LG전자 코드제로 A9S A9700\n",
       "Name: 제품명, dtype: object"
      ]
     },
     "execution_count": 21,
     "metadata": {},
     "output_type": "execute_result"
    }
   ],
   "source": [
    "lg_model_name "
   ]
  },
  {
   "cell_type": "code",
   "execution_count": 22,
   "metadata": {
    "colab": {
     "base_uri": "https://localhost:8080/"
    },
    "id": "CDA1xsPa8WyC",
    "outputId": "c5f76e2e-a7ca-4129-beb2-4aa31ee5bce8"
   },
   "outputs": [
    {
     "data": {
      "text/plain": [
       "0         775,970\n",
       "200     1,070,100\n",
       "400       698,220\n",
       "600     1,059,000\n",
       "800       593,170\n",
       "1000      867,260\n",
       "Name: 가격, dtype: object"
      ]
     },
     "execution_count": 22,
     "metadata": {},
     "output_type": "execute_result"
    }
   ],
   "source": [
    "lg_model_cost"
   ]
  },
  {
   "cell_type": "code",
   "execution_count": 23,
   "metadata": {
    "colab": {
     "base_uri": "https://localhost:8080/"
    },
    "id": "Y8UJnj198XHL",
    "outputId": "74ba31a0-e0f9-40d7-d224-f4273d1c8920"
   },
   "outputs": [],
   "source": [
    "# lg 6개 제품\n",
    "lg_list = []\n",
    "for i in range(6):\n",
    "    \n",
    "    lg_dict = {}\n",
    "    lg_name = lg_model_name.iloc[i]\n",
    "    lg_cost = lg_model_cost.iloc[i]\n",
    "    \n",
    "    lg_test_1 = lg_data['제품명'] == lg_name\n",
    "    lg_test = lg_data[lg_test_1]\n",
    "    lg_star = lg_test['평점'].tolist()[:100]\n",
    "    lg_channel = lg_test['채널'].tolist()[:100]\n",
    "    lg_date = lg_test['날짜'].tolist()[:100]\n",
    "    lg_review = lg_test['리뷰'].tolist()[:100]\n",
    "    \n",
    "    lg_dict['제품명'] = lg_name\n",
    "    lg_dict['가격'] = lg_cost\n",
    "    lg_dict['평점'] = lg_star\n",
    "    lg_dict['채널'] = lg_channel\n",
    "    lg_dict['날짜'] = lg_date\n",
    "    lg_dict['리뷰'] = lg_review\n",
    "    \n",
    "    lg_list.append(lg_dict)\n"
   ]
  },
  {
   "cell_type": "code",
   "execution_count": 24,
   "metadata": {
    "colab": {
     "base_uri": "https://localhost:8080/"
    },
    "id": "iCE7gjCc8XQH",
    "outputId": "2e4e0e2b-6bd2-4973-d95b-798b70a9df22"
   },
   "outputs": [
    {
     "name": "stdout",
     "output_type": "stream",
     "text": [
      "6\n"
     ]
    }
   ],
   "source": [
    "print(len(lg_list))"
   ]
  },
  {
   "cell_type": "code",
   "execution_count": 25,
   "metadata": {
    "colab": {
     "base_uri": "https://localhost:8080/"
    },
    "id": "Dqa3cUX4OhFY",
    "outputId": "c0dc88de-ec7f-4802-be66-8148908eef68"
   },
   "outputs": [
    {
     "name": "stdout",
     "output_type": "stream",
     "text": [
      "dict_keys(['제품명', '가격', '평점', '채널', '날짜', '리뷰'])\n"
     ]
    }
   ],
   "source": [
    "print(lg_list[0].keys())"
   ]
  },
  {
   "cell_type": "markdown",
   "metadata": {
    "id": "txUssQ51NxMp"
   },
   "source": [
    "- 테팔"
   ]
  },
  {
   "cell_type": "code",
   "execution_count": 26,
   "metadata": {
    "colab": {
     "base_uri": "https://localhost:8080/",
     "height": 250
    },
    "id": "owcT3g-yFNnA",
    "outputId": "0829a0ed-3a50-43a0-d131-8f2dfa1f1228"
   },
   "outputs": [
    {
     "data": {
      "text/html": [
       "<div>\n",
       "<style scoped>\n",
       "    .dataframe tbody tr th:only-of-type {\n",
       "        vertical-align: middle;\n",
       "    }\n",
       "\n",
       "    .dataframe tbody tr th {\n",
       "        vertical-align: top;\n",
       "    }\n",
       "\n",
       "    .dataframe thead th {\n",
       "        text-align: right;\n",
       "    }\n",
       "</style>\n",
       "<table border=\"1\" class=\"dataframe\">\n",
       "  <thead>\n",
       "    <tr style=\"text-align: right;\">\n",
       "      <th></th>\n",
       "      <th>가격</th>\n",
       "      <th>평점</th>\n",
       "      <th>채널</th>\n",
       "      <th>날짜</th>\n",
       "      <th>제품명</th>\n",
       "      <th>리뷰</th>\n",
       "    </tr>\n",
       "  </thead>\n",
       "  <tbody>\n",
       "    <tr>\n",
       "      <th>0</th>\n",
       "      <td>178,600</td>\n",
       "      <td>평점4</td>\n",
       "      <td>11번가</td>\n",
       "      <td>21.10.13.</td>\n",
       "      <td>2020년형테팔 엑스퍼트3.60 TY6933</td>\n",
       "      <td>무선청소기 넘 갖고 싶었는데 가격 부담없는 테팔로 구매했어요. 사용 후 장,단점을 ...</td>\n",
       "    </tr>\n",
       "    <tr>\n",
       "      <th>1</th>\n",
       "      <td>178,600</td>\n",
       "      <td>평점3</td>\n",
       "      <td>11번가</td>\n",
       "      <td>21.11.11.</td>\n",
       "      <td>2020년형테팔 엑스퍼트3.60 TY6933</td>\n",
       "      <td>장점: 저렴하게 샀다. 카드 할인까지 받아서 94050에 샀다. 가볍다. 기능이 단...</td>\n",
       "    </tr>\n",
       "    <tr>\n",
       "      <th>2</th>\n",
       "      <td>178,600</td>\n",
       "      <td>평점3</td>\n",
       "      <td>테팔</td>\n",
       "      <td>21.09.10.</td>\n",
       "      <td>2020년형테팔 엑스퍼트3.60 TY6933</td>\n",
       "      <td>장점-가격이 저렴, 배터리 잔량표시됨, 무게가 가볍다.단점-공기청정기나 선풍기인줄....</td>\n",
       "    </tr>\n",
       "    <tr>\n",
       "      <th>3</th>\n",
       "      <td>178,600</td>\n",
       "      <td>평점5</td>\n",
       "      <td>11번가</td>\n",
       "      <td>21.10.06.</td>\n",
       "      <td>2020년형테팔 엑스퍼트3.60 TY6933</td>\n",
       "      <td>배송은 일단 빨랐습니다. 포장상태도 만족하구요.벽에 고정시켜서 청소기를 거치도 할 ...</td>\n",
       "    </tr>\n",
       "    <tr>\n",
       "      <th>4</th>\n",
       "      <td>178,600</td>\n",
       "      <td>평점5</td>\n",
       "      <td>11번가</td>\n",
       "      <td>21.04.07.</td>\n",
       "      <td>2020년형테팔 엑스퍼트3.60 TY6933</td>\n",
       "      <td>6년동안 사용했던 삼성 무선청소기가 갑자기 고장이 나서 급하게 찾아보다가 저렴한 가...</td>\n",
       "    </tr>\n",
       "  </tbody>\n",
       "</table>\n",
       "</div>"
      ],
      "text/plain": [
       "        가격   평점    채널         날짜                       제품명  \\\n",
       "0  178,600  평점4  11번가  21.10.13.  2020년형테팔 엑스퍼트3.60 TY6933   \n",
       "1  178,600  평점3  11번가  21.11.11.  2020년형테팔 엑스퍼트3.60 TY6933   \n",
       "2  178,600  평점3    테팔  21.09.10.  2020년형테팔 엑스퍼트3.60 TY6933   \n",
       "3  178,600  평점5  11번가  21.10.06.  2020년형테팔 엑스퍼트3.60 TY6933   \n",
       "4  178,600  평점5  11번가  21.04.07.  2020년형테팔 엑스퍼트3.60 TY6933   \n",
       "\n",
       "                                                  리뷰  \n",
       "0  무선청소기 넘 갖고 싶었는데 가격 부담없는 테팔로 구매했어요. 사용 후 장,단점을 ...  \n",
       "1  장점: 저렴하게 샀다. 카드 할인까지 받아서 94050에 샀다. 가볍다. 기능이 단...  \n",
       "2  장점-가격이 저렴, 배터리 잔량표시됨, 무게가 가볍다.단점-공기청정기나 선풍기인줄....  \n",
       "3  배송은 일단 빨랐습니다. 포장상태도 만족하구요.벽에 고정시켜서 청소기를 거치도 할 ...  \n",
       "4  6년동안 사용했던 삼성 무선청소기가 갑자기 고장이 나서 급하게 찾아보다가 저렴한 가...  "
      ]
     },
     "execution_count": 26,
     "metadata": {},
     "output_type": "execute_result"
    }
   ],
   "source": [
    "tefal_data = pd.read_csv('./data/테팔_중복제거.csv',  encoding = 'cp949')\n",
    "tefal_data.head()"
   ]
  },
  {
   "cell_type": "code",
   "execution_count": 27,
   "metadata": {
    "colab": {
     "base_uri": "https://localhost:8080/"
    },
    "id": "wx1RzFXAFNoC",
    "outputId": "e91e1e69-b9dc-4388-c9bb-48bace38010c"
   },
   "outputs": [
    {
     "name": "stdout",
     "output_type": "stream",
     "text": [
      "가격     0\n",
      "평점     0\n",
      "채널     0\n",
      "날짜     0\n",
      "제품명    0\n",
      "리뷰     0\n",
      "dtype: int64\n"
     ]
    }
   ],
   "source": [
    "# 결측치 확인\n",
    "print(tefal_data.isnull().sum())"
   ]
  },
  {
   "cell_type": "code",
   "execution_count": 28,
   "metadata": {
    "colab": {
     "base_uri": "https://localhost:8080/"
    },
    "id": "5xLLZyMYFNpG",
    "outputId": "9480e104-7b8e-484f-8d4c-f5d0218cb7fc"
   },
   "outputs": [],
   "source": [
    "tefal_list = [] \n",
    "tefal_model_name = tefal_data.drop_duplicates(['제품명'])['제품명']\n",
    "tefal_model_cost = tefal_data.drop_duplicates(['가격'])['가격']\n",
    "\n",
    "# tefal 4개\n",
    "for i in range(4):\n",
    "    \n",
    "    tefal_dict = {}\n",
    "    tefal_name = tefal_model_name.iloc[i]\n",
    "    tefal_cost = tefal_model_cost.iloc[i]\n",
    "    \n",
    "    tefal_test_1 = tefal_data['제품명'] == tefal_name\n",
    "    tefal_test = tefal_data[tefal_test_1]\n",
    "    tefal_star = tefal_test['평점'].tolist()[:100]\n",
    "    tefal_channel = tefal_test['채널'].tolist()[:100]\n",
    "    tefal_date = tefal_test['날짜'].tolist()[:100]\n",
    "    tefal_review = tefal_test['리뷰'].tolist()[:100]\n",
    "    \n",
    "    tefal_dict['제품명'] = tefal_name\n",
    "    tefal_dict['가격'] = tefal_cost\n",
    "    tefal_dict['평점'] = tefal_star\n",
    "    tefal_dict['채널'] = tefal_channel\n",
    "    tefal_dict['날짜'] = tefal_date\n",
    "    tefal_dict['리뷰'] = tefal_review\n",
    "    \n",
    "    tefal_list.append(tefal_dict)\n",
    "\n"
   ]
  },
  {
   "cell_type": "code",
   "execution_count": 29,
   "metadata": {
    "colab": {
     "base_uri": "https://localhost:8080/"
    },
    "id": "Skrk3A_cFNqe",
    "outputId": "5a125d0e-2a67-4e24-dd3e-12f4ea241da3"
   },
   "outputs": [
    {
     "name": "stdout",
     "output_type": "stream",
     "text": [
      "4\n"
     ]
    }
   ],
   "source": [
    "print(len(tefal_list))"
   ]
  },
  {
   "cell_type": "markdown",
   "metadata": {
    "id": "OtT7W8CLyuIS"
   },
   "source": [
    "## 정새하"
   ]
  },
  {
   "cell_type": "code",
   "execution_count": 61,
   "metadata": {
    "colab": {
     "base_uri": "https://localhost:8080/",
     "height": 206
    },
    "id": "7k3Z0j_W3EOP",
    "outputId": "a0432a7f-b1f5-4ef8-d587-8c0d57194797"
   },
   "outputs": [
    {
     "data": {
      "text/html": [
       "<div>\n",
       "<style scoped>\n",
       "    .dataframe tbody tr th:only-of-type {\n",
       "        vertical-align: middle;\n",
       "    }\n",
       "\n",
       "    .dataframe tbody tr th {\n",
       "        vertical-align: top;\n",
       "    }\n",
       "\n",
       "    .dataframe thead th {\n",
       "        text-align: right;\n",
       "    }\n",
       "</style>\n",
       "<table border=\"1\" class=\"dataframe\">\n",
       "  <thead>\n",
       "    <tr style=\"text-align: right;\">\n",
       "      <th></th>\n",
       "      <th>가격</th>\n",
       "      <th>평점</th>\n",
       "      <th>채널</th>\n",
       "      <th>날짜</th>\n",
       "      <th>제품명</th>\n",
       "      <th>리뷰</th>\n",
       "    </tr>\n",
       "  </thead>\n",
       "  <tbody>\n",
       "    <tr>\n",
       "      <th>0</th>\n",
       "      <td>598,740</td>\n",
       "      <td>평점5</td>\n",
       "      <td>삼성공식파트너 평강프라자</td>\n",
       "      <td>21.04.29.</td>\n",
       "      <td>삼성전자 비스포크제트 VS20A956A3</td>\n",
       "      <td>삼성의 역전1. 구입동기경쟁사 제품을 약 3년간 사용하면서 3번의 배터리 방전 문제...</td>\n",
       "    </tr>\n",
       "    <tr>\n",
       "      <th>1</th>\n",
       "      <td>598,740</td>\n",
       "      <td>평점5</td>\n",
       "      <td>삼성공식파트너 평강프라자</td>\n",
       "      <td>21.05.30.</td>\n",
       "      <td>삼성전자 비스포크제트 VS20A956A3</td>\n",
       "      <td>기존에 타사A  제품  처음 출시될때부터 사용했어요~유선 청소기는 이제 더이상 사용...</td>\n",
       "    </tr>\n",
       "    <tr>\n",
       "      <th>2</th>\n",
       "      <td>598,740</td>\n",
       "      <td>평점5</td>\n",
       "      <td>신세계몰</td>\n",
       "      <td>21.11.24.</td>\n",
       "      <td>삼성전자 비스포크제트 VS20A956A3</td>\n",
       "      <td>저가 청소기를 3~4년정도 쓰다가 흡입력도 떨어지고 충전도 잘 안되서 큰마음먹고 청...</td>\n",
       "    </tr>\n",
       "    <tr>\n",
       "      <th>3</th>\n",
       "      <td>598,740</td>\n",
       "      <td>평점5</td>\n",
       "      <td>11번가</td>\n",
       "      <td>21.11.27.</td>\n",
       "      <td>삼성전자 비스포크제트 VS20A956A3</td>\n",
       "      <td>다이슨청소기만 오래사용하다가 삼성 제트로 바꿨어요.다이슨은 소음도 크고 사용시 버튼...</td>\n",
       "    </tr>\n",
       "    <tr>\n",
       "      <th>4</th>\n",
       "      <td>598,740</td>\n",
       "      <td>평점5</td>\n",
       "      <td>신세계몰</td>\n",
       "      <td>21.12.02.</td>\n",
       "      <td>삼성전자 비스포크제트 VS20A956A3</td>\n",
       "      <td>집에서 유선청소기를 쓰려면 전기코드 찾아야 되고 또 전기선이 짧아 고생하다가 삼성비...</td>\n",
       "    </tr>\n",
       "  </tbody>\n",
       "</table>\n",
       "</div>"
      ],
      "text/plain": [
       "        가격   평점             채널         날짜                     제품명  \\\n",
       "0  598,740  평점5  삼성공식파트너 평강프라자  21.04.29.  삼성전자 비스포크제트 VS20A956A3   \n",
       "1  598,740  평점5  삼성공식파트너 평강프라자  21.05.30.  삼성전자 비스포크제트 VS20A956A3   \n",
       "2  598,740  평점5           신세계몰  21.11.24.  삼성전자 비스포크제트 VS20A956A3   \n",
       "3  598,740  평점5           11번가  21.11.27.  삼성전자 비스포크제트 VS20A956A3   \n",
       "4  598,740  평점5           신세계몰  21.12.02.  삼성전자 비스포크제트 VS20A956A3   \n",
       "\n",
       "                                                  리뷰  \n",
       "0  삼성의 역전1. 구입동기경쟁사 제품을 약 3년간 사용하면서 3번의 배터리 방전 문제...  \n",
       "1  기존에 타사A  제품  처음 출시될때부터 사용했어요~유선 청소기는 이제 더이상 사용...  \n",
       "2  저가 청소기를 3~4년정도 쓰다가 흡입력도 떨어지고 충전도 잘 안되서 큰마음먹고 청...  \n",
       "3  다이슨청소기만 오래사용하다가 삼성 제트로 바꿨어요.다이슨은 소음도 크고 사용시 버튼...  \n",
       "4  집에서 유선청소기를 쓰려면 전기코드 찾아야 되고 또 전기선이 짧아 고생하다가 삼성비...  "
      ]
     },
     "execution_count": 61,
     "metadata": {},
     "output_type": "execute_result"
    }
   ],
   "source": [
    "samsung_df = pd.read_csv('./data/삼성.csv', encoding='cp949')\n",
    "samsung_df.head()"
   ]
  },
  {
   "cell_type": "code",
   "execution_count": 62,
   "metadata": {
    "colab": {
     "base_uri": "https://localhost:8080/",
     "height": 424
    },
    "id": "0ceNG81tBanR",
    "outputId": "dc16a6a9-177c-46f0-cbc7-19036e9c0b97"
   },
   "outputs": [
    {
     "data": {
      "text/html": [
       "<div>\n",
       "<style scoped>\n",
       "    .dataframe tbody tr th:only-of-type {\n",
       "        vertical-align: middle;\n",
       "    }\n",
       "\n",
       "    .dataframe tbody tr th {\n",
       "        vertical-align: top;\n",
       "    }\n",
       "\n",
       "    .dataframe thead th {\n",
       "        text-align: right;\n",
       "    }\n",
       "</style>\n",
       "<table border=\"1\" class=\"dataframe\">\n",
       "  <thead>\n",
       "    <tr style=\"text-align: right;\">\n",
       "      <th></th>\n",
       "      <th>가격</th>\n",
       "      <th>평점</th>\n",
       "      <th>채널</th>\n",
       "      <th>날짜</th>\n",
       "      <th>제품명</th>\n",
       "      <th>리뷰</th>\n",
       "    </tr>\n",
       "  </thead>\n",
       "  <tbody>\n",
       "    <tr>\n",
       "      <th>0</th>\n",
       "      <td>32,710</td>\n",
       "      <td>평점1</td>\n",
       "      <td>아비소</td>\n",
       "      <td>21.10.11.</td>\n",
       "      <td>신일 싹쓸이 SVC-680G</td>\n",
       "      <td>참...사람 욕심이란게....첨엔 그래 머리카락만 잘 빨아들이몀 된다 생각했는데.....</td>\n",
       "    </tr>\n",
       "    <tr>\n",
       "      <th>1</th>\n",
       "      <td>32,710</td>\n",
       "      <td>평점4</td>\n",
       "      <td>G마켓</td>\n",
       "      <td>21.08.02.</td>\n",
       "      <td>신일 싹쓸이 SVC-680G</td>\n",
       "      <td>아이들이 지우개 찌꺼기 진공청소기를 산다기에 알아봤더니책상용 진공청소기도 성능이 쓸...</td>\n",
       "    </tr>\n",
       "    <tr>\n",
       "      <th>2</th>\n",
       "      <td>32,710</td>\n",
       "      <td>평점4</td>\n",
       "      <td>아비소</td>\n",
       "      <td>21.07.30.</td>\n",
       "      <td>신일 싹쓸이 SVC-680G</td>\n",
       "      <td>머리카락용으로 구입했어요머리말릴때 머리카락이 너무 많이 빠져서휴지뽑아 손으로 쓱쓱 ...</td>\n",
       "    </tr>\n",
       "    <tr>\n",
       "      <th>3</th>\n",
       "      <td>32,710</td>\n",
       "      <td>평점5</td>\n",
       "      <td>옥션</td>\n",
       "      <td>21.08.10.</td>\n",
       "      <td>신일 싹쓸이 SVC-680G</td>\n",
       "      <td>배송은 빠른편이구요 상품도 마음에 들어요 가격이 왔다갔다 하네요 다행히 쫌 더 저렴...</td>\n",
       "    </tr>\n",
       "    <tr>\n",
       "      <th>4</th>\n",
       "      <td>32,710</td>\n",
       "      <td>평점5</td>\n",
       "      <td>아비소</td>\n",
       "      <td>21.01.02.</td>\n",
       "      <td>신일 싹쓸이 SVC-680G</td>\n",
       "      <td>전에도 신일 싹쓰리 5년정도 써서 이번에도 신일꺼로 구매했어요.그때보다 힘도 쎄지고...</td>\n",
       "    </tr>\n",
       "    <tr>\n",
       "      <th>...</th>\n",
       "      <td>...</td>\n",
       "      <td>...</td>\n",
       "      <td>...</td>\n",
       "      <td>...</td>\n",
       "      <td>...</td>\n",
       "      <td>...</td>\n",
       "    </tr>\n",
       "    <tr>\n",
       "      <th>916</th>\n",
       "      <td>38,700</td>\n",
       "      <td>평점5</td>\n",
       "      <td>SK스토아</td>\n",
       "      <td>20.10.19.</td>\n",
       "      <td>신일전자 SVC-SHS500</td>\n",
       "      <td>딸아이 기숙사 보냈어요.공간도 많이 차지하고 않고 좋다고 하네요</td>\n",
       "    </tr>\n",
       "    <tr>\n",
       "      <th>917</th>\n",
       "      <td>38,700</td>\n",
       "      <td>평점5</td>\n",
       "      <td>G마켓</td>\n",
       "      <td>20.11.07.</td>\n",
       "      <td>신일전자 SVC-SHS500</td>\n",
       "      <td>잘 받았습니다 감사합니다</td>\n",
       "    </tr>\n",
       "    <tr>\n",
       "      <th>918</th>\n",
       "      <td>38,700</td>\n",
       "      <td>평점5</td>\n",
       "      <td>위메프</td>\n",
       "      <td>20.10.23.</td>\n",
       "      <td>신일전자 SVC-SHS500</td>\n",
       "      <td>엄마  사드렸어요. 간단하게  청소하기  좋네요</td>\n",
       "    </tr>\n",
       "    <tr>\n",
       "      <th>919</th>\n",
       "      <td>38,700</td>\n",
       "      <td>평점5</td>\n",
       "      <td>전자랜드</td>\n",
       "      <td>20.10.23.</td>\n",
       "      <td>신일전자 SVC-SHS500</td>\n",
       "      <td>흡 입 력 좋아요.</td>\n",
       "    </tr>\n",
       "    <tr>\n",
       "      <th>920</th>\n",
       "      <td>38,700</td>\n",
       "      <td>평점1</td>\n",
       "      <td>옥션</td>\n",
       "      <td>20.11.06.</td>\n",
       "      <td>신일전자 SVC-SHS500</td>\n",
       "      <td>배송도 느리고 문의 전화시 불친절 합니다상품도 별루일 듯 해서 반품처리 했습니다반품...</td>\n",
       "    </tr>\n",
       "  </tbody>\n",
       "</table>\n",
       "<p>921 rows × 6 columns</p>\n",
       "</div>"
      ],
      "text/plain": [
       "         가격   평점     채널         날짜              제품명  \\\n",
       "0    32,710  평점1    아비소  21.10.11.  신일 싹쓸이 SVC-680G   \n",
       "1    32,710  평점4    G마켓  21.08.02.  신일 싹쓸이 SVC-680G   \n",
       "2    32,710  평점4    아비소  21.07.30.  신일 싹쓸이 SVC-680G   \n",
       "3    32,710  평점5     옥션  21.08.10.  신일 싹쓸이 SVC-680G   \n",
       "4    32,710  평점5    아비소  21.01.02.  신일 싹쓸이 SVC-680G   \n",
       "..      ...  ...    ...        ...              ...   \n",
       "916  38,700  평점5  SK스토아  20.10.19.  신일전자 SVC-SHS500   \n",
       "917  38,700  평점5    G마켓  20.11.07.  신일전자 SVC-SHS500   \n",
       "918  38,700  평점5    위메프  20.10.23.  신일전자 SVC-SHS500   \n",
       "919  38,700  평점5   전자랜드  20.10.23.  신일전자 SVC-SHS500   \n",
       "920  38,700  평점1     옥션  20.11.06.  신일전자 SVC-SHS500   \n",
       "\n",
       "                                                    리뷰  \n",
       "0    참...사람 욕심이란게....첨엔 그래 머리카락만 잘 빨아들이몀 된다 생각했는데.....  \n",
       "1    아이들이 지우개 찌꺼기 진공청소기를 산다기에 알아봤더니책상용 진공청소기도 성능이 쓸...  \n",
       "2    머리카락용으로 구입했어요머리말릴때 머리카락이 너무 많이 빠져서휴지뽑아 손으로 쓱쓱 ...  \n",
       "3    배송은 빠른편이구요 상품도 마음에 들어요 가격이 왔다갔다 하네요 다행히 쫌 더 저렴...  \n",
       "4    전에도 신일 싹쓰리 5년정도 써서 이번에도 신일꺼로 구매했어요.그때보다 힘도 쎄지고...  \n",
       "..                                                 ...  \n",
       "916                딸아이 기숙사 보냈어요.공간도 많이 차지하고 않고 좋다고 하네요  \n",
       "917                                      잘 받았습니다 감사합니다  \n",
       "918                         엄마  사드렸어요. 간단하게  청소하기  좋네요  \n",
       "919                                         흡 입 력 좋아요.  \n",
       "920  배송도 느리고 문의 전화시 불친절 합니다상품도 별루일 듯 해서 반품처리 했습니다반품...  \n",
       "\n",
       "[921 rows x 6 columns]"
      ]
     },
     "execution_count": 62,
     "metadata": {},
     "output_type": "execute_result"
    }
   ],
   "source": [
    "sinil_df = pd.read_csv('./data/신일.csv', encoding='cp949')\n",
    "sinil_df"
   ]
  },
  {
   "cell_type": "code",
   "execution_count": 63,
   "metadata": {
    "colab": {
     "base_uri": "https://localhost:8080/"
    },
    "id": "yuDM013RZ3Ot",
    "outputId": "e0dbc0db-99ef-40f0-a8e7-d3c03459a6bc"
   },
   "outputs": [
    {
     "name": "stdout",
     "output_type": "stream",
     "text": [
      "가격     0\n",
      "평점     0\n",
      "채널     2\n",
      "날짜     0\n",
      "제품명    0\n",
      "리뷰     0\n",
      "dtype: int64\n",
      "가격     0\n",
      "평점     0\n",
      "채널     0\n",
      "날짜     0\n",
      "제품명    0\n",
      "리뷰     0\n",
      "dtype: int64\n"
     ]
    }
   ],
   "source": [
    "#null 값 확인\n",
    "print(samsung_df.isnull().sum())\n",
    "print(sinil_df.isnull().sum())"
   ]
  },
  {
   "cell_type": "code",
   "execution_count": 64,
   "metadata": {
    "colab": {
     "base_uri": "https://localhost:8080/",
     "height": 112
    },
    "id": "x6AWJRfIaT8d",
    "outputId": "a27c32f0-6ffb-462a-bd51-cae32b85d320"
   },
   "outputs": [
    {
     "data": {
      "text/html": [
       "<div>\n",
       "<style scoped>\n",
       "    .dataframe tbody tr th:only-of-type {\n",
       "        vertical-align: middle;\n",
       "    }\n",
       "\n",
       "    .dataframe tbody tr th {\n",
       "        vertical-align: top;\n",
       "    }\n",
       "\n",
       "    .dataframe thead th {\n",
       "        text-align: right;\n",
       "    }\n",
       "</style>\n",
       "<table border=\"1\" class=\"dataframe\">\n",
       "  <thead>\n",
       "    <tr style=\"text-align: right;\">\n",
       "      <th></th>\n",
       "      <th>가격</th>\n",
       "      <th>평점</th>\n",
       "      <th>채널</th>\n",
       "      <th>날짜</th>\n",
       "      <th>제품명</th>\n",
       "      <th>리뷰</th>\n",
       "    </tr>\n",
       "  </thead>\n",
       "  <tbody>\n",
       "    <tr>\n",
       "      <th>389</th>\n",
       "      <td>59,030</td>\n",
       "      <td>평점5</td>\n",
       "      <td>NaN</td>\n",
       "      <td>20.11.29.</td>\n",
       "      <td>삼성전자 삼성 VC-H71</td>\n",
       "      <td>한국산이라서 품질이 좋다.중국산 5만원짜리 사서 썼는데 빨리 고장나서   전에 쓰던...</td>\n",
       "    </tr>\n",
       "    <tr>\n",
       "      <th>411</th>\n",
       "      <td>59,030</td>\n",
       "      <td>평점5</td>\n",
       "      <td>NaN</td>\n",
       "      <td>19.06.05.</td>\n",
       "      <td>삼성전자 삼성 VC-H71</td>\n",
       "      <td>제가 쓰던 청소기인데 너무 괜찮아서 엄마 사드렸어요. 가볍고 바닥에 떨어진 부스러기...</td>\n",
       "    </tr>\n",
       "  </tbody>\n",
       "</table>\n",
       "</div>"
      ],
      "text/plain": [
       "         가격   평점   채널         날짜             제품명  \\\n",
       "389  59,030  평점5  NaN  20.11.29.  삼성전자 삼성 VC-H71   \n",
       "411  59,030  평점5  NaN  19.06.05.  삼성전자 삼성 VC-H71   \n",
       "\n",
       "                                                    리뷰  \n",
       "389  한국산이라서 품질이 좋다.중국산 5만원짜리 사서 썼는데 빨리 고장나서   전에 쓰던...  \n",
       "411  제가 쓰던 청소기인데 너무 괜찮아서 엄마 사드렸어요. 가볍고 바닥에 떨어진 부스러기...  "
      ]
     },
     "execution_count": 64,
     "metadata": {},
     "output_type": "execute_result"
    }
   ],
   "source": [
    "samsung_df[samsung_df['채널'].isnull()]"
   ]
  },
  {
   "cell_type": "code",
   "execution_count": 65,
   "metadata": {
    "colab": {
     "base_uri": "https://localhost:8080/"
    },
    "id": "M55tcEhoaMoV",
    "outputId": "bbd2ab38-76cd-4f3e-fad5-312f3766b6db"
   },
   "outputs": [
    {
     "data": {
      "text/plain": [
       "컴퓨존              154\n",
       "11번가             141\n",
       "신세계몰             122\n",
       "삼성공식파트너 보보       118\n",
       "SSG닷컴             88\n",
       "G마켓               57\n",
       "하이마트쇼핑몰           42\n",
       "네고네고              36\n",
       "롯데홈쇼핑             31\n",
       "옥션                22\n",
       "삼성공식파트너 평강프라자     15\n",
       "현대Hmall           15\n",
       "글로벌114            11\n",
       "솔커머스              10\n",
       "롯데ON               8\n",
       "GSSHOP             8\n",
       "코스트컷몰              7\n",
       "인터파크               4\n",
       "전자랜드               3\n",
       "강남언니네              3\n",
       "디자이너 W             3\n",
       "위메프                3\n",
       "삼성공식파트너 디지털마트      3\n",
       "롯데백화점              3\n",
       "보다쇼핑               1\n",
       "동원몰                1\n",
       "케이엔디지털             1\n",
       "선                  1\n",
       "Name: 채널, dtype: int64"
      ]
     },
     "execution_count": 65,
     "metadata": {},
     "output_type": "execute_result"
    }
   ],
   "source": [
    "#결측치 대체 위한 채널 수 확인\n",
    "samsung_df['채널'].value_counts() "
   ]
  },
  {
   "cell_type": "code",
   "execution_count": 66,
   "metadata": {
    "id": "fmUaKaAqc0Ru"
   },
   "outputs": [],
   "source": [
    "#440, 462\n",
    "samsung_df.iloc[440]['채널'] = '컴퓨존'\n",
    "samsung_df.iloc[462]['채널'] = '컴퓨존'"
   ]
  },
  {
   "cell_type": "code",
   "execution_count": 67,
   "metadata": {
    "colab": {
     "base_uri": "https://localhost:8080/"
    },
    "id": "Uj7y_QhGdpt1",
    "outputId": "d55b1750-0fb9-496c-e4ec-691c818780b9"
   },
   "outputs": [
    {
     "name": "stdout",
     "output_type": "stream",
     "text": [
      "가격     0\n",
      "평점     0\n",
      "채널     2\n",
      "날짜     0\n",
      "제품명    0\n",
      "리뷰     0\n",
      "dtype: int64\n"
     ]
    }
   ],
   "source": [
    "print(samsung_df.isnull().sum())"
   ]
  },
  {
   "cell_type": "code",
   "execution_count": 68,
   "metadata": {
    "colab": {
     "base_uri": "https://localhost:8080/",
     "height": 238
    },
    "id": "pxOmYp5uRj2B",
    "outputId": "6f25183a-e852-459d-8cfd-157e1a083f66"
   },
   "outputs": [
    {
     "data": {
      "text/html": [
       "<div>\n",
       "<style scoped>\n",
       "    .dataframe tbody tr th:only-of-type {\n",
       "        vertical-align: middle;\n",
       "    }\n",
       "\n",
       "    .dataframe tbody tr th {\n",
       "        vertical-align: top;\n",
       "    }\n",
       "\n",
       "    .dataframe thead th {\n",
       "        text-align: right;\n",
       "    }\n",
       "</style>\n",
       "<table border=\"1\" class=\"dataframe\">\n",
       "  <thead>\n",
       "    <tr style=\"text-align: right;\">\n",
       "      <th></th>\n",
       "      <th>가격</th>\n",
       "      <th>평점</th>\n",
       "      <th>채널</th>\n",
       "      <th>날짜</th>\n",
       "      <th>리뷰</th>\n",
       "    </tr>\n",
       "    <tr>\n",
       "      <th>제품명</th>\n",
       "      <th></th>\n",
       "      <th></th>\n",
       "      <th></th>\n",
       "      <th></th>\n",
       "      <th></th>\n",
       "    </tr>\n",
       "  </thead>\n",
       "  <tbody>\n",
       "    <tr>\n",
       "      <th>삼성전자 비스포크제트 VS20A956A3</th>\n",
       "      <td>185</td>\n",
       "      <td>185</td>\n",
       "      <td>185</td>\n",
       "      <td>185</td>\n",
       "      <td>185</td>\n",
       "    </tr>\n",
       "    <tr>\n",
       "      <th>삼성전자 삼성 VC-H22</th>\n",
       "      <td>181</td>\n",
       "      <td>181</td>\n",
       "      <td>181</td>\n",
       "      <td>181</td>\n",
       "      <td>181</td>\n",
       "    </tr>\n",
       "    <tr>\n",
       "      <th>삼성전자 삼성 VC-H71</th>\n",
       "      <td>183</td>\n",
       "      <td>183</td>\n",
       "      <td>181</td>\n",
       "      <td>183</td>\n",
       "      <td>183</td>\n",
       "    </tr>\n",
       "    <tr>\n",
       "      <th>삼성전자 제트 VS15R8500BF</th>\n",
       "      <td>183</td>\n",
       "      <td>183</td>\n",
       "      <td>183</td>\n",
       "      <td>183</td>\n",
       "      <td>183</td>\n",
       "    </tr>\n",
       "    <tr>\n",
       "      <th>삼성전자 제트 VS20T9218QDCC</th>\n",
       "      <td>181</td>\n",
       "      <td>181</td>\n",
       "      <td>181</td>\n",
       "      <td>181</td>\n",
       "      <td>181</td>\n",
       "    </tr>\n",
       "  </tbody>\n",
       "</table>\n",
       "</div>"
      ],
      "text/plain": [
       "                         가격   평점   채널   날짜   리뷰\n",
       "제품명                                            \n",
       "삼성전자 비스포크제트 VS20A956A3  185  185  185  185  185\n",
       "삼성전자 삼성 VC-H22          181  181  181  181  181\n",
       "삼성전자 삼성 VC-H71          183  183  181  183  183\n",
       "삼성전자 제트 VS15R8500BF     183  183  183  183  183\n",
       "삼성전자 제트 VS20T9218QDCC   181  181  181  181  181"
      ]
     },
     "execution_count": 68,
     "metadata": {},
     "output_type": "execute_result"
    }
   ],
   "source": [
    "item_group = samsung_df.groupby('제품명').count()\n",
    "item_group"
   ]
  },
  {
   "cell_type": "code",
   "execution_count": 69,
   "metadata": {
    "colab": {
     "base_uri": "https://localhost:8080/",
     "height": 238
    },
    "id": "1MsjNAbIYV3M",
    "outputId": "76913453-d2dd-4df1-f71e-52cb6371b873"
   },
   "outputs": [
    {
     "data": {
      "text/html": [
       "<div>\n",
       "<style scoped>\n",
       "    .dataframe tbody tr th:only-of-type {\n",
       "        vertical-align: middle;\n",
       "    }\n",
       "\n",
       "    .dataframe tbody tr th {\n",
       "        vertical-align: top;\n",
       "    }\n",
       "\n",
       "    .dataframe thead th {\n",
       "        text-align: right;\n",
       "    }\n",
       "</style>\n",
       "<table border=\"1\" class=\"dataframe\">\n",
       "  <thead>\n",
       "    <tr style=\"text-align: right;\">\n",
       "      <th></th>\n",
       "      <th>평점</th>\n",
       "      <th>채널</th>\n",
       "      <th>날짜</th>\n",
       "      <th>제품명</th>\n",
       "      <th>리뷰</th>\n",
       "    </tr>\n",
       "    <tr>\n",
       "      <th>가격</th>\n",
       "      <th></th>\n",
       "      <th></th>\n",
       "      <th></th>\n",
       "      <th></th>\n",
       "      <th></th>\n",
       "    </tr>\n",
       "  </thead>\n",
       "  <tbody>\n",
       "    <tr>\n",
       "      <th>398,780</th>\n",
       "      <td>183</td>\n",
       "      <td>183</td>\n",
       "      <td>183</td>\n",
       "      <td>183</td>\n",
       "      <td>183</td>\n",
       "    </tr>\n",
       "    <tr>\n",
       "      <th>45,900</th>\n",
       "      <td>181</td>\n",
       "      <td>181</td>\n",
       "      <td>181</td>\n",
       "      <td>181</td>\n",
       "      <td>181</td>\n",
       "    </tr>\n",
       "    <tr>\n",
       "      <th>568,450</th>\n",
       "      <td>181</td>\n",
       "      <td>181</td>\n",
       "      <td>181</td>\n",
       "      <td>181</td>\n",
       "      <td>181</td>\n",
       "    </tr>\n",
       "    <tr>\n",
       "      <th>59,030</th>\n",
       "      <td>183</td>\n",
       "      <td>181</td>\n",
       "      <td>183</td>\n",
       "      <td>183</td>\n",
       "      <td>183</td>\n",
       "    </tr>\n",
       "    <tr>\n",
       "      <th>598,740</th>\n",
       "      <td>185</td>\n",
       "      <td>185</td>\n",
       "      <td>185</td>\n",
       "      <td>185</td>\n",
       "      <td>185</td>\n",
       "    </tr>\n",
       "  </tbody>\n",
       "</table>\n",
       "</div>"
      ],
      "text/plain": [
       "          평점   채널   날짜  제품명   리뷰\n",
       "가격                              \n",
       "398,780  183  183  183  183  183\n",
       "45,900   181  181  181  181  181\n",
       "568,450  181  181  181  181  181\n",
       "59,030   183  181  183  183  183\n",
       "598,740  185  185  185  185  185"
      ]
     },
     "execution_count": 69,
     "metadata": {},
     "output_type": "execute_result"
    }
   ],
   "source": [
    "price_group = samsung_df.groupby('가격').count()\n",
    "price_group"
   ]
  },
  {
   "cell_type": "code",
   "execution_count": 70,
   "metadata": {
    "colab": {
     "base_uri": "https://localhost:8080/"
    },
    "id": "jB-Vua_0TIbf",
    "outputId": "6213aa53-f299-4e52-81fa-88c848064d3b"
   },
   "outputs": [
    {
     "data": {
      "text/plain": [
       "Index(['삼성전자 비스포크제트 VS20A956A3', '삼성전자 삼성 VC-H22', '삼성전자 삼성 VC-H71',\n",
       "       '삼성전자 제트 VS15R8500BF', '삼성전자 제트 VS20T9218QDCC'],\n",
       "      dtype='object', name='제품명')"
      ]
     },
     "execution_count": 70,
     "metadata": {},
     "output_type": "execute_result"
    }
   ],
   "source": [
    "samsung_keys = item_group.index\n",
    "samsung_keys"
   ]
  },
  {
   "cell_type": "code",
   "execution_count": 71,
   "metadata": {
    "colab": {
     "base_uri": "https://localhost:8080/",
     "height": 35
    },
    "id": "o7pXNtxoZHQA",
    "outputId": "a13672d7-3b5b-46ee-b74d-24d88800773d"
   },
   "outputs": [
    {
     "data": {
      "text/plain": [
       "'45,900'"
      ]
     },
     "execution_count": 71,
     "metadata": {},
     "output_type": "execute_result"
    }
   ],
   "source": [
    "samsung_prices = price_group.index\n",
    "samsung_prices[1]"
   ]
  },
  {
   "cell_type": "code",
   "execution_count": 72,
   "metadata": {
    "colab": {
     "base_uri": "https://localhost:8080/"
    },
    "id": "j248W9mBBssP",
    "outputId": "e8ce9d2b-9147-40a0-e8cf-3771fc9bb646"
   },
   "outputs": [],
   "source": [
    "#삼성 딕셔너리 \n",
    "samsung_dic_list=[]\n",
    "samsung_review_list = [] # 리뷰\n",
    "samsung_score_list = []  # 평점\n",
    "samsung_date_list = []  # 날짜\n",
    "samsung_channel_list = [] # 채널\n",
    "\n",
    "\n",
    "\n",
    "for i, key in enumerate(samsung_keys):\n",
    "    samsung_dic = {}\n",
    "    samsung_dic['제품명'] = key\n",
    "    samsung_dic['가격'] = samsung_prices[i]  \n",
    "    #해당 제품의 데이터만 가져오기\n",
    "    samsung_item_review_df = samsung_df[samsung_df['제품명'] == key]\n",
    "    samsung_dic['리뷰'] = samsung_item_review_df['리뷰'].tolist()[:100]\n",
    "    samsung_dic['평점'] = samsung_item_review_df['평점'].tolist()[:100]\n",
    "    samsung_dic['날짜'] = samsung_item_review_df['날짜'].tolist()[:100]\n",
    "    samsung_dic['채널'] = samsung_item_review_df['채널'].tolist()[:100]\n",
    "   \n",
    "    samsung_dic_list.append(samsung_dic)\n",
    "\n",
    "  \n"
   ]
  },
  {
   "cell_type": "code",
   "execution_count": 73,
   "metadata": {
    "colab": {
     "base_uri": "https://localhost:8080/"
    },
    "id": "VSvYku6coDoU",
    "outputId": "a0dfb137-7f3b-426b-8cfb-36ebacdc770e"
   },
   "outputs": [
    {
     "data": {
      "text/plain": [
       "Index(['신일 싹쓸이 SVC-680G', '신일전자 SVC-1316R', '신일전자 SVC-8858PNX',\n",
       "       '신일전자 SVC-P5000HP', '신일전자 SVC-SHS500'],\n",
       "      dtype='object', name='제품명')"
      ]
     },
     "execution_count": 73,
     "metadata": {},
     "output_type": "execute_result"
    }
   ],
   "source": [
    "item_group = sinil_df.groupby('제품명').count()\n",
    "item_group\n",
    "sinil_keys = item_group.index\n",
    "sinil_keys"
   ]
  },
  {
   "cell_type": "code",
   "execution_count": 74,
   "metadata": {
    "colab": {
     "base_uri": "https://localhost:8080/",
     "height": 35
    },
    "id": "l_z_X7-roDZe",
    "outputId": "902cefca-8795-4a48-a3f3-de599041a0a4"
   },
   "outputs": [
    {
     "data": {
      "text/plain": [
       "'179,000'"
      ]
     },
     "execution_count": 74,
     "metadata": {},
     "output_type": "execute_result"
    }
   ],
   "source": [
    "price_group = sinil_df.groupby('가격').count()\n",
    "price_group\n",
    "sinil_prices = price_group.index\n",
    "sinil_prices[0]"
   ]
  },
  {
   "cell_type": "code",
   "execution_count": 75,
   "metadata": {
    "colab": {
     "base_uri": "https://localhost:8080/"
    },
    "id": "rplcnDL6Bsjo",
    "outputId": "d9afa83d-d065-496b-a888-762bbd396163"
   },
   "outputs": [],
   "source": [
    "#신일 딕셔너리\n",
    "\n",
    "sinil_dic_list=[]\n",
    "sinil_review_list = [] # 리뷰\n",
    "sinil_score_list = []  # 평점\n",
    "sinil_date_list = []  # 날짜\n",
    "sinil_channel_list = [] # 채널\n",
    "sinil_dic = {}\n",
    "\n",
    "\n",
    "for i, key in enumerate(sinil_keys):\n",
    "    sinil_dic = {}\n",
    "    sinil_dic['제품명'] = key\n",
    "    sinil_dic['가격'] = sinil_prices[i]  \n",
    "    #해당 제품의 데이터만 가져오기\n",
    "    sinil_item_review_df = sinil_df[sinil_df['제품명'] == key]\n",
    "    sinil_dic['리뷰'] = sinil_item_review_df['리뷰'].tolist()[:100]\n",
    "    sinil_dic['평점'] = sinil_item_review_df['평점'].tolist()[:100]\n",
    "    sinil_dic['날짜'] = sinil_item_review_df['날짜'].tolist()[:100]\n",
    "    sinil_dic['채널'] = sinil_item_review_df['채널'].tolist()[:100]\n",
    "   \n",
    "    sinil_dic_list.append(sinil_dic)\n"
   ]
  },
  {
   "cell_type": "markdown",
   "metadata": {
    "id": "HHvvHYxsyv2b"
   },
   "source": [
    "## 정한슬"
   ]
  },
  {
   "cell_type": "markdown",
   "metadata": {
    "id": "LkXJwIPw94qW"
   },
   "source": [
    "### 쿠쿠 홈시스"
   ]
  },
  {
   "cell_type": "code",
   "execution_count": 123,
   "metadata": {
    "id": "57xHn6BH3Eex"
   },
   "outputs": [
    {
     "data": {
      "text/html": [
       "<div>\n",
       "<style scoped>\n",
       "    .dataframe tbody tr th:only-of-type {\n",
       "        vertical-align: middle;\n",
       "    }\n",
       "\n",
       "    .dataframe tbody tr th {\n",
       "        vertical-align: top;\n",
       "    }\n",
       "\n",
       "    .dataframe thead th {\n",
       "        text-align: right;\n",
       "    }\n",
       "</style>\n",
       "<table border=\"1\" class=\"dataframe\">\n",
       "  <thead>\n",
       "    <tr style=\"text-align: right;\">\n",
       "      <th></th>\n",
       "      <th>가격</th>\n",
       "      <th>평점</th>\n",
       "      <th>채널</th>\n",
       "      <th>날짜</th>\n",
       "      <th>제품명</th>\n",
       "      <th>리뷰</th>\n",
       "    </tr>\n",
       "  </thead>\n",
       "  <tbody>\n",
       "    <tr>\n",
       "      <th>0</th>\n",
       "      <td>309,000</td>\n",
       "      <td>평점5</td>\n",
       "      <td>쿠쿠홈시스생활가전</td>\n",
       "      <td>21.10.02.</td>\n",
       "      <td>쿠쿠홈시스 쿠쿠 CVC-A1410UG</td>\n",
       "      <td>청소기 잘 샀네요~~~~</td>\n",
       "    </tr>\n",
       "    <tr>\n",
       "      <th>1</th>\n",
       "      <td>309,000</td>\n",
       "      <td>평점5</td>\n",
       "      <td>쿠쿠온라인공식판매점</td>\n",
       "      <td>20.09.17.</td>\n",
       "      <td>쿠쿠홈시스 쿠쿠 CVC-A1410UG</td>\n",
       "      <td>빠른배송 쵝오에요~</td>\n",
       "    </tr>\n",
       "    <tr>\n",
       "      <th>2</th>\n",
       "      <td>309,000</td>\n",
       "      <td>평점5</td>\n",
       "      <td>쿠쿠넬로</td>\n",
       "      <td>21.03.02.</td>\n",
       "      <td>쿠쿠홈시스 쿠쿠 CVC-A1410UG</td>\n",
       "      <td>다이슨 보다 좋아요</td>\n",
       "    </tr>\n",
       "    <tr>\n",
       "      <th>3</th>\n",
       "      <td>309,000</td>\n",
       "      <td>평점3</td>\n",
       "      <td>주식회사 원어나더</td>\n",
       "      <td>21.05.24.</td>\n",
       "      <td>쿠쿠홈시스 쿠쿠 CVC-A1410UG</td>\n",
       "      <td>가성비 좋은 청소기</td>\n",
       "    </tr>\n",
       "    <tr>\n",
       "      <th>4</th>\n",
       "      <td>309,000</td>\n",
       "      <td>평점2</td>\n",
       "      <td>옥션</td>\n",
       "      <td>21.02.20.</td>\n",
       "      <td>쿠쿠홈시스 쿠쿠 CVC-A1410UG</td>\n",
       "      <td>플라스틱 사출 상태가 좋지 않고, 충전기 잭 연결쪽이 조금 뛰어 나와서 품질에 좀신...</td>\n",
       "    </tr>\n",
       "    <tr>\n",
       "      <th>...</th>\n",
       "      <td>...</td>\n",
       "      <td>...</td>\n",
       "      <td>...</td>\n",
       "      <td>...</td>\n",
       "      <td>...</td>\n",
       "      <td>...</td>\n",
       "    </tr>\n",
       "    <tr>\n",
       "      <th>395</th>\n",
       "      <td>248,930</td>\n",
       "      <td>평점5</td>\n",
       "      <td>G마켓</td>\n",
       "      <td>21.07.25.</td>\n",
       "      <td>쿠쿠홈시스 쿠쿠 CVC-A1420UG</td>\n",
       "      <td>가성비 최강입니다. 배터리도 하나더 준다고 하니 대기업제품 안부럽네요. 흡입력 사용...</td>\n",
       "    </tr>\n",
       "    <tr>\n",
       "      <th>396</th>\n",
       "      <td>248,930</td>\n",
       "      <td>평점3</td>\n",
       "      <td>쿠쿠홈시스 주식회사</td>\n",
       "      <td>21.01.02.</td>\n",
       "      <td>쿠쿠홈시스 쿠쿠 CVC-A1420UG</td>\n",
       "      <td>26일에 주문했는데 31일에 받았고, 왠만하면 다 찾아보고 구매하세요. 본사에서 운...</td>\n",
       "    </tr>\n",
       "    <tr>\n",
       "      <th>397</th>\n",
       "      <td>248,930</td>\n",
       "      <td>평점5</td>\n",
       "      <td>신세계몰</td>\n",
       "      <td>21.10.01.</td>\n",
       "      <td>쿠쿠홈시스 쿠쿠 CVC-A1420UG</td>\n",
       "      <td>기존 유선청소기 사용하면서 무선청소기에  관심을 갖고 검색중에 쿠쿠에서도 무선청소기...</td>\n",
       "    </tr>\n",
       "    <tr>\n",
       "      <th>398</th>\n",
       "      <td>248,930</td>\n",
       "      <td>평점5</td>\n",
       "      <td>SSG닷컴</td>\n",
       "      <td>20.09.22.</td>\n",
       "      <td>쿠쿠홈시스 쿠쿠 CVC-A1420UG</td>\n",
       "      <td>청소기 바꾸려고 고민하다가 가격이 적당해서 구입햇는데생각보다 너무 괜찮네요우선 제품...</td>\n",
       "    </tr>\n",
       "    <tr>\n",
       "      <th>399</th>\n",
       "      <td>248,930</td>\n",
       "      <td>평점5</td>\n",
       "      <td>쿠쿠홈시스 주식회사</td>\n",
       "      <td>21.09.30.</td>\n",
       "      <td>쿠쿠홈시스 쿠쿠 CVC-A1420UG</td>\n",
       "      <td>작동도 잘되고 상품좋아요 배터리도 홈페이지에서 추가신청 할수 있어서 신청햇어요 혜택...</td>\n",
       "    </tr>\n",
       "  </tbody>\n",
       "</table>\n",
       "<p>400 rows × 6 columns</p>\n",
       "</div>"
      ],
      "text/plain": [
       "          가격   평점          채널         날짜                   제품명  \\\n",
       "0    309,000  평점5   쿠쿠홈시스생활가전  21.10.02.  쿠쿠홈시스 쿠쿠 CVC-A1410UG   \n",
       "1    309,000  평점5  쿠쿠온라인공식판매점  20.09.17.  쿠쿠홈시스 쿠쿠 CVC-A1410UG   \n",
       "2    309,000  평점5        쿠쿠넬로  21.03.02.  쿠쿠홈시스 쿠쿠 CVC-A1410UG   \n",
       "3    309,000  평점3   주식회사 원어나더  21.05.24.  쿠쿠홈시스 쿠쿠 CVC-A1410UG   \n",
       "4    309,000  평점2          옥션  21.02.20.  쿠쿠홈시스 쿠쿠 CVC-A1410UG   \n",
       "..       ...  ...         ...        ...                   ...   \n",
       "395  248,930  평점5         G마켓  21.07.25.  쿠쿠홈시스 쿠쿠 CVC-A1420UG   \n",
       "396  248,930  평점3  쿠쿠홈시스 주식회사  21.01.02.  쿠쿠홈시스 쿠쿠 CVC-A1420UG   \n",
       "397  248,930  평점5        신세계몰  21.10.01.  쿠쿠홈시스 쿠쿠 CVC-A1420UG   \n",
       "398  248,930  평점5       SSG닷컴  20.09.22.  쿠쿠홈시스 쿠쿠 CVC-A1420UG   \n",
       "399  248,930  평점5  쿠쿠홈시스 주식회사  21.09.30.  쿠쿠홈시스 쿠쿠 CVC-A1420UG   \n",
       "\n",
       "                                                    리뷰  \n",
       "0                                        청소기 잘 샀네요~~~~  \n",
       "1                                           빠른배송 쵝오에요~  \n",
       "2                                           다이슨 보다 좋아요  \n",
       "3                                           가성비 좋은 청소기  \n",
       "4    플라스틱 사출 상태가 좋지 않고, 충전기 잭 연결쪽이 조금 뛰어 나와서 품질에 좀신...  \n",
       "..                                                 ...  \n",
       "395  가성비 최강입니다. 배터리도 하나더 준다고 하니 대기업제품 안부럽네요. 흡입력 사용...  \n",
       "396  26일에 주문했는데 31일에 받았고, 왠만하면 다 찾아보고 구매하세요. 본사에서 운...  \n",
       "397  기존 유선청소기 사용하면서 무선청소기에  관심을 갖고 검색중에 쿠쿠에서도 무선청소기...  \n",
       "398  청소기 바꾸려고 고민하다가 가격이 적당해서 구입햇는데생각보다 너무 괜찮네요우선 제품...  \n",
       "399  작동도 잘되고 상품좋아요 배터리도 홈페이지에서 추가신청 할수 있어서 신청햇어요 혜택...  \n",
       "\n",
       "[400 rows x 6 columns]"
      ]
     },
     "execution_count": 123,
     "metadata": {},
     "output_type": "execute_result"
    }
   ],
   "source": [
    "import pandas as pd\n",
    "cucu_df = pd.read_excel('./data/쿠쿠 홈시스.xlsx')\n",
    "cucu_df"
   ]
  },
  {
   "cell_type": "code",
   "execution_count": 124,
   "metadata": {
    "id": "4YuftuMj9vW2"
   },
   "outputs": [],
   "source": [
    "cucuname=cucu_df['제품명'].unique()\n",
    "cucuprice=cucu_df['가격'].unique()"
   ]
  },
  {
   "cell_type": "code",
   "execution_count": 126,
   "metadata": {
    "id": "Wr9XCccO9vnl"
   },
   "outputs": [],
   "source": [
    "cucu_list = [] \n",
    "\n",
    "for i, key in enumerate(cucuname):\n",
    "    cucu_dic = {}\n",
    "    cucu_dic['제품명'] = key\n",
    "    cucu_dic['가격'] = cucuprice[i]\n",
    "\n",
    "    cucu_item_df = cucu_df[cucu_df['제품명']==key]\n",
    "\n",
    "    cucu_dic['리뷰'] = cucu_item_df['리뷰'].tolist()\n",
    "    cucu_dic['채널'] = cucu_item_df['채널'].tolist()\n",
    "    cucu_dic['평점'] = cucu_item_df['평점'].tolist()\n",
    "    cucu_dic['날짜'] = cucu_item_df['날짜'].tolist()\n",
    "\n",
    "    cucu_list.append(cucu_dic)\n",
    "\n"
   ]
  },
  {
   "cell_type": "markdown",
   "metadata": {
    "id": "OcPV2Z2L98hn"
   },
   "source": [
    "### 보만"
   ]
  },
  {
   "cell_type": "code",
   "execution_count": 48,
   "metadata": {
    "id": "7iC5VEi2vUtU"
   },
   "outputs": [
    {
     "data": {
      "text/html": [
       "<div>\n",
       "<style scoped>\n",
       "    .dataframe tbody tr th:only-of-type {\n",
       "        vertical-align: middle;\n",
       "    }\n",
       "\n",
       "    .dataframe tbody tr th {\n",
       "        vertical-align: top;\n",
       "    }\n",
       "\n",
       "    .dataframe thead th {\n",
       "        text-align: right;\n",
       "    }\n",
       "</style>\n",
       "<table border=\"1\" class=\"dataframe\">\n",
       "  <thead>\n",
       "    <tr style=\"text-align: right;\">\n",
       "      <th></th>\n",
       "      <th>가격</th>\n",
       "      <th>평점</th>\n",
       "      <th>채널</th>\n",
       "      <th>날짜</th>\n",
       "      <th>제품명</th>\n",
       "      <th>리뷰</th>\n",
       "    </tr>\n",
       "  </thead>\n",
       "  <tbody>\n",
       "    <tr>\n",
       "      <th>0</th>\n",
       "      <td>36,890</td>\n",
       "      <td>평점5</td>\n",
       "      <td>보만코리아</td>\n",
       "      <td>20.05.30.</td>\n",
       "      <td>보만 VC7210</td>\n",
       "      <td>가격대비 성능 짱인것 같아요자취방에서 3개월정도 사용하려고 구입했어요그래서 너무고가...</td>\n",
       "    </tr>\n",
       "    <tr>\n",
       "      <th>1</th>\n",
       "      <td>36,890</td>\n",
       "      <td>평점5</td>\n",
       "      <td>보만코리아</td>\n",
       "      <td>19.10.08.</td>\n",
       "      <td>보만 VC7210</td>\n",
       "      <td>일단 배송빨랐어요. 박스포장도 깔끔해요.원룸에 청소기가 필요해서 구입했어요. 싼거 ...</td>\n",
       "    </tr>\n",
       "    <tr>\n",
       "      <th>2</th>\n",
       "      <td>36,890</td>\n",
       "      <td>평점4</td>\n",
       "      <td>11번가</td>\n",
       "      <td>19.11.04.</td>\n",
       "      <td>보만 VC7210</td>\n",
       "      <td>가격 디자인 모두 마음에 들어요..무게도 많이 무겁지 않고 사용법도 스위치만 켜면 ...</td>\n",
       "    </tr>\n",
       "    <tr>\n",
       "      <th>3</th>\n",
       "      <td>36,890</td>\n",
       "      <td>평점5</td>\n",
       "      <td>바디퓨</td>\n",
       "      <td>20.06.25.</td>\n",
       "      <td>보만 VC7210</td>\n",
       "      <td>집에 30만원짜리 삼* 청소기를 쓰다가 본체가 잘 따라오지도않고 무겁고 문턱에서 쿠...</td>\n",
       "    </tr>\n",
       "    <tr>\n",
       "      <th>4</th>\n",
       "      <td>36,890</td>\n",
       "      <td>평점4</td>\n",
       "      <td>보만코리아</td>\n",
       "      <td>21.03.11.</td>\n",
       "      <td>보만 VC7210</td>\n",
       "      <td>청소기 오자마자 써봤어요조그만게 핸디용으로 먼지 시원시원하게 잘빨리고 좋아요다이슨쓰...</td>\n",
       "    </tr>\n",
       "    <tr>\n",
       "      <th>...</th>\n",
       "      <td>...</td>\n",
       "      <td>...</td>\n",
       "      <td>...</td>\n",
       "      <td>...</td>\n",
       "      <td>...</td>\n",
       "      <td>...</td>\n",
       "    </tr>\n",
       "    <tr>\n",
       "      <th>795</th>\n",
       "      <td>49,790</td>\n",
       "      <td>평점5</td>\n",
       "      <td>코맘스</td>\n",
       "      <td>21.12.09.</td>\n",
       "      <td>보만 코맘스 KB0251</td>\n",
       "      <td>작은사이즈에 이정도 힘이면 잘 만드셨네요~잘쓰겠습니다~^^</td>\n",
       "    </tr>\n",
       "    <tr>\n",
       "      <th>796</th>\n",
       "      <td>49,790</td>\n",
       "      <td>평점5</td>\n",
       "      <td>코맘스</td>\n",
       "      <td>21.12.26.</td>\n",
       "      <td>보만 코맘스 KB0251</td>\n",
       "      <td>작아서 편리하고 디자이도 예뻐요~ 충전도 빨리되어 좋아요!</td>\n",
       "    </tr>\n",
       "    <tr>\n",
       "      <th>797</th>\n",
       "      <td>49,790</td>\n",
       "      <td>평점4</td>\n",
       "      <td>코맘스</td>\n",
       "      <td>22.01.03.</td>\n",
       "      <td>보만 코맘스 KB0251</td>\n",
       "      <td>이벤트해서 싸게 구매해서 만족해요.방에 머리카락이나 작은 먼지들 청소하기 좋구요, ...</td>\n",
       "    </tr>\n",
       "    <tr>\n",
       "      <th>798</th>\n",
       "      <td>49,790</td>\n",
       "      <td>평점5</td>\n",
       "      <td>코맘스</td>\n",
       "      <td>21.08.26.</td>\n",
       "      <td>보만 코맘스 KB0251</td>\n",
       "      <td>슬림해서 수납하기 좋고디자인도 예뻐서 넘 조아요흡입력도 좋고 다 괜찮고 한번 충전하...</td>\n",
       "    </tr>\n",
       "    <tr>\n",
       "      <th>799</th>\n",
       "      <td>49,790</td>\n",
       "      <td>평점5</td>\n",
       "      <td>코맘스</td>\n",
       "      <td>21.12.15.</td>\n",
       "      <td>보만 코맘스 KB0251</td>\n",
       "      <td>작은데 흡입력은 좋네요 자리차지도 많이 안해서 편해요!!</td>\n",
       "    </tr>\n",
       "  </tbody>\n",
       "</table>\n",
       "<p>800 rows × 6 columns</p>\n",
       "</div>"
      ],
      "text/plain": [
       "         가격   평점     채널         날짜            제품명  \\\n",
       "0    36,890  평점5  보만코리아  20.05.30.      보만 VC7210   \n",
       "1    36,890  평점5  보만코리아  19.10.08.      보만 VC7210   \n",
       "2    36,890  평점4   11번가  19.11.04.      보만 VC7210   \n",
       "3    36,890  평점5    바디퓨  20.06.25.      보만 VC7210   \n",
       "4    36,890  평점4  보만코리아  21.03.11.      보만 VC7210   \n",
       "..      ...  ...    ...        ...            ...   \n",
       "795  49,790  평점5    코맘스  21.12.09.  보만 코맘스 KB0251   \n",
       "796  49,790  평점5    코맘스  21.12.26.  보만 코맘스 KB0251   \n",
       "797  49,790  평점4    코맘스  22.01.03.  보만 코맘스 KB0251   \n",
       "798  49,790  평점5    코맘스  21.08.26.  보만 코맘스 KB0251   \n",
       "799  49,790  평점5    코맘스  21.12.15.  보만 코맘스 KB0251   \n",
       "\n",
       "                                                    리뷰  \n",
       "0    가격대비 성능 짱인것 같아요자취방에서 3개월정도 사용하려고 구입했어요그래서 너무고가...  \n",
       "1    일단 배송빨랐어요. 박스포장도 깔끔해요.원룸에 청소기가 필요해서 구입했어요. 싼거 ...  \n",
       "2    가격 디자인 모두 마음에 들어요..무게도 많이 무겁지 않고 사용법도 스위치만 켜면 ...  \n",
       "3    집에 30만원짜리 삼* 청소기를 쓰다가 본체가 잘 따라오지도않고 무겁고 문턱에서 쿠...  \n",
       "4    청소기 오자마자 써봤어요조그만게 핸디용으로 먼지 시원시원하게 잘빨리고 좋아요다이슨쓰...  \n",
       "..                                                 ...  \n",
       "795                   작은사이즈에 이정도 힘이면 잘 만드셨네요~잘쓰겠습니다~^^  \n",
       "796                   작아서 편리하고 디자이도 예뻐요~ 충전도 빨리되어 좋아요!  \n",
       "797  이벤트해서 싸게 구매해서 만족해요.방에 머리카락이나 작은 먼지들 청소하기 좋구요, ...  \n",
       "798  슬림해서 수납하기 좋고디자인도 예뻐서 넘 조아요흡입력도 좋고 다 괜찮고 한번 충전하...  \n",
       "799                    작은데 흡입력은 좋네요 자리차지도 많이 안해서 편해요!!  \n",
       "\n",
       "[800 rows x 6 columns]"
      ]
     },
     "execution_count": 48,
     "metadata": {},
     "output_type": "execute_result"
    }
   ],
   "source": [
    "boman_df =pd.read_excel('./data/보만.xlsx')\n",
    "boman_df"
   ]
  },
  {
   "cell_type": "code",
   "execution_count": 49,
   "metadata": {
    "id": "1RmtCoHo-MVt"
   },
   "outputs": [],
   "source": [
    "bomanname=boman_df['제품명'].unique()\n",
    "bomanprice=boman_df['가격'].unique()"
   ]
  },
  {
   "cell_type": "code",
   "execution_count": 127,
   "metadata": {
    "id": "_XsuQept-MM2"
   },
   "outputs": [],
   "source": [
    "boman_list = []\n",
    "\n",
    "for i , key in enumerate(bomanname):\n",
    "    boman_dic = {}\n",
    "    boman_dic['제품명'] = key\n",
    "    boman_dic['가격'] = bomanprice[i]\n",
    "\n",
    "    boman_item_df = boman_df[boman_df['제품명']==key]\n",
    "\n",
    "    boman_dic['리뷰'] = boman_item_df['리뷰'].tolist()\n",
    "    boman_dic['채널'] = boman_item_df['채널'].tolist()\n",
    "    boman_dic['평점'] = boman_item_df['평점'].tolist()\n",
    "    boman_dic['날짜'] = boman_item_df['날짜'].tolist()\n",
    "\n",
    "    boman_list.append(boman_dic)\n"
   ]
  },
  {
   "cell_type": "markdown",
   "metadata": {
    "id": "TNZmmfUn-BI2"
   },
   "source": [
    "### 비브르"
   ]
  },
  {
   "cell_type": "code",
   "execution_count": 51,
   "metadata": {
    "id": "9BOc4osFJY2n"
   },
   "outputs": [
    {
     "data": {
      "text/html": [
       "<div>\n",
       "<style scoped>\n",
       "    .dataframe tbody tr th:only-of-type {\n",
       "        vertical-align: middle;\n",
       "    }\n",
       "\n",
       "    .dataframe tbody tr th {\n",
       "        vertical-align: top;\n",
       "    }\n",
       "\n",
       "    .dataframe thead th {\n",
       "        text-align: right;\n",
       "    }\n",
       "</style>\n",
       "<table border=\"1\" class=\"dataframe\">\n",
       "  <thead>\n",
       "    <tr style=\"text-align: right;\">\n",
       "      <th></th>\n",
       "      <th>가격</th>\n",
       "      <th>평점</th>\n",
       "      <th>채널</th>\n",
       "      <th>날짜</th>\n",
       "      <th>제품명</th>\n",
       "      <th>리뷰</th>\n",
       "    </tr>\n",
       "  </thead>\n",
       "  <tbody>\n",
       "    <tr>\n",
       "      <th>0</th>\n",
       "      <td>107,160</td>\n",
       "      <td>평점3</td>\n",
       "      <td>VIVRE KOREA</td>\n",
       "      <td>19.11.15.</td>\n",
       "      <td>비브르 A9 PLUS</td>\n",
       "      <td>댕댕이 털갈이 때문에 구입했어요.한 달 사용해본 결과, 흡입력이 약하고 사용시간이 ...</td>\n",
       "    </tr>\n",
       "    <tr>\n",
       "      <th>1</th>\n",
       "      <td>107,160</td>\n",
       "      <td>평점1</td>\n",
       "      <td>VIVRE KOREA</td>\n",
       "      <td>19.09.04.</td>\n",
       "      <td>비브르 A9 PLUS</td>\n",
       "      <td>정말 별 한나도 아까운 청소기에요 흡입력도 약하고 고양이 두부모래 다시 뺏어내고 2...</td>\n",
       "    </tr>\n",
       "    <tr>\n",
       "      <th>2</th>\n",
       "      <td>107,160</td>\n",
       "      <td>평점5</td>\n",
       "      <td>VIVRE KOREA</td>\n",
       "      <td>19.08.28.</td>\n",
       "      <td>비브르 A9 PLUS</td>\n",
       "      <td>가성비 짱이네요.요즘 댕댕이 털 갈이 시작되어 고민하다 구입했구요.도착하자마자 돌려...</td>\n",
       "    </tr>\n",
       "    <tr>\n",
       "      <th>3</th>\n",
       "      <td>107,160</td>\n",
       "      <td>평점5</td>\n",
       "      <td>VIVRE KOREA</td>\n",
       "      <td>20.03.22.</td>\n",
       "      <td>비브르 A9 PLUS</td>\n",
       "      <td>일단 빠른 배송에 감동했구요!! 좋지 않은 후기들도 있어서 긴가민가하면서 구매했는데...</td>\n",
       "    </tr>\n",
       "    <tr>\n",
       "      <th>4</th>\n",
       "      <td>107,160</td>\n",
       "      <td>평점5</td>\n",
       "      <td>VIVRE KOREA</td>\n",
       "      <td>19.06.24.</td>\n",
       "      <td>비브르 A9 PLUS</td>\n",
       "      <td>가성비 대박이에요. 맘카페에서  좋다고 말이 많아서 검색하다 구입했는데..가볍고 필...</td>\n",
       "    </tr>\n",
       "    <tr>\n",
       "      <th>...</th>\n",
       "      <td>...</td>\n",
       "      <td>...</td>\n",
       "      <td>...</td>\n",
       "      <td>...</td>\n",
       "      <td>...</td>\n",
       "      <td>...</td>\n",
       "    </tr>\n",
       "    <tr>\n",
       "      <th>595</th>\n",
       "      <td>173,000</td>\n",
       "      <td>평점5</td>\n",
       "      <td>VIVRE KOREA</td>\n",
       "      <td>20.03.27.</td>\n",
       "      <td>비브르 스톰파워 VE30</td>\n",
       "      <td>일단 배송이 빨랐어요~~ 터치부분이 led라 고급스러워 보이구 세기조절도 3단계라 ...</td>\n",
       "    </tr>\n",
       "    <tr>\n",
       "      <th>596</th>\n",
       "      <td>173,000</td>\n",
       "      <td>평점5</td>\n",
       "      <td>VIVRE KOREA</td>\n",
       "      <td>20.12.17.</td>\n",
       "      <td>비브르 스톰파워 VE30</td>\n",
       "      <td>가성비 극강입니다!! 헤드도 다양하게 바꿀수 있고 1단일때는 밤에 돌려도 될 정도의...</td>\n",
       "    </tr>\n",
       "    <tr>\n",
       "      <th>597</th>\n",
       "      <td>173,000</td>\n",
       "      <td>평점5</td>\n",
       "      <td>VIVRE KOREA</td>\n",
       "      <td>20.08.27.</td>\n",
       "      <td>비브르 스톰파워 VE30</td>\n",
       "      <td>비브르 무선청소기를 처음 보았을 때 흡입력에 관한 의문이 들었는데 리뷰를 보고 동영...</td>\n",
       "    </tr>\n",
       "    <tr>\n",
       "      <th>598</th>\n",
       "      <td>173,000</td>\n",
       "      <td>평점4</td>\n",
       "      <td>VIVRE KOREA</td>\n",
       "      <td>20.09.07.</td>\n",
       "      <td>비브르 스톰파워 VE30</td>\n",
       "      <td>1. 배송 : 2일2. 제품 : 기존에 누르고 있는 버튼에 대비해서 터치식이라 편합...</td>\n",
       "    </tr>\n",
       "    <tr>\n",
       "      <th>599</th>\n",
       "      <td>173,000</td>\n",
       "      <td>평점1</td>\n",
       "      <td>VIVRE KOREA</td>\n",
       "      <td>20.06.29.</td>\n",
       "      <td>비브르 스톰파워 VE30</td>\n",
       "      <td>밑에 붙어있던건 사용한지 몇일만에 떨어져나갔고 브러쉬바꾸다 먼지통고정부분이 뚝 부려...</td>\n",
       "    </tr>\n",
       "  </tbody>\n",
       "</table>\n",
       "<p>600 rows × 6 columns</p>\n",
       "</div>"
      ],
      "text/plain": [
       "          가격   평점           채널         날짜            제품명  \\\n",
       "0    107,160  평점3  VIVRE KOREA  19.11.15.    비브르 A9 PLUS   \n",
       "1    107,160  평점1  VIVRE KOREA  19.09.04.    비브르 A9 PLUS   \n",
       "2    107,160  평점5  VIVRE KOREA  19.08.28.    비브르 A9 PLUS   \n",
       "3    107,160  평점5  VIVRE KOREA  20.03.22.    비브르 A9 PLUS   \n",
       "4    107,160  평점5  VIVRE KOREA  19.06.24.    비브르 A9 PLUS   \n",
       "..       ...  ...          ...        ...            ...   \n",
       "595  173,000  평점5  VIVRE KOREA  20.03.27.  비브르 스톰파워 VE30   \n",
       "596  173,000  평점5  VIVRE KOREA  20.12.17.  비브르 스톰파워 VE30   \n",
       "597  173,000  평점5  VIVRE KOREA  20.08.27.  비브르 스톰파워 VE30   \n",
       "598  173,000  평점4  VIVRE KOREA  20.09.07.  비브르 스톰파워 VE30   \n",
       "599  173,000  평점1  VIVRE KOREA  20.06.29.  비브르 스톰파워 VE30   \n",
       "\n",
       "                                                    리뷰  \n",
       "0    댕댕이 털갈이 때문에 구입했어요.한 달 사용해본 결과, 흡입력이 약하고 사용시간이 ...  \n",
       "1    정말 별 한나도 아까운 청소기에요 흡입력도 약하고 고양이 두부모래 다시 뺏어내고 2...  \n",
       "2    가성비 짱이네요.요즘 댕댕이 털 갈이 시작되어 고민하다 구입했구요.도착하자마자 돌려...  \n",
       "3    일단 빠른 배송에 감동했구요!! 좋지 않은 후기들도 있어서 긴가민가하면서 구매했는데...  \n",
       "4    가성비 대박이에요. 맘카페에서  좋다고 말이 많아서 검색하다 구입했는데..가볍고 필...  \n",
       "..                                                 ...  \n",
       "595  일단 배송이 빨랐어요~~ 터치부분이 led라 고급스러워 보이구 세기조절도 3단계라 ...  \n",
       "596  가성비 극강입니다!! 헤드도 다양하게 바꿀수 있고 1단일때는 밤에 돌려도 될 정도의...  \n",
       "597  비브르 무선청소기를 처음 보았을 때 흡입력에 관한 의문이 들었는데 리뷰를 보고 동영...  \n",
       "598  1. 배송 : 2일2. 제품 : 기존에 누르고 있는 버튼에 대비해서 터치식이라 편합...  \n",
       "599  밑에 붙어있던건 사용한지 몇일만에 떨어져나갔고 브러쉬바꾸다 먼지통고정부분이 뚝 부려...  \n",
       "\n",
       "[600 rows x 6 columns]"
      ]
     },
     "execution_count": 51,
     "metadata": {},
     "output_type": "execute_result"
    }
   ],
   "source": [
    "vivre_df=pd.read_excel('./data/비브르.xlsx')\n",
    "vivre_df"
   ]
  },
  {
   "cell_type": "code",
   "execution_count": 129,
   "metadata": {
    "id": "XNcx0nIh-YdN"
   },
   "outputs": [],
   "source": [
    "vivrename=vivre_df['제품명'].unique()\n",
    "vivreprice=vivre_df['가격'].unique()"
   ]
  },
  {
   "cell_type": "code",
   "execution_count": 130,
   "metadata": {
    "id": "N7JS8z-O-YUs"
   },
   "outputs": [],
   "source": [
    "vivre_list = []\n",
    "\n",
    "for i , key in enumerate(vivrename):\n",
    "    vivre_dic = {}\n",
    "    vivre_dic['제품명'] = key\n",
    "    vivre_dic['가격'] =vivreprice[i]\n",
    "\n",
    "    vivre_item_df = vivre_df[vivre_df['제품명']==key]\n",
    "\n",
    "    vivre_dic['리뷰']= vivre_item_df['리뷰'].tolist()\n",
    "    vivre_dic['채널']= vivre_item_df['채널'].tolist()\n",
    "    vivre_dic['평점']= vivre_item_df['평점'].tolist()\n",
    "    vivre_dic['날짜']= vivre_item_df['날짜'].tolist()\n",
    "\n",
    "    vivre_list.append(vivre_dic)"
   ]
  },
  {
   "cell_type": "markdown",
   "metadata": {
    "id": "QzUWPs5w-DsJ"
   },
   "source": [
    "### 오아 "
   ]
  },
  {
   "cell_type": "code",
   "execution_count": 131,
   "metadata": {
    "id": "_sA65WQSJXg5"
   },
   "outputs": [
    {
     "data": {
      "text/html": [
       "<div>\n",
       "<style scoped>\n",
       "    .dataframe tbody tr th:only-of-type {\n",
       "        vertical-align: middle;\n",
       "    }\n",
       "\n",
       "    .dataframe tbody tr th {\n",
       "        vertical-align: top;\n",
       "    }\n",
       "\n",
       "    .dataframe thead th {\n",
       "        text-align: right;\n",
       "    }\n",
       "</style>\n",
       "<table border=\"1\" class=\"dataframe\">\n",
       "  <thead>\n",
       "    <tr style=\"text-align: right;\">\n",
       "      <th></th>\n",
       "      <th>가격</th>\n",
       "      <th>평점</th>\n",
       "      <th>채널</th>\n",
       "      <th>날짜</th>\n",
       "      <th>제품명</th>\n",
       "      <th>리뷰</th>\n",
       "    </tr>\n",
       "  </thead>\n",
       "  <tbody>\n",
       "    <tr>\n",
       "      <th>0</th>\n",
       "      <td>69,000</td>\n",
       "      <td>평점4</td>\n",
       "      <td>오아스토어</td>\n",
       "      <td>20.07.07.</td>\n",
       "      <td>2020년형오아 클린스틱 OA-CL010</td>\n",
       "      <td>머리카락 같은거는 정말 잘되구요헌데 방하나 구석구석하고나니 모터가 엄청 뜨거워져서 ...</td>\n",
       "    </tr>\n",
       "    <tr>\n",
       "      <th>1</th>\n",
       "      <td>69,000</td>\n",
       "      <td>평점5</td>\n",
       "      <td>오아스토어</td>\n",
       "      <td>21.02.27.</td>\n",
       "      <td>2020년형오아 클린스틱 OA-CL010</td>\n",
       "      <td>방을 꾸미면서 카페트를 깔았는데 강아지 털과 먼지가 계속 쌓여서 돌돌이로는 어림도 ...</td>\n",
       "    </tr>\n",
       "    <tr>\n",
       "      <th>2</th>\n",
       "      <td>69,000</td>\n",
       "      <td>평점5</td>\n",
       "      <td>오아스토어</td>\n",
       "      <td>21.04.14.</td>\n",
       "      <td>2020년형오아 클린스틱 OA-CL010</td>\n",
       "      <td>흡입력짱입니다. 소음이 좀 있다는 후기가 있었는데 코드제로에 비교하면 비슷하거나 아...</td>\n",
       "    </tr>\n",
       "    <tr>\n",
       "      <th>3</th>\n",
       "      <td>69,000</td>\n",
       "      <td>평점5</td>\n",
       "      <td>오아스토어</td>\n",
       "      <td>21.01.06.</td>\n",
       "      <td>2020년형오아 클린스틱 OA-CL010</td>\n",
       "      <td>이번에 이사를 오면서 청소기 구매에 대해서 엄청 고민을 많이 했드래요~큰거는 하나가...</td>\n",
       "    </tr>\n",
       "    <tr>\n",
       "      <th>4</th>\n",
       "      <td>69,000</td>\n",
       "      <td>평점5</td>\n",
       "      <td>오아스토어</td>\n",
       "      <td>21.06.04.</td>\n",
       "      <td>2020년형오아 클린스틱 OA-CL010</td>\n",
       "      <td>매장에서 깊이 들어가있는 필터용 청소기로 사용하려고 주문 했었는데 너무 좋은거있죠 ...</td>\n",
       "    </tr>\n",
       "    <tr>\n",
       "      <th>...</th>\n",
       "      <td>...</td>\n",
       "      <td>...</td>\n",
       "      <td>...</td>\n",
       "      <td>...</td>\n",
       "      <td>...</td>\n",
       "      <td>...</td>\n",
       "    </tr>\n",
       "    <tr>\n",
       "      <th>195</th>\n",
       "      <td>69,000</td>\n",
       "      <td>평점5</td>\n",
       "      <td>오아스토어</td>\n",
       "      <td>20.12.29.</td>\n",
       "      <td>2020년형오아 클린스틱 OA-CL010</td>\n",
       "      <td>작아서 보관하기 좋고 쪼그만게 생각보다 잘 빨아드리네요. 집에 로봇청소기가 있어서 ...</td>\n",
       "    </tr>\n",
       "    <tr>\n",
       "      <th>196</th>\n",
       "      <td>69,000</td>\n",
       "      <td>평점5</td>\n",
       "      <td>오아스토어</td>\n",
       "      <td>21.09.12.</td>\n",
       "      <td>2020년형오아 클린스틱 OA-CL010</td>\n",
       "      <td>저렴한 가격에 아주 가벼운 청소기. 허리 숙이지 않아도 되어서 너무 편합니다. 가벼...</td>\n",
       "    </tr>\n",
       "    <tr>\n",
       "      <th>197</th>\n",
       "      <td>69,000</td>\n",
       "      <td>평점1</td>\n",
       "      <td>오아스토어</td>\n",
       "      <td>21.07.24.</td>\n",
       "      <td>2020년형오아 클린스틱 OA-CL010</td>\n",
       "      <td>머리가 작고 너무 가벼워서 헤드가 자꾸 뜸. 그래서 청소가 잘 안됨. 눈에 띄는 머...</td>\n",
       "    </tr>\n",
       "    <tr>\n",
       "      <th>198</th>\n",
       "      <td>69,000</td>\n",
       "      <td>평점5</td>\n",
       "      <td>오아스토어</td>\n",
       "      <td>21.08.13.</td>\n",
       "      <td>2020년형오아 클린스틱 OA-CL010</td>\n",
       "      <td>생각보다 크기가 엄청 큽니다ㅎㅎㅎ저는 차에 두고 쓰려고 했는데 크기만 보면 한 자리...</td>\n",
       "    </tr>\n",
       "    <tr>\n",
       "      <th>199</th>\n",
       "      <td>69,000</td>\n",
       "      <td>평점4</td>\n",
       "      <td>오아스토어</td>\n",
       "      <td>21.03.04.</td>\n",
       "      <td>2020년형오아 클린스틱 OA-CL010</td>\n",
       "      <td>가벼워서 좋긴한데 사진처럼 보통 여자 손 기준으로 생각보다 흡입구가 많이 작아요 그...</td>\n",
       "    </tr>\n",
       "  </tbody>\n",
       "</table>\n",
       "<p>200 rows × 6 columns</p>\n",
       "</div>"
      ],
      "text/plain": [
       "         가격   평점     채널         날짜                     제품명  \\\n",
       "0    69,000  평점4  오아스토어  20.07.07.  2020년형오아 클린스틱 OA-CL010   \n",
       "1    69,000  평점5  오아스토어  21.02.27.  2020년형오아 클린스틱 OA-CL010   \n",
       "2    69,000  평점5  오아스토어  21.04.14.  2020년형오아 클린스틱 OA-CL010   \n",
       "3    69,000  평점5  오아스토어  21.01.06.  2020년형오아 클린스틱 OA-CL010   \n",
       "4    69,000  평점5  오아스토어  21.06.04.  2020년형오아 클린스틱 OA-CL010   \n",
       "..      ...  ...    ...        ...                     ...   \n",
       "195  69,000  평점5  오아스토어  20.12.29.  2020년형오아 클린스틱 OA-CL010   \n",
       "196  69,000  평점5  오아스토어  21.09.12.  2020년형오아 클린스틱 OA-CL010   \n",
       "197  69,000  평점1  오아스토어  21.07.24.  2020년형오아 클린스틱 OA-CL010   \n",
       "198  69,000  평점5  오아스토어  21.08.13.  2020년형오아 클린스틱 OA-CL010   \n",
       "199  69,000  평점4  오아스토어  21.03.04.  2020년형오아 클린스틱 OA-CL010   \n",
       "\n",
       "                                                    리뷰  \n",
       "0    머리카락 같은거는 정말 잘되구요헌데 방하나 구석구석하고나니 모터가 엄청 뜨거워져서 ...  \n",
       "1    방을 꾸미면서 카페트를 깔았는데 강아지 털과 먼지가 계속 쌓여서 돌돌이로는 어림도 ...  \n",
       "2    흡입력짱입니다. 소음이 좀 있다는 후기가 있었는데 코드제로에 비교하면 비슷하거나 아...  \n",
       "3    이번에 이사를 오면서 청소기 구매에 대해서 엄청 고민을 많이 했드래요~큰거는 하나가...  \n",
       "4    매장에서 깊이 들어가있는 필터용 청소기로 사용하려고 주문 했었는데 너무 좋은거있죠 ...  \n",
       "..                                                 ...  \n",
       "195  작아서 보관하기 좋고 쪼그만게 생각보다 잘 빨아드리네요. 집에 로봇청소기가 있어서 ...  \n",
       "196  저렴한 가격에 아주 가벼운 청소기. 허리 숙이지 않아도 되어서 너무 편합니다. 가벼...  \n",
       "197  머리가 작고 너무 가벼워서 헤드가 자꾸 뜸. 그래서 청소가 잘 안됨. 눈에 띄는 머...  \n",
       "198  생각보다 크기가 엄청 큽니다ㅎㅎㅎ저는 차에 두고 쓰려고 했는데 크기만 보면 한 자리...  \n",
       "199  가벼워서 좋긴한데 사진처럼 보통 여자 손 기준으로 생각보다 흡입구가 많이 작아요 그...  \n",
       "\n",
       "[200 rows x 6 columns]"
      ]
     },
     "execution_count": 131,
     "metadata": {},
     "output_type": "execute_result"
    }
   ],
   "source": [
    "oa_df =pd.read_excel('./data/오아 클린스틱.xlsx')\n",
    "oa_df"
   ]
  },
  {
   "cell_type": "code",
   "execution_count": 132,
   "metadata": {
    "id": "t_jV1YCc-Vcq"
   },
   "outputs": [],
   "source": [
    "oaname=oa_df['제품명'].unique()\n",
    "oaprice=oa_df['가격'].unique()"
   ]
  },
  {
   "cell_type": "code",
   "execution_count": 133,
   "metadata": {
    "id": "OXtNo9x-KhWh"
   },
   "outputs": [],
   "source": [
    "oa_list = []\n",
    "\n",
    "for i, key in enumerate(oaname):\n",
    "    oa_dic = {}\n",
    "    oa_dic['제품명'] = key\n",
    "    oa_dic['가격'] = oaprice[i]\n",
    "\n",
    "    oa_item_df = oa_df[oa_df['제품명']==key]\n",
    "\n",
    "    oa_dic['리뷰'] = oa_item_df['리뷰'].tolist()\n",
    "    oa_dic['채널'] = oa_item_df['채널'].tolist()\n",
    "    oa_dic['평점'] = oa_item_df['평점'].tolist()\n",
    "    oa_dic['날짜'] = oa_item_df['날짜'].tolist()\n",
    "\n",
    "    oa_list.append(oa_dic)"
   ]
  },
  {
   "cell_type": "markdown",
   "metadata": {
    "id": "Z-r85ThCCS3V"
   },
   "source": [
    "# 각 제조사별 리뷰 말뭉치 제작\n",
    "맡은 제조사별로 말뭉치 만들어서 json으로 저장"
   ]
  },
  {
   "cell_type": "code",
   "execution_count": 8,
   "metadata": {
    "colab": {
     "base_uri": "https://localhost:8080/",
     "height": 248
    },
    "id": "7BNGS106CRbA",
    "outputId": "aa35d002-82db-4cad-93d9-e2bf7fe2b46d"
   },
   "outputs": [],
   "source": [
    "#말뭉치 생성\n",
    "\n",
    "import chardet\n",
    "spacing = Spacing()\n",
    "def do_stemming(reviews):\n",
    "    total_review = ''\n",
    "\n",
    "    for idx in range(len(reviews)):\n",
    "        review_text = reviews[idx]\n",
    "        # if chardet.detect(review_text.encode())['encoding'] == 'cp949':\n",
    "        #         review_text = unicode(review_text,'cp949').encode('utf-8')\n",
    "       \n",
    "        #하나의 리뷰에서 문장 단위로 자르기\n",
    "        for sentence in kkma.sentences(review_text):\n",
    "            # if chardet.detect(sentence.encode())['encoding'] == 'cp949':\n",
    "            #     sentence = unicode(sentence,'cp949').encode('utf-8')\n",
    "                \n",
    "            sentence = re.sub('([a-zA-Z])','',sentence)\n",
    "            sentence = re.sub('[ㄱ-ㅎㅏ-ㅣ]+','',sentence)\n",
    "            sentence = re.sub('[-=+,#/\\?:^$.@*\\\"※~&%ㆍ!』\\\\‘|\\(\\)\\[\\]\\<\\>`\\'…》]','',sentence)\n",
    "            \n",
    "            if len(sentence) == 0:\n",
    "                continue\n",
    "            if len(sentence) < 198:\n",
    "                sentence = spacing(sentence)\n",
    "            sentence += '. '\n",
    "            total_review += sentence           \n",
    "       \n",
    "    total_review = okt.normalize(total_review) \n",
    "    \n",
    "    return total_review"
   ]
  },
  {
   "cell_type": "markdown",
   "metadata": {},
   "source": [
    "## 김찬희"
   ]
  },
  {
   "cell_type": "code",
   "execution_count": 9,
   "metadata": {},
   "outputs": [],
   "source": [
    "chanhee_all_item = [dyson_list,dibea_list]"
   ]
  },
  {
   "cell_type": "code",
   "execution_count": 10,
   "metadata": {},
   "outputs": [],
   "source": [
    "for i, company in enumerate(chanhee_all_item): #제조사 선택\n",
    "    \n",
    "    for j, dic_data in enumerate(company):\n",
    "        item_review_list = dic_data['리뷰'] #각 제품당 리뷰를 가지고 온다\n",
    "        chanhee_all_item[i][j]['리뷰'] = do_stemming(item_review_list)"
   ]
  },
  {
   "cell_type": "code",
   "execution_count": 5,
   "metadata": {},
   "outputs": [],
   "source": [
    "chanhee_file_path = './data/dyson_dibea.json'"
   ]
  },
  {
   "cell_type": "code",
   "execution_count": 12,
   "metadata": {},
   "outputs": [],
   "source": [
    "with open(chanhee_file_path, 'w') as outfile:\n",
    "    json.dump(chanhee_all_item, outfile)"
   ]
  },
  {
   "cell_type": "code",
   "execution_count": 6,
   "metadata": {},
   "outputs": [],
   "source": [
    "with open(chanhee_file_path, 'r') as jsonfile:\n",
    "    chanhee_json_data = json.load(jsonfile)"
   ]
  },
  {
   "cell_type": "code",
   "execution_count": 7,
   "metadata": {},
   "outputs": [
    {
     "name": "stdout",
     "output_type": "stream",
     "text": [
      "<class 'list'>\n"
     ]
    }
   ],
   "source": [
    "print(type(chanhee_json_data))"
   ]
  },
  {
   "cell_type": "markdown",
   "metadata": {},
   "source": [
    "## 박유정"
   ]
  },
  {
   "cell_type": "code",
   "execution_count": null,
   "metadata": {},
   "outputs": [],
   "source": [
    "yujeong_all_item = [lg_list,tefal_list]"
   ]
  },
  {
   "cell_type": "code",
   "execution_count": null,
   "metadata": {},
   "outputs": [],
   "source": [
    "for i, company in enumerate(yujeong_all_item): #제조사 선택\n",
    "    \n",
    "    for j, dic_data in enumerate(company):\n",
    "        item_review_list = dic_data['리뷰'] #각 제품당 리뷰를 가지고 온다\n",
    "        yujeong_all_item[i][j]['리뷰'] = do_stemming(item_review_list)"
   ]
  },
  {
   "cell_type": "code",
   "execution_count": 8,
   "metadata": {},
   "outputs": [],
   "source": [
    "yugeong_file_path = './data/lg_tefal.json'"
   ]
  },
  {
   "cell_type": "code",
   "execution_count": null,
   "metadata": {},
   "outputs": [],
   "source": [
    "with open(yugeong_file_path, 'w') as outfile:\n",
    "    json.dump(yujeong_all_item, outfile)"
   ]
  },
  {
   "cell_type": "code",
   "execution_count": 9,
   "metadata": {},
   "outputs": [],
   "source": [
    "with open(yugeong_file_path, 'r') as jsonfile:\n",
    "    yujeong_json_data = json.load(jsonfile)"
   ]
  },
  {
   "cell_type": "code",
   "execution_count": 10,
   "metadata": {},
   "outputs": [
    {
     "name": "stdout",
     "output_type": "stream",
     "text": [
      "<class 'list'>\n"
     ]
    }
   ],
   "source": [
    "print(type(yujeong_json_data))"
   ]
  },
  {
   "cell_type": "markdown",
   "metadata": {},
   "source": [
    "## 정새하"
   ]
  },
  {
   "cell_type": "code",
   "execution_count": 99,
   "metadata": {
    "colab": {
     "base_uri": "https://localhost:8080/"
    },
    "id": "gcVNd9wmJTs9",
    "outputId": "e0a2d733-002a-46ea-91e8-b6a94130e686"
   },
   "outputs": [],
   "source": [
    "#삼성, 신일\n",
    "saeha_all_item = [samsung_dic_list,sinil_dic_list] #위에서 만든 리스트 - 자기가 맡은 제조사 넣으면 됩니다 "
   ]
  },
  {
   "cell_type": "code",
   "execution_count": 100,
   "metadata": {
    "colab": {
     "base_uri": "https://localhost:8080/",
     "height": 1000
    },
    "id": "vwUnOGMMImSV",
    "outputId": "c280224f-1ffd-4b80-deea-6f72cdb095ec"
   },
   "outputs": [
    {
     "ename": "java.lang.NullPointerException",
     "evalue": "java.lang.NullPointerException: Cannot invoke \"java.util.List.size()\" because \"melAnalResult\" is null",
     "output_type": "error",
     "traceback": [
      "\u001b[1;31m---------------------------------------------------------------------------\u001b[0m",
      "\u001b[1;31mException\u001b[0m                                 Traceback (most recent call last)",
      "\u001b[1;32m~\\anaconda3\\envs\\tfenv\\lib\\site-packages\\_jpype.cp38-win_amd64.pyd\u001b[0m in \u001b[0;36mkr.lucypark.kkma.KkmaInterface.morphAnalyzer\u001b[1;34m()\u001b[0m\n",
      "\u001b[1;32m~\\anaconda3\\envs\\tfenv\\lib\\site-packages\\_jpype.cp38-win_amd64.pyd\u001b[0m in \u001b[0;36morg.snu.ids.ha.ma.MorphemeAnalyzer.postProcess\u001b[1;34m()\u001b[0m\n",
      "\u001b[1;31mException\u001b[0m: Java Exception",
      "\nThe above exception was the direct cause of the following exception:\n",
      "\u001b[1;31mjava.lang.NullPointerException\u001b[0m            Traceback (most recent call last)",
      "\u001b[1;32m~\\AppData\\Local\\Temp/ipykernel_21912/4006294180.py\u001b[0m in \u001b[0;36m<module>\u001b[1;34m\u001b[0m\n\u001b[0;32m      2\u001b[0m     \u001b[1;32mfor\u001b[0m \u001b[0mj\u001b[0m\u001b[1;33m,\u001b[0m \u001b[0mdic_data\u001b[0m \u001b[1;32min\u001b[0m \u001b[0menumerate\u001b[0m\u001b[1;33m(\u001b[0m\u001b[0mcompany\u001b[0m\u001b[1;33m)\u001b[0m\u001b[1;33m:\u001b[0m\u001b[1;33m\u001b[0m\u001b[1;33m\u001b[0m\u001b[0m\n\u001b[0;32m      3\u001b[0m         \u001b[0mitem_review_list\u001b[0m \u001b[1;33m=\u001b[0m \u001b[0mdic_data\u001b[0m\u001b[1;33m[\u001b[0m\u001b[1;34m'리뷰'\u001b[0m\u001b[1;33m]\u001b[0m \u001b[1;31m#각 제품당 리뷰를 가지고 온다\u001b[0m\u001b[1;33m\u001b[0m\u001b[1;33m\u001b[0m\u001b[0m\n\u001b[1;32m----> 4\u001b[1;33m         \u001b[0msaeha_all_item\u001b[0m\u001b[1;33m[\u001b[0m\u001b[0mi\u001b[0m\u001b[1;33m]\u001b[0m\u001b[1;33m[\u001b[0m\u001b[0mj\u001b[0m\u001b[1;33m]\u001b[0m\u001b[1;33m[\u001b[0m\u001b[1;34m'리뷰'\u001b[0m\u001b[1;33m]\u001b[0m \u001b[1;33m=\u001b[0m \u001b[0mdo_stemming\u001b[0m\u001b[1;33m(\u001b[0m\u001b[0mitem_review_list\u001b[0m\u001b[1;33m)\u001b[0m\u001b[1;33m\u001b[0m\u001b[1;33m\u001b[0m\u001b[0m\n\u001b[0m",
      "\u001b[1;32m~\\AppData\\Local\\Temp/ipykernel_21912/3158070095.py\u001b[0m in \u001b[0;36mdo_stemming\u001b[1;34m(reviews)\u001b[0m\n\u001b[0;32m     12\u001b[0m \u001b[1;33m\u001b[0m\u001b[0m\n\u001b[0;32m     13\u001b[0m         \u001b[1;31m#하나의 리뷰에서 문장 단위로 자르기\u001b[0m\u001b[1;33m\u001b[0m\u001b[1;33m\u001b[0m\u001b[1;33m\u001b[0m\u001b[0m\n\u001b[1;32m---> 14\u001b[1;33m         \u001b[1;32mfor\u001b[0m \u001b[0msentence\u001b[0m \u001b[1;32min\u001b[0m \u001b[0mkkma\u001b[0m\u001b[1;33m.\u001b[0m\u001b[0msentences\u001b[0m\u001b[1;33m(\u001b[0m\u001b[0mreview_text\u001b[0m\u001b[1;33m)\u001b[0m\u001b[1;33m:\u001b[0m\u001b[1;33m\u001b[0m\u001b[1;33m\u001b[0m\u001b[0m\n\u001b[0m\u001b[0;32m     15\u001b[0m             \u001b[1;31m# if chardet.detect(sentence.encode())['encoding'] == 'cp949':\u001b[0m\u001b[1;33m\u001b[0m\u001b[1;33m\u001b[0m\u001b[1;33m\u001b[0m\u001b[0m\n\u001b[0;32m     16\u001b[0m             \u001b[1;31m#     sentence = unicode(sentence,'cp949').encode('utf-8')\u001b[0m\u001b[1;33m\u001b[0m\u001b[1;33m\u001b[0m\u001b[1;33m\u001b[0m\u001b[0m\n",
      "\u001b[1;32m~\\anaconda3\\envs\\tfenv\\lib\\site-packages\\konlpy\\tag\\_kkma.py\u001b[0m in \u001b[0;36msentences\u001b[1;34m(self, phrase)\u001b[0m\n\u001b[0;32m     87\u001b[0m         \u001b[1;34m\"\"\"Sentence detection.\"\"\"\u001b[0m\u001b[1;33m\u001b[0m\u001b[1;33m\u001b[0m\u001b[0m\n\u001b[0;32m     88\u001b[0m \u001b[1;33m\u001b[0m\u001b[0m\n\u001b[1;32m---> 89\u001b[1;33m         \u001b[0msentences\u001b[0m \u001b[1;33m=\u001b[0m \u001b[0mself\u001b[0m\u001b[1;33m.\u001b[0m\u001b[0mjki\u001b[0m\u001b[1;33m.\u001b[0m\u001b[0mmorphAnalyzer\u001b[0m\u001b[1;33m(\u001b[0m\u001b[0mphrase\u001b[0m\u001b[1;33m)\u001b[0m\u001b[1;33m\u001b[0m\u001b[1;33m\u001b[0m\u001b[0m\n\u001b[0m\u001b[0;32m     90\u001b[0m         \u001b[1;32mif\u001b[0m \u001b[1;32mnot\u001b[0m \u001b[0msentences\u001b[0m\u001b[1;33m:\u001b[0m \u001b[1;32mreturn\u001b[0m \u001b[1;33m[\u001b[0m\u001b[1;33m]\u001b[0m\u001b[1;33m\u001b[0m\u001b[1;33m\u001b[0m\u001b[0m\n\u001b[0;32m     91\u001b[0m         \u001b[1;32mreturn\u001b[0m \u001b[1;33m[\u001b[0m\u001b[0msentences\u001b[0m\u001b[1;33m.\u001b[0m\u001b[0mget\u001b[0m\u001b[1;33m(\u001b[0m\u001b[0mi\u001b[0m\u001b[1;33m)\u001b[0m\u001b[1;33m.\u001b[0m\u001b[0mgetSentence\u001b[0m\u001b[1;33m(\u001b[0m\u001b[1;33m)\u001b[0m \u001b[1;32mfor\u001b[0m \u001b[0mi\u001b[0m \u001b[1;32min\u001b[0m \u001b[0mrange\u001b[0m\u001b[1;33m(\u001b[0m\u001b[0msentences\u001b[0m\u001b[1;33m.\u001b[0m\u001b[0msize\u001b[0m\u001b[1;33m(\u001b[0m\u001b[1;33m)\u001b[0m\u001b[1;33m)\u001b[0m\u001b[1;33m]\u001b[0m\u001b[1;33m\u001b[0m\u001b[1;33m\u001b[0m\u001b[0m\n",
      "\u001b[1;31mjava.lang.NullPointerException\u001b[0m: java.lang.NullPointerException: Cannot invoke \"java.util.List.size()\" because \"melAnalResult\" is null"
     ]
    }
   ],
   "source": [
    "for i, company in enumerate(saeha_all_item): #제조사 선택\n",
    "    for j, dic_data in enumerate(company):\n",
    "        item_review_list = dic_data['리뷰'] #각 제품당 리뷰를 가지고 온다\n",
    "        saeha_all_item[i][j]['리뷰'] = do_stemming(item_review_list)\n"
   ]
  },
  {
   "cell_type": "code",
   "execution_count": 12,
   "metadata": {},
   "outputs": [],
   "source": [
    "#for문이 끝나고 나서 all_item을 json으로 변환해서 data 폴더에 저장 \n",
    "saeha_file_path = './data/samsung_sinil.json'"
   ]
  },
  {
   "cell_type": "code",
   "execution_count": 82,
   "metadata": {},
   "outputs": [],
   "source": [
    "#결과물 json으로 저장\n",
    "with open(saeha_file_path, 'w') as outfile:\n",
    "    json.dump(saeha_all_item, outfile)"
   ]
  },
  {
   "cell_type": "code",
   "execution_count": 13,
   "metadata": {},
   "outputs": [
    {
     "ename": "FileNotFoundError",
     "evalue": "[Errno 2] No such file or directory: './data/samsung_sinil.json'",
     "output_type": "error",
     "traceback": [
      "\u001b[1;31m---------------------------------------------------------------------------\u001b[0m",
      "\u001b[1;31mFileNotFoundError\u001b[0m                         Traceback (most recent call last)",
      "\u001b[1;32m~\\AppData\\Local\\Temp/ipykernel_16160/98222697.py\u001b[0m in \u001b[0;36m<module>\u001b[1;34m\u001b[0m\n\u001b[0;32m      1\u001b[0m \u001b[1;31m#json로드\u001b[0m\u001b[1;33m\u001b[0m\u001b[1;33m\u001b[0m\u001b[1;33m\u001b[0m\u001b[0m\n\u001b[1;32m----> 2\u001b[1;33m \u001b[1;32mwith\u001b[0m \u001b[0mopen\u001b[0m\u001b[1;33m(\u001b[0m\u001b[0msaeha_file_path\u001b[0m\u001b[1;33m,\u001b[0m \u001b[1;34m'r'\u001b[0m\u001b[1;33m)\u001b[0m \u001b[1;32mas\u001b[0m \u001b[0mjsonfile\u001b[0m\u001b[1;33m:\u001b[0m\u001b[1;33m\u001b[0m\u001b[1;33m\u001b[0m\u001b[0m\n\u001b[0m\u001b[0;32m      3\u001b[0m     \u001b[0msaeha_json_data\u001b[0m \u001b[1;33m=\u001b[0m \u001b[0mjson\u001b[0m\u001b[1;33m.\u001b[0m\u001b[0mload\u001b[0m\u001b[1;33m(\u001b[0m\u001b[0mjsonfile\u001b[0m\u001b[1;33m)\u001b[0m\u001b[1;33m\u001b[0m\u001b[1;33m\u001b[0m\u001b[0m\n",
      "\u001b[1;31mFileNotFoundError\u001b[0m: [Errno 2] No such file or directory: './data/samsung_sinil.json'"
     ]
    }
   ],
   "source": [
    "#json로드\n",
    "with open(saeha_file_path, 'r') as jsonfile:\n",
    "    saeha_json_data = json.load(jsonfile)\n"
   ]
  },
  {
   "cell_type": "code",
   "execution_count": 84,
   "metadata": {},
   "outputs": [
    {
     "name": "stdout",
     "output_type": "stream",
     "text": [
      "<class 'list'>\n"
     ]
    }
   ],
   "source": [
    "print(type(saeha_json_data))"
   ]
  },
  {
   "cell_type": "markdown",
   "metadata": {},
   "source": [
    "## 정한슬"
   ]
  },
  {
   "cell_type": "code",
   "execution_count": 14,
   "metadata": {},
   "outputs": [],
   "source": [
    "yugeong_file_path = './data/lg_tefal.json'"
   ]
  },
  {
   "cell_type": "code",
   "execution_count": 15,
   "metadata": {},
   "outputs": [],
   "source": [
    "with open(yugeong_file_path, 'r') as jsonfile:\n",
    "    yujeong_json_data = json.load(jsonfile)"
   ]
  },
  {
   "cell_type": "code",
   "execution_count": 16,
   "metadata": {},
   "outputs": [
    {
     "name": "stdout",
     "output_type": "stream",
     "text": [
      "[[{'제품명': 'LG전자 코드제로 A9S 올인원타워 AS9370IKT', '가격': '775,970', '평점': ['평점5', '평점3', '평점4', '평점3', '평점4', '평점5', '평점4', '평점1', '평점5', '평점5', '평점5', '평점5', '평점5', '평점5', '평점5', '평점5', '평점5', '평점5', '평점5', '평점5', '평점5', '평점4', '평점5', '평점5', '평점5', '평점5', '평점5', '평점5', '평점5', '평점5', '평점5', '평점5', '평점5', '평점5', '평점4', '평점5', '평점5', '평점5', '평점5', '평점4', '평점5', '평점5', '평점5', '평점5', '평점5', '평점5', '평점5', '평점4', '평점5', '평점5', '평점5', '평점5', '평점5', '평점5', '평점4', '평점5', '평점3', '평점5', '평점5', '평점5', '평점5', '평점5', '평점5', '평점5', '평점4', '평점5', '평점4', '평점5', '평점5', '평점5', '평점5', '평점5', '평점5', '평점5', '평점5', '평점5', '평점5', '평점4', '평점4', '평점5', '평점5', '평점5', '평점5', '평점5', '평점5', '평점5', '평점5', '평점5', '평점5', '평점4', '평점5', '평점5', '평점4', '평점5', '평점5', '평점5', '평점5', '평점5', '평점5', '평점5'], '채널': ['보다쇼핑', '신세계TV쇼핑', '쇼핑엔티', 'CJ온스타일', '신세계TV쇼핑', '롯데홈쇼핑', 'G마켓', '신세계TV쇼핑', '신세계TV쇼핑', '롯데홈쇼핑', '롯데홈쇼핑', '롯데홈쇼핑', '11번가', '롯데홈쇼핑', 'NS홈쇼핑 TV홈쇼핑', '롯데홈쇼핑', '현대Hmall', 'G마켓', 'NS홈쇼핑 TV홈쇼핑', '쇼핑엔티', '보다쇼핑', '쇼핑엔티', 'NS홈쇼핑 TV홈쇼핑', 'NS홈쇼핑 TV홈쇼핑', '쇼핑엔티', 'NS홈쇼핑 TV홈쇼핑', '보다쇼핑', 'NS홈쇼핑 TV홈쇼핑', 'NS홈쇼핑 TV홈쇼핑', '쇼핑엔티', '쇼핑엔티', 'NS홈쇼핑 TV홈쇼핑', '쇼핑엔티', '쇼핑엔티', '쇼핑엔티', '쇼핑엔티', '쇼핑엔티', '쇼핑엔티', '쇼핑엔티', '쇼핑엔티', '쇼핑엔티', '쇼핑엔티', '쇼핑엔티', '쇼핑엔티', '컴퓨존', '11번가', '11번가', 'CJ온스타일', 'CJ온스타일', '옥션', 'GSSHOP', '현대Hmall', '신세계TV쇼핑', '신세계TV쇼핑', '11번가', '신세계TV쇼핑', 'CJ온스타일', '롯데홈쇼핑', '신세계TV쇼핑', '옥션', 'GSSHOP', '11번가', '옥션', '신세계TV쇼핑', '11번가', 'GSSHOP', '롯데홈쇼핑', '신세계TV쇼핑', '롯데홈쇼핑', '신세계TV쇼핑', '11번가', 'G마켓', '신세계TV쇼핑', '옥션', '옥션', '11번가', '신세계TV쇼핑', '11번가', '보다쇼핑', 'NS홈쇼핑 TV홈쇼핑', 'CJ온스타일', 'CJ온스타일', '롯데홈쇼핑', 'GSSHOP', '롯데홈쇼핑', '컴퓨존', '11번가', 'G마켓', '옥션', 'CJ온스타일', 'G마켓', '옥션', '보다쇼핑', '쇼핑엔티', '옥션', 'GSSHOP', 'CJ온스타일', '신세계TV쇼핑', '옥션', '신세계TV쇼핑'], '날짜': ['21.11.01.', '21.11.05.', '21.11.16.', '21.09.15.', '21.09.20.', '21.10.13.', '21.11.29.', '21.09.07.', '21.11.20.', '21.10.13.', '21.10.18.', '21.10.13.', '21.10.29.', '21.10.18.', '22.01.05.', '21.10.13.', '21.10.28.', '21.09.22.', '21.12.17.', '21.11.15.', '22.01.02.', '22.01.02.', '22.01.05.', '22.01.04.', '21.12.31.', '21.12.20.', '21.12.04.', '21.12.23.', '22.01.05.', '21.12.27.', '21.12.14.', '21.12.21.', '21.11.27.', '21.11.24.', '21.11.15.', '21.11.22.', '21.11.22.', '21.11.15.', '21.11.15.', '21.11.05.', '21.11.11.', '21.11.20.', '21.11.05.', '21.11.06.', '21.10.28.', '22.01.05.', '22.01.01.', '21.09.30.', '21.09.06.', '21.12.27.', '21.09.30.', '22.01.07.', '22.01.07.', '21.12.10.', '21.12.31.', '22.01.07.', '22.01.02.', '22.01.03.', '21.12.25.', '22.01.04.', '21.12.29.', '21.12.30.', '21.12.31.', '21.12.19.', '22.01.05.', '21.12.20.', '21.12.31.', '21.12.18.', '21.12.07.', '21.11.30.', '21.12.29.', '21.12.29.', '21.12.14.', '21.12.23.', '21.12.30.', '21.12.27.', '21.12.07.', '21.12.29.', '21.09.14.', '21.12.22.', '21.09.10.', '21.12.11.', '21.09.10.', '21.12.23.', '21.12.10.', '21.09.07.', '22.01.05.', '22.01.04.', '22.01.04.', '21.09.15.', '21.12.20.', '22.01.06.', '21.09.27.', '21.12.15.', '21.12.24.', '21.12.20.', '21.08.13.', '21.12.14.', '21.12.10.', '21.12.15.'], '리뷰': '주문하고 34 주 걸릴 수 있다고. 안내 전화 받고 기 다렸는데 10일 만에 배송된다고 기사님 연락 받았지만 토 욜 집에 없어서 월요일인 오늘 바로 받았네요. 안 내 받았던 기간보다 일찍 받아서 좋았구요. 기사님도 친절하게 설치 설명해 주시고 가셨네요. 집안 색상이랑 맞춘 건데 하 넘나. 이뿐 것 무선 처음인데 세상 편하네요. 단점이라면 살짝 무겁다는 것 소리도 작고 부드럽게 잘 밀려 요 비 움 할 때 소리가 좀 크지만 금새 비워 져서 좋구요. 이번 이사하면서 엘 지로 다 바꾸면서 청소기는 구지;; 라며 안했던 게 이 제 라도 사서 좋으네요. 일단 배송이 한 달 걸렸어요. 삼성 비스코프 청소기에 결함이 있어서 반품 처리 하고 바로 올 줄 알고 보냈는데 엘지 청소기 기다리다 성질만 나 뻐 졌어요. 일 수 불로 카드는 결제 됐는데 2주일 걸린다고 해 놓곤 몇 일씩 고객이 전화 해서 확인 하게 하고 물량 공급이 힘들어 질 경우라면 차 후에 팔던 가 해야지. 일단 팔고 보는 건 아니라 생각이 드네요. 소비자는 당장 필요해서 샀는데 대처하는 방법도 미흡했고 일단 고객이 불편함을 느꼈다면 어떻게든 처리를 해 줄 맘이 일도 없었던 거 갔습니다. 모든 고객들이 언제 배송 되냐고 물으면 고객이 확인 안 된다 이런 말만 하고 안 사면 그만 이지만 솔직한 후기를 남기고 싶어서 남깁니다. 차후에 사실 븐 들은 참고 하세요 기사님들은 친절 했어요. 생각했던 것보다 배송은 빨랐네요. 10 일 걸렸습니다. 유선 청소기만 쓰다가 무선 청소기 처음 쓰는데 역시 힘은 딸리네요. ; 무선이라 편하고 먼지 흡입은 생각보다 타워가 다 빨아 드리지는 못하네요. 머리카락 같은 것은 타워도 못 데려가네요. 장점 반 단점 반입 니다. 청소는 주로 남편이 하니까 제가 청소기 쓸 일은 거의 없긴 한데요 이것을 주로 쓰게 될 남편이 무겁다고. 뭐라. 하네요. 고객센터에 문의 해보니 청소기 본체 무게가 27라고 하는데 이 제품이 올해 출시 제조 된 것이니 옛날 모델도 아닌데 대리점에서 설명 들었을 때는 이것보다 가 벼운 것도 있었던 것 같은데 여 튼 무게 감이 좀 아쉽긴 해요. 흡입력은 괜찮은 것 같아요. 다이 슨 을 살까. 를 살까 엄청 고민했는데 결과가 조금 아쉽긴 합니다. 우선 먼지 통 비우는 불편함이 없는 점이 제일 좋았어요. 소음도 생각보다 크지 않고 청소기 자체는 무거운 편인데 바닥에 대고 하는 일반 청소 시엔 무리가 없는데 틈새 솔 등을 끼우고 짧게 선반 등을 청소할 땐 손목이 많이 아프네요. 물걸레 청소기도 너무 편하고 좋아요. 단점이라면 청소기 무게와 올인원 타워 먼지 비움 시 소리가 커서 깜짝 놀랐네요. 청소기 먼지 통이 깔끔하게 비워 지진 않아요. 머리카락이 꼭 몇 가닥씩은 꼭 남아 요 그래도 써본 느낌은 장점이 더 많은 청소기네요. 예전 청소기는 먼지를 비우면 또 날려서 다시 청소해야 하는 번 거러움이 있는데 그런 귀찮은 작업을 이제 안 해도 되고 그리고 이 먼지를 모아 주는 먼지 봉투가 쌓인 먼지의 세균 증식까지 억제하는 위생적인 역할까지 하니 얼마나 신경 써서 만들었는지 느껴지더라구요. 먼지가 가득 쌓이면 교 체 해라고 알아서 알려 주니 일일이 확인할 필요도 없어서 정말 편리하네요. 고민 고민하다가 엘지 코드 제로 이번에 나온 올인원 테 워로 질렀습니다. 폭 품 검색으로 지 마켓이 가장 저렴하여 매장보다 저렴하게 구매 신청 나중에 댓 글 보니 배송이 3주 걸린다고 하여 걱정했지만 다행히도 보통 배송으로 2일 만에 엘지 기사님 담당 정해지고 3일 만에 도착했어요. 설명 너무 잘해 주시고 제품 테스트까지 아주 만족스러워요. 청소해 보니 아 이런 게 청소 이구나 청소할 만 하네요. 강추해요. 참 나 어 이 없어서 별 하나도 안 주고 싶네요. 배 송이 계속 늦길래 전화해 보니 한 달 걸린다고 나 보다 더 몇 일 늦게 산 사람은 상품평에 4일 걸려서 받았다는 데 이건 뭔 시 츄 본인 지역 물류회사 제고로 인해 한 달 걸린다고 농촌도 아니고 하루 이틀 차이도 아니고 한 달하고 4일은 제고 문제가 아니지 않나요. 그렇게 말하면 아 그래요 그럴 사람 있나요. 말이 되냐. 고요 그럼 한 달 걸린다고 하던 가 팔지를 말았어야지. 항의했더니만 3주 이상 걸려서 이제서야 설치회사에서 전화 오네요. 그것도 전화 계속해서 받은 거고 설치하러 온다 더니 토욜 당일까지 전화도 없고 하루종일 기다리다 항의 전화 홈쇼핑에 하니 설치회사랑 연락이 안된다고 오늘 안될 듯 하다고 아 하루종일 기다리다 어디 나가지도 못하고 진짜 부글부글 하는데 그 날 또 취소 열받아서 민원 담당 전화 주라고 말했는데 알겠다면서 전화도 안 옴 설치 기사님 두 시간 후에 갑자기 집 앞이라고 전화 옴 아 나왔는데 후다닥 또 집에 들어감 진짜 하루종일 진짜 너무하네요. 소음이 크지 않아 좋고 청소 시 부드럽게 움직여서 좋고 흡입력도 1 단계에서도 잘 되고 물걸레가 있어 편하고 물이 계속 나와 걸레가 마르지 않아 좋고 물통 물 주입구가 2군데 여서 물통 말리기도 좋고 다 좋아요. 단점은 밧 데리 하나인 거 일주일은 써봐야 단점을 찾을 것 같아요. 물걸레 청소기 따로 2번 돌렸는데 동시에 청소가 되니 시간이 반으로 줄었네요. 청소시 전진 방향으로 밀어야 진공 흡입 깨끗이 되는 거만 주의하면 깨끗이 청소 잘 됩니다. 소음 적은 편 다. 슨 대비 공기도 깨끗한 느낌 거치 타워 어디든 두고 싶은 곳에 놓을 수도 있어 타사 청소기 다 써 봤지만 가장 만족하는 중입니다. 사용하다 보면 아무래도 깔끔하게 세척을 하고 싶을 때가 있잖아요. 가능하답니다. 손쉽게 분리가 가능해요. 구석구석 원하는 곳을 물로 씻을 수 있다는 건 정말 엄청난 장점이 아닐까 합니다. 분해 해서 깨끗이 씻으니 정말 바꾸길 잘했다 싶은 생각이 절로 든답니다. 흡입력이 정말 강해서 깨끗한 바닥이어도 우리 눈에 보이지 않는 초미세 먼지까지 흡입하는 건지 먼지가 두둑 쌓이더라구요. 소음이 적으면서 흡입력이 완전 좋으니 너무 만족스러워요. 무선 청소 기라 내가 원하는 곳 어디든지 쉽게 청소가 가능하답니다. 어우 오래 기 다렸습니다. 방금 받았구요. 배송 기사님께 물어보니 보통 한 달 걸린 다네요. 선 생산이 아니라 주문 받은 후에 일정 물량이 모이면 그때 생산해서 오래 걸린다네요에서. 직접 배송 오고요. 보조 배터리랑 침구 청소 키트는 없습니다. 보조 배터리는 지금 전국 품절이고 예약 구매가 가능하나 일정은 미정이랍니다. 예약은 센터 방문이나 콜 센터 예약이 가능하다네요. 디자인 성능 다 마음에 듭니다. 근데 한 손으로 우아하고 티브이 광고에서 하듯 청소하기에는 너무 무거워요. 그렇다고. 두 손으로 하기에는 좀 무리가 있는 디자인입니다. 좀 만 더 가벼웠으면 더 할 나 위 없이 좋았을 텐데 하는 아쉬움이 남습니다. 집에 이 미 올인원 타워로 사용하다가 장인 어른 댁에서 티비 보다 홈쇼핑에서 판매하는 걸 보고 인터넷 접속해서 바로 샀네요. 장모님 청소 하실 때 편하게 쓰시라고. 구매했는데 장모님 쓰실 때도 무겁지 않고 편하게 잘 쓰시고 계시네요. 잘 쓰겠습니다. 물걸레는 초기 모델이 물걸레 기능만 되는 게 아니라 먼지 흡입도 항상 같이 되는 모델이라 먼지 통에 습기가 유입되어 냄새가 유발되는데 이번 모델은 따로 분리도 되고 함께 도 가능하게 되어 좋습니다. 그리고 소음도 더 조용 해졌네요. 배송이 이렇게 늦게 온다는 걸 알았다면 구매를 고민했을 겁니다. 홈 피 그 어디에도 배송이 한 달 이상 된다는 언급이 없습니다. 겨우 언급이 있는데 가 이 제품 소비자 묻기 코너에 담당자가 답으로 언급되 있습니다 현대 몰 담당자나 제품 담당자는 책임을 느껴야 할 것입니다. 많은 제품을 온라인으로 구매해 봤지만 이번 건 최악이였습니다. 현대 몰에서 구매를 망설여 지게 됩니다. 제품은 이미 여러 곳을 알아보고 한 것이라 생각대로 만족하고 특히 배송이 빨라서 좋기도 했지만 배송 기사분이 친절하게 사용 안내는 물론 배선 정리까지 완벽하게 해 주셔서 대단히 만족합니다. 기사님도 영업점 분들도 모두 건강하고 행복하세요. 신세계입니다. 매트 위에서도 잘 빨아서 좋아요. 무게감은 나쁘지 않습니다. 드디어 설치했어용. 대략 3주 가까이 기다렸더니 무지 반가웠네용. 청소기 없이 못 살 것 같아요 유선을 쓰다가 큰맘 먹고 무선 구매합니다. 신세계이며 요 세상 넘 편합니당. 마음에 들어요. 배터리가 오래가고 청소도 쉽고 먼지 제거도 쉽죠. 더 빨리 살 걸 해요. 무선이라 편하고 좋아요. 흡입력은 유선 청소기보단 확실히 덜하네요. 먼지 손에 안 묻히고 타워가 처리해 주니 좋아요. 청소가 기가 막히게 끝내주게 잘 됩니다. 강추 또 강추에 요 한 번 쓰윽 밀고 지나갔는데 바닥에서 광이 남. 배송도 빠르고 잘 왔어요. 좋아요. 좋아요. 소리 작고 잘 되요. 만족해요. 기사님도 친절하시고. 빠르게 배송 되었 수면 기사님 오셔서 친절하게 설명 해 주고 가셨어요. 제품은 좋아요. 흡입력이나 먼지를 손을 제거 안 해도 되는 편리함 주변에서 사라 사라 해서 늦장 부린 게 실수네요 물걸레도 있어 편해요. 와 완전 짱이예요. 엘지는 엘 지네요. 빠른 배송과 친절한 설치. 다이 땡 보 단 훨 나은 거 같아요. 역시 먼지 버릴 때 짱 좋네요. 차이 슨 사 서 일 년도 안 되어 고 장 나서 구매했어요. 이전에도 청소기 사 서 잘 사용했어요. 청소기가 많이 비싸지 긴 했지만 엘 지라 제 값을 할 꺼 라 믿어요. 배 송지 변경으로 시간이 조금 걸렸지만 가장 저럼 하게 잘산 것 같아요. 동생 결혼 선물로 보내줬습니다. 잘 쓰고 있다고. 하네요. 조금 무겁 긴 하지만 조용하고 이 쁘고 편리합니다. 수시로 청소할 수 있어 좋으네요. 디자인 깔끔하고 기사님도 친절히 설치해 주셨네요. 진공 물걸레 장 되요 단 청소기 무게가 좀 나가네요. 정말 너무 좋아요. 청소할 맛이 납니다. 최고에요. 묵직한 데 먼지도 물걸레도 좋아요. 역시 좋네요. 편리하고 좋아요. 실용성은 그닥 좋지 않네요. 가격도 그렇고 뭐 대단한 줄 기대가 너무 컸나. 봅니다. 좋네요. 배송도 빠르규 만족합니다. 너무 너무 좋아요. 저렴하게 사서 더 좋아요. 배송 빠르고 설치 기사님도 친절하셔요. 배송 엄청 빠르네요. 한 달 이상 잘 쓰고 있습니다. 명 불허 전엔 쥐. 디자인도 이 쁘고 소음도 적 고 가볍고 진짜 너무 좋아요. 특히 청소 필터 싹 치워 주는 기능 너무 편하고 좋아요. 강추. 생각보다 배송도 빠르고 정말 감사합니다. 제일 저렴하게 잘 샀어요. 다 청 소기 쓰다가 바꿨는데 장단점 있네요. 길이 조절도 되고 핸들링 좋고 물걸레 함께 되는 점은 매우 만족합니다. 타워 형으로 먼지까지 비워 주니 참 좋네요. 단 무게가 많이 무거워요. 무게 빼곤 전반적으로 만족 이요. 써 보니 소리도 조용하고 먼지 잘 빨아 드려서 좋네요. 잘 샀어요. 다이 슨 쓰다가 본 상품으로 했더니 너무 편하고 청소 효과도 좋네요. 특히 물걸레를 같이 쓸 수 있고 헤드가 작아 구석구석 꼼꼼히 물걸레질이 되어 좋습니다. 먼지 청소와 물걸레가 한 번에 되는 것도 너무 좋습니다. 역시 좋아요. 1 세대를 쓰다가 깨져서 주문했는데 가격도 싸게 샀고 그래서 인지 밧 데리는 1개네요. 지난번에 쓰던 밧 데리는 안 맞아요. 상품 품질이 좋습니다. 마음에 들어요. 청소하기 너무 편하네요. 먼지 통 비우는 기능도 너무 맘에 듭니다. 배송이 느리다는 얘기가 많아서 별 기대 안 했는데 생각보다 빨리 설치해 주셨어요. 선물 받으신 분이 많이 좋아하셔서 저도 기 분 좋더라구요. 선물 했는데 만족 해하네요. 유선 청소기 쓰다 무선으로 바꾸니 편하다고. 그리고 먼지 비우기 기능이 있어 손 안 대고 비울 수 있어 좋답니다. 설치 기사님도 친절하셨고 편하게 청소기에 쌓인 먼지를 제거할 수 있게 되어서 좋아요. 리뷰에 무겁다는 내용이 많았는데 그렇게 무겁지는 않아 요긴 머리 인 저는 엉키지 않고 들어가서 만족합니다. 역 쉬 코드 제로 명성에 걸 맞게 가볍고 흡입력도 좋고 사용하기 넘 좋습니다. 너무 편하고 가 벼워서 좋아요. 소음도 적어요. 기사님 직접 조립하고 친절하게 설명해 주셔서 감사하고 청소기도 맘에 듭니다. 큰맘 먹고 바 어요. 생각보다 가볍네요. ？ 오입 니다 흡입력 너무 좋네요. 무척 좋아 요가 전은 역시. 사용하기 편하고 좋아요. 빠른 배송 맘에 들어 요. 조금 무겁 긴 하나 그 무게 감이 흡입력도 높여 주는 거 같고 소음도 그닥 크지 않아 사용하기 좋네요. 먼지를 한 번에 버릴 수 있어 그 또한 좋습니다. 소음이 좀 크고 조금은 조금 무겁다 그래도 실용성이 좋다. 아주 만족스러운 가격에 구매했습니다. 지금도 너무 잘 사용하고 있습니다. 조금 무겁 긴 해요 자꾸 청소 하고 싶어 진답니다. 물걸레도 생각보다 잘 닦이는 거 같은 게 실용적이고 좋아요. 비싸지만 물걸레도 되고 좋아요. 부모님 사 드렸는데 기능이 너무 많아서 쓰기 힘드신 것 같기도 하네요. 다이슨에 비해 엄청 조용해서 밤에도 청소 가능 다. 이슨에 비해 좀 무거운 거 빼고 다 만족합니다. 친절하고 빠른 배송 감사 드립니다. 역 쉬 기대를 저버리지 않네요. 부러 휘 부드럽게 움직이고 흡입력도 짱 짱 입니다. 지난 토 요일 주문했는데 목요일 방문 설치 해 주 시내요. 엔지니어 분도 젊고 친절하 시내요. 감사히 잘 사용하겠습니다. 보조 밧 데리가 없는 것이 아쉽내요. 성능 좋고 배송도 빠르네요. 배송도 빠르고 기사님이 설치해서 놓아주셨어요. 제 품도 너무 좋네요. 생각보다 배송이 빨리 왔네요. 흡입력도 좋고 아주 만족합니다. 흡입력이 쎄구 여 자동으로 청 소통이 비워 지는 게 좋네. 여. 예상 배송 시간보단 살짝 늦었지만 상품은 만족입니다. 저렴하게 사서 잘 쓰고 있어요. 좀 무겁 긴 해요. 설치도 잘 해 주시고 사용법도 잘 설명해 주셨어요. 배 송도 빠르고 만족스럽습니당. 저렴한 가격에 대 만족합니다. 제품 성능 우수하고 가볍고 소음적 고 최고입니다. 가격도 제품도 배송도 모두 만족합니다. 4년 전 초기 모델 사용 중인데 쓰레기 배출 시 레 바도 없을 때 꺼라 불편해서 딸 긴 머리카락 전용으로 두고 쓰고 큰맘 먹고 새로 구매했습니다. 소음도 조금 더 작아졌고 무게도 가 벼워 졌네요. 고민하다가 구매했습니다. 좋아요. 딱 쓰기 좋은 저렴한 구성이네요. 설치기 사분이 친절했어. 오. 배송 빠르고 품질 조 씁니다. 청소도 잘 되고 좋으네요. 제품 역시 좋네요. 너무 편하고 좋아요. 빠른 배송 좋아요. 좋아. 저렴하게 구매했습니다. 연휴가 끼어서 배송이 다소 늦었지만 문의 하면 피드백도 빠르시고 배송 기사님도 너무 친절했습니다. 저렴하게 잘 샀어요. 너무 너무 좋습니다. 만족하고 잇어요. 생각보다 빠른 배송 감사합니다. 잘 받았습니다. 감사합니다. 좋아요. 청소기 바꿀 때 되 서 바꿨는데 완전 소음 도 적고 가볍고. 어머님께 선물로 드렸는데 엄청 편하다고. 좋아하셨어요. 아주 마음에 듭니다. 설치 기사님 친절하시네요. 시어머님께 사 드렸는데 너무 좋아하셨어요. '}, {'제품명': 'LG전자 오브제컬렉션 AO9571', '가격': '1,070,100', '평점': ['평점5', '평점5', '평점5', '평점5', '평점4', '평점5', '평점5', '평점5', '평점5', '평점5', '평점5', '평점5', '평점5', '평점5', '평점5', '평점5', '평점5', '평점5', '평점5', '평점4', '평점5', '평점5', '평점5', '평점5', '평점5', '평점4', '평점1', '평점5', '평점5', '평점5', '평점5', '평점5', '평점5', '평점5', '평점5', '평점5', '평점4', '평점5', '평점4', '평점5', '평점5', '평점4', '평점5', '평점5', '평점5', '평점2', '평점5', '평점5', '평점5', '평점5', '평점3', '평점5', '평점5', '평점4', '평점5', '평점5', '평점5', '평점5', '평점5', '평점5', '평점5', '평점5', '평점5', '평점5', '평점5', '평점5', '평점5', '평점5', '평점5', '평점5', '평점4', '평점4', '평점5', '평점5', '평점5', '평점5', '평점5', '평점5', '평점5', '평점5', '평점5', '평점5', '평점5', '평점5', '평점5', '평점1', '평점5', '평점5', '평점5', '평점5', '평점3', '평점5', '평점5', '평점5', '평점5', '평점5', '평점3', '평점5', '평점5', '평점5'], '채널': ['전자랜드', 'SSG닷컴', '롯데백화점', '전자랜드', '롯데백화점', 'LG전자인증점 경남', '신세계몰', '롯데홈쇼핑', '전자랜드', 'G마켓', 'LG전자인증점 경남', '위메프', '롯데백화점', '롯데백화점', '신세계몰', '신세계몰', 'SSG닷컴', '신세계TV쇼핑', 'GSSHOP', '11번가', '롯데홈쇼핑', '위메프', '전자랜드', 'SSG닷컴', 'LG전자인증점 경남', 'GSSHOP', '옥션', '전자랜드', 'SSG닷컴', '현대Hmall', 'GSSHOP', '11번가', 'CJ온스타일', '전자랜드', 'GSSHOP', '롯데홈쇼핑', 'G마켓', '11번가', '롯데백화점', '롯데백화점', '옥션', 'SSG닷컴', '11번가', '전자랜드', 'SK스토아', '전자랜드', 'SSG닷컴', 'GSSHOP', '롯데백화점', '11번가', 'SK스토아', '11번가', 'GSSHOP', '신세계TV쇼핑', 'SK스토아', '전자랜드', 'SSG닷컴', '롯데백화점', '현대Hmall', '현대Hmall', '롯데백화점', '전자랜드', 'GSSHOP', '하이마트쇼핑몰', 'G마켓', '전자랜드', '전자랜드', '롯데백화점', '롯데홈쇼핑', '위메프', '신세계몰', 'CJ온스타일', '11번가', '신세계TV쇼핑', '전자랜드', 'SSG닷컴', '위메프', '위메프', '전자랜드', '하이마트쇼핑몰', '현대Hmall', '전자랜드', '전자랜드', 'SSG닷컴', 'CJ온스타일', '롯데ON', '신세계몰', '롯데홈쇼핑', '롯데홈쇼핑', '현대Hmall', 'GSSHOP', '11번가', '신세계몰', '전자랜드', '현대Hmall', 'G마켓', '옥션', 'LG전자인증점 경남', 'GSSHOP', '롯데홈쇼핑'], '날짜': ['21.11.26.', '21.12.04.', '21.04.28.', '21.08.12.', '21.05.27.', '21.04.01.', '21.09.03.', '21.07.24.', '21.11.04.', '21.09.06.', '21.03.30.', '21.03.20.', '21.12.21.', '21.12.09.', '21.05.29.', '21.09.06.', '21.04.18.', '21.08.31.', '21.03.16.', '21.12.07.', '21.07.24.', '21.03.20.', '21.12.09.', '21.03.14.', '21.04.09.', '21.11.29.', '21.09.18.', '22.01.06.', '21.07.24.', '21.09.08.', '21.08.10.', '21.08.10.', '21.06.23.', '21.08.26.', '21.11.26.', '21.11.11.', '21.10.28.', '21.12.26.', '21.09.10.', '21.11.29.', '21.12.02.', '21.04.16.', '22.01.04.', '21.10.25.', '21.08.30.', '21.08.30.', '21.10.18.', '21.12.24.', '21.12.02.', '21.10.25.', '21.09.19.', '21.11.04.', '21.07.22.', '21.11.26.', '21.08.11.', '21.06.15.', '21.03.31.', '21.10.04.', '21.07.04.', '21.08.09.', '21.11.16.', '21.10.11.', '21.11.01.', '21.11.18.', '21.11.16.', '21.11.24.', '21.12.23.', '21.10.19.', '21.05.22.', '21.03.24.', '21.06.09.', '21.04.09.', '21.03.22.', '21.11.08.', '21.11.06.', '21.06.08.', '21.03.29.', '21.03.27.', '21.11.12.', '21.11.15.', '21.12.16.', '21.10.09.', '21.03.15.', '21.11.23.', '21.07.31.', '21.06.27.', '21.07.30.', '21.11.28.', '21.06.28.', '21.10.13.', '21.12.17.', '21.04.23.', '21.03.18.', '21.05.23.', '21.10.26.', '21.07.05.', '21.09.14.', '21.03.04.', '21.10.20.', '21.07.24.'], '리뷰': '좋아 용 홈쇼핑으로 살려 했더니 저 타워는 안 하더라구요. 배송이 진짜 빨리 오 셨오 용 2 틀 만에 온둣요 기사님 친절히 살 명 잘해 주셨고 게 다가 제품이 너뮤나 깔끔 그 자체 무게 중심이 위에 있는 거전에도 써 본 족 있어서 손목이 좀 글 타 눈 건 알고 있었어 욬 오래 돌리기엔 좀 힘든데 주로 남편이 쓰는데 괜찮대용. 잘 쓸 게 용 스마트띵에 연결 허면 충전 다 됐더고도 알려 주네용. 오브제 올인원 타워 무선 청소기 카 밍 베이지 구매 리뷰 구매 계기 친척 이사 선물로 구매하게 됐어요. 너무 좋아하셨는데 덩달아 저도 사고 싶네요. 실물 왜 이렇게 이쁜 거죠. 카 밍 베이지 색상으로 결정한 이 유 알아볼 땐 카 밍 그린 색상이 예쁘다고. 생각했는데 집이 화이트 톤이 여서 카밍베이지로 구매했거든요. 근데 아이보리 톤 실물 취 저 워낙 제품 종류가 여러 가지라서 청소 기만 색상이 다른 제품들도 있더라구요. 역시 본체부터 청소기까지 같은 아이보리 톤으로 구매하는 게 제일 예쁜 거 같아요. 제품 리뷰 청소 기가 이렇게 이 쁠 일인 가요 허어 0 이름 그대로 정말 오브 제 역할 톡톡 히 하는 거 같아요. 어느 곳에 놓아도 인테리어 효과가 나는 매직 저는 무선 청소기를 몇 년 동안 사용하면서 가장 불편했던 점이 먼지 통 비우는 거거든요 한번 비 우려면 온통 주변에 먼지가 먼지가 말도 못해요올인원타워는 먼지 비움도 버튼 하나면 알아서 해 주고 편하고 예쁘고 다하네요. 제품 설치 전 미리미리 연락도 주시 고 설치 후에도 혹시 못 받았는지 다시 한번 체크해 주셔서 제가 대신 감사 드려요. 카드 행사로 다른 곳보다 훨씬 저렴하게 구매했어요. 저희 집 청소기 고장 나면 무 적 권 에서 엘지 오브제 올인원 타워 무선 청소기 구매할 거에요. 모든 사이트 통틀어 가장 싸게 산 건 아니지만 그래도 롯데 에서 할인 많이 받고 싸게 잘 샀어요. 배송 무척 빨랐어요. 일요일에 주문했는데 화요일 오전에 받았어요. 친절한 기 사분들께서 직접 오셔서 언 박 싱 후 작동 해보시고 가셨어요. 전 지금까지 유선 쓰다 처음 무선 쓰는데 일단 넘 편하네요. 줄 걸리지 않게 끌고 다니고 돌돌 돌 끌고 다니고 코드 뽑았다 꼈다 반복하며 이 방 저 방 다녔는데 정말 편합니다. 일부분 청소 때는 줄 빼서 코드 뽑고 돌리기 귀찮아 빗자루와 먼지 포 물걸레 포 주로 썼는데 무선 청소기 있으니 작은 먼지에도 탁 뽑아들고 윙 돌리고 다시 꽂아 놓으면 되니 마루 바닥이 뽀송 뽀송 합니다. 먼지 통 비울 땐 투 껑 열고 물 티슈 한 장 뽑아 먼지 잡아 뽑고 통 씻고 필터 털고 했는데 이건 자동으로 먼지 비움 해 주니 너무 좋아요. 청소기 돌릴 때 먼지 통 비울 때 발생되는 먼지 때문에 아이들 마스크 씌우고 창문 열었는데 마스크 없이 청소하네요. 흡입 단계 3 단계 정도 되는 거 같아요1. 단계는 이게 지금 먼지를 먹고 있는 게 맞나. 싶을 정도로 조용합니다. 주관적인 관점입니다. 이전엔 유선 썼으니까 요 하지만 왠 만한 먼지 이물질 다 흡입됩니다. 전 주로 제일 쎈 흡입력으로 돌립니다. 밧 데리 2개 있어서 온 집안 다 돌리니 좋습니다. 깔끔한 외관 큰 몫 하고요. 자유자재로 헤드 바꿔 침구 청소까지 속이 후련합니다. 아주 잘 산 것 같아요. 대만족합니다. 너무 너무 이 쁘고 고급 집니다. 다이 슨 쓰다 댕 강 부러져 급하게 구입했는데 총알 배송 2일 걸렸고요. 엘지 기사님이 아침 방문해 설치 후 다닥 끝내 주셔서 오후에 청 소기 사용해 보았는데 대체적으로 흡입력 소음 물걸레 사용 시 진공 청소 등 대체적으로 저는 다 맘에 듭니다. 다이 슨 8 이 워낙 소음이 있어서 먼지 비 움 때도 그럭저럭 괜찮아요. 어린 애들이 있는 집들은 좀 스 끄러울 수도 있을 거 같네요. 삼성 제트랑 놓고 진짜 고민만 열흘 동안 하다 결정한 건데 대 만족입니다. 제트는 청소기를 뒤에서 빼야 한다고 하더라구요. 그러면 청소할 때마다 무지 번거로울 꺼 같아요. 엘지는 청소용품들을 올인원 타워 안에 보관하니 먼지도 안타고 깔끔하고 전에는 거치대에 다 걸어 놓으니 먼지도 타고 지저분해 보여 엄청 신경 쓰였는데 그 부분이 말끔히 해결 되었어요. 여 튼 엘지 오브 제올인원 타워 상품 인기 급 부사으로 배송 지연으로 다들 늦게 받으셨다는 데 저는 총알 배송으로 저렴. 히 잘 산 거 같아 너무 기쁩니다. 청소기가 너무 이 뻐 애지중지 하고 있습니다. 가전은 만 씁니다. 청소 기 바꾸면서 어차피 오래 쓸 꺼 라 젤 좋은 걸로 샀어요. 롯데 온이 젤 저렴하구요. 이 거 하이 마트 상품이고 하이 마트 기사님이 설치해 주세요. 저는 전에 쓰던 게 9 이 나오기 전에 산 거라. 9 직전 출시된 무선 청소기 썼었는데요 그 모델은 전체적으로 무게가 있는 거였다면 오브제 청소기는 헤드만 무거운 형태인데 사실 헤드가 너무 무겁네요. 이 거 몇 일 쓰고 팔이 아프네요;;. 장점은 예전 모델보다 소음이 적 고 진동이 거의 없고 부드럽게 밀리네요. 길이 조절도 되 구요. 지저분한 부속품 깔끔하게 타워에 거치되는 점 흡입력도 월등 하고 강도도 3 단계이고 물걸레질도 되구요. 먼지 통 간단히 비울 수 있는 거 완전 꿀이고 배터리 시간도 길어요. 저는 결벽증 있고 무척 꼼꼼히 청소하는데 배터리 1개로 일반 모드로 30평 대 청소 끝나네요. 모든 면에서 예전 꺼보다 좋아졌어요. 단점은 먼지 통 비울 때 소음이 크고 청소 도중에 물건 치우면서 할 때 딱히 청소기를 세워 둘 수 없는 점 헤드 무게가 너무 무거 움 타워도 너무 무거워서 여자 혼자 위치 옮기기 힘들고 아이보리 색상인데 배송됐을 때부터 오염들이 묻어 있었는데 안 지워 지는 점 청소 기밀 때 상하로만 밀어야 하는 점 좌우로 밀면 제대로 안 밀려요 청소기 다 돌리고 먼지 통보면 제 긴 머리카락이 먼지 통 안에 반 밖으로 반 삐져나옴 그리고 듀얼 배터리로 60 분씩 120분 가능 하다며 광고 사진에는 대문짝 만하게 써 놨는데 실제로 사용해 보니 아무리 해봐도 가장 약한 일반 모드로 45분 정도 밖에 안 가고 30분도 안 돌렸는데 배터리 한 칸 남고 해서 배터리가 불량인가 했는데 광고 페이지 맨 밑에 잘 보이지도 않는 깨알 글씨로 아무것도 장착하지 않고 돌렸을 때 60분이라고 써 있는 거 보고 약간 기만 당한 느낌;;;. 배송이 이렇게 빨리 올 줄은 몰랐어요. 나이스한 기사님의 설치까지 맨 처음에는 색감이 좀 별로 면 어떡 하나 했는데 너무 마음에 듭니다. 라이브 때 봤던 것처럼 먼지 통 비울 때는 조금 소음이 있는데 금방 끝나니 한 20초 큰 상관은 없었습니다. 그리고 청소기 돌리는 것도 해보았는데 이전에 쓰던 것보다 훨씬 적은 데 흡입력은 좋더라구요. 라이브 덕에 좋은 제품 구매하게 되었습니다. 오 생각보다 빨리 왔어요. 외관이 예뻐도 너무 예쁘네요. 기사님이 친절하게 설치해 주시고 설명도 잘 해 주셔서 충전 끝나자마자 청소를 열심히 했어요1. 단으로 해도 머리카락을 쏙 쏙 잘 빨아들이고 저희 집엔 강아지나 고양이는 없지만 제가 재봉질을 많이 해서 동물의 털 만큼 실밥이 떨어져 있는데 오브제 청소기 카 밍 베이지가 다 잡아 주네요. 물걸레 질 하면서 진공 청소기능까지 되니 엄청 편해요. 게다가 먼지 비움 기능은 진짜 신세계에 요 손 안 대고 코 푸는 격 청소기의 디자인이 세련되고 카 밍 베이지 색이 은은하게 예뻐서 거실이 환해 졌어요. 올인원 탑에 파츠들을 수납할 수 있고 엘지에서 구성품과 여분의 소모품까지 꼼꼼히 챙겨 보내줘서 감동했어요. 일단 일회용 물걸레로 청소를 했는데 사용 중이 던 물걸레 청소기보다 가 벼워서 잘 닦일까 의 구심이 들었지만 바닥 얼룩은 물론 물걸레 머리가 작고 코너링이 부드러워 구석구석 잘 닦였어요. 전 물걸레 청소기는 무거워서 작은 턱이나 문지방을 만나면 들어 올리기 힘들었는데 오브제 청소기는 바닥을 닦으면서 가볍게 넘어 가더라. 고요. 소리도 지금 사용하고 있는 무선 청소기보다 훨씬 조용해서 좋아요. 무게가 좀 무거운 건 있는데 청소기 머리 부분이 부드럽게 움직이니 그 단점이 좀 보완되네요. 청소하는 거 싫어했는데 청소가 이렇게 행복해도 되나요. 1시간 반 전에 기사님께서 설치해 주시고 청소기 한 번 살짝 돌린 후 바로 상품평 작성합니다. 상품은 매장 및 여기저기 서치한 후 구입 결정 했습니다. 일단 금액 대가 비싸서 후 덜덜 했지만 뭐 역시 오브제 디자인 기능 소음 무게감 전 모두 만족입니다. 살짝 돌려보고 많은 이야기를 할 수는 없지만 타워 안에 구성품 수납이 되어서 깔끔하고 색감이 밝은 베이 지라 집 분위기도 밝아 보인다고 엄마가 좋아하시네요. 저희 집이 전자제품은 좋은 것으로 오래 쓰자’ 주의 라 투자한 만큼 오래 쓸 것 같습니다. 특히 배송이 일주일은 걸릴 거라. 생각했는데 목요일에 주문하고 오늘 토요일 바로 물품 받았습니다. 인근 지역 물류센터를 통해서 왔다고. 하셨어요. 그리고 제가 기계 다루는 게 진짜 어설픈 데 기사님께서 설치 다 해 주시고 구성품 사용법과 유의 점까지 친절하게 설명해 주셨습니다. 성함을 기억하지 못해서 죄송할 따름이네요. 기사님 정말 감사합니다. 덕분에 잘 쓰겠습니다. 배송 빨랐어요. 기사님께서 직접 오셔서 조립해 주셨고 친절하게 설명해 주셨어요. 기존 쓰던 다이 보다 부드럽게 밀리고 무게는 비슷해요. 기본 모드에서도 흡입 괜찮고 2 단계도 넘 좋아요. 안 보였는데 슥 밀고 지나가면 먼지 통에 먼지 가득 청소한 기분 제대로 네 요 물걸레 자동 분사가 너무 좋네요. ♡ ♡ 굳은 오염들은 잘 안 닦이지만 기본적인 물걸레질 잘 되는 편입니다. 어떤 자동 물걸레 든 오염이 많이 된 부분은 결국 힘줘서 닦아야 해요. 이 정도면 만족입니다. 먼지 자동 비 움 기능 시 머리카락 몇 가닥 빼고는 싹 비워 져요. 늘 먼지 비우는 게 꺼려 졌는데 깔끔하게 비울 수 있어서 정말 좋아요. 만족 만족 대만족입니다. 주문 후 1주일 이상 예상했으나 3일 만에 친절한  기사님이 오셔서 설치 완료 청소기 외관은 고급스럽고 거실에 놓아도 인테리어차원에서 굿 즉 돈 값하는 듯 청소기 일반 모드 1 단 는 소음이 크진 않아 주로 이 모드로 청소하고 때때로 2 단 설정 청소 중임 3 단 터보 모드가 소리가 크긴 한데 많이 사용은 하지 않을 듯 왜냐하면 12 단으로도 흡입력은 괜 춘하기 때문 자동으로 먼지 통을 비워 주는 게 이 청소기의 최대 장점임 먼지 비움 할 때 30초 정도 상당히 시끄러운데 참을 수 있는 수준 임 참고로 아기가 있어 자동 모드로 하지 않고 수동 모드로 설정해서 사용 중임 청소기 헤드 무게가 조금 무거움 남자인 난 괜찮은데 와이프는 손을 번갈아가면서 청소하고 있음 와이프는 수시로 청소하고 있어서 그런지 이제는 괜찮다네요. 물걸레는 잘 닦이 긴 하는데 썩 만족스런 수준까진 아님 말리고 관리해야 하고 전반적으로 완 죤 적극 추천 까지는 못할지라도 비싸지만 상당히 괜찮은 제품 즉 추천할 수준은 됩니다. 광고 성 후기가 많은데 내 돈 내산 이 제품 잘 참고 하세요. 배송은 느렸지만 배송하시는 기사님이 너무 친절하시고 설명도 잘해 주셔서 감사해요. 청소기 써 보니깐 다이 슨 보다 훨씬 가볍고 쓰기 좋아요. 이번에 인테리어 했는데 집 분위기랑 너무 잘 어울려요. 청소기 위에 바로 조명이 있어서 청소기를 더 고급스럽게 보이네요. 인 테리어 벧 엘 하우징. 16일에 주문했고 오늘 받았어요. 어제 알 림 톡 이 오고 오늘 아침 시간 약속 전화 주시고 방문하셨어요. 기사님이 오셔서 개봉해서 설치까지 해 주셨구요. 일단 박스 개봉하자마자 색감이 넘 이쁘다는 생각이 디자인이 넘 넘 이 뻐서 정말 최고예요. 조립하시면서 각종 툴이랑 소모품이랑 보여 주면서 작동법 먼지 통이랑 필터들 하나하나 분리하고 세척하는 방법 꼼꼼 하게 설명해 주셨어요. 설치 후 먼지 비우는 것 실제로 작동시켜 보여주셨구요. 배터리는 1 번 완충하고 사용하는 게 좋다 해서 설치 받고 기사님 가 신 후 충전하기 전에 거실 살짝 돌려 봤는데요 눈에 안 보이는 먼지들 먼지 통으로 스르륵 빨려들어가 있고 자동 먼지 비우 기하고 안쪽 열어 보니 잘 비워 져 있었어요. 먼지 보관함은 3개월에 한 번 정도 빼서 버리고 새 것으로 교체해 주면 된다고 하구요. 혹시나 미세 먼지들이 빠져나오지 않도록 하기 위함인지 위 아래 여기 저기 세 척 가능한 필터들이 많이 들어 있어요. 역시 듣던 대로 디자인 성능 어느 하나 빠지지 않아요. 툴도 안 보이게 안쪽에 보관할 수 있고 외관상으로 진짜 깔끔해요. 자주 사용하는 마루 키트 랑 물걸레 키트는 타워 양쪽 아랫부분에 네모 부분 눌러서 살짝 돌리면 꽂을 수 있도록 한 것도 너무너무 맘에 들어요. 작동 하면서 느낀 점은 청소기 본체도 가볍고 여자들은 아이 낳고 손목 자주 아픈데 저처럼 손목 아픈 사람들도 한 손으로 쓱쓱 밀기 부담 없는 사이즈 무게 일 듯해요. 실물 보고 사용해 보니 가격이 왜 비싼 지 알겠구요. 여기 저기 많이 추천하고 있어요. 완전 넘 사벽 청소기 엘 지가 또 한 번 일 냈네요. 강추합니다. ♡. 청소기 인생 20년 만에 진짜 좋아요. 최고 장점은 움직임이 부드럽고 가 벼워요. 외관이 깔끔하고 예뻐서 거실 앞쪽에 두고 사용해서 언제든 맘껏 수시로 사용 하니 편해요. 이 전 청소기도 무선이었지만 무겁고 등 등 사용하기 불편해서 간단한 건물 티슈로 대체했거든요. 또 다른 장점은 비 움 기능 최고 최고입니다. 이것 때문에 청소 기가 언제나 깨끗하게 관리되어 있어요. 다만 아쉬운 건 물걸레 사이즈와 두께 작고 얆아서 물걸레 청소가 잘 되는 건가. 그래도 가격 만큼 최고 청소기에 요 넘 좋아요. 여러 몰 비교하고 구매합니다. 오프라인 매장보다 당연 싸고 카드 할인에 잘 구매합니다. 구성품 거치대 바닥용 솔 작은 솔 2개 침구 브러쉬 물걸레 키트 물걸레 2 장 추가에 일회용 물걸레 그리고 배터리는 여분 배터리까지 2개 입니다. 오브제는 옵션 빼고 넣고 없이 구성이 같다 그러네요. 구성품 안내가 없어서 답답했지만 구매하고 나니 속 시원함 배 송 월욜 주문 월욜 저녁 20시에 수욜 배송 안내 수욜 08시 받음 백화점이 긴 하나 하이 마트 배송 기사님 오셔서 설치 친절히 두 분 오셔서 잘 설치해 주시고 쓰레기 될 만한 박스도 수거해 가셨습니다. 소음 터보 하지 않는 이상 조용해요. 기존 샤오. 미나 기타 동글이 등보다는 월등히 조용하고 브러쉬도 부드럽게 잘 밀려 감단 먼지 비울 때는 다 슨 터보 소리 만큼 시끄러우니 밤엔 삼가 하세요. 색 상 집에 정수기도 같은 카 키인데 오묘하게 다른 진한 느낌 중후한 맛이 있습니다. 524일 주문하고 26일에 바로 받았어요. 매장에 알아봤을 때 인기 제품이라 언 제 받을 지 모른다고 했었는데 에서 삼성카드 할인 받아서 매장보다 저렴하게 잘 구매했습니다. 다이 슨 이랑 비교했을 때 다이 슨 15 9 25 정도로 다이 슨 이 가 벼워요. 그래도 물걸레 기능이 효과적이려면 무게 감도 있는 게 좋다 고 판단해서 구매했습니다. 가장 좋은 건 자동 필터 먼지 제거 기능이에요. 청소기 돌리는 건 좋은데 필터 청소할 때 먼지 날리는 게 너무 싫었어요. 타워가 자동으로 먼지 필터를 비워 줘서 정말 정말 좋아요. 최고에 요 전 베이지색을 구매했는데 직접 보니 실버 그레이랑 카 키 도 예뻤어요. 베이지는 깔끔한 맛인데 청소하다가 여기저기 부딪혀서 기스 나지 않을까. 걱정이네요. 처음이라 조심 조심 쓰고 있어요. 침구 청소기능도 기존에 통 돌이에 침구 청소기능 쓰고 있었는데 헤드도 크고 통 돌이도 커서 불편했거든요. 9 오브제 컬렉션 청소기는 침구용 헤드가 작아서 가볍고 무선이라 너 무너무 편해요. 값어치 하네요. 유선 청소기 쓰다 얘 들 성화에 무선 청소기 쓰니 정말 신세계네요 무거 운 청소기와 선을 이리저리 콘센트 바꾸면서 쓰다 보니 정말 청소할 때마다 전쟁이었는데 이 청소기는 쭉 왔다갔다 청소하고 가구 있는 부분들 만 팔로 이용하니 별로 무거운 줄 모르겠어요. 물걸레도 물이 자동으로 나오니 남편이 청소할 맛 난다고 하고 집이 좀 크서 하루는 청소기 돌리고 다음날에는 잔 먼지 흡입도 되니 물걸레 청소기로 돌리니 굿이네요. 무엇보다 자동으로 쓰레기가 비워 지니 먼지 날 일도 청소 후 뒷처리 안해도 되니 넘 좋아요. 또한 숨겨 진 양 쪽에 키트를 넣을 수 있어서 예쁘고 아무 때 나 찾지 않고 꺼 내 쓸 수 있으니 나 중할 것도 바로바로 꺼 내서 구석구석 청소용이 하네요. 전에 것은 베란다 수납함에 놔두니 어디에 있더라. 찾게 되고 그러다 보면 나중해야지. 한 적이 많거든요 글고 침구 청소도 하니 늘 청결유지 쾌적한 잠자리에 들어 푹 잠이 예요 오래 쓸 거니 까 제일 좋은 오브제로 구입했는데 정말 잘했다고. 생각해요. 비싼 만큼 잘 관리해서 깨끗한 환경 만들고 이 제 청소가 즐거워 서로 서로 하려고 하네요. 강 추천 합 니 당 글고 배송 기사님 친절은 최상이 네염. 하나하나 조립하고 설명도 알아듣기 쉽게 쏙쏙 설치할 자리까지 갖 다 주시는 센스 정말 감솨합니다 수고 하세 염. 배송도 1주 만에 왔네요. 생각 외로 금방 왔어요. 가격 때문에 많은 고민을 했는데 지금은 구매가격이 더 올랐네요. 빨리 사 길 잘했어요. 설치 기사님이 방문하셔서 설치 및 사용법 간략히 알려 주고 가셨고 다이 슨 대비 흡입력은 좀 약한 감은 있지만 강력 모드로 놓고 배터리 교체하면서 청소하면 33평 충분히 청소 가능하네요. 흡입구 등의 옵션도 안 보이게 안쪽으로 모두 숨길 수 있어서 매우 깔끔 해지고 청 소통의 자동 청소 모드는 긴 머리카락이 몇 가닥 남는 문제도 있긴 하지만 전에 쓰던 다이슨에 비해 청소를 하나도 안 해도 되니 세상 편합니다. 물걸레 기능은 크게 기대 안 하시는 게 좋구요. 기존에 물걸레 청소 로봇이 더 깨끗 히 닦이는 것 같네요. 현재 물걸레 기능은 안 쓰고 있습니다. 악세사리 및 디자인 부분은 정말 만족스럽 구요. 지금 기능보다 더 좋은 기능의 청소 기가 또다시 나오겠지만 먼지 통 비 움 기능 악세사리 전체 숨길 수 있 공간 청소기 같지 않은 청소 독의 깔끔한 디자인 등 등 아직 까지는 매우 만족합니다. 45 년 전쯤 1 세대 모 데을 쓰다가 고장이 나서 수리비가 비싸서 그냥 새로 샀습니다. 우선 1 세대에 비해 바데리 용량이 크고 2 배 정도 먼지 비우 기가 가능한 올인원 세트로 구매 해서 만족도가 크네요. 그러나 가격은 무척 사악합니다. 사은품도 없고요. 하지만 이 쁘고 좋은 걸 사고 싶어서 오브제로 구매했어요. 올인원 기능으로 인해 먼지 통 비울 때 충격을 안 줘도 되 서 좋고 수시로 간편하게 비우니 기존보다 훨씬 청소기의 청결상태도 좋은 것 같습니다. 그리고 오브제 기능을 하다 보니 좀 더 아껴 사용할 수 있을 것 같아서 내 구성이 더 좋을 것 같아요. 1 세대를 써 봤기 때문에 장 단점을 다 알고 있고 현재 중 최고 가품을 샀 기 때문에 좀 더 아껴 가며 사용하려고 해요. 역시 백색 가전의 최고 봉입니다. 다이 청 소기를 쓰고 있었습니다. 배터리 지속 시간이 짧아 기능은 거의 사용해 본 기억이 없을 정도였고 그나마 얼마 안 되어 배터리 수명이 다 해 청소를 방 별로 나눠 하거나 사진의 로봇 청소기를 메인으로 하면서 부분 청소용으로만 사용하고 있었습니다. 는 포기 외국 제품의 는 정말 방송 예약해 놓고 방송 기다리다가 카 밍 베이지 색상이 조금 더 싸게 나왔길래 그냥 샀습니다. 비록 구매 후 1주일 만에 방송을 해서 아쉬워하긴 했지만 방송 때에는 온갖 혜택이 결론은 만족합니다. 반려 견 두 마리가 있고 그 아이들 관절 건강 때문에 고민하다가 카페 트를 깔아 털 청소가 절실했거든요. 일단 배터리 지속 시간 터보 흡입 기능 자동 먼지 청소 기능 등 너무 너무 만족합니다. 워낙 청소 도구 장으로 다 몰아 놓는 편인데 인테리어로도 손색 없고 당분간은 자랑스럽게 거치해 놓을 생각입니다. 비싸지만 충분히 그 값을 합니다. 장점 무선이라 편리하다. 잘 빨아들인다. 청소기 속 먼지 제거를 자동으로 해 줘서 좋다. 단점 너무 무거워서 손목이 아프다. 무거운 거 빼면 다 만족합니다. 더 비싸게 주고 카 밍 베이지 안 해도 될 거 같아요. 극적으로 예쁘다는 생각은 안 드는 것이 좀 더 저렴한 카키색으로 해도 예쁠 거 같다는 생각이 드네요. 색 고민이 신 분은 카키색 하시는 걸 추천 드려요. 실제 받아 보니 카 키가 떼도 안타고 두고두고 오래 봐도 안질 일 듯 참고 하세요. 1시간 반 전에 기사님께서 설치해 주시고 청소기 한 번 살짝 돌린 후 바로 상품평 작성합니다. 상품은 매장 및 여기저기 서치한 후 구입 결정 했습니다. 일단 금액 대가 비싸서 후 덜덜 했지만 뭐 역시 오브제 디자인 기능 소음 무게감 전 모두 만족입니다. 살짝 돌려보고 많은 이야기를 할 수는 없지만 타워 안에 구성품 수납이 되어서 깔끔하고 색감이 밝은 베이 지라 집 분위기도 밝아 보인다고 엄마가 좋아하시네요. 저희 집이 전자제품은 좋은 것으로 오래 쓰자’ 주의 라 투자한 만큼 오래 쓸 것 같습니다. 특히 배송이 일주일은 걸릴 거라. 생각했는데 목요일에 주문하고 오늘 토요일 바로 물품 받았습니다. 인근 지역 물류센터를 통해서 왔다고. 하셨어요. 그. 16일에 주문했고 오늘 받았어요. 어제 알 림 톡 이 오고 오늘 아침 시간 약속 전화 주시고 방문하셨어요. 기사님이 오셔서 개봉해서 설치까지 해 주셨구요. 일단 박스 개봉하자마자 색감이 넘 이쁘다는 생각이 디자인이 넘 넘 이 뻐서 정말 최고예요. 조립하시면서 각종 툴이랑 소모품이랑 보여 주면서 작동법 먼지 통이랑 필터들 하나하나 분리하고 세척하는 방법 꼼꼼 하게 설명해 주셨어요. 설치 후 먼지 비우는 것 실제로 작동시켜 보여주셨구요. 배터리는 1 번 완충하고 사용하는 게 좋다 해서 설치 받고 기사님 가 신 후 충전하기 전에 거실. 생각보다 가볍고 소리도 그리 크지 않아 만족합니다. 무광이라 고급스럽고 안 보이는 먼지까지 다 빨아들이네요. 집이 크지 않아 어디에 놓아야 할지 고민했는데 예쁘고 깔끔한 디자인이라 잘 어울리네요. 아직 사용은 두어 번 밖에 못했지만 청소 잘되는 거 같아요. 역시 코드 제로 올인원 원래 코드 제로는 성능 좋고 가볍고 한데 거기다. 올인원으로 쓰레기 자동 처리 까 정 역시 엘 지네 여 매우 만족 받자마자 개종하여 처 름 사용해 봤는데 한 손으로 자유자재 여 분재 터리 특히 침구 청소용 헬드까지 우리 집이 이렇게 까지 지저분했는지 이번에 처 름 알았네. 여 침구용 엄청 좋네. 여 벌써 본 전 뽑은 듯 합니다. 구매 하셔도 되고 충분히 본전 뽑습니다. 솔직히 다이 슨 삼성보다 사용도 편하고 디자인도 좋고 자동 처리 기능에다 여러 용도로의 사용 거기 다가 중고 보상도 되고 포인트도 쌓이고 그보다 성능과 편의성 두 가지 다 만족 할려면 이 제품 선정해도 후회 없습니다. 울 와이프도 매우 만족하고 방 분위기가 달라집니다. 고 기존엔 청소하는데 소요되는 시간이 좀 길었는데 이 제품 사용 후 시간 리 많이 단축됩니다. 특히 물걸레와 먼지 흡입까지 같이 사용 가능한 기능 또한 매우 훌륭하고 자동 처리도 오토 설정이 가능해서 매우 편합니다. 간만에 굿 초이스였네. 여 매우 만족하고 잘 사용할 게 여 감사감사합니다. 청소기 구매할 때가 되 서 어떤 게 더 나은지 정보 알아보려고 공식 홈페이지 갔다가 라이브한다는 소식을 듣고 일주일 기다려서 구매했어요. 로 캡 쳐 했더니 화면 캡 쳐 샷 첨부가 안 되 서 방송 화면만 잘라서 올려요. 기존에 쓰던 무선 청소기와 비교 안될 만큼 강력한 흡입력과 물걸레 기능 너무 좋고 잘 쓰고 있어요. 먼지 제거 기능도 수동으로 놓고 사용하고 있는 중이에요. 이런 할인 기회를 놓치지 않고 구매할 수 있어서 매우 매우 좋았습니다. 또 한 배송 기사님께 서도 친절하게 설명해 주시고 원하는 시간에 맞춰 와 주셔서 더욱 좋았던 거 같아요. 가 전은 입니다. 여러 분. 자동 쓰레기 비 움 기능은 생각보다 약해요. 버튼 이용해서 비우는 게 더 나은 듯도 싶습니다. 특히 머리카락 사이에 걸려 있어요. 가장 기대하던 기능인데 아쉬워서 별 하나 차감요. 헤드 작은 것 맘에 들고 배터리 두 개인 것도 좋습니다. 타워에 다 정리되는 건 최고점 소음은 일반 유선 청소기 정도 흡입력도 일반 청소기 정도 수준입니다. 전반적으로 만족합니디 가격은 원래 이 모델이 이런지라 배터리 두 개 팩 가격이면 조건은 좋은 편입니다. 판매 및 배송은 정말 좋았지만 전자에 실망감이 밀려 오네요. 물걸레 킷은 개발 비 뽑으려고 패키지로 소비자한테 떠 넘긴 느낌이 드네요. 침구 청소 툴도 넣어서 20 정도는 소비자 부담시켜도 사겠지. 인건 가 전용 툴을 못 따라가면 패키지에 넣질 말 던가 무 선에선 한계가 있으면 청소기로만 팔던 가 물걸레 타사 제품을 쓰는 입장에서 이걸 쓰라 고 만든 건지 본인들은 사용해 보고 파는 건지 냉장고 세탁기 스타일 러 에어컨 로 보 킹 그램 등 제품 쓰는 사람으로 한마디 남깁니다. 이러지 맙시다. 엘지 폰 쓰다 포기하듯이 포기할 수 있습니다. 배송은 주말 껴서 일주일 정도 걸린 것 같고 생각했던 대로 너무 맘에 들어요. 집 분위기 랑 도 잘 어울리고 청소기라지만 포스가 잔 고 장 없이 오래 사용할 수 있었음 좋겠네요. 설치 기사님도 넘 친절하시고 구성도 맘에 들고 만족합니다. 다른 리 뷰를 보고 오래 걸리겠다 생각했는데 생각보다 일찍 도 착해서 놀랐습니다. 설치까지 해 주시고 배송 기사님도 정말 친절하셨습니다. 전에 쓰던 청소기가 다이 슨 10 인데 쓰다 보니 배터리 문제나 흡입력 문제가 생겨서 엘 지로 바꿨는데 일단 사용 초기라서 성급할 수는 있으나 아주 마음에 듭니다. 다이 슨 쓸 때 가장 불편했던 부분이 먼지 통 비우는 것이었는데 이런 부분을 안 해도 된다니. 삶의 질이 올라간 느낌입니다. 또 한 흡입력도 좋습니다. 다이 슨 과 비교시 어떤 게 더 흡입력이 좋다고. 이야기 하긴 애매하지만 다이 슨 과 비교시 개인적인 느낌은 동등하거나 약간 우위에 있는 느낌입니다. 백색 가전은 역시 엘지 입니다. 닷컴도 자주 이용하겠습니다. 정말 저렴하게 구매 잘한 거 같습니다. 타 오프라인 매장보다 20만원 이상 저렴하게 구매하는 거 같네요. 사실 여기보다 몇 만 원 저렴한 곳은 있었으나 그 후기들을 읽어 보니 1 달 이상 배송 기간이 소요되는 것이 대부분 이었습니다. 그래서 닷컴 후기 응 읽어 보고 그나마 배송이 빠르겠다 싶어서 주문했는데 제 예상 보드는 더 빠르게 왔습니다. 오랫동안 봐 왔던 제품이라 새 제품인데도 친근해요1. 가격은 조금 할인해서 구입했어요. 그래도 여전히 비싸네요2. 배송은 10일 걸렸어요. 마음 비우고 기 다려야 해요. 익일 배송 총알 배송 절대 아닙니다. 기다리다 목이 빠지더라구요. 3 품질은 역 쉬 좋음 이제는 하루에 두 번 아침 저녁으로 청소해요. 그립감 핸들링도 좋고 무엇보다 오브제라인이 예뻐서 청소하는데 피곤함이 덜한 듯 합니다4. 물걸레는 예전에 스팀 청소기를 사용한 지라 특유의 빤짝거리는 깨끗함 은 없지만 그래도 편하게 물걸레를 끝낼 수 있어서 괜찮아요. 그리고 배송 기사 제품 설명은 정말 친절하십니다. 매뉴얼 내용을 통 채로 술술 설명하시는 듯 오브제 코드 제로 추천합니다. 유선 기존 청소기 쓰다가 큰맘 먹고 맥주 마시면서 보는데 마침 홈 방송하길래 이 때 다나도 하나 날 위해서 나이 50에 이 무신 첨엔 빨리는 게 약한가. 좀 의아했는데 터보도 있고 무엇보다 수시로 할 수 있다는 거 유선은 선 빼야지. 코드 꼽고 이 리 쿵 저리 쿵 우리 집 문틀 다 쿵쿵 요거루 하길 너무 좋아요. 물걸레도 밀대로 밀고 살았어요. 요 샌 청소할 때 짜증 안 나 여. 받고 나서 많이 써 보고 리뷰를 씁니다. 생각했던 것보다 배송이 금방 왔어요. 전자 랜드 기사님 두 분이 서 설치와 함께 친절하게 사용법과 관리 방법에 대해서 알려주시고 가셨어요. 청소기 성능도 무척 마음에 들어요. 머리카락도 끼이지 않고 흡입력이 좋네요. 역시 물걸레도 잘 쓰이고 너무 만족해서 기존 물걸레 청소기는 바로 중고로 내놨어요. 아기를 키우는 집이라 소음도 걱정이었는데 터보를 하지 않는 이상 2 단계 까지는 아기가 놀라지 않아요. 만족합니다. 인테리어에 잘 스며드는 디자인이네요. 실제로 보니 영롱하고 예뻐요. 청소할 맛 납니다. 생각보다 배송이 빨랐습니다. 2 주는 생각했는데 일주일 정도 걸렸습니다. 기사님께서 시간도 잘 맞춰 오시고 제품 설치와 설명도 잘해 줬어요. 무선은 첨이라 아직 익숙 지가 않아서 적응이 필요할 꺼 같습니다. 아무래도 유선보다는 무겁고 유선은 좌우 앞뒤 움직임이 편한데 무선이라 그런지 앞뒤는 굉장히 편한데 좌우는 요령이 필요 하더라구요. 먼지 비움 최고 소음은 유선이랑 별 차이가 없어요. 단지 모터가 손잡이 쪽이 다 보니 느낌 상 끄게 느껴지지 괜찮았어요. 다이 슨 8 쓰다가 구매했는데 다이 슨 보다 가볍습니다. 헌데 청소 봉길이가 다이 슨 보다 짧아 청소하는데 팔 손가락이 아프더라구요. 길이에 적응하면 괜찮아 지겠죠. 다이 슨 이에 비해 흡입구 높이가 낮아서 가구 밑에 잘 들어가는 장점이 있고 롤링이 부드러워서 좋아 요일 반 모드는 흡입이 좀 아쉽고 강으로 하니까 맘에 드네요. 소리도 다이 슨 에 비 해 약해서 좋구요. 베 터 리도 두 개여서 급하게 청소하지 않아도 되 서 좋아요. 생각보다 자리 많이 차지한다는 분이 계셔서 걱정했는데 오히려 별로 차지 않하더라고요 무게도 적당하고 언제든 바로바로 청소할 수 있으니 넘 편하고 좋았어요. 소리도 유선 쓸 때보다 더 작았고요. 먼지 통을 따로 비우지 않아도 알아서 15초 정도 시간으로 비워 주니 아주 만족했답니다. 강아지 고양이를 키우다 보니 자주 청소기를 돌려야 했는데 무선으로 하니 쉽고 빠르게 청소하고 털도 거의 안 보여서 완전 만족입니다. 삼 다이 세 가지 중 어떤 걸 살 지 고민 고민하다가 이 제품으로 결정했네요. 일단 무선이어서 아무 곳이나 부담 없이 청소할 수 있다는 게 제일 좋았고 소음도 심한 편이 아니고 먼지도 자동으로 비울 수 있어서 좋은데 기존에 사용하던 삼성 유선 청소기가 구석구석 부드럽게 잘 돌아갔었는데 이건 살짝 부자연스럽네요. 툴도 좀 더 다양하면 좋겠어요. 튜브 형의 연장 틀도 있으면 좋겠고 하여튼 툴 부분이 좀 아쉽네요. 동생의 이사 선물로 선택해 주문하고 배송까지 주말 연휴 포함 꼬박 3주 걸렸습니다. 조금 저렴하게 구입하는데 의의를 두고 잊은 듯 기 다려야 하는 인 내와 끈기가 필요합니다;;. 좋은 상품 인건 확실한 데 판매처마다 각기 다른 조건과 가격이어서 구매자의 여건과 여유를 감안해 구입한다면 배송 기간을 충분히 고려해 가격적 혜택은 있을 테지요 다행이 동생이 기다려 줘서 어제 무사히 잘 받았다 고 해서 이제야 안심되네요. ;; 오래 걸려도 충분히 기다릴 수 있는 분 청소기는 진짜 좋대요. 냉장고 컬러와 맞춰 그린으로 해 달래서 그린으로. 깔끔한 디자인이 가장 맘에 들고 생각보다 소리가 크지 않아서 좋습니다. 배터리가 2 개여서 여유 있게 청소도 할 수 있고 물걸레도 청소도 괜찮고 청소 통 먼지 비우는 것도 신기하고 금액이 후 덜덜 하지만 아주 만족하고 있습니다. 더 사용해봐야겠지만 장점이 많은 청소 기라 여겨 집니다. 여러 달 고민 하다 구매 했는데 구매하길 잘 한 것 같습니다. 주문하고 다음날 받았어요. 배송 완전 빨라 요 일반 청소 흡입은 좀 약한 것 같아 요소리가 작은 건 만족해 요물 걸레 청소가 오히려 묵직하니 잘 되네요. 먼지 빠질 때 속이 뻥 뚤리는 기 분 이요 무게감 있어서 오른손 왼손 번갈아가면서 돌립니다. 오랫동안 고 장 없이 잘 쓸 수 있었으면 좋겠어요. 리뷰보고 배송이 늦다는 말들이 있어 3일 정도 생각했는데 일욜 오후 주문 월욜 오전에 물건 받았습니다. 너무 빨라서 할 말이 없더군요. 제 품이야 말할 것도 없이 이 뿌고 특히 스툴 보관이 깔끔해서 더 만족합니다. 주문 전 까지도 비스 포크 제트랑 엄청 고민했거든요 올인원 타워 제조일 21년 10 월 청소기 제조일 21년 11 월입니다. 청소기 구매 완료 다음날 전화가 왔어요. 구매 확인 및 안내 전화 주셨는데 너무나 친절히 안내해 주셔서 기분이 좋았습니다. 배송도 빠르고 설치 기사님도 저의 시간에 맞춰 방문해 주시고 설명도 친절히 잘 해 주셔서 좋았네요. 청소 기를 들면 무거운 느낌이 확 납니다. 청소하는 중에는 그닥 무거운 느낌은 안 들 구요 무선이 다 보니 빨아 당기는 힘이 아주 좋진 안 아요. 바로 밑에 있는 건 잘 빨아 들이지만 살짝 근접해 있는 것까진 부족합니다. 유선 사용하시던 분들은 어라. 이 정도도 안 되나. 하고 느끼실 수도 있겠네요. 볼 때마다 그리고 사용할 때마다 기분이 좋네요. 44일에 구매하고 한참 기다리다가 14일에 배송 예정이라고 전날 알림이 오더라. 구요 사정이 있어서 16일에 받았습니다. 기사님이 당일 아침에 전화 주셔서 방문 시간 잡았구요. 전에 코드 제로 초기 모델을 사용했었는데 그거보다 훨씬 업그레이드 되었네요. 작동 시 소음도 줄었고 흡입구가 더 슬림 해지고 배터리 사용시간도 조금 더 늘어났어요. 먼지 통 자동 비움 진짜 신세계네요 매장에서 보았을 땐 먼지 통 비우는 소리가 믹서기 소리처럼 엄청 커서 놀랐는데 집에서 몇 번 작동해 보니 적당한 소리 같은 설치 기사님이 먼지 봉투는 냄새나는 게 아니면 먼지 비우고 다시 써도 된다는 팁을 하나 주셨네요. 물걸레는 아직 사용 전인데 설명서 읽어 보니 물걸레 사용 후엔 모든 먼지 통을 물로 깨끗이 씻어 말려야 한 대서 조금 사용이 망설여 지네요 번 거롭 올인원 타워 자체의 전원 버튼이 없다는 게 조금 아쉬워요. 배터리 꽂아 놓은 상태로 계속 있어도 되는 건지 무 튼 배송이 좀 늦은 거 빼곤 잘 산 거 같아요. 무엇보다 아이보리 색이 고급스럽고 집과도 어울려서 좋아요. 생각보다 빨리 와서 놀랬어요. 설치 조립 이라고 할 것도 없이 금방 사용했는데 아무래도 배터리나 모터가 위쪽에 달려 무게 감은 좀 있지만 흡입력이나 조용한 소리가 너무 맘에 드네요. 흰색 관리 어렵겠지만 너무 예쁘네요. 무선이라 이 방 저 방 다닐 때 너무 편하고 물걸레 청소까지 한 전이 할 수 있어 너무 좋아요. 한 손으로 들고 다니기에 아주 살짝 무거운 감은 있지만 만족해요. 무엇보다 먼지 자동 흡입 기능은 굿 굿 지금까지 먼지 봉투도 안 비우고 잘 쓰고 있어요. 비싸게 샀는데 기분 좋게 샀는데 오류가 발생하여 타워를 교체 받기로 하였습니다. 오는데 1주일 넘게 걸리고 사자마자 바로 먼지 비움이 안 되어 고생 엄청 하였네요. 새로 오는 건 제대로 된 것이 왔으면 좋겠습니다. 모터들을 새로 갈아야 하는 건 여러 개가 있는데 1년 이후 유상 수리라고 하네요. 하나만 10년 보장 이래 여 재대로 된 것이 왓으면 좋겠습니다. 휴 아쉬워요. 여러모로. 가격에 비해서 그다지 좋은지 모르겠음 청소하려고 산 청소기가 청소할 것이 더 있음 터보 기능 써도 바닥에 떨어진 실 핀 하나 흡입 안됨 일반 모드 흡입 넘 약함 터보 기능으로만 사용하고 있음 머리카락이나 가 벼운 먼지만 잘됨 유선 쓰다 무선으로 바꾼 것과 소음적은 것은 인정 다이 슨 삼성 엘지 고민 하다 샀는데. 드디어 청소기가 왔네요. 늦은 배송 때문에 애가 탔었는데 실물 보고 넘나. 기분 좋아졌네요. 10 월 25일부터 순차 배송해 준 다 해서 잊고 있어야겠하고 있었는데 16일에 왔어요. 매장 여러 군데 비교하고 고민 고민하고 온라인 쇼핑몰도 여러 군데 비교해 보고 슥에서 슥했네요 카드 할인해서 20만원 정도 싸게 구입한 거 같아요. 완 젼 득 템 한 기분이었죠. 배송만 빨랐어요. 완 젼 초대 박이었을 텐데 좀 늦어서 아쉬워 용. 그래도 막상 받아 보니 서운했던 마음이 녹네요. 이 리 보아도 깔끔 저리 보아도 이 뻐 성능도 좋네요. 웰 시 코 기 키우는 집인데 1 단만 해도 털들이 쇽 먼지 통 비울 땐 소음이 좀 큰 편이에 요 그래도 잠깐이니 여 튼 물건은 넘나. 만족 잘 쓰겠슴다. 9 오브제 컬렉션 청소기 무게는 생각보다 무겁지 않고 청소기 소음도 생각보다 작고 조용 합니다. 소음에 민감한 아내도 생각보다 소음이 작다고. 좋아합니다. 수입산과 국산 타사 제품과 비교해 보다가 문제와 성능 비교해 보고 엘 지로 결정 했습니다. 주문 후 3일 만에 배송 빨랐고 설치해 주시는 기사분도 매우 정성스럽게 설치해 주시 고 사용법까지 매우 친절하게 설명해 주셨습니다. 포장재는 깨끗하게 수거해 갔습니다. 역시 엘지 입니다. 너무 예쁘네요. 다이 슨 8 쓰다가 교체한 건데 다이 슨 보다 가볍습니다. 걸레 빼고는 타워 안에 모두 보관되니 깔끔하고 먼지를 버튼 하나로 처리되니 큰 일거리 하나 줄어서 좋네요. 카드 행사까지 해서 저렴한 가격에 잘 샀어요. 기사님도 친절하게 설명 잘해 주고 가셨습니다. 거의 한 달이 되어서 받아 볼 수 있었네요. 9월 30일 주문 후 10월 25일 받았으니 그래도 제품은 정말 훌륭합니다. 기존에 유선 청소기가 오래 되어서 교체할 때가 되어 무선이 편하겠다 싶어 이것 저것 알아보다 결국 이 녀석으로 구매했는데 색상도 디자인도 제품 자체도 아주 만족스럽습니다. 배송만 좀 더 빨랐다면 좋았을 것 같아요. 당일 주문 후 다음날 배송 받아 상품은 아주 잘 받았어요. 색도 신혼 가구에 딱 이구요 물건에 대한 불만은 없는데 자체 문제로 이벤트에는 분명 국 미나 드 결재 시 7개월 무이자 혜택 5 청 구 할인이라고 해 무이자 할부 가능하다고. 되어 있는데 결론은 안 되더라구요. 소비자가 헷갈릴 수 있는 문구는 애초에 안 해 놨으먄 하네요. 결론은 다시 재 결제 했네요. 동글이로 10년 넘게 쓰고 있었어요. 무 선 청소기가 필요해서 저렴 이로 살까 하다가 제대로 된 거사서 오래 쓰자 싶어 고장날 때까지 기다렸네요. 파워 나가자마자 장바구니 담아 놓은 거 바로 주문 버튼 하나로 또는 자동으로 먼지 필터 정리되고 부속품들 보관까지 되는 타워 형 색감 디자인까지 예쁜 9 매직 스테이션 기대가 크면 실망이 크 다 했는데 전 혀 없구요. 코로나 시국에 배송 최소 1주일 생각했는데 월요일 주문에 목요일 받았어요. 빠른 배송까지 대 만족합니다. 번창 하세요. 첨엔 무겁게 느껴졌는데 몇 번 쓰다 보니 괜찮음요 청소 도구 보이지 않게 한 곳에 보관되니 깔끔하고 청소 흡입력 물걸레 괜찮고 먼지 비움은 소리가 좀 커도 30초도 안 걸리는 거라. 전혀 문제 안 되네요. 잘 쓰고 있습니다. 아주 만족요. 타 상품평처럼 좀 무거운데 그래도 청소 잘 되고 흡입력도 괜찮은 것 같고 물걸레 청소 포가 좀 삐뚤어져 싸서 약간 흠이라면 흠이고 침구 청소기도 좋은데 좀 비싸게 산 게 설치하고 타 쇼핑몰 들어가니 10 먼 원이 싼 거 보니 배가 아픈 거 빼곤 디자인 좋고 뭐 대충 만족 합니다. 배송도 빠르고 잘 받았습니다. 엄청 고민 하다 주문했는데 잘 산 거 같아요. 손잡이 부분이 조금 무게감이 있는데 헤드가 워낙 부드러워 각도만 잘 해서 사용하면 손목에 무리도 심하게 가지는 않네요. 소음이 생각보다 조금 있어 놀라 긴 했는데 무선이라 편하게 잘 사용할 것 같습니다. _ 거치대도 예쁘고 깔끔하게 잘 사용할 수 있을 것 같습니다. 이 전 모델 부모님 사 드리고 엘지 청소기 사고 싶엇 는 데 오브제 먼지 비움 모델 나와서 또 엄청 고민하다가 결국 삽니다. 기스 날 것 생각해서 그린으로 샀어요. 너무 이쁜 거 아닌가요. 대 만족입니다. 기존에 다이 슨 쓰다가 오년 넘으니 잘 못 빨아들여서 산 건데 이게 빨리는 건가. 싶을 만큼 느낌이 달라서 첨에 의아했는데 쏙 쏙 잘 빨리네요. 주문 후 7일 정도 후에 배송 기사님이 연락이 와서 시간 조율 후 배송을 받았습니다. 디자 인은 오브 제 라인이라서 확인 등 매장 방문에서 직접 확인 후 매장 가격 확인 후 검색 등 할인율 등을 따져서 인터넷을 이용 검색하여 신세계 상품권도 있고 가격이 카드할 인 등 쿠폰 할인 상품권을 사용하여 주문 하였는데 매장 가격과 비슷한 듯 합니다. 배터리가 2개라서 충전 후 교체로 사용하면 되어서 여유로운 청소 시간이 좀 늘어난 듯하구요. 디자인이 너무 이 뻐서 사실 구매를 하였는데 디자인 만큼 성능도 좋습니다. 자동 먼지 비움은 위쪽 터치로 사용해도 되고 수동으로 클릭을 해 주어서도 사용이 가능하구요. 무게감은 적당한 듯 요 다이 슨 이 가벼운 건 조금 더 가볍네요. 소음은 먼지 비움 할 때 나는데 그렇게 오래 걸리지 않아서 괜찮았습니다. 기사님이 친절하게 설명하시고 알려 주셨어요. 사용. 후기는 디자인 만큼 활용도 만족합니다. 무엇보다 디자인과 자동 비움이 너무 좋네요. 먼지 봉투는 다 쓰면 구매해서 써야 하는데 3개 오는데 한 개 당 3개월에서 6개월 정도 사용 가능하다고. 하네요. 3개 매장에서 만 원 정도 한다고 합니다. 색상 고민하다 실물 보고 카 밍 그린 구매했어요. 전부터 오브제 사고 싶었는데 배 송 빠르고요. 금요일 주문했는데 휴일인데도 월요일 롯데 하이 마트 기사님이 방문해 주셔서 설치도 해 주셨어요. 직구 구매 다이 슨 쓰다 배터리 수명 짧아 얼마 못 쓰고 원래 있던 엘지 유선으로 버티다 이제야 구매함 거실용 걸레용 써 봤는데 좋으네요 청소 좀 하고 살아야 겠어 용. 너무 마음에 들어요. 추천합니다. 일단 타워에 수납을 다 할 수 있어서 거실 복도에 놔둬도 지저분해 보이지도 않고 좋네요. 물걸레는 역시 엘지 꺼가 딴 데보다는 약간 좋아요. 물걸레 전용 청소기보다는 당연 못하지만 하루하루 간단 청소는 무 낸 하게 되고 침구 청소기가 진동이 되 서 그냥 흡입하는 청소기보다는 안심이 되 서 자주 쓰게 되네요. 좀 투자해도 가전은 엘지. 사 6 10 썼었는데 먼지 통 비우는 거랑 싸이클론 분해 청소하기 어려워 갈아탔네요. 솔직히 흡입력은 사가 낫 긴 하지만 2개 사용해 보니 쓰기 불편한 게 많아서 편안함을 택하였습니다. 화이트 톤 집이라 오브제 컬 랙 션 색도 딱 맞네요. 너무 이 뻐요. 이 디자인은 침구 포함입니다. 롯데 온 상담 사 분들께 물어봐도 잘 모르셔서 엘지 전자에 물어보고 구매했네요. 이사 당일 날 배송 받으려고 요청 사항에 적었는데 엘지 기사님께서 당일 날 오셔서 잘 설치해 주셨어요. 오기 직전에 말고 미리 전화 주시면 좀 더 좋을 거 같아요. 중간 중간 오늘 도착한다는 메세지와 오지도 않았는데 도착 완료로 변경되어 문의 드렸는데 내용도 모르시고 답도 안 오고 고객센터 응대는 솔직히 별로였어요. 친절만 하세요. 어 쨋든 청소기는 너무 이 뻐요. 다이 슨 고장 나서 급하게 샀는데 배송 기사님 친절히 고 디자인 이쁜 건 말할 필요도 없고 기능도 좋아요. 쓸데없는 브러쉬 세트 주렁주렁 다이 슨 때 8 갠가 있어서 짐짝이었는데 여긴 딱 많이 쓰는 마루용 물걸레용 침구용 3개에 추가 브러쉬는 조그만 2개뿐이라 헷갈릴 위험도 없고 수납도 안에 다 되어서 기능까지 만족합니다. 좀 가볍다는 거 외에 청소 기를 분명 돌리고 왔는데 부스러 기 종류는 거의 흡입을 못하는 답답한 다 제품 사용하면서 청소기 계속 눈 팅 하다 올인원 오브 제 제품 보고 바로 주문 침구 브러시가 필요했는데 딱입니다. 기존 먼지 흡입 따로 물걸레 따로 돌리고 나면 땀범벅되기 다반사 이제는 한 번에 여유롭게 편하게 청소하고 있어요. 역시. 정만 오랫동안 고민했던 청소기예요. 무선 청소기 4대 정도는 사용했구요. 좋다는 거 전부 구매했는데 솔직히 가격 대비 가 성비 안 나올까 봐 구입을 계속 망설였어요. 이번에 목돈도 생겼고 해서 카드 할인해서 젤 좋은 거 구입했는데 완전 만족입니다. 머리카락이 많은데 흡입력 무게 전부 만족 합니다. 고장 없이 오래 사용하길 바랍니다. 이사하면서 오브제 라인으로 대부분 바꿨어요. 청소기는 올인원 타워를 고민하다가 그래도 가격 만큼 하겠지 라는 생각으로 믿고 구매했는데 그 이상이네요. 충전의 번거로움 거치와 슈납의 문제 미세 먼지의 비위생과 꺼리낌에서 해방되었어요. 청소가 즐겁습니다. 너무 너무 갖고 싶었던 거라. 너무 너무 좋아요. 배 송도 빨랐고 설치하러 오신 기사분 두 분도 제품 소중하게 다뤄 주시고 친절하게 설명 잘해 주셨습니다. 무선 청소기는 흡입력 별로라는 말이 많던데 저는 전혀 못 느꼈어요. 좋아요. 아이가 청소가 재밌다며 자기가 하겠다고. 하네요. 연말이 기도 하고 물량이 부족해서 배송 일이 딜레이될 줄 알았는데 입금하고 이 튿날 바로 배송 일 지정하고 지 정일에 기사님이 오셔서 직접 설치해 주고 가셨어요. 부모님 댁에 설치해 드린 거라. 기사님을 직접 뵙지 못 햇지만 어머니께서 마음에 들어 하시고 친절하게 설치까지 진행해 주셨다고. 하네요. 감사합니다. 어제 오전에 주문하고 오늘 9시에 배송되었습니다. 박스 2개가 왔는데 박스 별로 확인 시켜 주시고 생산 일도 21년 10월입니다. 박스에서 꺼내. 어 조립 다 해 주시고 사용법도 상세하게 설명해 주시고 기존에 있던 물걸레 청소기도 수거해 주셨습니다. 깔끔하게 좋아 보입니다. 지금까지 다 이 슨 제품을 사용했는데 물걸레 기능이 있는 엘지 오브제 청소기를 추가 구매하였습니다. 밧 데리가 충전되지 않아서 아직 사용은 못하고 충전하고 있습니다. 어버이날 선물로 사 드렸는데 디자인도 품질도 배송도 너무너무 맘에 들어 하셨어요. 집에 인테리어가 산다며 입이 마르도록 칭찬하고 엄청 잘 빨려 들어서 청소하기도 편하다고. 하셨어요. 물걸레도 먼저 빨아들이고 물걸레 청소가 돼서 따로 청소하고 물걸레질 하지 않아도 된다며 엄청 들 떠서 얘기하시더라구요. 이름 값 비싼 값을 하네요. 부모님이 맘에 들어 하셔서 기분이 좋네요. 21일에 주문하고 24일에 받았어요. 엘지 전문 기사님들 방문해서 설치해 주셨구요. 일단 디자인이랑 색상이 넘 넘 깔끔하고 예뻐 요소음은 거치대에서 먼지 투입구로 들어갈 때 소리가 좀 큰 편이었고 청소기 밀 때는 소리는 그리 크지 않아요. 제 품은 보조 배터리까지 2개 구성 풀 구성이에요. 다 있어요. 침구 청소도 가능 물걸레 동시 먼지 흡입 가능요. 신 박해요 알아본 중에 위메프에서 할인 받은 게 가장 쌌어요. 청소 기 대박 맘에 들어요. 최고에 요 후회 없습니다. 삼 제 사려 다가 급 알아보고 이 거 샀는데 조금 참 길 잘한 듯해요. 킹 왕 짱. 아이와 애완동물 때문에 마루 전체에 유아용 매트리스를 깔아 놓고 생활합니다. 아파트라서 층 간 소음 때문에 매트리스를 계속 시공해 놓고 써야 하는데 이 청소기는 매트리스 청소가 불가능 합니다. 엘지 전자 상담했더니 틈새 청소기 흡입구를 장착해서 사용하라는 데 뾰족 한 플라스틱 흡입구를 장착하고 넓은 거실 전 체을 어떻게 청소 하나요. 게다가 매트 리스용 흡입구를 옵션으로 따로 판매하지도 않고 매트리스 위에서는 흡입구가 밀리지 않아 청소 불가능 입니다. 대안도 없습니다. 그동안 좀 저렴한 청소기만 쓰다가 고가를 처음 구매해서 사용해 봤는데 가장 기본 적인 불편함이 있을 줄은 몰랐습니다. 유아용 매트리스 사용하는 가정이 거의 없어서 배려를 못한 것일까요. 좋아요. 원래 쓰던 청소기가 점점 힘이 빠져서 안 그래도 새로 구매하려고 했었거든요. 백화점 가서 여러 메이커 구경했는데 오브제는 너무 비싸고 설명도 부족해서 원래 다른 메이커 사려고 했었어요. 홈쇼핑에서는 역시 설명 너무 잘 해 주시고 사게 만드는 매력이 있어요. 좋아요. 잘 쓰고 있어요. 주문한 지 일주일 만에 배송 받았습니다. 워낙 인기 제품이라 배송이 더 늦어질 줄 알았는데 생각보다 빨리 도착했네요. 판매자 분이 매우 친절하시고 설치 기사님도 친절하게 설명해 주시고 설치해 주셨습니다. 고가 제품인 만큼 성능이 우수하네요. 사용 시 소음도 크지 않고 물걸레 기능만 사용할 경우에는 아예 소음이 없어 저녁에 돌려도 되겠어요. 먼지 비 움 이용 시에는 강풍으로 먼지를 흡입하기 때문에 소음이 좀 있지만 저희 집은 커피 머신 진동 소음에 익숙해서 그런지 그렇게 신경 쓰일 정도는 아닌 듯 합니다. 무엇보다 보조 악세서리들을 깔끔하게 보관 할 수 있고 외관이 고급스러워 거실 보이는 곳에 두고 편하게 사용할 수 있어 너무 만족스럽네요. 가전제품도 인테리어의 한 부분이 되어 주부들이 더 즐겁고 편하게 가 사 일을 할 수 있겠네요. 가전은 라는 말들을 주위에서 많이 하던데 그러고 보니 저희 집 가전이 김치 냉장고 빼고 모두 제품 이네요. 생각보다 빠른 배 송이였구요. 기사님도 넘 친절하시고 원래도 엘지 쓰고 있었는데 망가지는 바람에 새로 신제품 구입했는데 너무 좋네요. 물걸레 하면서 흡입도 같이 되니 젤 맘에 들어요. 저희는 아이들이 있어서 거실이 다 매트인데 정전기 때문에 항상 머리카락은 흡입이 잘 안 돼서 찍찍이로 한 다음에 청 소기 밀었거든요. 근데 물걸레같이 하면서 하니 넘 잘 되고 만족합니다. 이사 날짜가 많이 남아 오래 걸릴 줄 알고 미리 주문한 건데 물류 직원 분들이 이틀 만에 배송해 주셨네요. 직접 받지 못해 택배 실에 맡겨 달라고 했는데 설치 사용 방법들 문자로 보내주셨어요. 소리가 생각보다 큰 데 전에 쓰던 거에 비하면 많이 조용합니다. 다이 슨 쓰다가 고장 나서 바꿨어요. 다이 슨 쓰면서 이런저런 불편함에 나 소모품 문제 지방 살아요. 참고 쓰다가 결국 더는 안 되겠다 싶어 엘 지로 결정하고 보다 보니 오브제 제품이 넘 예쁘고 편리하게 나왔더라구요. 생일 쿠폰에 카드 할인까지 받아 대리점 가격보다 훨씬 좋은 가격에 득 템 했습니다. 요즘 이 제품 넘 인 기라 배송 지연 많다고. 어디서 들어서 배송 늦을 거 각오했는데 3 일 주문 넣고 오늘 8일 아침 도착했어요. 넘 좋습니다. 주말 이틀 있던 거 생각하면 3일 만에 온 거네요. 빨리 보내주셔서 감사 해요 아직 손에 안 익어 어색하지만 곧 익숙해 지겠 져 판매자님 많이 파 세여. 배송은 2 주 좀 안 되게 걸렸습니다. 제가 시간이 안 되 서 기사님께서 문 앞에 놓고 사진 찍어서 보내주셨고요. 문 자로 사용법 조작법 청소방법과 관련된 유 투브 주소를 보내주셔서 보면서 할 수 있었어요. 엄청난 박스 크기에 놀라 서 차분히 빼보니 크림색의 예쁜 청소기가 맞이 하네요. 보통 청소기는 안 보이는 곳에 숨겨 놓는데 너무 예뻐서 거실에 잘 보이는 곳에 놓게 되었어요. 일단 유선 청소기를 쓰다 무선을 사용 하니 신세계네요 청소기 한번 꺼내면 선 뽑고 콘센트에 연결하고 청소 하다 길이가 안 되면 다시 코드 뽑아서 다른 곳으로 옮기고 엄청 번 거로 웠 는데 그런 게 전혀 없으니 오히려 자주 청소하게 될 것 같아요. 무게도 가 벼운 편이고 손목이 아픈데 이 정도는 거뜬 하네요. 청소 키트들도 옆에 다 장착되고 감출 수 있으니 너무 좋아요. 먼지 자동 비움도 어찌나 편하던 지 그 소리가 남편은 속 시원한 폭포 소리 같다네요. 청소와 물걸레를 한 번에 할 수 있으니 바쁜 사람에게 딱입니다. 비싼 값하는 구나 하는 느낌이 팍팍 들게 하는 가전이예요. 이벤트 때문에 좀 더 비싸도 여기서 샀는데 이벤트 종료 날짜를 확인하지 못해서 아쉬웠던 거 그리고 좀 늦게 배송된 거 빼곤 쵝 오 집에 유선 1개 무거워서 대 청소 때만 샤샤 샥 무선 2개가 있는데 무선은 먼지 비우기 귀찮고 날리고 머리카락을 잘 못 빨아 들이 고 그래서 삼성 꺼랑 비교 비교하다. 이거루 당첨 가격보고 헉 했는데 신랑이 사는 김에 좋은 거 사라고 여기저기 사이트 돌다 여기가 이벤트를 진행 중 이어서 따지고 보니 더 싸네. 하고 주문했는데 19일 주문했는데 21일 종료 25일 배송 근데 26일 받음 속 쓰려  다른 사이트보다 결국 비싸게 삼  일단 울 집은 층 간 소음방지 매트로 거실을 다 깔았음 개구쟁이 남매가 있어서 그래서 유선 청소기는 대청소 할 때만 사용 푹신 해서 흡입력이 넘 좋으면 잘 안 밀리고 붙어서 근데 요놈도 젤 약하게 했는데 밀리지 아니함  당황 당황 좀 눕혀서 밀어야 밀림 장판엔 부드럽게 아주 잘 밀림 우리 무선도 장판 청소는 아주 힘찬데 요 넘은 3 단계가 있음 첨 시작은 아주 약하게 1 단계 를 누르면 2 단계  길게 누르면 3 단계 소음은 1 단계 아주 작음 조용조용 3 단계도 그리 큰 소음은 아님 우리집 매트는 전 정기로 머리카락이 붙어서 잘 안 떨어 짐 그래서 청소기를 힘차게 돌려서 틈새 청소하는 부품으로 빨아들였음 근데 요 넘은 물걸레 헤드로 샤샤샥 교체 1 단계 물걸레 틀 이 돌아가며 앞으로 가는 게 느껴 짐 2 단계로 물걸레랑 청소기까지 한방에 무선으로 요런 기능 있는 게 있는데 안 빨 림 근데 요건 오 머나 머리카락이 어디 갔찌 잘 빨 림 세상에 나  단 찌든 때는 안 지워 짐  손으로 박박 매트랑 들러붙지도 않고 잘 밀림 먼지 통 비우기 소리 큼;; 그래도 금방 끝남 세상 편함. 말해 무엇 하나요 넘 좋아요. 신세계 예요 디자인은 봐도 봐도 이쁘네요 다이 슨 때 쓸데없는 솔 종류만 많아서 8 갠가 정리댜사도 다 안 꽂혀서 스트레스였는데 이건 진짜 딱 필요 항 솔만 있고 조관 대안에 다 들어가서 보이지도 않고 먼지도 잘 빨리고 너무 좋아요. 역시 가전은 엘 지. 주문하고 바로 받았어요. 기사님이 친절하게 잘 설명해 주셨고 다른 사이트 열심히 비교했는데 그린 색상은 가격이 별 차이 없어요. 일주일 사용해 보니 물걸레 청소랑 침구 헤드가 넘 맘에 들어요. 흡입력도 괜찮고 올인원 타워도 좋습니다. 청소기 없이 7 년째 ？ 부직포 청소가 좋아 매일 부직포 밀대로 청소했어요. 부직포가 환경오염 주범이라는 뒤늦은 깨달음에 청 소기 구입하기로 큰 마음 먹고 한 달을 여러 곳에서 비교 분석한 결과 이곳에서 최저가로 구입했어요. 배 송 기사님 너무 친절하시고 사용 3 일째인데 신세계네요. 빨리 살 걸 후회하면서 즐겁게 청소 중 디자인 칼라 모두 굳이 예 요 흠잡을 곳이 없어요. 지금 충전 중인데 보는 것 만으로 기분 좋아서 상품평 남깁니다. 고민 중이 신분 얼른 사 세요. 청소기 디자인이 일단 정말 대박입니다. 본가 부모님 댁 선물로 사 드렸는데 너무 너무 좋아하셔서 저도 기분이 좋네요. 가전 명가 엘지답게 성능 확실하고 설치 기사님도 친절하시고 전자 랜드 공식 몰이라 믿을 수 있고 가격도 합리적인 편이라 좋게 잘 산 것 같습니다. 혹 구매하시는 분들은 구매 추천 드립니다. 여유 있게 보름 정도 생각했는데 생각보다 배송이 엄청 빨라서 깜 놀 거 즘 4일 만에 도착했어요. 기사님이 오시기 전에 전화 주시고 직접 조립부터 설치 까지 해 주시고 친절하게 설명해 주시고 가셨어요. 아이보리 색상만 실물 보고 카키 색상 주문한 건데 색감 실물 깡패예요. 넘고 급 지 고 넘 넘이 뿜오 자 마자 청소해 봤는데 먼지 통비 움 기능은 실제로 보니 진짜 신세계네요. 비싼 가격 만큼 최고네요. 먼지 봉투 3매 물걸레 키트 일회용 포 필터 등 등 소모품도 뭐가 좀 많네요. 오브제 청소기 최고 잘 쓰겠습니다. 매장보다 온라인 몰이 더 저렴하네요. 코드 제로 카밍베이지로 정하고 여러 곳 알아봤는데 신세계 상품권도 이용할 수 있어 좋았어요. 주 문하고 일주일 만에 배송 기사님 오셨는데 미리 연락도 전혀 없으시고 30분 후에 오신다는 전화 왔네요. 현관 앞에서 물건만 주고 가시는 걸 설치 부탁드리니 원래 설치 안 해 주는 거라고 하셔서 다시 부탁드렸어요. 다른 분 들 후기 보니 설치해 주시 고 설명도 해 주신 다 던데 뭐가 맞는지 모르겠네요. 이쁜 이 카 밍 베이지 코드 제로 진짜 너무 좋아요. 먼지 통 비우는 거 보니 신세계네요. 다이 슨 과 최종까지 고민하다가 구입했는데 흡입력을 제외한 원 터치 먼지 비우 기와 같은 사용 상의 편의성 물걸레 질 가능 특히 툴 박스의 기능성 디자인 측면에서는 훨씬 좋은 것 같습니다. 배송도 빠른 편이고 설치 기사님이 잘 설명해 주시고 배송 박스 등 뒤 처리도 깔끔하게 해 주시니 좋았습니다. 안녕하세요만 족이 문제가 아니라 구매했을 때부터 고장난 제품이 왔는데도 판매처로만 미루고 있는 제품 절대로 추천하고 싶지 않네요. 저는 이 제품을 도대체 왜 이 돈으로부터 구입했는지 모르겠네요. 후기는 좋은 평만 나오던데 정말 비추입니다. 특히 판매처 대응은 더욱더 비추입니다. 저 산지 2 주일째인데도 어떤 대답도 받지 못했습니다. 연락도 안 되는 업체 번호 알려 주신 것도 정말 화가 납니다. 배송은 2주 걸렸어요. 친정 엄마 집 우리 집 제가 같이 주문했는데 엄마 집은 설치 설명 없이 박스만 들여 다 주고 가셨다네요. 저희 집은 기사님이 오셔서 설치도 해 주시고 설명도 친절히 해 주시고 박스도 갖고 가 주셨어요. 상품 자체는 너무 좋아요. 충전시간에 비해 작동시간은 너무 짧지만 2 단계로 놓고도 밟히는 먼지 없이 잘 빨려 요 다른 회사 무선 청소기들과 다르게 물걸레 키트가 흡입과 물 자동 분사 기능이 있어서 꺼로 결정한 가장 큰 이 유 청소 키트들을 수납할 수 있다는 것도 좋아요. 유선 청소기 사용하다 무선으로 바꾸니 정말 편하고 좋네요. 먼지 비움 기능 또한 정말 으뜸이고 물걸레 청소하며 먼지 청소까지 되니 정말 편해요. 믿고 쓰는 가전이라 사용할 때까지 탈 없이 잘 쓰길 바라 봅니다. 앞으로도 좋은 제품 많이 만들어 주세요. 벼르고 벼르다 구입했어요. 너무 편하고 좋네요. 소음도 생각보다 적어서 깜짝 놀랬네요. 우와 5 일 전보다 3만원 정도 할인이 더 되어 아쉽네요. ;; 그래도 잘 구매했다 싶어요. 확실히 모터가 손잡이 부분에 있어 손목 약하신 분들은 약간 부담이 되 실 거 같아요. 그래도 청소 헤드가 자유자재로 움직여서 보완은 되네요. 주문 후 2일 만에 배송 됐고 배송 기사님도 친절하게 설명 다 해 주시고 박스 수거도 해 주시네요. 너무 마음에 들어요. 추천합니다. 배송 받아서 써 보니 물걸레 기능까지 좋아요. 그리고 배터리가 2개인 모델이라 더 좋습니다. 단점은 무선이라 무겁다는 것과 비싸다는 거 2가지 네요. 그리고 처음이라 작동 시 모터에서 타는 냄새가 좀 나는데 설치 기사 분이 좀 쓰다 보면 없어 진다네요. 할인 폭을 보고 구매했는데 색상 등은 맘에 드나 헤드 부분이 많이 무겁네요. 와서 본 지인들이 많이 무겁다고. 얘기하고 헤드 부분이 바닥 부분과 무게가 많이 차이 나서 그런지 자꾸 미끄러지는 듯한 느낌으로 다른 방향으로 가면서 매끄럽게 먼지들이 잘 흡수 되지 않는 느낌. 부모님 댁에 청소 기를 선물해 드렸습니다. 개봉하면서 사진을 찍었는데 요 자태가 참 이 쁘고 좋습니다. 이런 건 방 한 쪽에 두는 것이 아니라 오픈 해 놓고 써야 하기에 어디서든 잘 어울려서 좋습니다. 수납도 깔끔하게 다 되어서 별도로 보관할 필요가 없어 편리합니다. 이 전 모델의 청소기보다 더 부드럽고 더 조용합니다. 다만 먼지 흡입할 때의 소리는 정말 시 끄러워서 밤에 사용하면 안 될 듯 합니다. 비 오는 날 하이 마트에서 직접 배송해 주셨습니다. 그것도 빨라서 좋았네요. 다이 청 소기 사용한 지 10년 이 넘어서 버리고 구매했습니다. 무선 청소기를 몇 달 동안 찾다가 맘에 드는 것이 없어 구매를 미루고 있다가 오브제 청소기 스펙을 보고 바로 구매했습니다. 일단 무선은 기본이고 모든 청소도구가 한 번에 정리가 되는데 다 먼지 통까지 자동으로 비워 주니 더 고민할 필요가 없었습니다. 받자마자 잠깐 사용했는데 모터가 손잡이 부분에 있어서 그런지 살짝 무게 감이 느껴지기는 했으나 원래 사용하던 청소기가 워낙 무거웠던 지 라 문제가 되지는 않았습니다. 청소기 보관은 항상 눈에 보이지 않는 구석이었는데 내놓아도 미관을 해치지 않아서 더욱 좋습니다. 10년 넘게 유선을 쓰다가 헤드 부분이 반으로 쪼게 져서 한 달을 고 민하고 고민 하다 결정 완전 신세계였다 먼지도 자동으로 비워 주고 유선의 자유로 움이 너무 좋았다 흡입력도 의심했는데 왠 걸 별 걸 걱정했다 디자인 또한 너무 예 뻣 다 1석 2조라고 나 할까 사 길 잘했다_____. 기존에 쓰던 제품에 비해 성능도 좋아지고 가 벼우면서 청소도 잘 되어서 매우 만족합니다. 또 한 자리도 차지 하지 않고 깔 금 그 자체입니다. 아직 물걸레까지 써 보지는 않았지만 가전 제품은 그 기능 또한 좋을 거라. 생각이 듭니다. 좋은 제품 감사합니다. 와우 배 송 기본 2 주 각오하고 구매했는데 정말 빨리 보내. 주셨어요. 저 가 청소기 썼는데 10 마 넌 대 먼지 통 잘 부러지고 흡입력 1년도 안 되 서 성능 떨어지고 이 왕 사는 거 좋은 거 사자 해서 구매했어요. 사실 삼성 엘지 두 개 놓구 고민했는데 저희 집의 대부분 제품이 엘 지라 디 잔도 이 쁘고 일체형이라 엘지 샀어요. 기사님 친절하시고 거실에 놔뒀니. 더 예쁘네요. 잔고 장 없이 오래 잘 썼음 좋겠습니다. 약간 무개가 있고 먼지 통 비울 때 소음은 좀 큽니다. 밤에는 쓰면 안 될 거 같아용. ♡. 오브제 청소기 장단점이 확실한 것 같네요. 장 점 부속품을 한 꺼번에 모아서 둘 수 있는 디자인이 좋다. 먼지 통을 비우는 번거로움이 없다. 단점 다이슨에 비해 손잡이 부분이 무겁고 아래 부분은 가 벼운 느낌이다. 물걸레 키트의 걸레가 너무 작아서 단독 물걸레 청소기보다 좋지 않다. 가격 생각하면 궂이 추천하고 싶지는 않다. 디자인에 만족. 너무 이쁘네요. 이렇게 이 쁠 수 있나. 싶어 여 하얀색인 줄 알았는데 살짝 베이지 느낌이 있어요. 먼지 통비 움 기능은 시끄럽네요. 하지만 가끔 쓸 기능이니까 만족 합니다. 무엇보다 모터 소음이 확실히 줄었어요. 저렴하게 구매 했어요. 잘 쓸께요. 가격 때 뮨에 망설이다 큰맘 먹고 샀어. 여 첨엔 무게감이 있어서 좀 불편했는데 며칠 사용해 보니 금방 적응하네요. 먼지도 잘 흡입되고 알아서 먼지 통까지 비우니 진짜 너 므 편하고 디자인도 이 뻐서 거실에 나와 있는데도 껄끔 하니 좋아요. 최초 상품을 주문했을 때에는 9월 6일에 상품을 발송한다고 문자를 받았는데 몇 시간 후에 729 로 변경되고 또 몇 시간 지나니 726 그런데 결국 주문 하루 만에 물건을 받았어요. 내가 운 이 좋은 건가요이. 사갈 집에서 사용할 거라. 아직 개봉은 안 했는데 기사님도 친절하시고 너무 맘에 듭니다. 더운 여름날 고생하신 모든 분들에게 감사 드립니다. '}, {'제품명': 'LG전자 코드제로 A9S A9370', '가격': '698,220', '평점': ['평점5', '평점5', '평점5', '평점5', '평점5', '평점5', '평점2', '평점5', '평점5', '평점5', '평점5', '평점5', '평점5', '평점5', '평점5', '평점2', '평점4', '평점4', '평점5', '평점5', '평점5', '평점4', '평점5', '평점5', '평점5', '평점5', '평점5', '평점3', '평점5', '평점5', '평점4', '평점5', '평점5', '평점5', '평점5', '평점3', '평점4', '평점5', '평점5', '평점5', '평점4', '평점5', '평점5', '평점4', '평점5', '평점5', '평점4', '평점3', '평점4', '평점5', '평점5', '평점5', '평점5', '평점3', '평점3', '평점2', '평점1', '평점4', '평점5', '평점4', '평점5', '평점5', '평점1', '평점4', '평점4', '평점5', '평점5', '평점4', '평점5', '평점5', '평점5', '평점4', '평점4', '평점3', '평점4', '평점5', '평점5', '평점5', '평점1', '평점3', '평점5', '평점5', '평점4', '평점4', '평점5', '평점5', '평점5', '평점5', '평점5', '평점3', '평점4', '평점5', '평점5', '평점5', '평점5', '평점5', '평점5', '평점4', '평점1', '평점4'], '채널': ['LG전자인증점 경남', 'GSSHOP', 'GSSHOP', '현대Hmall', '신세계몰', 'CJ온스타일', 'GSSHOP', '신세계몰', '롯데홈쇼핑', '옥션', '신세계몰', '드림사이버', 'CJ온스타일', 'GSSHOP', 'SSG닷컴', '현대Hmall', 'GSSHOP', 'GSSHOP', 'GSSHOP', 'GSSHOP', 'GSSHOP', '현대Hmall', 'GSSHOP', 'GSSHOP', '현대Hmall', '옥션', 'GSSHOP', 'CJ온스타일', 'GSSHOP', 'CJ온스타일', '롯데홈쇼핑', 'GSSHOP', '옥션', 'GSSHOP', 'GSSHOP', 'GSSHOP', 'GSSHOP', 'GSSHOP', 'SSG닷컴', 'GSSHOP', 'GSSHOP', '롯데홈쇼핑', 'CJ온스타일', 'GSSHOP', 'LG전자인증점 경남', 'GSSHOP', 'CJ온스타일', '현대Hmall', 'GSSHOP', '현대Hmall', '현대Hmall', '신세계TV쇼핑', 'GSSHOP', 'GSSHOP', 'GSSHOP', '현대Hmall', 'GSSHOP', 'GSSHOP', 'LG전자인증점 경남', 'GSSHOP', 'G마켓', 'GSSHOP', 'GSSHOP', 'GSSHOP', 'GSSHOP', 'GSSHOP', '현대Hmall', 'GSSHOP', 'GSSHOP', 'GSSHOP', 'GSSHOP', 'GSSHOP', 'GSSHOP', '현대Hmall', 'GSSHOP', 'G마켓', 'GSSHOP', 'GSSHOP', '현대Hmall', 'GSSHOP', '현대Hmall', 'CJ온스타일', 'GSSHOP', '롯데홈쇼핑', '현대Hmall', 'SSG닷컴', '현대Hmall', '현대Hmall', 'GSSHOP', 'GSSHOP', 'GSSHOP', 'GSSHOP', '현대Hmall', 'GSSHOP', 'GSSHOP', 'GSSHOP', 'CJ온스타일', 'GSSHOP', 'GSSHOP', '현대Hmall'], '날짜': ['21.12.23.', '21.09.16.', '21.10.29.', '21.05.17.', '21.09.27.', '20.12.26.', '21.11.24.', '22.01.01.', '21.06.05.', '21.11.08.', '20.12.25.', '20.09.29.', '20.12.26.', '21.09.16.', '21.12.28.', '21.10.18.', '21.11.01.', '21.10.16.', '21.06.22.', '21.11.15.', '21.09.20.', '21.09.14.', '21.11.03.', '21.10.28.', '21.11.09.', '21.11.26.', '21.10.17.', '20.12.27.', '21.11.24.', '20.12.25.', '21.11.01.', '21.09.20.', '21.11.15.', '21.11.02.', '21.10.29.', '21.11.13.', '21.11.02.', '21.10.29.', '21.09.26.', '21.10.29.', '21.11.24.', '21.10.31.', '20.12.23.', '21.11.29.', '21.12.01.', '21.10.19.', '21.10.14.', '21.10.18.', '21.11.13.', '21.11.10.', '21.06.21.', '21.07.30.', '21.09.16.', '21.10.15.', '21.10.31.', '21.11.14.', '21.12.08.', '21.11.02.', '21.12.22.', '20.09.20.', '21.11.05.', '21.10.29.', '21.10.20.', '21.10.31.', '21.11.26.', '21.10.22.', '21.11.08.', '21.10.19.', '21.10.31.', '20.10.31.', '21.11.11.', '21.10.31.', '21.09.07.', '21.10.28.', '21.10.26.', '21.11.16.', '21.10.28.', '21.11.12.', '21.10.20.', '21.10.31.', '21.06.05.', '20.12.24.', '21.11.03.', '21.11.02.', '21.11.03.', '21.11.01.', '21.11.08.', '21.05.31.', '21.10.29.', '21.10.07.', '21.10.21.', '21.12.03.', '21.07.19.', '21.11.09.', '21.11.01.', '21.10.20.', '20.12.25.', '21.10.25.', '21.10.21.', '21.06.08.'], '리뷰': '와서 꺼내고 조립하고 충전한다고 좀 전에 잠깐 사용해 봤는데 소리가 너무 작아요. 밀 때 조그만 바퀴 굴러가는 드르륵 소리도 거의 안 나 고 완전 신세계네요. 매번 청소기 밀 때마다 밑 집에 알 수 없는 죄책감 이 들 곤 했는데 너무 좋습니다. 근데 너무 무겁네요 ;;;. 체감이 확 될 만큼 무거워요. 거의 3 키로 다 돼 가는 아령을 들고 이 리저리 30분을 흔든다고 생각하면 쉬우실까요. 후 잠깐 한 12 분 돌리는 것도 버겁다 느껴질 정도니 약하신 분들은 몸 져 누우 실 듯 잠깐 시험 삼아 12 분 돌린 게 다인데 다시 완충되는 데까지 꽤 걸리네요;;;. 한 10분 걸린 거 같음 충전 시간은 많이 느린 거 같아요. 내가 어떻게 청소기를 사게 됐나만 500자 이상 써서 다시 쓴다. 방송을 끝 부분 5분만 보고 사 서 뭐가 어떻게 되는지도 모르고 산 충동 구매이다. 청소기를 사려고 마음을 먹었었는데 충동 구매로 방송 5분만 보고 산 것 색상을 와 인색으로 했는데 나중에 다른 사람들은 다른 색상을 사는 것을 보고 잘못 샀나. 걱정했었다. 받아 보니 괜찮은 색상이다. 뭘 주는 지도 모르고 샀는데 창틀과 천장 용 솔이 있고 배터리는 하나란 다 다른 사람 후기를 보니 배터리는 2개 여야 한다고 해서 걱정을 했었다. 조립을 해 주신 기사 아저씨에게 물어보니 한 개만 있어도 충분하게 청소를 한다. 두 개 있는 사람은 하나를 안 쓰다가 그냥 버리게 된단다. 배터리의 수명은 3년 정도이니 그 때까지 쓰고 새로 하나를 사라고 하셔서 걱정을 덜 게 됐다. 어제 하루 쓰고 먼지 통을 보니 동글동글 한 먼지가 있었다. 우리 집은 걸레로 잘 닦는 집이라 이런 먼지가 나온다는 것이 믿어 지지 않았다. 먼지를 잘 빨아들이는 것 같다. 너무 좋다는 말 밖엔 못하겠네요. 나왔을 때부터 다이 이랑 비교하고 망설였는데 파워 버튼 누르고 안 누르고의 차이가 결정타였어요. 실은 주문할 때 자세히 안 듣고 있어서 밧 데리 2개 짜린 줄 알았거든요. 취소할까 말까 망설이다 그냥 써 보자 하고 배송 받았는데 새 거라서 그렇긴 하겠지만 밧 데리 하나로도 충분해서 만족합니다. 아주 부드러운 미 끌림으로 힘든 것도 없고 무게 땜에 팔목이랑 아플까 걱정했는데 그닥 무리가 안 가네요. 흡입력도 강력해서 아주 만족합니다. 혹시 망설이시는 분 계시면 바로 구입하세요. 첨 나왔을 때부터 망설인 건 다 회사 모델 업그레이드되는 거랑 차이 보려고 했는데 써보고 나니 진작 살 걸 하는 생각이 들어 친구에게도 벌써 추천했어요. 역 쒸 가전은 제 청소기 노마 드의 대미를 장식했네요. 70세 아버지 인생 처음 청소기 잡은 날 어버이날 선물로 코로나 때문에 만날 수 없는 부모님 선물로 구매했습니다3. 개국에 나뉘어 져 살고 있어 더욱 뜻 깊은 선물을 구매하려고 찾은 게 코드 제로 9370 입니다. 평소 물걸레 청소를 힘들어 하셔서 1년 이상 검색한 결과 9370 모델을 최저가로 구매해서 매우 만족합니다. 물론 물걸레 키트도 포함되어 있고 타사와는 다르게 자동 물 분사 기능이 있어서 진짜 편한 물 청소가 가능한 게 구매 결정의 이 유입니다. 스탠드 타입에 모든 부속기구들이 다 결합되어 편하게 관리 가능하고 이 전 9 모델보다 가볍고 배터리도 업그레이드 되어서 농촌 40평 대인데 배터리 3 칸이 완전 충전인데 일반 모드로 배터리 1 칸 반으로 충분이 청소 가능합니다. 그리고 70년 간 청소기 한 번 안 잡았던 아버지께 서 청소기를 처음으로 잡았다는 게 무엇보다 만족합니다. 어머니께서 좀 더 편한 노후생활을 할 수 있을 것 같네요. 안전하고 정확한 배송 및 설치해 주신 관계자 분들께 진심으로 감사 드립니다. 좋은 하루 보내세요. 엘지 코드 제로는 기존에 신혼 집에서 쓰고 있었어요. 2년 전 모델로 친 정 엄마가 이번에 동글이 청소기에서 드디어 새 거를 사시겠다고. 마음 먹으셔서 제가 주문해 드렸네요. 주문하고 나니 너무 마음에 들어요. 2년 전 모델보다 9 라 그런지 더 가볍고 특히 나 먼지를 쉽게 뺄 수 있다는 점이 큰 장점이네요. 물론 새로 나온 모델들도 있지만 친 정 부모님에게는 굳이 필요 없는 기능이라 생각해서 제일 심플한 걸로 주문했어요. 배송뿐만 아니라 설치도 빨랐고 이것저것 할인해서 좀 싸게 산 것 같다는 생각이 들어요. 판타지 실버는 색상이 너무 괜찮아요. 참하니 어느 집에도 잘 어울리라 생각합니다. 다른 제품들도 정말 하나 하나 살펴보세요. 물걸레가 없는 제품도 있는데 물걸레 기능은 필수 입니다. 이 모델에서 없는 기능은 침대 먼지털이 기능인데 솔직히 2년 전 산 모델에서도 저는 잘 안 썼던 것 같아요. 그래서 일단 물걸레 흡입 잘 되는 그런 위주로 보았습니다. 부모님께서 일단 무선에 가 벼워 진 청소기에 너무 좋아하시네요. 배터리도 짱짱 해서 청소가 훨 신 쉬워 진다는 말 주부들은 공감하실 거예요. 다들 괜히 무거운 청소기 쓰시고 손목 나가지 마시고 꼭 바꾸세요. 기존 모델이면 어떤 가요 엘 지에 도 잘 될 거고 일단 성능이 앞서 나가는데 완전 만족합니다. 주문 후 5일 만에 설치햇고 2 주 사용 햇습니다. 무 선이라 편하구요. 개인차가 잇겟지만 저는 무게가 적당하네요. 미끄럽지 않게 디자인된 손잡이가 맘에 들 구요 설치 기사님이 사용 후 계속 충전시켜 두라 고 베 터 리 량을 확인할 수 잇어 좋아요. 유선 청소기보다 소음은 작지만 왠지 흡입력은 터보로 해도 조금 아쉬운 감은 잇어요. 물걸레는 얇고 작아서 불편 햇어요. 기존에 사용하던 제품으로 사용하려 구요 가격은 좀 비싼 듯 합니다. 안마기는 좀 무겁지만 잘 사용하고 있습니다. 한 달 사용 후기 유선과 이별하고자 무선을 주문했는데 딱 무선인 것과 청 소통 비움 편리 이 두 가지는 빼고는 장점을 잘 모르겠어요. 생각보다 무게가 있어서 손목과 팔에 힘이 들어가서 아파요. 그리고 청소 대 길이가 짧아서 침대 밑 부분은 청소기가 완전히 들어가지 않아서 어깨까지 넣어서 빨아들여야 끝 부분까지 청소 가능하네요. 청소 기 바람이 윗부분에서 나와서 종종 얼굴 쪽으로 바람을 맞는데 그럴 때면 먼지를 먹는 거 같은 느낌도 들고 생각보다 터보 모터가 강하다는 생각도 들지 않네요. 주 위에서 좋다는 얘기만 듣고 덥석 산 건 제 잘못이라 무선임을 강조하며 사용하고 있어요. 기대했던 것 이상으로 사용하기 편리하고 포터블한 장점을 충분히 느낄 수 있었어요. 완전 충전 후 43평 집 청소를 완료할 수 있어 용량도 충분하네요. 모터는 조용한 편이고 흡입 성능은 충분한 것 같네요. 머리카락부터 작은 먼지까지 잘 흡입하여 먼지 통이 금새 차는 것을 보면 먼지가 이렇게 나 많나. 깜짝 놀라네요. 지인들에게 추천 의사가 있습니다. 1 상품 몇 달 전부터 눈여겨보던 제품이라서 할인하자마자 바로 구매했네요. 워낙에 제품은 유명해서 상품은 정말 좋은 것 같아요. 밤에도 청소기를 돌려 보니 소음도 적 고 가볍고 디자인도 마음에 드네요. 인기 있는 색상이라 품절도 자주 되는데 이번에 운 이 좋았던 거 같아요. 2 배송 오래 걸렸다는 글들이 조금 있어서 걱정하고 기 다렸는데 생각보다 빨리 배송이 되었어요. 중간에 1번 상품이 아직 물류 창고 입고 되지 않아서 다시 연락 주신다고 했는데 하루 정도 더 기다렸더니 바로 배송 받을 수 있어서 좋았어요. 직원 분도 친절하게 오셔서 세팅 해 주시고 설명해 주셔서 사용법도 어렵지 않게 배울 수 있었습니다3. 할인 즉시 할 인과 쿠폰 그리고 카드 할인까지 알차게 모두 챙겨서 할인 받았고 프로 모션 포인트도 신청 가능하여 신청했습니다. 아마도 7월 딸에 주실 것 같아요4. 사은품 락 앤 락 세트 와 커피포트가 함께 사은 품으로 되어 있었는데 아직 받지 못 했어요. 아마도 몇 주 걸린다고 하더라구요. 무사히 도착 하기를 바래 봅니다. 유선 대비 흡입력은 떨어지나 앞쪽 롤러가 깔끔하게 먼지를 빨아 들임으로 인해 유선과 맛 먹는 흡입력을 자랑합니다. 소리 또한 유선 대비 상당히 조용한 편입니다. 물걸레 청소도 해 봤는데 걸레가 좀 작긴 해도 흡입과 동시에 물걸레 가능하니 편합니다. 집에 있는 로봇 청소기 무선 물걸레 청소기 대비 물의 양 배분이 적정하게 잘 되어 물걸레 청소도 만족스럽습니다. 앱 깔아서 청소기 등록 해서 사용 중인데 이건 굳이 깔지 마세요. 충전 중입니다. 충전이 완료 되었습니다. 이런 메시지만 날 라 옵니다. 물론 나중에 소모품 교체 라 하는 메시지가 날 라 오겠지만 그 때를 위해 쓸데 없이 충전 메시지 받는 건 귀찮기만 할 뿐입니다. 개인적으로 강력히 추천합니다. 좋습니다. 조리 방법도 쉽고 어 제 배송 받고 남편의 크리스마스 선물이 되었네. 여 약간 묵 진한 느낌이 없진 않지만 코드 리스의 메리트가 넘 큽니다. 그리고 예상보다 청소가 잘 됩니다. 슥 밀고 빨 어 들인 먼지와 머리카락으로 속이 시원하네요. 설치해 놓으니 다른 액세서리도 한꺼번에 거치대에 세팅도 되구요. 물걸레는 아직 사용 전이지만 얼른 써 보고 싶네. 여 삼성 제트와 많이 고민을 하다가 이 눔으로 겟 했습 니 삼성의 제트 스테이션에 좀 구미에 당겼던 게 사실이 긴 해요. 그 치만 청소 백이 소모품이 고 또 그것도 시간 지나면 관리하고 사용할 가전이 된다는 생각에 그리고 가전은 역시 라는 주변의 추천으로 하게 되었습니다. 가격대가 있는 놈이 다 보니까 요 고민이 많았죠. 여기 저기 다 검색하고 제일 저렴한 것 같아서 요 저한테 꼭 필요한 구성품으로만 되어 가격도 타 사이트에 비해 많이 사악하진 않았네. 여 배터리가 2개가 아닌 하나 인 건만 아쉽고 나머지는 여러 툴들을 잘 활용하는 편이 아니라 좋습니다. 아직 쓴 지 하루 밖에 안 되어서 좀 더 써 보고 한 달 후기 올릴게요. 명절 전에 와서 너무 다행이였어요. 안 그 랫 음 차례 지내야 하는데 있는 청소기는 고장 나고 집은 개판이 공 손으로 걸레 훔칠 뻔했습니당. 물건 제주도까지 잘 왔구용. 매장에 가 서도 가격 조사해 보고 그랬는데 물걸레까지 싸게 잘 구입했습니다. 기분 너무 좋아용. 벼르고 벼 렀 던 것을 연말 세일인지 싸게 팔아 구매했습니다. 다이 슨 을 할까 고민했는데 주변 써 본 분의 추천으로 장 점 유선보다 자유롭다는 거 부드럽게 밀린다는 거 자리 차지 적다는 거 생각보다 소음이 작다는 거 남자들이 쉽게 밀어주네요. 단점 역시나 유선보다는 흡입력이 세진 않아요. 하지만 무선 치고는 모터가 셉니다. 최고 2년 사용하면 십만원도 되는 모터를 교체해야 한다는 데 그러면 이 청소기는 무진장 비싼 게 되는 거죠. 기존 유선 청소기를 버리려 했는데 비상시 보관해야겠어요 참고로 저는 청소에 철저히 하는 사람으로서 조금 부족함이 있는 듯 싶어요. 또 한 가지 물걸레는 추천 안합니다. 바닥에 물만 묻히는 수준이라 때가 닦이 지 않아요. 담 날 엎드려 방을 닦았더니 헉 까맣게 나오더라구요. 매일 물 걸러 질 할 때 이렇게 더럽지 않았거든요. 고로 코드 제로 물걸레질은 깨끗 히 닦이 지 않는다는 거죠. 배송 빠르고 설치 기사님 오셔서 조립 및 자세한 설명 해 주셨어요. 제품 디자인 깔끔하고 이 쁘네요. 흡입력도 좋아요. 소음도 기존 청소기에 비해 없는 편이고 첨 사용 시 익숙하지 않았는데 몇 번 사용해 보니 금방 편해 지네요. 단점은 무겁다는 거 다른 핸들 형 청소기 써 본 적 없어 비교는 못 해 보지만 손목이 아프네요. 쓰다 보면 괜찮아 지겠죠. 저희는 독일제 제품을 사용했었는데 광고를 보고 로 바 꾸볼 까 고민하다가 이번에 교체하게 되었습니다. 주말에 주문 신청하였는데도 주문하고 약 3일 만에 배송되었어요. 처음 사용하여서 인진 몰라도 개인적으로는 무선이라 손잡이를 접고 작동하였을 때 무게감은 있지만 청소할 때에 유선처럼 줄이 없어서 간편하여 편리한 장점이 있는 것 같아 구매하기 잘 했구나. 하는 만족감이 듭니다. 품질 좋은 제품 잘 사용하도록 하겠습니다. 감사합니다. 주문 받고 만들어서 배송한다고 하네요. 배송 보름 넘게 걸린 것 같아요. 유선 청소할 때 끌고 다니는 몸체를 쥐고 청소한다고 생각하면 되요. 조금 지나면 너무 무거워서 손이 아파요. 차라리 끌고 다니는 게 낫겠어요 ;;. 옆으로 잘 밀리지도 않아서 전 좀 많이 불편하네요. 대신 무선 치곤 흡입력은 있는 것 같아요. 배터리 1개이고 걸레는 4개 입니다. 상세 설명에 배송 주문 받고 보름 이상 걸리는 제품이라고 써 두면 무슨 문제 있나. 걱정하며 하루하루 불안하게 기다리는 불편이 조금이나마 줄지 않을까요. 이런 경우는 처음이라 당황했습니다. 현대 홈쇼핑에서 전날 전화로 알려 주긴 했지만 시간 약속 잡아야 하는 설치 기사님이 연락도 없이 방문해서 밖에 나가 있다 급하게 집에 들어와 야 하는 일도 있었네요. 좋은 제품을 저렴하게 잘 샀습니다. 롤이 굴러가는 게 굉장히 부드럽네요. 물 걸래는 생각보다 사용 방법이 좀 불편한 것 같지만 좀 더 써봐야 알 것 같아요. 다이 슨 6 쓰다가 기 변한 건데 소리도 조용하고 흡입력도 만족합니다. 단 청소 솔이 매트 청소 하기는 불편하네요. 다이 슨 은 그래서 청소 솔 타입이 여러 가진 데 요즘 층 간 소음으로 매트 쓰시는 분들 많으실 텐데 이런 부분은 좀 더 에서 보완이 되어 나왔으면 좋겠네요. 집이 작아 늘 작은 청소기만 사용하다가 큰맘 먹고 이상 민 씨 추천으로 주문했어요. 자리 차지도 많지 않아 좋고 삶의 질이 달라지네요. 청소하고 나면 발바닥에 깔끔한 느낌 넘 좋아요. 걸레가 작아 의 심했으나 괜찮네요. 물이 나오는 건지 아닌지 확인이 잘 안 되 긴 하지만 다만 무게가 있어 힘이 좀 든다는 게 아쉽지만 뭐 그런대로 만족합니다. 적립금 받으면 다른 물품 구입도 가능하니 넘 좋죠. 역시 생활 가전은 기존에 쓰던 청소 기가 수명을 다해 급하게 알아보게 되었습니다. 요즘은 컴팩트 무선 청소기가 유행이란 걸 듣고 알아보게 되었는데요 후보 군은 다이 슨 삼성 삼사에 메이 져 모델이었습니다. 우선 다이 슨 은 성능 및 디자인은 맘에 들었지만 아무래도 가 맘에 걸렸고 삼성젭품은 흡입력과 나머지 제품군에 비해 고장이 많다는 점이 걸렸습니다. 그리하여 이 제품을 선택했는데 요일 주일 써 본 결과 대 만족입니다. 고민하시는 분들 두 번 사세요. 일단 팔이 아픈 저에 겐 살짝 무겁다는 느낌입니다. 원래 엘보 때문에 무선 청소기 사용을 꺼렸기 때문에 이건 극히 제 개인적인 생각이고 그럼에도 선이 없다는 게 청소할 때 엄청 편합니다. 진작 살 걸이라는 후회도 했습니다. 두 번째 흡입력은 제가 잘 모르겠습니다. 기존 유선 청소기도 엘지 꺼라 흡입 렵 짱이거든요 대신 소리는 저 소음 맞습니다. 그리고 아랫집 소음으로 인한 피해는 덜 할 것 습니다. 결론은 안 사는 것보다 사서 쓰는 게 낫다는 겁니다. 전에 쓰던 일 렉보다 소음이 훨씬 덜해요. 흡입력도 생각했던 것보단 괜찮고요. 물걸레질은 해봤는데 바닥 물 때 정도는 간편하게 해결할 수 있어서 만족합니다. 기사님도 직접 오셔서 설치부터 설명까지 꼼꼼히 해 주셨어요. 후회 안해요. 잘 산 것 같아요. 여러 회사 제품 비교해 보고 무선 청소기로 구매했어요. 무선이라 손잡이 쪽에 밧 데리 필터 먼지 통이 있어 무겁네요. 청소할 때 밀고 다니 긴 하지만 손에 무게 감이 느껴져 손이 아픈 저는 약간 힘이 드네요. 무선이라는 점과 물걸레 청소를 동시에 할 수 있어서 좋네요. 배송은 운 좋게도 3일 만에 빨리 왔고 기사님이 설치 설명해 주셨어요. 10년 넘게 유선을 썼는데 고장도 안 나서 무선이 갖고 싶었지만 참 다 참다 선택을 하게 되었네요. 처음 무선을 쓰는 데 손잡이가 은근히 무겁네요. 거기에 비해 헤드는 가 벼워서 자꾸 들린다고 해야 하나 그런 느낌입니다. 좋은 점은 수시로 청소하게 된다는 점 집이 좀 더 깨끗해 진 거 같네요. 구석구석 다 해도 바 테리 한 칸 정도 닿아요. 좀 더 써봐야겠지만 흡입력 편의성 땜에 만족합니다. 드디어 기다리고 기다리던 청소기가 도착했는데 짜 잔 일단 외모도 훌륭하구요. 무거울까 봐 걱정했었는데 가 벼워서 미소가 지어 졌어요. 거치대에 모든 사양들을 다 수납할 수 있으니 찾아 다닐 필요가 없구요. 무엇보다 진공청소기 본연의 흡입력 좋아서 이제는 청소 걱정을 덜었어요. 잘 사용 하겠습니다. 많이 파시 고 앞으로도 좋은 가전 잘 만들어 주세요. 기사분이 갑자기 아침에 전화와 서 오늘 오신 다 하시는데 부모님 댁 보 내드리는 거라. 오늘 안 된다 하니 다음 주 연락 주신 다함 다음 줒 연락 없어 문의하니 다시 몰에 주문을 넣어야 한다. 이상한 말씀 하셔서  몰 문의하고 다시 접수함 접수하고 기사분 배정도면 또 언제 배송될지 모른다 함 그 다음날 갑자기 또 바뀐 기사분 전화와 서 배송한다 해서 부모님 집에 계시라 하고 오후에 받음 배송 받는데 이렇게 복잡한 것 처음 봄 주문한 게 기사분께 안보이니 다니 재접수를 해야 한다는 이해 안되는 말씀에 지방이라 어쩔 수 없다는 말씀을 하심 그리고 매장이 아닌 홈쇼핑이라 그렀다며 홈쇼핑으로 주문했냐. 물으시는데 홈쇼핑이면 배송이 이런 식인 건지 광고에는 설치기사 직접 설치 배송을 좋은 것처럼 홍보하고 더 번거롭고 매장 고객과 다른 대우가 화가 났네요. 그것도 선물 드린 건데 양쪽에서 연락 하고 받고 하느라 고생했음 배송은 전체 3 주가 걸렸네요. 10 일 정도 걸렸어요. 부재중이라 배송 후 직접 설치 했어요. 아주 살짝 버벅 됬지만 설명서 보면 금방 조립할 수 있어요. 생각보다 무겁지만 괜찮구요. 소음은 그닥 크지 않습니다. 집 인테리어로 최상인 듯 하구요. 타워 형과 고민했지만 잘산 거 같아요. 아이언 그레이라 고급지구 요 대 만족입니다. 보름 정도 만에 드디어 받았네요. 와인 컬러가 고급스럽고 바이올렛에 더 가까워서 갠 적으로 더 맘에 들어 요소리가 정말 크지 않네요. 2018년에 산 일 렉 청소기 쓰고 있었는데 코드 제로가 훨씬 소음이 적어요. 분리 세 척이 용이 하고 몸체도 슬림한 게 정말 잘 샀다 싶어요. 청소 기 고민을 오래 했는데 할 필요 없는 고민이었고 받아 사용해 보니 고민했던 시간들이 아깝지 않게 큰 만족감을 줍니다. 너무나 사고 싶었던 청소기 유선 청소기 사용하다가 선 줄 때문에 이동이 불편해서 무선 청소기가 갖고 싶어 구매 할려고 고민 중에 삼성 제트 청소기를 선택할지 코드 제로를 선택할지 여러 가지 기능성이나 가성 비 비교해 본 결과 가 여러 면에서 좀 더 나은 것 같아 구매 결정 아이들도 자기 방 스스로 청소할 만큼 선이 없어 편하고 좋네용. 아직 하루 차이지만 만족하고 사용 중입니다. 그런 데 설치 배송이 굳이 필요한 제품인지 모르겠어요. 게다가 이 시국에 말이죠. 그리고 화요일에 배송한다는 문자가 오고 월요일에 몇 시에 방문할지 연락이 올 줄 알았는데 안 와서 1차 당황 화요일 오전 8시 20분에 기사님께서 8시 반 9 시 사이에 가도 되냐고 연락 와서 2차 당황했어요. 최소한 전날엔 연락해서 약속 잡아야 하지 않을까요. 오후엔 안 된다고 하셔서 결국 수요일 아침으로 잡았어요. 10분이면 끝나는 설치 배송이지만 집에 없을 수도 있는데 너무 당일 연락 후 방문인 거 같네요. 큰맘 먹구 샀는데 넘 좋아요. 냥이 2마리가 있어서 자주 청소기를 돌려야 해서리 기사님 오셔서 설치해 주시고 설명까지 잘 해 주셨어요. 전에 사용하던 거 먼지 버릴 때 불편했는데 코드 제로는 완전 따 봉입니다. 털 빨 림 아주 좋습니다. 감사합니다. 잘 쓸게요. 열지 코드 제로 9 구입하고자 하시는 분 도움 되셨음 해서 올려 여성능은 보통 디자인은 굿 배송은 엄청 느려 여 인 내심 가지고 기 다려야 하실 듯 2 주는 소요시간 배 송 주문 후 생산 들어간다는 군 요 기사님들 설명은 기다린 만큼 친절하시고 구매하고 늦게 리뷰 보니 배터리가 문제 더군요. 알뜰하신 분은 무척 고려하셔야 될 듯해 여 깔끔하신 분은 속 터 저버려 여 물걸레 청소는 포함 입니다. 결혼 24년 만에 첨으로 큰맘 먹고 비싼 무선 청소 기 구 햇어용. 와우 생긴 모습 두 듬직 허니 조 코 용 일단 유선에 웅장한 소리와 딜 리 소음 이 아주 작아 조아용 아침 잠 없는 울 아 덜 이 청소기 돌리는 못 들었다구. 할 정도로 쉿 해요 동글이 방 걸레 두 짱입니다용. 명절 지 내러 와서 사진 첨부 못하는 것이 아쉽네용. 강력 추천에 별 만 땅 요. 이 제품 받고 나서 올인원 타워 제품이 눈에 들어왔네요. 이미 개봉을 해서 반품 교환은 안 된다고 해서 아쉽게도 물 건너갔네요. 2030 만원 더 주고 올인원 타워 제품을 구매하길 추천합니다. 먼지를 따로 비울 필요 없고 거치대가 별도로 있어서 인테리어 효과도 좋은 것 같아요. 하지만 이 제품도 성능은 올인원 제품과 거의 동일한 듯 요 기성 비로 따지면 좋습니다. 배송이 엄청 빨리 왔어요. 계속 찜해 놓고 눈여겨 보다 가 드뎌 구매했네요. 컬러 고민하다가 아이언 그레이를 선택하길 잘한 거 같아요. 넘 넘 맘에 들어요. 청소도 한 번에 싹 물걸레질까지 하니까 좋아요. 더구나 무선이라 안 끓고 다녀서 좋아 요소리도 기존 쓰던 것보다 작아서 좋아요. 다만 무거운 감이 좀 있어 요지 인들에게 이 제품 추천해 주고 싶어요. 강추 강추. 주문하고 20일 걸려서 받았어요. 인기가 많아서 인지 21년 10월 제조로 따끈따끈 한 제품 받았습니다. 기사님과 시간 맞추기 힘들어 조립을 혼자 했는데 생각보다 어렵지 않고 사용 감도 전에 쓰던 일 렉과는 확실히 차이가 나요. 흡입력도 좋고 아주 만족해요. 물걸레 청소도 나름 잘 쓸 듯합니다. 역시 가전은. 살짝 무게 감이 있는데 손목에 무리 갈 정도는 아니에요. 길이 조절이 아래에 잇어서 좀 불편합니다. 베 터 리가 1 개여서 아쉽네요. 흡입력이 엄청 좋은 거 같진 않아요. 오히려 싸게 주고 산 무선 청소 흡수력이 더 좋아요. 물걸레 기능이 같이 있어서 그 부분은 좀 편한 거 같아요. 따로따로 하지 않아도 되니 시간도 절약되니 좋습니다. 물걸레 키트가 까다로운 제 맘에 만족할까 의 심스러웠는데 얼룩진 부분을 잘 지 울 정도로 맘에 듭니다. 단지 좀 아쉬운 점이 있다면 배터리 무게 때문인지 손목이 좋지 않은 저에게는 좀 무겁다는 느낌입니다. 가전은 엘 지라는 말이 있듯이 9 청소기로 깔끄미로 다시 태어나야겠어요. 판타지 실버는 엄마 선물해 드리고 전 아이언 그레이 구매했어요. 배송이 생각보다 늦은 거 빼고는 다 만족스러웠어요. 설치 기사님도 너무 친절하고 사용 방법도 자세히 말씀해 주셔서 기분 좋았구요. 무엇보다 청소 기가 소음이 크진 않은데 흡입력은 좋아서 넘 만족 물걸레까지 함께 사용할 수 있으니 더욱 좋네요. 유선 청소기로 이 방 저 방 다니기 너무 불편했는데 이 거 하나로 청소할 때 기분이 달라졌어요. 엄마도 쓰기 편하다 하시네요. 잘 사용할 게요. 전 사용 청소기는 끌고 다니면서 청소할 때 많이 힘들고 청소 오물도 버리기가 안 고 전기 코드 선 이라고 불편함 많아 고 핸드 형 무선 9 물걸레 키트 거치대 구입하고 사용 해보니 신세계 만난 네요 손목도 안 아프고 편리 하네요. 완 충 전시 3시간 정도 후에 일반으로 30분 정도 하면 물걸레까지 합니다. 그리고 나서 충전 참고로 아이 있는 집은 보조 배터리 추가 구입 하는 게 좋을 것 같네요. 보조 배터리 추가 구입 후 충전 할 수 있는 보조 거치대 있으니 걱정 안 하셔도 됩니다. 배송기간이 넘 길었지만 저렴한 청소기를 사용하다. 9를 사용해 보니 신세계가 따로 없네요. 일단 저 소음 강력한 흡입력 먼지 통에 쌓이는 먼지를 보니 놀랍습니다. 색상도 넘 맘에 들고 단 무게는 생각보다 가볍지는 않은 듯하고 물걸레는 그닥 기존에 쓰고 있는 스윙이 더 좋은 듯 하네요. 가벼운 물걸레질 할 때 쓰면 될 듯 합니다. 충 전지 하나 더 구입할 예정입니다. 아무튼 만족스럽습니다. 고장 없이 잘 썼으면 하네요. 상품권은 언제 주시나요. 기존에도 엘지 무선 청소기를 쓰던 차라. 이번에도 엘 지로 구매했어요. 솔 찍 히 조금 무겁지만 흡입력 디자인 모두 맘에 들어요. 다만 물걸레 청소는 기대에 못 미치네요. 이 왕 같이 구매하도록 할 거면 걸레도 두껍고 닦는 느낌도 들게 만들었음 좋았겠네요. 아무튼 저렴한 가격에 사은품까지 잘 산 거 같아요. 물걸레 키트 포함 상품입니다. 물걸레 4개 10 18 주문 10 30 설치 받았습니다. 설치기사 두 분이 오셔서 직접 설치해 주십니다. 주문하고 아무 연락 없다가 주문 후 10일 후에 전자 배송센터에서 설치 일자 확인 카 톡 받고 설치 받았어요. 다른 구매자 분들이 궁금해 하실까 봐 평 남깁니다. 무선이라 편하긴 해요 디자인 예쁘고 소음도 적 고 흡입력도 줗 고 그런데 아쉬운 점이 있어요. 첫째 무거워요. 무게 중심이 위쪽에 있어서 팔이나 손목 관절이 약한 사람은 상당히 부담이 가는 무게입니다. 개인적인 느낌입니다. 둘째 청소기를 밀다가 잠깐 멈출 때 그 자리에 세울 수 있는 기능이 없어요. 그래서 바닥에 뉘어 놓던 가 어디에 비스듬히 기대어 놓기도 하는데 위쪽이 무거워 그것도 쉽지 않아요. 기대 놓았다가 넘어지면 깨지기라도 할까 주로 바닥에 뉘어 놓는데 상당히 불편합니다. 저렴한 청소기도 이 기능이 있던데 이런 고가의 청 소기에 왜 이 기능이 없는지 이해 불가 입니다. 그리고 한 가지 더 공기 순환 팬이 손잡이 쪽에 있어서 청소기를 가동할 때 바람이 얼굴로 오는 경향이 있는데 그 바람을 쐬도 괜찮을지 걱정도 됩니다. 가 전은 거의 를 쓰는 데 이번 청소기는 가격 대비 살짝 실망입니다. 지난번 청소기 화려하게 너무 먼지 흡입력 잘 되게 광고 해 속 아서 구입했습니다. 그레서 이번은 로 구입 집안의 모든 제품 를 믿고 구입 발 등을 안 찍힌 듯 합니다. 청소 아주 잘 되고 디자인도 깔끔하고 벽에 고정시키니 손자가 잡아당겨도 걱정 뚝 넘 맘에 듭니다. 코드 제로 3 년째 쓰는데 너무 좋아서 이번에 엄마 선물해 드렸어요. 유선 청소기 쓰시다가 코드 제로 쓰시니 편하고 좋으시데요. 간만에 효도 했네요. 배송도 빠르고 저렴한 가격에 하자 없는 좋은 물건 보내주셔서 감사 해요 번 창 하세요. 디자인에 반해서 오랫동안 벼르고 별러서 샀어요. 기사님이 청소기를 꺼낸 순간 우아한 와인 색에 디자인은 말 할 것도 없고 넘 반해 버렸네요. 솔직히 기능은 그다지 기대 안 했는데 흡입력 좋고 힘들이지 않고 잘 밀리고 소리까지 조용하네요. 배터리 하나라서 부족할까 걱정했는데 방 2 거실까지 다 밀었는데도 배터리 한 칸이 남아 있었어요. 어느 것 하나 버릴 것이 없는 똑 소리 나는 청소기네요. 강추 강추. 생각보다 무겁 진 않지만 그래도 전에 사용하던 무선 청소기들 보단 주로 제품 무게감이 있습니다. 물걸레는 자주 사용하게 되 진 않을 듯 한데 일단 걸레가 너무 작고 갯수가 적어 거실이랑 방 하나 청소하고 나면 바로 빨아 다른 곳들 청소를 해야 해 조금 번거롭게 느껴지기 때문입니다. 흡입력이나 소음 정도는 맘에 들어요. 일단 상품 자체는 엘지 상품이니 받았을 때 특별한 하자나 문제는 없는 것 같습니다. 가격도 타 홈쇼핑이나 임 터 넷 사이트 대비 포인트 신용카드 할인 등으로 싸게 잘 샀습니다. 다만 배송은 문제가 좀 있는 것 같네요. 처음 시킬 때부터 특별하게 배송에 대해 얼마나 걸릴 지에 대한 상세 안 내가 주문 시 확실하게 보여 지는 거는 없는 것 같구요. 미리 고객센터에 전화하기 전에는 언제 올지 얼마나 늦을 지에 대한 사 전 안내가 전혀 없습니다. 주문 후 17 일째 배송되었음 타 홈쇼핑이나 플랫폼 대비 고객들에 대한 배려가 좀 없었던 거 같습니다. 물론 직접 발주하고 배송하는 상품은 아니지만 판매자 입장을 고려 시 충분하고 정확한 사 전 안내가 필요할 것 같습니다. 다른 고객 분들이 보신다면 충분한 배송 기간 고려하시기 바랍니다. 아아. 무선 청소기는 첨 써 보는데 확실히 이동이 편해서 그냥 막 자주 쓰게 되니 그게 젤 좋네요. 무게 감은 아무래도 헤드 부분이 무게가 있다 보니 손목이 좀 아프긴 하더라. 구요 근데 감안하고 쓸 만 하고 빈티지 와인 컬러도 넘 맘에 쏙 들고 흡입력이나 전 만족스럽네요. 여러 군데 살폈는데 현대 몰이 다른 곳보다 많이 싸네요. 이 좋은 걸 그동안 왜 고민하고 망설였는지 세월이 안타깝네요. 아침마다 머리카락 때문에 청 소기 잠깐 돌릴 때마다 아래층에 미안 했는데 이거는 소음이 거의 없고 가볍고 진짜 물걸레 청소 기적이네요. 흡입하면서 걸레 청소까지 하니 너무 편합니다. 청소기 구매하면서 다이 과 비교하면서 구매 결정한 이유는 문제와 손잡이 부분을 누르면서 작동해야 된다는 다이 말도 안 돼 하면서 코드 제로 선택 탁월한 선택이었네요. 무게도 숟가락들 힘만 있다면 누구나 밀고 다닐 정도 고 소음도 늦은 밤에 밀어도 유선에 비하면 껌 값 수준이고 물 거레 청소까지 할 수 있어서 너무 좋구 러 왜 이 제 샀나. 이제 라도 청소가 즐 겁네 배송도 빠르고 기사님이 너무 친절하게 자세한 용도 설명 해 주시고 감사감사 잘 쓰겠습니다. 주문 후 배송도 생각보다 빨랐고 가격도 이 정도면 괜찮은 것 같아요. 어제 설치 하고 오늘 테스트 겸 작동 해봤는데 일단 소음이 작아서 좋았어요. 흡입 청소부터 하고 물걸레 청소 해 봤는데 저는 만족합니다. 저녁에 돌려도 전혀 지장 없을 것 같아요. 다이 슨 청소 기가 배터리 수명이 다 해서 급하게 산 건데 괜찮습니다. 다만 와이 파이 연결이 몹시 불편해요. 전원 켰을 때 소리가 너무 작아서 흡입력이 약할까 봐 걱정했는데 흡입력은 좋아 요고 양이 모래 때문에 정말이지 이전 청소기는 모래를 자꾸 도로 뱉어서 새로 구입했는데 모래가 넘나. 잘 빨려서 개운합니다. 다 좋은데 한 번 돌리고 나니 손목이랑 어깨가 겁 나 아파요. 처음 딱 들었을 때는 무겁다고. 전혀 못 느꼈는데 청소 기질을 하면 뭔 가 겁 나 손목과 어깨에 부담이 옵니다. 암튼 청소는 잘 돼요. 근데 진짜 손목이 어깨가 아파요. 지금 사용하는 청소기가 너무 무겁고 유선이라 불편하고 코드 제로가 가볍다고. 물걸레가 포함된 상품이어서 구매를 결정했는데 너무 배송도 오래 걸리고 청소기 자체도 가볍지 않네요. 결코 디자인은 깔끔하고 고급스럽고 모든 옵션이 한꺼번에 관리할 수 있어서 그 점은 만족이예요. 색상도 깔끔하니 화면보다 화사 하네요. 제 건 실버예요. 배송은 1 달 가까이 걸린다는 거 재촉해서 겨우 받고 써 보니 기 대만큼 만족스럽지는 않네요. 이 가격을 주면서 까지 사서 쓸 만큼 좋지는 않은 거 같아요. 주변에서 비 추천이라고 했지만 무선이라 편할 거라. 생각하고 샀는데 돈이 아깝다는 생각이 들어요. 개인적으로 유선이 선이 불편한 거 빼고는 흡입력 가격 편하게 쓰기는 좋은 거 같아요. 배송이 늦는다는 설명 없었고 설치도 다 해 주고 해피 콜 시 환불해도 된다고 방송에서 그렇게 자랑하더니 10일인가 15일 후에 배송되었고 해피 콜이라는 단어가 무색하게 전화와 서 언제 갈 건데 집에 있냐고 바로 묻더라구요. 집에 없다니까 설치 쉬우니까 보내주는 동영상 보고 설 치하라고 그리고 유선만 쓰다가 첨으로 무선 사 봤는데 너무 무거워서 손목도 아프고 파워가 약해서 공 청기 필터 청소하는데 잘 못 빨아들이네요. _ 후회하지만 어 쩔 수 없이 그냥 씁니다. 흡입 청소가 잘 안 돼서 금방 진동이 심해 지면서 꺼지곤 하네. 요충 전이 제대로 안 되었나. 방 전되었나. 하면서 에 전 유선 청소기를 사용하면서 다시 시도 해보곤 했는데 오늘은 신청하려고 구입 일자 확인 겸 열었습니다. 많이 속상합니다. 오래 기 다려 받았네요. 이제 3 일째 사용 중 입니다. 흡입력은 좋으나 아무래도 무게 중심이 위에 있다 보니 무게 감은 어쩔 수 없겠죠. 버릴 때 먼지 날림 적은 건 정말 맘에 들어요. 흡입력이 좋은 게 불편한 부분도 있네요. 카페 트나 놀이방 매트 깔려 있는 곳은 딸려 올라와서 청소하기 힘드네요. 먼지 날림 적은 것과 배터리 오래 가는 걸로 만족해야 겠죠 엘지 도 믿음이 가니까요. 부모님 선물로 구입했어요. 연말이라 배송이 늦을 줄 알았는데 거의 24시간 만에 와서 진짜 총알 배송해 주셨어요. 제가 먼저 쓰고 있어서 기능에 아주 만족해서 부모님께도 사 드렸어요. 택배 배송이지만 조립에 어려움은 없었습니다. 잘 쓸께요. 유선보다 무겁고 힘 약한 건 맞는데 베 터 리가 한 20분 쓰면 골골 대니 서비스가 보려 다가 상세 설명 작은 글을 읽어 보니 강 모드가 30분이네요. 흡입구 작은 거 바꿔 쓰거나 하면 더 줄어들 수 있고 근데 강안 쓰면 청소 안 되는데 34평밖에 안 되는 집 청소를 여 차하면 두 번 나눠 할 판입니다. 충전 풀하고 20분도 안 되 서 한 칸 남으니 그나마 물걸레가 가장 맘에 드는데 기존 유선이 물걸레도 되는 거라. 비교가 되었는데 모양은 같지만 써 보니 코드 제로 가 세밀히 밀 착력 좋아요. 바닥 청소가 되는 거 같아 좋습니다. 베 터 리 2년 보상이라니. 좀 더 써 보고 서비스가 봐야겠네요 창틀 청소 같은 건 흡입력 약해서 그냥 물 티슈로 하게 되네요. 청소기 교환 시기된다면 저는 귀찮아도 유선을 사겠네요. 헤드는 무게 감 때문에 손목이 아픕니다. 전에 쓰던 것도 무거운 편은 아니었는데 이건 훨씬 가볍네요. 소음도 적어진 듯하고 브러시 탈 착 버튼 먼지 통 먼지 제거 버튼 이 생겨서 관리가 더 용이 하겠어요. 물걸레는 아직 써 보지 않았지만 더 가볍게 청소할 수 있게 돼서 후회 없는 구매입니다. 기대했던 대로 이 쁘고 고급스럽네요. 먼지 비 움 기능은 필요하지 않아서 올인원 타워를 선택하지 않았어요. 가격도 좋고 기능도 좋습니다. 흡입력이 강력해서 쓱쓱 청소가 쉬워요. 다만 무게가 제법 있어 요들고 다닐 건 아니니 큰 상관은 없어요. 핸들링이 좋아서 무게 감은 크게 느껴지지 않아요. 다이 슨 쓰다가 갈아탔는데 소음은 적지만 흡입력 이 상대적으로 약하게 느껴지고 몇 번 씩 왔다 갔다 해도 잘 청소가 먼지 은 머리카락이 들어가니 아무리 눌러도 압축되지 않고 손으로 다뺐 어요. 아직 서툴러서 그런지 모르지만 충전도 다 된 상태였음. 올인원 타워가 첨가된 걸로 착각해서 구매했어요. 그냥 잘 쓰지만 나 같은 사람이 더러는 있는지 궁 굼합니다. 1 일 날 주문해서 20일 넘게 기 다려 받고 쓸 줄 몰라 헤메느라 고생했는데 올인원 타워만 따로 구입할 수 없을까요. 이젠 기계 치가 되 서 설명서를 읽어도 이해가 잘 안 되서요. 디자인도 깔끔하고 부드럽게 잘 밀려 요 물걸레 청소기도 물이 자동 분사되고 잘 닦이네요. 간혹 남아 있는 머리카락이나 먼지도 동시에 빨아들이면서 물걸레질 할 수 있어서 넘 좋아요. 아쉬운 건 흡입력은 유선 청소기를 못 딸 아가네요. 기대했던 제품 싸게 사서 좋습니다. 선 꼽고 빼고 끌고 다니기 짜증 났는데 무선이라 넘 좋아요. 조용하고 흡입력도 좋고 부드럽게 밀리는 감도 좋고 컬러 와인으로 변경하길 잘했어요. 고 급 스러워요. 제품들 믿고 선택하게 되네요. 기사님들께도 감사 드립니다. 너무 마음에 들어요. 추천합니다. 신제품은 가루 응애 때 문에 포기하고 9 로 구입하기로 결정하고 15일 기 달리고 받았습니다. 무겁지 만 하루 지나면 무겁다는 생각 없이 너무 잘 사용하고 있어요. 11월 행사로 청 소기 가격이 다운되어서 10월 마지막 날 받은 저는 좀 슬프긴 합니다. 전에 사용했던 것은 모터가 아래쪽 이번 제품은 위쪽에 있어 어색하고 손목이 좀 불편하네요. 적응 기간이 필요 할 것 같아요. 배송 일정을 당일에 주셔서 하루 이틀 전에 연락 주시면 좋을 것 같아요. 포인트 등 많은 가격 혜택을 받아 저렴하게 구입했습니다. 배송 예상 날짜가 11월 달로 되어 있어서 기다리자 하고 있었는데 예상 날짜보다 일찍 도착했어요. 그레이로 주문하면서도 실버랑 계속 고민했는데 그레이 예쁘네요. 청소기 무겁 긴 해요 근데 흡입력은 좋아요. 매트 위에서도 어느 정도 사용이 가능해요. 전체적으로 만족합니다. 유선 청소기 쓰다가 정말 고민 고민 하다 장만한 청소기 코드 제로 유선 청소기 쓰다 무선을 사용 하니 신세계를 영접하는 기분이네요. 전에 쓰던 청소기에 비해 소음도 적 고 물걸레 청소와 흡입 청소를 동시에 할 수 있으니 정말 편하고 좋아요. 다른 여러 제품에는 없는 기능 물걸레 기능 이라 엘지를 선택한 이 유 중에 또 하 나 죠 거 실 정 중앙에 두고 바로 바로 사용 할 수 있어 정말 편 하네요. 거치대에 모든 것 들어 다 걸어 놓고 흘수 있어 지저분 하지도 않구요. 가격이랑 제품 모두 모두 만족하고 좋아요. 그리고 제품을 택배로 오지 않고 기사분들이 직접 오셔서 설치 설명해 주시는 것도 좋았어요. 상자들 고 다 정리해 주시고요. 더 좋은 제품 많이 만들어 주셔서 편리한 제품 사용할 수 있게 해 주시고 같은 제품 싸게 살 수 있게 해 주는 도 감사해요. 엘지 청소기 먼지벌레 때문에 무서워서 일부러 청정 스테이션 없는 걸로 샀는데 확실히 써 보니 청정 스테이션 있는 게 더 편했을 거 같긴 해요. 사고 후회하는 나란 여자 청소기보다 먼저 타 홈쇼핑에서 식기세척기 샀는데 그건 아직 연락도 없는데 생각보다는 빠르게 배송되서 좋았어요. 잘 써 볼게요. 1010 일 방송 중 구매하고 정확히 18일 만에 받았습니다. 청소기 흡입력은 무난한 것 같습니다. 무게는 줄었다고. 하나 배터리 무게 등 여전히 묵직하긴 하네요. 그래도 유선에서 무선으로 바꾸니 편리함이 최고 강점이네요. 배터리가 소모품인지라 유효기간을 2년 정도로 본다고 하는데 그 때마다 배터리 비용 10만원 정도가 계속 든다는 점은 기사님을 통해서 들었습니다. 샀다고. 끝이 아니네요. 한 번에 두 가지를 할 수 있다니. 누구 말대로 신세계네요. 근데 넘 넘 좋은데 무거워서 팔이 아파요. 벼르고 벼르다 일시불에 카드 할인으로 쬐끔 싸게 구매했네요. 배터리가 두 개인 줄 알았는데 한 개라서 아쉽네요. 고장 없이 오래 쓰고 싶네요. 9월 25일 주문했다가 그 사이 가격이 떨어져서 취소하고 10월 7일 다시 주문해서 10월 16일 받았네요. 생각보다 무거운 거 빼고 다른 건 괜찮습니다. 다만 배송 좀 신경 써야 할 것 같네요. 주 문 후 상품 제작 중이라고 기 다리라고 하면서 주문은 계속 받고 홈쇼핑에도 계속 나오고 청소 기가 한 달 있다 고장납니다. 이러고 고장 나는 것 고 아니고 갑자기 고 장 나서 주문하는데 이건 아니라 고 생각합니다. 암튼 배송 빼고 다 만족. 기존 사용하던 청소기보다 소음도 작고 흡입력도 좋고 물걸레 청소도 비교적 잘 닦이는 것 같아요. 다만 배터리가 상부에 있다 보니 손목 안 좋은 저는 살짝 무겁게 느껴지네요. 그래도 세일 기간에 좋은 제품 할인 많이 받아 잘산 것 같아요. 빅 세일 기간에 저렴하게 구매해서 너무 기분이 좋습니다. 청소 기 사용을 해 봤는데요 모터가 위에 있어 약간 손목이 아프긴 했는데 오래 사용하다 보면 적응이 될 거 같아요. 물걸레는 너무 만족하며 쓰고 있어요. 너무 깨끗하게 닦여 요. 다이 슨 청소기와 삼성 제트 청소기 여러모로 비교하고 결정한 코드 제로 9 정말 탁월한 선택이 예요 외관도 너무 이쁘고 기사님의 친절한 설명으로 한 번 작동해 보니 무게 감도 적당하고 작동 소리 또한 적당하며 앞으로 우리 집 청소를 맡겨도 되겠네요. 잘 쓸께요. 방송 보다 가 홀린 듯이 구입했는데 정말 좋아요. 단점이라면 남편이 청소 기만 사 주고 청소는 안 해 줘요. 그리고 로봇 청소기가 할 일이 없어 졌네요. 기사님이 시간 조정도 해 주시고 사용법도 설명 잘해 주시고 설치도 잘 해 주고 가셨어요. 앞으로 열일했으면 좋겠네요. 꼭 알고 사세요 구매 후 고작 청소기 하나 받는 데까지 28일 소요됩니다. 배 송은 하나도 출발하지 않아 타 구매자들은 난리인데 현대 홈쇼핑에서 판매는 계속 진행됩니다. 홈쇼핑 방송도 계속 나옵니다. 판매 내용에 배송 지연된다는 어떠한 고지 사항도 없습니다. 고객센터 코로나다. 뭐 다 전화 연결 단 한 번 안 되고 물품 취소조차 되지 않습니다. 문의 글 참고 하여 어떤 사태가 일어났는지 확인해 보세요. 무조건 구매 후부터 배송까지 한 달 소요됩니다. 앞으로 현대 홈쇼핑이 던 어 플이 던 절대 재구매 계획 없고 이 거 쓰고 탈퇴합니다. 손 절. 배송이 정 말 느려서 잊어버리고 있어야 건강에 좋아요. 청소기는 개인차가 있겠지만 두 손으로 잡고 해야 안정감이 있어요. 줄이 없어서 편안함은 있지만 계속 충전 시키는 불편함도 있어요. 먼지 통도 작아서 매일 비워야 되 구요. 너무 마음에 들어요. 추천합니다. 라이브 방송 때 저렴하게 구매했어요. 엄마 사 드렸는데 편하다고. 좋아하세요. 다 과 비교해 보니 스틱 길이가 키 작은 여성에게는 이게 좋고 제가 봤던 제품은 버튼을 계속 누르면서 작동해야 된다고 해서 손목 아픈 분께는 맞지 않겠다 싶어서 이거로 했습니다. 나 이드 신 분들은 이게 좋은 거 같아서 선택했어요. 시어머니께서 필요하시다고. 하셔서 대신 구매 해 드렸어요. 배터리가 하나인 게 좀 아쉽긴 힌 데 용량이 이 전 것보단 커졌다고. 하니 괜찮을 듯 해요 1 월에 이사 가시고 나면 사용하신다고 해서 기사님께서 오셨지만 말씀드리고 조립 안 하고 구성품만 확인해 본 상태라. 이 제품은 아직 시용 전 이지만 제가 이 전 모델 사용하고 있어서 말씀드리면 코드 제로 9 정말 편하고 좋아요. 배터리가 위에 있어서 좀 무거운 감은 있지만 코너링도 좋고 20평 대 아파트는 배터리 하나로 충분하고 유선 청소기에 비할 순 없겠지만 흡입력도 만족해요. 따로 구입한 물걸레 키트도 굉장히 만족하며 쓰고 있어요. 강 추입니다. 생각보다 좀 무겁고 흡입력이 센 것 같지는 않지만 물걸레 청소 기능이 좋군요. 그리고 배터리 사진이 따로 있어서 배터리 두 개 챙겨주시는 줄 알았는데 배터리는 하나만 보내셨네요. 아주 오래 기다렸지만 만족합니다. 상품권은 어떻게 보내주시는 건가요. 배송은 너무 느립니다. 청소기는 유선만 쓰다가 무선으로 바꾸었더니 바닥에 먼지가 보이면 바로바로 돌릴 수 있어서 너무 편하고 좋고요. 물걸레 헤드만 바꾸어 주면 물걸레 사용도 편해서 좋답니다. 무선 청소기의 먼지도 흡입도 좋지만 유선 흡입력이 조금 더 좋네요. 배송이 이렇게 늦을 줄 몰랐어요. 주문 확인 후 제작이라 그렇다네요. 장점은 물 청소까지 한 번에 된다는 점 단점은 베 터 리 때문인지 너무 무거워서 손목이 아프네요. 기존 쓰던 것 보다 넘 무거워요 그리고 베 터 리 시간도 이렇게 짧을 줄 몰랐어요. 30평 사는 데 여분 베 터 리는 필수였네요. 추가로 사야겠어요. 다른 사이트에서 주문했다가 2 주가 지 나 도 깜깜 무소식 었는데 우연히 신세계 몰에서 더 저렴하게 판매하는 걸 발견하고 그전 상품은 바로 취소 후 주문했어요. 배 송도 바로 해 주셨고 추가 할인까지 받아서 좀 더 저렴하게 구매했어요. 헤드 부분이 부드러워서 소파 아래까지 청소하기 수월하고 소음도 생각보단 그리 크지 않아 만족합니다. 상품 품질이 좋습니다. 마음에 들어요. 잘 받았습니다. 감사합니다. 선물 주려고 집으로 받아서 주려고 하는데 무슨 설치하고 사진을 꼭 찍어야 한다고 해서 너무 불편하게 다시 주소 변경해서 햇더니 3주나 걸린 시간을 또 3주 걸리더군요. 진짜 그건 아닌 것 같습니다. 좋은 가격에 잘 구매했습니다. 아직 써 보진 않았어요. 뭐 코드 제로 좋은 건 다 아는 사실이니깐요 직장 때문에 설치는 못 받아서 감사하게도 기사님께 선 아침 일찍 연락 주셨는데 죄 송 죄 송 그래서 제가 직접 설치해 봤어요. 어렵지 않았어요. 뭐 잘못된 건 없겠죠. 다른 저렴. 이 제품 쓰다가 받으니 너무 좋네요. 생각보다 슬림이라 가볍고 오브제 비싸서 고민했는데 저렴하게 잘 구성 받아 산 거 같아 여 엄마도 너무 좋아하시고 기사님들도 친절하게 잘 알려 주셔서 감사해요. 물걸레를 건조 하는 시간이 오래 걸리지만 역시 코드 제로네요. 추천 드려요. 원래 이런 느낌인가요 손 잡이 부분에 바 떼 리가 있어서 그런지 청소기를 들었을 때 무거운 느낌이 더 들고 청소할 때 어깨가 아파요. 편하게 팔 내리고 청소하면 좀 낫기는 하나 청소기 입구 부분이 무게감이 없어서 아직은 불편하네요. 물 청소가 되면서 청소를 같이 할 수 있는 건 좋은 것 같애요. 다이 슨 삼성 고민 하다 구입 했어요. 충전 뒤 바로 사용해 봤는데 한 손으로 하긴 좀 무겁다 싶은 거 빼곤 흡입력도 좋고 부드럽게 회전 하고 소리도 크지 않아 좋네요. 고민 많이 하고 구입한 만큼 고장 없이 오래 사용했음 좋겠어요. 기존 유선 청소기 쓰다가 바꿨는데 만족합니다. 좀 무겁 긴 하지만 유선 청소기 끌고 다닌 거에 비하면 가 벼운 편이라고 생각합니다. 흡입력은 유선 청소기에 비할 바는 아니지만 청소에 문제가 될 정도는 아닙니다. 유선에 비해 수시로 청소하게 되었다는 점에서 만족합니다. 부모님 댁에 하나 제 꺼 하나 샀는데 부모님께 서는 흡입력이 약하고 물걸레질이 잘 안 된다고 하셔서 제가 부모님 꺼 가져 다 쓰고 제 꺼는 반품 신청 해 놨네요. 가벼운 물걸레질은 할 만 해요. 머리카락이나 먼지 정도는 흡입 잘 되고요. 조금 비싸지만 쓸 만 하다 생각합니다. 근데 반품 신청은 에러 사항이 많네요. 왠 만 하면 쓰자는 주의 라 반품 처음 하는데 복잡하고 물건 수거도 안 되고 결제 취소는 언제 될 란지. 무게 감은 좀 있는데 흡입력이 좋고 청 소통 비울 때 모아 주는 게 정말 좋아요. 물 걸래 청소할 때 먼지 있음 다시 청소기 사용해야 하는데 코드 제로 9 9370 청소기 는 같이 사용되는 것도 너무 좋아요. 충전하고 사용 시간도 다른 거보다 길어서 청소하는데 불편함이 없어요. 청소기 바꾸고 청소하는 게 어렵지 않아요. 저렴하게 잘 샀어요. 주변 마트는 다 가봤는데 비싸서 고민 중 켜는 순간 방송하길래 바로 주문했네요. 전 일시불 할 인과 카드 할인 홈쇼핑 쿠폰 할인까지 사용해 보니 1 단계로 해도 잘 빨아들여 굳이 터보로 사용할 필요는 없는 듯 해요 설치 해 주시는 분이 친절하게 자세히 설명해 주셨어요. 이사하면서 구입하게 되었는데 물걸레 청소 둘 다 다 되어 간편하게 쓸 수 있고 조금 무거운 감은 있지만 한 번에 두 가지 청소 할 수 있어 좋고 터보 기능을 1 단계 올려서 하면 청소가 더 잘 되네요. 바닫 롤링도 부드럽게 되어 좋습니다. 이전에도 엘지 무선 청소기를 쓰고 있었지만 9 은 차원이 다른 청소기인 대신 가격이 있어 많이 망설였어요. 다이 슨 도 고민 고민 하다 배터리 유지비 때문에 안 샀는데 이건 계속 눈에 밟히더라고요. 괜찮은 혜택에 구입했는데 흡입력 좋네요. 많이 시 끄러운 편은 아니 고요 다만 파워로 해야 원하는 대로 청소가 돼서 아쉬워요. 직접 설치까지 해 주시고 거치도 쉬워서 좋습니다. 배송이 지연되서 불만이 조금 있었지만 사용하는 것은 편리합니다. 물걸레 청소가 동시에 이루어져서 무엇고 다 편리하며 청소도 깨끗이 잘 되어서 만족합니다. 다만 무게 감이 있어서 양손 번갈아가며 사용하는 번거로움이 있지만 소음도 적 고 흡입력도 좋아서 상품에 만족합니다. 주문한 지 20일 만에 받음 만들어서 갖고 오는 지 원 그 냥 택배로 보내도 될 것을 기사는 무슨 아무나 조립하면 될 것을 흡입력 약함 소음적 음 물걸레는 따로 있는 거 쓰는 게 나 음 일 렐♡ ♡ ♡ 쓰다 고장 나서 바꿨는데 그거 두 개 살 금액이므로 그거 쓰는 게 나을 뻔 별로 좋다고. 볼 수 있는 게 없음 떨어뜨릴 수 있고 쓸어 질 때 깨질 수 있을 거 같아 조심스러움 힘이 센 나도 무거움 느낌 비쌀 이유가 없는 거 같음. 남친이 마트에서 테스트 해 보고 어찌나 졸라 대던 지 마침 해당 방송이 있어서 좋은 혜택에 구매했습니다. 총알 배송까진 아니어도 상태 양호하게 잘 도착했다고. 하구요 기능은 물걸레 청소까지 실용적이라고 합니다. 이전에 사용하던 청소기는 작동 중엔 스위치도 계속 누르고 있어야 하고 의 외로 불편하던 부분이 상대적으로 익숙한 방식이라 만족한다고 합니다. '}, {'제품명': 'LG전자 A9S 오브제컬렉션 AO9471WKT', '가격': '1,059,000', '평점': ['평점5', '평점5', '평점5', '평점5', '평점5', '평점5', '평점5', '평점5', '평점4', '평점5', '평점5', '평점5', '평점5', '평점5', '평점5', '평점5', '평점5', '평점5', '평점5', '평점4', '평점5', '평점3', '평점5', '평점5', '평점5', '평점5', '평점5', '평점5', '평점4', '평점5', '평점4', '평점5', '평점5', '평점5', '평점5', '평점5', '평점5', '평점5', '평점5', '평점5', '평점5', '평점5', '평점5', '평점5', '평점5', '평점5', '평점5', '평점5', '평점5', '평점5', '평점5', '평점5', '평점5', '평점5', '평점5', '평점5', '평점5', '평점5', '평점5', '평점5', '평점5', '평점5', '평점5', '평점5', '평점3', '평점5', '평점5', '평점5', '평점5', '평점4', '평점5', '평점5', '평점5', '평점5', '평점5', '평점5', '평점5', '평점5', '평점5', '평점5', '평점5', '평점5', '평점5', '평점5', '평점5', '평점5', '평점5', '평점5', '평점5', '평점5', '평점5', '평점5', '평점5', '평점5', '평점5', '평점5', '평점5', '평점5', '평점5', '평점5'], '채널': ['LG전자인증점 경남', 'LG전자인증점 경남', 'LG전자인증점 경남', '컴퓨존', '옥션', 'LG전자인증점 경남', 'LG전자인증점 경남', 'G마켓', 'G마켓', 'LG전자인증점 경남', 'LG전자인증점 경남', 'LG전자인증점 경남', 'G마켓', 'LG전자인증점 경남', 'LG전자인증점 경남', 'LG전자인증점 경남', 'LG전자인증점 경남', 'G마켓', 'G마켓', 'LG전자인증점 경남', 'LG전자인증점 경남', 'LG전자인증점 경남', 'G마켓', 'LG전자인증점 경남', '옥션', 'LG전자인증점 경남', 'LG전자인증점 경남', '옥션', '옥션', 'G마켓', 'G마켓', 'G마켓', 'G마켓', '옥션', 'LG전자인증점 경남', 'LG전자인증점 경남', 'LG전자인증점 경남', 'LG전자인증점 경남', 'LG전자인증점 경남', 'LG전자인증점 경남', 'LG전자인증점 경남', 'LG전자인증점 경남', 'LG전자인증점 경남', 'LG전자인증점 경남', 'LG전자인증점 경남', 'LG전자인증점 경남', 'LG전자인증점 경남', 'LG전자인증점 경남', 'LG전자인증점 경남', 'LG전자인증점 경남', 'LG전자인증점 경남', 'LG전자인증점 경남', 'LG전자인증점 경남', 'LG전자인증점 경남', 'LG전자인증점 경남', 'LG전자인증점 경남', 'LG전자인증점 경남', 'LG전자인증점 경남', 'LG전자인증점 경남', 'LG전자인증점 경남', 'LG전자인증점 경남', 'LG전자인증점 경남', 'LG전자인증점 경남', 'LG전자인증점 경남', 'LG전자인증점 경남', 'LG전자인증점 경남', 'LG전자인증점 경남', 'LG전자인증점 경남', 'LG전자인증점 경남', 'LG전자인증점 경남', 'LG전자인증점 경남', 'LG전자인증점 경남', 'LG전자인증점 경남', 'LG전자인증점 경남', 'LG전자인증점 경남', 'LG전자인증점 경남', 'LG전자인증점 경남', 'LG전자인증점 경남', 'LG전자인증점 경남', 'LG전자인증점 경남', 'LG전자인증점 경남', 'LG전자인증점 경남', 'LG전자인증점 경남', 'LG전자인증점 경남', 'LG전자인증점 경남', 'LG전자인증점 경남', 'LG전자인증점 경남', 'LG전자인증점 경남', 'LG전자인증점 경남', 'LG전자인증점 경남', 'LG전자인증점 경남', 'LG전자인증점 경남', 'LG전자인증점 경남', 'LG전자인증점 경남', 'LG전자인증점 경남', 'LG전자인증점 경남', 'LG전자인증점 경남', 'LG전자인증점 경남', 'LG전자인증점 경남', 'LG전자인증점 경남'], '날짜': ['21.12.31.', '21.12.19.', '21.12.27.', '21.09.05.', '21.11.12.', '21.10.22.', '21.11.30.', '21.11.15.', '21.11.07.', '21.10.24.', '21.10.02.', '21.09.10.', '21.11.16.', '21.10.20.', '21.11.09.', '21.12.15.', '21.11.30.', '21.11.21.', '21.11.03.', '21.10.28.', '21.12.27.', '21.10.12.', '21.11.11.', '21.09.28.', '21.11.22.', '21.10.22.', '21.10.20.', '21.11.08.', '21.11.22.', '21.11.17.', '21.10.03.', '21.11.24.', '21.11.22.', '21.11.09.', '21.08.22.', '21.10.27.', '21.12.17.', '21.10.20.', '21.12.19.', '21.11.12.', '21.10.29.', '21.12.05.', '21.12.03.', '21.11.30.', '21.12.02.', '21.11.25.', '21.11.27.', '21.11.27.', '21.11.23.', '21.11.23.', '21.11.20.', '21.11.17.', '21.11.17.', '21.11.17.', '21.11.16.', '21.11.16.', '21.10.31.', '21.11.03.', '21.11.05.', '21.10.28.', '21.11.03.', '21.10.21.', '21.11.12.', '21.10.23.', '21.11.02.', '21.10.29.', '21.10.21.', '21.10.22.', '21.10.21.', '21.10.26.', '21.10.24.', '21.10.23.', '21.10.23.', '21.10.23.', '21.10.22.', '21.10.24.', '21.10.28.', '21.10.17.', '21.10.22.', '21.10.23.', '21.10.14.', '21.10.20.', '21.10.16.', '21.10.28.', '21.10.25.', '21.10.29.', '21.10.12.', '21.10.21.', '21.10.20.', '21.10.20.', '21.10.02.', '21.10.03.', '21.10.20.', '21.10.20.', '21.10.05.', '21.10.12.', '21.10.20.', '21.09.28.', '21.10.02.', '21.10.02.'], '리뷰': '이보다 저렴한 곳이 없었어요. 오프라인은 말 할 거 없고 홈쇼핑이나 다른 인터넷 특가보다 훨씬 싸요. 다른 판매처에 베 터 리 1개 세트 판매가에 여 긴 베 터리그 심지어 2 개인 세트입니다. 이사 날에 맞춰서 배송 될 수 있게 일정 조율 해 주시고 설치 기사님께서 시간에 맞춰 설치해 주셨습니다. 설명서 따로 안 봐도 될 정도로 꼼꼼 하게 설명도 정말 잘 해 주셨네요. 기존 9 초 창기 보 델 보다 헤드 높이가 낮아서 침대나 가구 밑 청소하기 정말 편하고 안 부딪히니 기스도 안 가 고 정말 좋아요. 그리고 색상이 아이보리 라 고급스럽고 먼지 앉는 것도 덜 보이니 속이 편하네요. 무엇보다 좋은 점은 저 자동 비움 기능이예요. 예전 모델은 청 소통 비우다가 먼지 옆에 다 날리고 부스러 기 흘리고 필터에 머리카락 감겨 있는 거 손으로 뜯었는데 이건 자동비 움 기능으로 먼지 날림 없이 알아서 비워 지고 필터 통도 동영상처럼 저 레버를 내리면 알아서 머리카락이 떨어져 나갑니다. 최고 최고 동영상으로는 소음이 있어 보이지만 손으로 직접 비우는 스트레스보다는 훨씬 낫습니다. 만족도 최상입니다. 별 다섯 개. 친정 부모님께서 홈쇼핑 보고 구매하려고 하시는 거 인터넷 최저 가로 사 드린다고 여기에서 구입했어요. 적용되는 카드가 없어서 하나카드 발급 받아 구입했더니 인터넷 최저가로 구입할 수 있었습니다. 엘지 기사님이 오셔서 설치해 주고 가셨고 설명도 꼼꼼 하게 잘해 주고 가셨어요. 요즘 홈쇼핑에 할인 판매 많이 하던데 배터리 2개 가격은 여기보다 저렴한 곳이 없어요. 컬러도 예쁘고 기존 코드 제로보다 가볍고 너무 좋네요. 기존 코드 제로 사용하고 있는데 친정에 구입한 거 보고 저도 올인원 타워로 바꾸고 싶어 졌어요. 다음에 우리 집 청소기 바꿀 때 여기에서 구입하려 구요 가전은 역시 엘지 추천합니다. 우선 인터넷이랑 매장을 오가며 오브제 청소기를 사야겠다고. 마음 먹었고 판매자님 후기가 좋아서 구매 하게 되었습니다. 1 디자인이. 잘 받았습니다. 배송이 다소 늦어져서 한참 기다렸지만 받아 보고 나니 마음에 들어요. 검색도 몇 일 해 가면서 그나마 저렴한 곳을 찾고 찾아서 주문했네요. 오브제로 살까 씬 큐로 살까 고민도 많이 했어요. 티도 안 나는 디자인과 색상이 다르다는 이유로 이 정도의 금액을 더 투자해야 할까 고민을 했는데 역시 이 쁘긴 이쁘네요. 세일 기간에 쿠폰 두 종류 사용해서 저렴하게 구입했어요 955000. 원 백화점이나 마트보다 확실히 저렴했어요. 청소기 소음은 뭐 적당해요. 다만 청소기 먼지 비움 소리는 조용할 때 하면 시끄럽네요에서. 설치 해 주지만 저 같은 경우엔 너무 아침 일찍 오셔서 그냥 두고 가시라고 하고 저 혼자 설치했어요. 어렵지 않아요. 사용 설치 방법 비 스 무 리 한 동영상 주소도 보내. 주시지만 유투브에 많아서 한 번 보면 가능합니다. 예쁜 쓰레기 일까 걱정했는데 아직 까지는 만족합니다. 일렉트로 룩스 유선 청소기 중국산 차이 슨 두 종류 사용하다가 바꿨습니다. 매장에서 다이 슨 사용해 보았는데 다 이 슨 처 럼 전원 빵하고 계속 안 누르고 있어도 되는 엄청난 장점에 먼지 비움 기능이라는 획기적이 기능에 구입해서 아주 만족합니다. 좋았던 점 1 배송 기사님이 너무 친절하셨어요. 감사했어요. 2 디자인이 이 뻐서 더 많이 청소하게 하는 요인이 있는 거 같아요. 3 전에도 코드 제로 사용했는데 흡입력이 더 좋아진 거 같아서 만족합니다. 4 가장 놀라운 점은 자동으로 먼지 배출이 가능해서 신기했습니다. 5 물걸레가 생각보다 활용이 좋습니다. 집에 스팀 청소기도 있는데 실용성은 더 좋습니다. 6 무게가 더 가벼워 진 거 같아서 만족합니다. 단 점 1 아직 몇 일 써 보진 않아서 불편한 점은 없네요. 2 가격이 비싸다. 제 개인적으로 매우 만족합니다. 디자인도 이 뻐서 시각적으로도 만족하네요. 배 송도 빠르고 잘 쓸께요. 36개월 무이자 할부 때문에 여기서 샀어요. 배송도 빨라서 좋았습니다. 기기 자체 하자는 없었고 전에 쓰던 청소기에 비해 자체 소음이랑 바닥을 다닐 때 나는 소음 현저히 적어 애기 키우고 있는 입장에서 좋네요. 무엇보다 집 먼지 머리카락 등 일상에서 쓰임새 좋은 듯하고 기 기 무게 나 그립은 마트나 전시된 상품 만져 보고 비스포크보다 비교해 보니 좋았었고 추가 크래 들 없는 것도 장점입니다. 다만 베 터 리는 빨리 닳아요. 이미 타워 나오기 전 9 아이언 그레이 모델 구입해서 사용하며 신세계를 만났어요. 먼지 알레르기가 있는데 그 전에는 청소할 때마다 콧물과 재채기로 괴로 웠 는 데 코드 제로로 바꾼 후 부터는 그런 괴로움은 사라지고 청소가 즐거워졌거든요. 그러던 중 엄마가 아직도 구형 본체 끌고 다니는 청소기 사용하시는 게 자꾸 맘이 불편하던 차에 오브제 타워 형 밝은 색이 좋은 가격에 나온 걸 보고 바로 주문해 드렸어요. 설치 기사님 다녀가시자마자 엄마가 니 무 예쁘고 좋다고. 사진 찍어 보내주시는 걸. 보니 더 빨리 사 드렸으면 좋았을 걸 싶습니다. 디자인과 색 상은 오브 제 컬렉션 답게 좋아요. 베이지와 블랙 투 톤으로 집안 어디에 놓아도 잘 어울립니다. 성능도 배터리 청소기라는 것을 감안하면 흡입력도 좋고 훌륭합니다. 가성 비는 글쎄 요 오자마자 직접 사용해 본 결과 유선 청소기를 대체 하려는 분들은 고민하셔야 할 듯합니다. 핸디 타입 특성상 브러쉬가 작고 흡입력도 살 짝 모자라 집안 전체를 창 소하기엔 역부족 입니다. 유선이 훨씬 빠릅니다. 메인 청소기로는 부족 하나 세 컨 용이라면 아주 훌륭합니다. 하지만 세 컨 용을 근 100만원을 주고 산다는 건 솔 찍히 모르겠네요 세 컨 용으로서는 디자인 성능 모두 만족합니다. 가격이 비싸다는 점은 빼고. 정말 고민 고민을 엄청 하고 구매했는데 만족도 200 프로입니다. 설치 기사님도 친절하게 설명 꼼꼼히 해 주시고 뚝딱 해 주셨어요. 이제 매일 매일 청소기 돌리려 구요 자동 먼지 비움도 넘 만족합니다. 침구 청소까지 포함이 믄 좋았겠지만 사용 하구 나중에 필 요하 믄 따로 구매하려 구요 금액이 있다 보니 정말 많이 망설였는데 진 즉 구매할 걸 후회하구 있어요. 1 단계로도 충분히 청소 가능하구요. 물걸레도 언능 사용해 보고 한 달 후기 올리겠습니다. 역시 가전은 추석 겹쳐서 배송은 매우 느렸지만 기 다린 보람이 있어요. 기사님께서 친절하게 설치하고 사용 방법 설명해 주시고 너무 좋았네요. 코드 제로 초기 모델을 본가에서 사용했었는데 그때보다 무게도 가 벼워 지 고 디자인도 예뻐 지고 무엇보다 먼지 비움을 자동으로 해 주는 게 너무 간편하고 좋네요. 타워에 수납 기능도 있어서 도구 정리가 편리하고 좋아요. 전에 쓰고 있는 청소기가 고장 나서 전부터 눈여겨본 코드 제로 무선 청소기를 보고 있었는데 그 중에 오브제로 구매하기로 했어요. 고양이 2마리와 지 내기 때문에 청소기를 자주 사용을 해야 되 서 먼지 통을 비워 주는 올인원 타워가 구매에 가장 끌리는 부분이었는데 사용해 보니 소음은 조금 있으나 정말 만족스러웠습니다. 여러 단점들을 많이 들어왔어요. 그런 거에 비해 너무 비싸다는 것도 이해되고 하지만 집에 청소 기만 네 대가 굴러 다니는 현실이 지겨워 구입했습니다. 크게 어지를 일 없는 2 인 가정이고 매일 간단하게 집안 청소 물걸레 질 침구 청소 하기에 매우 만족스럽습니다. 한 대로 결합 되어 있다는 게 최대 장점이고 개별 기기 만큼의 출력은 나오지 않는다는 게 최대 단점인데 무선 청소기 자체의 한계이기에 받아들일 수 있습니다. 9471 모델은 침구 청소 키트만 빠져 있는 구성인데 침구 청소 키트 따로 파니까 그것만 사면 됩니다. 그게 9571 모델 사는 것보다 10만원 넘게 싸요. 주문 후 만들어서 보내. 주신다고 23 주 말씀하셨는데 생각보다 빨리 와서 좋았어요. 앞에 무게가 있는데 움직임은 부드러워서 오히려 묵직하고 좋았구요. 기능이 많아서 복잡하긴 하지만 쓰면서 다 익혀 보겠습니다. 먼지는 비워서 봉투를 버리는 것도 위생적이라 좋은데 봉투는 여유분 외에 미리 사 놔야 겠습니다. 잘 쓸께요. 원하는 날짜에 배송 받을 수 있어서 좋았구요. 기사님이 설치 후 사용 방법이나 주의사항 등 친절하게 알려주셔서 좋았습니다. 물걸레 헤드랑 배터리도 여분으로 있어서 참 편리하고 좋은 거 같아요. 먼지를 자동으로 빨아들여 청소 해 주는 기능은 장점인데 그 기능이 청소기 소리보다 시 끄러운 건 단점이네요. 그래도 필요할 때만 설정할 수 있어서 다행입니다. 좋은 제품 싸게 잘 사서 기분 좋게 쓰고 있습니다. 배송도 엄청 빠르고 시간 약속도 딱 맞춰 오셔서 설치해 주셨습니다. 마지막 날 급하게 구매하느라 꼼꼼히 못 봤는데 침구 청소가 빠진 모델이였네요. 그래도 저렴하게 구매해서 침구 청소 헤드 별도로 사도 괜찮을 듯합니다. 디자인도 삼성 제품보다 깔끔하고 오브제 컬러 베이 지가 고급스럽네요. 다이 슨 보다 조용하고 편리합니다. 정말 너무 잘 쓰고 있어요. 언니 신혼 집 꺼 구매하고 추가 구매 한 건데 신혼 집 꺼 구매할 때 백화점 직원이 소리가 시끄러워서 아마 수동으로 먼지 버리게 될 꺼라고 하셨는데 왠 걸 요 그 기능이 젤로 좋은데요 넘 편해서 더 자주 청소기 돌리게 되요. 디자인 깔끔하고 흡입력도 좋고 무엇보다 소음이 적어 좋아요. 다만 무게 감이 있고 제가 헤드에 불 들어오는 청소기를 사용해서 인가 헤드에 불빛이 있었으면 하는 아쉬움이 있네요. 불빛이 있으면 먼지가 훨씬 더 잘 보여서 좋았거든요. 이 정도의 가격에 청소 기면 있을 만도 한데 원하던 색상의 원하던 디자인의 제품을 구매해 전체적으로 구입에 만족은 하지만 디자인 값이 더 크구나. 하는 생각이 좀 들긴 하네요. 빅 스마일 데이 기다렸다 주문했어요. 쿠폰 써서 95만원에 아주 싸게 구입했네요. 스마일 데이 첫날 구입해서 2 틀 후에 받았어요. 배 송도 빠르고 엘지 직원 분이 오셔서 설치 조립 다 해 주시고 설명까지 친절히 해 주셨어요. 쓰레기도 깔끔하게 처리해 주시 고 맘에 들어요. 제품은 무게가 좀 있긴 하지만 무리 갈 정도는 아니구요. 소리도 생각보다 크지 않고 흡입력도 좋아요. 먼지 통비 움은 소음이 좀 크긴 하지만 잠깐 1020 초 정도 들리는 거니 신경 쓰일 정도는 아닌 듯해요. 구성품 물걸레 키트 걸 레 1 회 용 걸레 20개 천 걸레 한 쌍 구석 청소하는 거 2개 밧 데리 2개 먼지 통 2개 그 물망 같은 거한 개 이렇게 왔네요. 빠른 배송과 친절한 설명 그리고 청소기의 깔끔한 외모 편리성과 조용함 통 비울 때 먼지 마실 걱정 없이 버튼 하나면 똑똑 게 비위주는 기능이 압권이네요. 근데 청 소를 끝내고 장 착한 후 청소기 바닥에 떨어져 있는 먼지 덩어리는 뭐지 분명 청소기에서 떨어진 건데 다시 청소기를 돌려 흡입했습니다. 이제 딱 두 번 사용했으니 좀 더 사용을 해봐야겠어요. 우선 인터넷이랑 매장을 오가며 오브제 청소기를 사야겠다고. 마음 먹었고 판매자님 후기가 좋아서 구매 하게 되었습니다. 1 디자인이 우선 정말 이쁩니다. 진심 삼성 비스포크도 이 쁘지만 제품이 이 쁘긴 해요 2 색상은 완전 흰색이 아닌 베이지 색상인 거 같아요. 고급 스럽고 이쁩니다. 3 음 청 소의 화력 이라고 하나요. 터보 모드도 있어서 좋은 거 같아요. 다만 1 단 2 단을 사용하면 삼성 제품이 흡입력이 더 좋습니다. 4 구성품 알차구요. 기사님이 친절해서 더 좋았습니다. 오 좀 무겁긴 하지만 그건 어 쩔 수 없는 문제이고 색깔 너무 이뿌고 착한 가격에 잘산 것 같아요. 오래 걸릴 줄 알았는데 운 이 좋았는지 일주일 만에 받아서 너무 좋았어요. 요즘 전자제품 편리하게 참 잘 만든다는 생각이 들어요. 물걸레 아주 좋아요. 사길 참 잘했다는 생각뿐. 받아서 집에 두니 더 예쁘고 폼 나네요. 흡입력은 당연히 좋고 핸들링이 잘 되어서 무게 감이 크게 느껴 지진 않아요. 청 소통 자동비 움 기능이 있어서 편한데 작동되는 소리가 좀 크긴 합니다. 엘지 제품 내구성이 야 두 말하면 잔소리니 오랫동안 깨끗하게 잘 쓰고 싶어요. 먼지 비움 기능 대 박 구입할 때 삼성 제트랑 비교해서 고민도 했는데 역시 가전은 군 요 흡입력도 굉장하구요. 비용이 약간은 부담되긴 했지만 오래 사용하고 뽕을 뽑아 야죠 추석 연휴 기간이라 배송은 조금 느렸지만 한 번 써 보고 모든 상실감을 없앨 만큼 장점이 더 부각되는 것 같아요. 배송시간도 잘 지켜 주시고 기사님 친절한 설명까지 굿 입니다용. 디자인도 우아하고 청소기 답지 안케 멋 잇기도 하지만 내가 직접 청소할 꺼도 아니고 가격도 고가에 이 미 다이 슨 최신 모델이 잇어 망서리 던 터에 빅 세일로 만족할 만한 가격으로 구매 햇다 아 다른 사람보다 저렴하게 구매하니 기분이 넘 조아. 청소기가 이렇게 이 뻐도 되나요. 구석에 숨어 있던 청소기가 인테리어 포인트가 되다니. 제가 원하는 날짜에 전문 설치 팀이 배송해 주시고 친절하게 설명 다해 주시고 넘 좋았어요. 충전 다 하고 신나게 첫 개 시 해봤는데 넘나. 좋음 속이 다 시원 네이버 행사 때 구매했는데 백화점 오픈 행사 때 견적 받은 것보다 싸게 견적 받은 것 단 품 구매는 온라인 구매도 좋네요. 역시 청소기는 엘 지이지 요 예전에 쓰던. 코드 제로도 있었지만 올해 6월 결혼하면서 코드 제로 오브 제 화이트 색상으로 바꾸고 싶어서 계속 찾아보고 있었는데 가격도 가격이고 배송이 너무 빠른 거 있죠. 주문하고 3일 만에 왔어요. 작년에 쓰던. 코드 제로는 한 달 넘게 걸렸는데 순간 것 짓말인가 했는데 진짜 오늘 왔네요. 화이트 컨셉으로 해서 꾸미고 있는데 청소기도 화이트 색상으로 하니 너무나 기분이 좋아요. 잘 쓰겠습니다. 감사합니다. 후기에 배송 늦다는 얘기 듣고 그냥 잊고 있음 되겠다 싶었는데 웬 걸 주문하고 3일 만에 기사님 연락 주 시 고 설치해 주셨습니다. 기사님 설명도 친절히 잘해 주시고 시간 약속도 잘 지켜 주셨네요. 중국산 무선 청소기 쓰다가 이 거 쓰니 너무 좋습니다. 모양도 너무 예쁘구요. 일부러 거실에 배치했습니다. 자리 차지 별로 안하고 스마일 쿠폰도 너무 잘 써서 마트 가격보다 훨 싸게 잘 샀습니다. 물걸레도 적절히 조절 잘 되고 짱 좋습니다. 헤드 무거운 거 빼고는 좋습니다. 마누라는 헤드 무거워도 괜찮다네요. 디자인 부분은 다 감춰 주니 좋고 먼지 통도 자동으로 비워 주니 편해요. 다이 슨 은 가격만 많이 올려놓고 지금은 세일해서 파니 소비자만 우롱당한 기 분입니다. 청소 기 너무 비쌈. 만 땅하고 쿠폰 써서 저렴 히 구입했는데 설치 기사님 친절히 다 설치해 주시고 사용 전인데 먼지 비 움 기능 때문에 기존 꺼 쓸 수 있는데 기대 만 땅하고 추가 구입 이요 전에 쓰던 무선 청소기가 침대 아래 청소가 안 되 서 유선 꺼내서 다시 하곤 했는데 이건 청소되네요. 너무 좋아요. 청소기 설치기 사분이 전화 오셔서 날짜 잡고 설명 해 주시고 가셨어요. 청소기라서 무슨 설치까지 하는 가 했는데 엘지 서비스는 다르네요. 설명서 보고 햇 씀 오래 걸렷 쓸 것을 바로 사용하는데 큰 어려움이 없었습니다. 기능이랑 디자인 면으로 좋아요. 가격이 비싼 만큼 틀리긴 합니다. 배송 빨랐구요. 침구 용 뺀 구성이라 만족합니다. 화이트에 가까운 아이보리 색상입니다. 올인원 타워 라 안쪽에 청소 도구 수납돼 있어서 좋구요. 먼지 비움도 자동으로 청소해 주고 아주 편해요. 물걸레질을 많이 하는 편이라 부드럽게 잘 닦여서 편하고 만족합니다. 기사님도 친절하게 설치 설명해 주시고 잘 쓰고 있습니다. 무선이라 가볍고 수시로 청소기 하기 쉽습니다. 먼지 봉투 수시로 비워서 먼지 통도 깨끗하고 충전도 쉽고 청소기로 삶의 질이 좋아졌어요. 청소기 소리도 시끄럽지 않고 디자인이나 색이 환해서 집과 잘 어울리고 고급 져 보입니다. 아주 잘 샀어요. 파업 지역으로 공지 떠 있어서 맘 놓고 있었는데 배송 엄청 빠르네요. 침구용이 빠져 있어서 금액이 저렴한 것 같은데 굳이 침구 용 필요 없어서 엄마 선물로 바로 주문했어요. 전 예전 꺼 코드 제로 쓰는데 침구용 있지만 안 써 지더라고요. 빠른 배송 감사합니다. 모터 힘이 얼마나 강한 지 바닥 장판이 들고 일어날 지경이네요. 농담이고 흡입력이 짱입니다. 너무 깔끔하고 예뻐요. 생각보다 무게 감이 잇어서 힘이 좀 들 거 같은데 안정감은 더 있을 거 같아요. 깨끗하게 청소 되고 싸게 잘 사 었어요. 물걸레도 잘 닦여 요 디자인도 깔끔하고 맘에 들어요. 배 송도 엄청 빨라요. 소음도 작고 흡입력도 짱입니다. 배송 빠르고 설치 기사님이 친절하게 설명해 주시면서 설치 해 주셨습니다. 성능은 두말 할 것 없이 너무 좋네요. 그냥 청소도 잘 되지만 물 청소도 잘 닦입니다. 빠르고 친절한 설치 감사합니다. 빠른 배송 감사합니다. 기사님이 직접 설치하고 설명까지 친절하게 잘해 주셨네요. 친구한테 결혼 선물로 사 줬는데 만족 해하네요. 정말 좋아요. 덕분에 청소가 너무 편 해졌어요. 빠른 배송 좋아요. 기사분이 개봉을 다 해 주고 가셔서 영상을 못 남겻어요 잘 사용 중이에요. 빠른 배송 친절한 기사님 완벽한 오브제 너무너무 만족합니다. 핸들링도 좋고 아주 편하게 잘 사용 중입니다. 잘 쓰고 있어요. 예쁘고 좋아요. 오래된 유선 청소기 쓰시는 어머니 바꿔 드렸는데 편하고 좋다 하시네요. 무거울 줄 알았는데 아니 시라며 조용하고 흡입력도 괜찮다 하십니다. 배송 및 설치도 빠르고 엄청 친절하셨다네요. 감사합니다. 아주 아주 잘 사용하고 있어요. 첨 보다 쓰면 쓸 수록 편리하고 더 좋아요. 엄마도 이 제 익숙해 지셨나. 봐요. 청소하면서 스트레스가 없네용. 왜 가전은 라고 하는지 알게 해 주네요. 다른 스토어보다 저렴하게 잘 샀습니다. 설치 기사님들 친절도 또한 좋았습니다. 누나 새 아파트로 이사하는데 선물로 사 줬음 다 겁나 좋아하네요. 명 불허 전 제품 디자인도 깔끔해서 집안에 둬도 깔 해 보여요. 사용하기 편하고 너무 좋네요. 좋습니다. 비 움 기능이 너무너무 좋네요. 좋은 가격에 좋은 제품 잘 샀습니다. 가전은 역시 네 요. 청소기가 이렇게 아름다워도 되는 건 가요 영롱합니다. 흡입력도 좋고 각종 할인 받아 최저가로 구매했네요. 설치는 생각보다 빨리 와서 1주일 정도 걸렸어요. 역시 가전은. 청소가 편 해져서 너무 좋아요. 부모님 선물 드렸어요. 이전에 테팔 청소기를 쓰다가 오래되서 이번에 청 소기를 바꾸게 되었는데 훨씬 가볍고 빨아 드리는 힘도 세고 조용하고 정말 만족스러워요. 가격이 좀 비싸긴 하지만 그만한 값을 하는 거 같아요. 배송에는 시간이 조금 걸렸지만 색도 깔끔하게 예쁘구 설치 기사님이 설치 후에 친절하게 설명 해 주셨어요. 너무 마음에 듭니다. 9 두 번째 구매입니다. 편의 사양이 많이 좋아졌네요. 디자인은 뭐 말 할 거 있나요. 아직 사용 전 이지만 물걸래에 먼지털이 타워까지 아주 기대 되네요. 역시. 힘도 좋고 디자인 너무너무 이 뻐요. 배송은 조금 느렸지만 만족하네요. 설명도 잘해 주시고 잘 쓰겠습니다. 배송 빠릅니다. 고맙습니다. 저렴한 가격에 가지고 싶었던. 9 오브제 창 소기 구매하였숩니 다 배송 기사분이 직 덥 와서 친절하게 설명까지 해 주시고 가시네요. 침구툴이 없는 부분은 조금 아쉽습니다. 리얼 디자인 미쵸쏘요 흡립력도 갑 진짜 맘에 들어요. 배송도 빠르고 설치도 간편합니다. 무엇보다 예뻐요. 친구 선물로 줬는데 너무 고맙다고. 하네요. 잘 쓸게요. 배송은 느렸지만 청소기는 싸게 너무 잘 샀어요. 청소 키트 보이는 거 싫었는데 맘에 들어요. 청소기 소리도 크지도 않고 만족스럽습니다. 편리하고 좋습니다. 먼지 비움 기능 너무 좋네요. 배송 빠르고 꼼꼼 하게 설치 설명해 주세요. 엄청 좋아요. 최 곱니다. 많이들 사세요. 엄마 생일 선물로 샀는데 조용하고 가볍다고. 엄청 맘에 들어 하십니다. 무선이 확실히 편하네요. 착한 가격과 빠른 배송 너무 만족스럽습니다. 청 소기 흡입력도 너무 좋아 잘 선택한 것 갔습니다. 잘 사용하고 있고 무엇보다 고양이 집사로 털이 많이 나오는데 손 안 대고 비울 수 있어서 넘 좋아요. 다만 아쉬운 점은 스탠드 기능 및 랜턴 기능만 추가된다면 완전 좋을 거 같아요. 생각보다 빨리 배송 되었고 설치 기사분 친절히 설명 잘해 주셨습니다. 배송 기사님도 친절하고 제품은 뭐 말한 것도 없고 만족합니다. 고민하고 고민 하다 구매했는데 너무 편하고 좋아요. 유선 청소기보다 훨씬 힘도 좋고 선이 없으니 틈 만나면 사용하게 되네요. 침구용 청소 솔이 있는 줄 알았는데 없는 모델이라네요. 따로 구매해야 겧어요. 매장에서 보고 샀어요. 가격 차이가 엄청나네요. 기사분 친절하게 설명해 주셨고 사용해 보니 넘 좋아요. 고장만 안 나면 좋겠네요. 기사님께서 설치해 주시고 설명까지 다 해 주시네요. 청소기 색이 미 색이라 어디에 놔도 이 질감이 없어요. 생각보다 가볍진 않아요. 매장에서 사는 것보다 저렴해서 좋아요. 많이 파 세여. 배송 기사님도 친절하시고 제품도 너무 좋아요. 빠른 배송과 친절한 설치 감사 드립니다. 감사합니다. 한 달째 쓰고 있는데 다이 슨 을 살까 고민하다가 코드 제로로 샀는데 최고의 선택이었던 것 같아요. 디자인이며 성능이며 잘 쓸게요 감사합니다. 친구가 아주 좋아하네요. 너무 좋다구요. 많이 파 세요 사장님. 잘 써 보겠습니다. 어려운 듯 쉬운 듯한 설명. 너무 좋네요. 깔끔하고 소리도 그렇게 크지도 않구요. 예쁘고 청소도 잘 되요. 친절하게 설명해 주시 고 물건도 너무 좋네요. 먼지 통도 자동으로 비워 주고 보조 배터리도 있어서 사용이 편리할 것 같아요. 30년 동안 코드 꼽고 이 리저리 힘들게 청소하셨던 어머니를 위해 생일 선물로 구매했습니다. 너무 편리 해하시는 어머니를 보니 돈 아깝다는 생각이 안 드네요. 역시 엘지답게 디자인도 이 쁘고 너무 좋습니다. 기존에 있는 건 너무 힘이 약한데 역시 최고네요. 흡입력 최고 관리 최고. 반짝반짝 힘이 좋네요. 잘 쓰겠습니다. 배송이 많이 늦긴 했는데 요 성능은 기본이고 역시나 비싼 만큼 예쁘대요. 선물했는데 너무 마음에 든 대요. 동일 모델 여기가 가장 저렴하게 판매하더라구요. 너무 너무 만족합니다. 기사님 친절한 설명과 설치 감사합니다. 배송 기사님 너무 친절하셨고 주문 후 3일 만에 설치 완료됐어요. 진작 살 걸 그랬어요. 바닥이 맨 질 맨질. 추석 때문에 배송은 3주 정도 걸렸지만 방문 전에 먼저 연락도 해 주시고 친절하게 제품에 대해 설명해 주셔서 정말 만족 스러워요. 제 품 성능은 왜 이걸 이제 샀을까. 정도로 편하게 사용했어요. 완전 강추 입니다. 중간에 추석이 겹쳐서 오래 걸렸네요. 기존에 쓰던 중소기업 제품은 버리고 코드 제로 오브 제로 갈아 탑니다. 매우 좋네요. 잘 써 보겠습니다. 거의 3 주 안 되게 걸렸네. 여 고놈의 제고가 없어서. '}, {'제품명': 'LG전자 코드제로 A9100S', '가격': '593,170', '평점': ['평점5', '평점5', '평점5', '평점5', '평점1', '평점5', '평점5', '평점5', '평점5', '평점5', '평점5', '평점5', '평점5', '평점5', '평점5', '평점5', '평점4', '평점5', '평점5', '평점5', '평점5', '평점5', '평점5', '평점5', '평점5', '평점5', '평점5', '평점5', '평점5', '평점5', '평점5', '평점5', '평점5', '평점5', '평점5', '평점5', '평점5', '평점5', '평점5', '평점5', '평점5', '평점5', '평점5', '평점5', '평점5', '평점5', '평점5', '평점5', '평점5', '평점5', '평점5', '평점5', '평점5', '평점5', '평점5', '평점5', '평점5', '평점5', '평점5', '평점5', '평점5', '평점5', '평점5', '평점5', '평점4', '평점5', '평점5', '평점5', '평점5', '평점4', '평점5', '평점5', '평점5', '평점5', '평점5', '평점5', '평점5', '평점5', '평점5', '평점5', '평점5', '평점5', '평점5', '평점5', '평점5', '평점5', '평점4', '평점5', '평점3', '평점5', '평점5', '평점5', '평점5', '평점5', '평점5', '평점4', '평점5', '평점5', '평점5', '평점5'], '채널': ['신세계몰', 'SSG닷컴', 'SSG닷컴', 'SSG닷컴', 'G마켓', '신세계몰', 'LG전자인증점 경남', '신세계몰', 'SSG닷컴', '신세계몰', 'SSG닷컴', '신세계몰', '신세계몰', '11번가', '11번가', '김 특 가', 'LG전자인증점 경남', '김 특 가', '컴퓨존', '컴퓨존', '컴퓨존', 'LG전자인증점 경남', '컴퓨존', '컴퓨존', '컴퓨존', '김 특 가', '롯데홈쇼핑', '컴퓨존', '컴퓨존', '김 특 가', 'LG전자인증점 경남', 'LG전자인증점 경남', '11번가', 'LG전자인증점 경남', 'LG전자인증점 경남', 'LG전자인증점 경남', '컴퓨존', '컴퓨존', 'LG전자인증점 경남', '컴퓨존', '11번가', '11번가', '컴퓨존', 'GSSHOP', '11번가', 'GSSHOP', '옥션', '컴퓨존', '정우테크', '굿데이닷컴', 'LG전자인증점 경남', '11번가', '컴퓨존', '컴퓨존', '컴퓨존', 'GSSHOP', '옥션', '컴퓨존', '굿데이닷컴', '김 특 가', '정우테크', '11번가', 'LG전자인증점 경남', 'LG전자인증점 경남', '컴퓨존', '컴퓨존', '컴퓨존', '컴퓨존', '김 특 가', 'LG전자인증점 경남', '옥션', '인터파크', '컴퓨존', '컴퓨존', '굿데이닷컴', '컴퓨존', '11번가', '굿데이닷컴', '굿데이닷컴', '김 특 가', '굿데이닷컴', '신세계몰', '컴퓨존', 'G마켓', '컴퓨존', '11번가', 'G마켓', '11번가', '김 특 가', '컴퓨존', 'G마켓', '컴퓨존', 'LG전자인증점 경남', 'LG전자인증점 경남', '롯데ON', '홈앤쇼핑', '컴퓨존', 'LG전자인증점 경남', 'SSG닷컴', '11번가'], '날짜': ['21.05.09.', '21.06.22.', '21.03.04.', '20.12.05.', '21.08.04.', '21.07.02.', '21.04.03.', '21.05.01.', '21.05.03.', '21.05.04.', '21.04.28.', '21.01.07.', '21.05.06.', '21.06.21.', '20.11.20.', '21.10.24.', '21.10.01.', '21.09.06.', '21.10.04.', '21.08.18.', '21.08.24.', '21.09.07.', '21.09.07.', '21.08.25.', '21.08.20.', '21.08.08.', '21.08.11.', '21.08.10.', '21.08.02.', '21.08.03.', '21.07.25.', '21.07.24.', '21.11.25.', '21.08.10.', '21.08.06.', '21.07.25.', '21.07.24.', '21.08.09.', '21.08.04.', '21.07.31.', '21.11.04.', '21.11.06.', '21.07.30.', '21.06.21.', '21.08.14.', '21.06.21.', '21.10.22.', '21.07.04.', '21.05.24.', '21.06.19.', '21.10.14.', '21.10.15.', '21.09.30.', '21.06.04.', '21.09.05.', '21.05.27.', '21.10.01.', '21.05.24.', '21.05.15.', '21.09.30.', '21.02.08.', '21.09.22.', '21.09.06.', '21.09.07.', '21.05.29.', '21.05.26.', '21.06.04.', '21.08.12.', '21.08.07.', '21.08.26.', '21.09.07.', '21.08.17.', '21.08.29.', '21.09.07.', '21.05.22.', '21.08.10.', '21.08.05.', '21.05.09.', '21.05.10.', '21.08.24.', '21.05.10.', '21.06.27.', '21.08.23.', '21.08.11.', '21.08.15.', '21.08.10.', '21.07.23.', '21.07.21.', '21.08.21.', '21.08.10.', '21.08.06.', '21.08.16.', '21.08.04.', '21.07.22.', '21.08.02.', '21.08.02.', '21.07.23.', '21.04.06.', '21.07.29.', '21.07.25.'], '리뷰': '어버이날 선물로 드렸는데 너무 좋아하시네요. 집에는 오브제를 선물 받아 쓰고 있는데 가격이 만만치 않은 거라. 가 성비 좋은 모델로 해 드렸는데 불효자식 상위 모델하고 아주 큰 차이는 없는 것 같네요. 배터리 사용량이 조금 차이 날 뿐 이 건 여분 배터리 구매하면 해결될 것 같아요. 다 슨 비슷한 가격대 모델에 비해 사용 시간도 오래가고 타워도 포함되어 있다 보니 좋구요. 추가 여분의 배터리를 사면 타워에 충전할 수 있는 포트도 있는 것 같네요. 배터리 두 개로 기본 모드인 상태로 사용하면 30평 중반 아파트도 충분할 것 같습니다. 후닥 닥 한다는 가장 하에는 배터리 하나로도 괜찮아요. 물걸레 키트가 포함되지 않은 모델인 게 아쉬운 점이라면 아쉬운 점인데 상위 모델에 물걸레 키트를 사용한 상태에서 진공 청소 흡입 모드도 같이 사용하면 그만큼 배터리도 빨리 소모되고 그리고 물걸레 키트로 먼지가 많은 곳 지나면 먼지가 물을 먹어서 생각보다 흡입이 쉽지 않은데 이런 것 생각하면 그냥 물걸레 키트는 살 때 뿐 일 수도 있어요. 있으면 좋을 뿐 없어서 큰 지장은 없어요. 아파트는 보통 다 마루 바닥이니 청소기면 충분하고 물걸레 청소기는 보통 로봇도 저렴하게 나오고 사은품으로 많이 주는 중 국 제품도 이 청소기랑 번갈아 쓰면 좋은 것 같아요. 배송은 일주일 정도 걸려서 살짝 느렷지만 바로 몇 일 정도 걸린다고 안내를 받앗 기 때문에 괜찮았어요. 배송해 주는 날짜도 조정 가능해서 좋앗습니다 제품과 설치 만족합니다. 흡입력과 제품 구성도 만족스러워요. 딱 필요한 구성으로 되어 있구요. 사실 귀찮아서 이것저것 필요 없고 틈새 정도만 있엇 음 좋겟 다 햇는데 가 성비 좋고 좋은 구성입니다. 요즘 청소기 하나에 백만 원 넘게 하는데 사실 그 정도는 필요 없구요. 물걸레도 잇는지라 가 성비 좋은 걸로 따져서 골랐는데 만족스러워요. 무선이라 흡입력을 걱정했는데 이 정도면 가정용으로 완벽 하다고 생각들 어요. 소음도 생각보다 너무너무 작아서 흡입이 잘 되고 잇는 건가. 햇는 아주 잘 됩니다. 배터리 용량도 집 한번 싹 밀기 적당서 한번 밀고 충전시켜 놓음 됩니다. 배터리도 두 개여서 든든합니다. 설치 기사님도 설치하시면서 사용 법 설명도 잘해 주셔서 작동하는데 어려움도 없구요. 친절하셔서 너무 감가했습니다. 이래서 하나 봐요. 역시 가전은 엘지 믿고 삽니다. 너무나 기 다렸던 제품이기에 두근거리는 마음으로 빨리 오기를 원했는데 주문해서 받기까지 는 딱 1주일 걸렸어요. 배송 기사님이 친절히 설명해 주시면서 사용 청소방법도 알려 주셨고요. 제가 원래 전자제품을 막 굴리면서 쓰는 스타일이라 기존에 있던. 싸 이 킹 청소기는 사용하면서 전원 줄이 짧으면 막 땡기기도 하고 여기저기 부딪히면서 사용했는데 코드 제로 9 은 막 굴리기 좀 걱정되도록 연약해 보이더라고요. 여러 평들에서 무겁다는 의견이 있었는데 저는 남자라서 그런지 생각보다 가 벼웠고 흡입구는 해 드가 부드럽게 돌아가서 편하게 쓸 수 있을 것 같아 마음에 들더라고요. 다만 이 모델은 먼지 통의 먼지를 한 번에 빼내는 기능은 없더라고요. 배 송 기사님이 먼지 통은 살살 털어서 버리고 물 티슈로 딱 아내라고 하시더라고요. 3 시간 30분 충전을 하면 30분 사용할 수 있고 터보 모드는 6분 정도 사용 가능하다고. 하시더라고요. 청소시 중요한 부분은 필터 청소할 때 모터가 망가질 수 있으니 완전히 말려서 조립해야 한다고 하고요. 완충 시 전원을 빼야 하나 걱정도 했는데 충전을 하고 있지 않으면 자연 방전으로 인해 완충 상태가 아니게 된 다네요. 그러므로 되도록 이면 어댑터를 계속 꽂아 둔 체로 관리해도 전력 소모는 거의 없다는 하니 참고들 하세요. 엄마가 엘지 꺼 원하셔서 구매했어요. 조립도 해 주셔서 딱히 제가 할 건 없네요. 유선을 사용했기 때문에 무선 청소기는 완전 신세계 구요 청소기 소리도 엄청 작아서 밤에 청소기 돌려도 부담 없다고 엄마가 좋아하시네요. 특징 스탠드형으로 설치하거나 또는 벽걸이 형으로도 설치 가능 머리카락 엉킴 방지 기능 배터리 완충 시 40분 가능 기본적으로 흡입력도 좋으면서 2개 터보 싸이클론과 3가지 필터가 적용이 되어 있는 5 단계의 미세 먼지 차단 시스템으로 05 크기의 미세 먼지까지 9999 흡입하고 난 뒤에 다시 재 배출이 되지 않도록 만들어 진 점도 무척 만족스러워요. 장 점 예쁜 디자인 공간 활용에 좋음 흡입력 좋음 편리한 작동 방법 관리하기에 편함 튼튼함 단점 좀 무거워요. 힘쎈 저도 방 청소한 번 하고 나니까 손목이 아파서 휴식이 필요했어요. 손목이 안 좋은 분이라면 더 힘들 것 같구요. 먼지 통 열고 닫고 쓰레기 버리기가 좀 불편해요. 그리고 배터리 엘지 코드 제로 9 청소기 배터리는 2년 이내 무상교환이 되기는 하나 문제가 발견된 배터리에 한 해서 교환이 된다네요. 단점보다는 장점이 많은 코드 제로 9 손바닥보다 작은 건 삼성 그보다 큰 건 를 사라는 말 기억하세요. 금이 가 있게 배송이 와서 즉시 연락 드렸고 저 부분만 받으려 했는데 전체 수거 후 제품 점검 후에 나 새 제품 보내준 대. 서 그냥 금 간 걸로 쓰기로 다른 제품 꺼 썼을 때 문제 부품만 보내주시던데 희한합니다. 주위에 비추라고 얘기하고 있습니다. 너무 별로였습니다. 새 제 품 산 건데 중고 나라에서 사는 게 나을 듯 여전 금 간 걸로 쓰니까요. 사고 한 달 있으니까 가격이 내려갔네요. 저희 살 때 밧 데리 하나만 주던데 다른 리 뷰 보니까 두 개 받았다고. 하는데 두개 주는 기준이 무엇인지 궁 금 생각보다는 무거워요. 그리고 쓰레기 빨려 들어가는 힘이 약한 거 같아요. 그래도 어머니 말씀이 사기는 잘했다고. 하시네요. 전보다는 청소하기 수월하시다는. 역시 엘지 무선 청소기 기본적인 구성품만 주는 제품 4 년 동안 쓰던 파워 건 정리하고 엘지 다이 슨 고민 하다 40만원 후 반대 이 제품으로 갈아탔습니다. 흡입력 소음 모두 만족 가볍고 좋네요. 싸게 사세요. 기본 구성품만으로도 충분합니다. 무겁다는 분들이 많아서 걱정했지만 자주 사용하다 보면 적응 되더라구요. 일단 무선이라 손쉽게 청소할 수 있어서 좋구요. 매트에서 사용 할 때는 흡입력이 좀 떨어지더라구 요. 정전기 때문인지 매트 위에 머리카락은 잘 아 빨려 들여서 터보로 돌리고 있어요. 유선만 사용하다가 처음으로 무선 제품을 구입했어요. 왜 이제서야 이걸 구입했나. 싶을 만큼 너 어 무 편하고 좋아요. 사실 코드 형 청소기는 한 번 사용하려면 너무 번거롭잖아요. 청소 끝나고 나면 코드 집어넣고 몸통 정리해야 되는데 이건 청소 끝나고 나서 충전기에 꼽아 두 기면 하면 되 서 너무 편하고 좋아요. 흡입력도 강하고 소리도 코드 형 제품에 비해서 조용하고 다만 청소 방법은 조금 번거로운 거 같습니다. 유선 현 제품에 비해서 손이 몇 번 더 가요. 부모님 사 드렸는데 청소하기 편하시다고. 좋아하세요. 생각보다 안 무겁고 흡입력 별로라는 얘기를 들었었는데 기존 유선보다 흡입력이 엄청 떨어지는 건 아니라 사용하는데 불편함은 없을 것 같아요. 배 송이 14일 이 내 길래 어버이날 선물로 지난주에 주문했는데 이틀 만에 배송 오고 기사분이 설치랑 설명도 잘해 주셨습니다. 만족해요. 무선 청소기 하나쯤 있으면 좋을 것 같아서 고민 고민 하다 엘지 코드 제로로 구매했어요. 모터 10년 보증 또한 좋은 것 같아서 역시 가전은 엘 지인 듯해요. 배송은 토요일에 주문해서 화요일에 받았어요. 집에 아무도 없어서 저녁에 조립은 제가 직접 했어요. 어렵지는 않았어요. 딱 기본으로만 구성되어 있어서 구매 물걸레는 그때그때 물걸레 부직포로 닦고 있어서 침구 또한 21 흡입구로 머리카락 등을 청소하면 되어서 유선 쓰던 분들에 겐 무게감 있구요. 흡입력은 보통으로 쓰셔도 괜찮구요 34. 평 형 아파트 방 3개 거실 소파 침구 청소하면 배터리 잔량이 두 개 정도 남아요. 단 청 소통 각각의 필터 흡입구 청소를 일주일 꽉 채 우려면 2 주 에 한 번씩은 해 줘야 해서. 제품 성능은 두말하면 잔소리 기존에 쓰던 제품이 고장이나 고민하던 중에 딸아이의 추천으로 구매하게 되었습니다. 조용하고 흡입력이 좋네요. 서로 청소하려고 쟁탈전 그리고 빠른 배송과 기사님의 친절함에 감사합니다. 설치도 쉬웠구 요 좋더라구요. 성업하시길 바랍니다. 부모님께 선물하는 거였는데 제가 연락처를 잘 못 기재하는 바람에 배송이 지연됐네요. 연락만 잘 닿았으면 34 일이면 받으 수 있었던 거 같아요. 기사님께 죄송하더라구요. 기사님이 오셔서 친절하게 설치해 주시 고 사용 방법까지 성명해 주셨다고. 하네요. 좋은 제품 친절 배송 설치 감사합니다. 일반 청소기를 사용하다 고급진 청소기를 사용 하니 느낌이 다르네요. 너무 조용하고 먼지도 잘 빨아들이네요. 제품 발송 시 포장이 사진처럼 일반적인 건지 모르겠네요. 제품 박스에 다 송장만 딱하니 붙여서 왔네요. 만약 파손이라 이러한 문제가 발생하면 받는 사람 보내는 사람 골치 아플 꺼 같은데 암 튼 문제 없이 와서 잘 사용하고 있습니다. 선물 받은 동생이 너무 좋다네요. 첨엔 엘지 제품이란 것만으로 너무 예쁘고 좋았는데 성능은 기본이라 생각했으니 사무실에서 한 달째 사용 중인데 배터리도 모터도 조금 이상해요. 몇 일 더 써 보고 수리하던 지 해야겠어요. 한 달 써 보니 좋은 것 같아요. 쭉 잘 쓰겠습니다. 흡입력 좋고 편리합니다. 아주 만족합니다. 디자인도 이 쁘고 흡입력도 아주 좋아요. 부모님이 구매해 달라고 하셔서 구입했어용. 성능 넘 좋다 고 좋아하시네요. 역시 가전은 엘지 여기가 최저가예요. 9보다 헤드가 낮아 져서 너무 좋아요. 잘 사용하고 있어요. 흡입력이 너무 좋아요. 청 소가 잘 됩니다. 잘 도착했습니다. 기본 흡입 기능이면 충분할 거라. 예상. 성능 만족합니다. 배 송도 빠르구요. 부드럽게 잘 굴러가 고 잘 빨아 드려서 좋아요. 좋은 밧 데리라고 하니 조금 무거운 거는 감수해야 겠죠 전에 쓰던 청소기보다는 엄청 좋네요. 코드 제로 중에 이게 적당함 것 같아서 구매했는데 소음도 작고 이쁘네용. 배터리가 무거워용. 배송도 빨랐고 고장 없이 오래 쓰고 싶네용. 다이 슨 이 오래되어 구입했어요. 생각보다 조용하고 흡입력도 좋고 배터리 상태도 보이고 편해요. 좋아요. 청 소기 돌릴 때 밧 데리가 좀 빨리 떨어지는 단점이 있지만 괜찮아요. 배송 엄청 빠르네요. 근데 매일 가격이 올라 요 장바구니 담아 놨더니 만 원이 오르고 지금 보니 또 올랐네요 ;;;;;. 여 튼 잘 쓰겠습니다. 배송도 빠르고 물건도 잘 왔습니다. 여자가 들고 계속 움직이기에 조금 무거운 감은 있네요. 흡입력은 좋고 먼지 통 비우기도 쉽습니다. 빠른 배송 감사합니다. 효과 좋아요. 흡입력도 좋고 먼지 통도 쉽게 갈고 세척 가능해서 편하게 사용할 것 같아요. 언제나 선호하는 엘지입니다. 사무실에서 사용하려고 구매했어요. 쓰고 있는 제품이라 부모님 선물 해 드렸는데 먼 적 해하세요. 저렴하게 잘 구매했습니다. 집에서 업그레이드 제품 쓰고 있는데 한 개가 더 필요해서 예전 버전으로 그나마 저렴한 거 찾아서 샀어요. 믿고 사는 엘지 제품입니다. 좋습니다. 가전제품은 믿고 삽니다. 좋아요. 빠른 배송 사진과 똑같아요. 좋아요. 흡입력 세고 잘 되구. 배송이 후기보다 매우 빨랐습니다. 작동도 잘 되는 듯한데 청소해봐야겠네요. 만족합니다. 너무 너무너무 좋습니다. 늦게 퇴근해서 집 앞에 두고 가 시라고 했어요. 조 립 쉽고요. 엄마 사 드렸는데 좋다고. 하세요. 딱 필요한 기능만 있어서 좋아요. 길이 조절도 쉽게 돼서 좋고 툴 보관도 편합니다. 거치대까지 있어서 만족스러워요. 어머님 넝 수 편하시다고. 좋아하시네요. 감사합니다. 배 송도 빠르고 좋네요. 엘지는 역시 엘 지지 좋아요. 흡입력도 좋고 사용도 편해요. 고장 없이 잘 사용 중입니다. 부모님이 좋아하세요. 잘 받았습니다. 감사합니다. 고민하다가 샀는데 잘산 거 같아요. 청소가 잘 되고 좋습니다. 잘 쓰고 있어요. 믿고 쓰는 엘 지청 소기 좋아요. 좋아요. 어머니가 만족 하심. 먼지 흡입력도 좋고 미세 먼지도 잘 청소되는데 밧 데리가 하나이네요. 믿어요. 배송도 어주 빠르고 착한 가격에 잘 산 거가 타 욘. 어버이날 선물로 친 정집에 선물해 드렸어요. 맨날 유선만 쓰시다가 너무 편하다고. 하세요. 배송도 빠르고 가벼워서 좋아요. 저렴한 가격 구매해서 잘 쓰고 있니요. 빠른 배송에 파손 없이 잘 도착했어요. 감사합니다. 성 능은 뭐 믿고 삿 어요. 헤드 부분이 가 벼워 청소하기 편하고 배송도 빨라서 좋았어요. 배송은 주말 끼고 3일 정도 걸렸어요. 제품 만족합니다. 아주 잘 쓰고 있습니다. 아기 잘 때도 사용할 수 있어서 좋구요. 그만큼 유선보다 조 용해요 강아지 털 때문에 혹은 계단 청소 차 내부 청소까지 요모 조모 좋아요. 그 대신 부스러 기 큰 것 들은 강 모드 아니면 빨아들여 지지 않습니다. 좋아요. 아직 개봉 전이지만 배송은 무지 빠름. 역시 가전은 엘 쥐네요. 잘 받았습니다. 제품이 좋습니다. 역시 최고로 편하고 흡입력 좋고 깔끔한 청소 맘에 딱 드신 답니다. 가 성비 최고에 요 예쁘고 흡입도 잘 돼요. 좋아요. 쓰던 거 라 만족합니다. 좋은 제품 잘 받았습니다. 아주 좋아요. 굿 굿이에요. 저렴하고 만족했습니다. 좋아서 선물한 겁니다. 굿. 빠르고 정확한 배소 옹. 빠른 배송 만족합니다. 가격 대비 좋네요. 엘지 굿 굿입니다. 싸게 잘 샀습니다. 아주 만족 스럽 습 다 잘 쓰겠습니다. 굿. 아직 안 써 봤는데 충전 후 다시 써 볼 개요 무선이라 기대는 안해요. 어버이날 선물로 보내. 드렸는데 너무 좋아하세요. 친정 부모님 댁에 보내. 드렸어요. 좋아 하십니다. 어버이날 선물로 사 드렸어요. 타 상품과 비교 고민하고 샀는데 만족합니다. 비교 분석하며 나온 단점이 무겁다는 거였는데 사용 시에는 밑으로 무게가 분산되어 괜찮네요. 만족합니다. 배송도 빠르고 괜찮네요. 지난 부모님 생신 때 선물해 드렸는데 넘 좋다고. 하시더라구요. 그동안 차이 슨 썼는데 이건 결국 다시 코드 청소기로 했었드래요 그런 데 구매하니 막내도 청소에 동참 간편하고 청소가 잘 되니 좋습니다. 엄마가 좋아하시네요. 선물했어요. 너무 좋아하세요. 고급스럽 구요;. 약간 무겁지만 불편하진 않데요. 저렴하게 잘 구입했고 배송 완 젼 빨라요. 조립하는데 시간 좀 걸렸어 요충 전하는 방식이 좀 번거롭 긴 하네요. 무게감도 좀 있고 그래도 무선이라 편할 것 같긴 해요. 부모님 주문해 드렸는데 배송 하루 만에 오고 소음도 적어서 좋으시다고. 하세요. 사용하기 편하다고. 하시네요. 생각보다 잘 빨리 지 않습니다. 티비에서는 겁나게 잘 빨리던데 다이 슨 이 더 나은 듯 하네요. 환불 귀찮아서 그냥 이번엔 씁니다. 저는 아주 만족합 다 어머니 선물로 사 드렸어요. 역시 가격 성능 디자인 모두 만족합니다. 조금 무겁지만 좋아요. 배 송 빨라 여. 좋아요. 가격에 비해 넘 만족해요. 성능도 좋습니다. 잘 쓸게요. 아주 좋아요. 아주 좋아요. 아주 좋아요. 아주 좋아요. 아주 좋아요. 아주 좋아요. 만족해요. 빠른 배송과 좋은 제품입니다. 가격 대비 최고입니다. 잘 쓸께요. 배송 진짜 빨랐어요. 타 우수제품도 다 써 봤지만 역시 코드 나인이 젤 만족도가 높네요. 빠른 배송에 감사 합니다. 역시 9 청소기 가 성비가 좋네요. 강추 드립니다. 물 걸래 부품은 추가로 구매 했고요. 집이 크지 않아서 베 터 리 하나로 사용 충분하내요. 베 터 리 부족하신 분들은 추가로 구매 하시면 될 거 같아요. 동시에 2개 충전 가능하니까요. '}, {'제품명': 'LG전자 코드제로 A9S A9700', '가격': '867,260', '평점': ['평점5', '평점5', '평점5', '평점5', '평점5', '평점5', '평점5', '평점5', '평점5', '평점5', '평점5', '평점3', '평점5', '평점5', '평점5', '평점5', '평점4', '평점5', '평점5', '평점5', '평점5', '평점5', '평점5', '평점5', '평점5', '평점4', '평점5', '평점5', '평점5', '평점5', '평점5', '평점5', '평점3', '평점5', '평점4', '평점5', '평점5', '평점5', '평점4', '평점5', '평점5', '평점5', '평점5', '평점5', '평점5', '평점5', '평점4', '평점5', '평점1', '평점5', '평점5', '평점4', '평점5', '평점5', '평점5', '평점5', '평점5', '평점4', '평점5', '평점4', '평점5', '평점5', '평점5', '평점4', '평점5', '평점5', '평점5', '평점4', '평점5', '평점5', '평점5', '평점5', '평점5', '평점5', '평점5', '평점5', '평점5', '평점5', '평점5', '평점4', '평점4', '평점5', '평점4', '평점5', '평점5', '평점5', '평점5', '평점5', '평점5', '평점5', '평점5', '평점1', '평점2', '평점5', '평점3', '평점5', '평점5', '평점4', '평점4', '평점5'], '채널': ['하이마트쇼핑몰', '신세계몰', '신세계몰', '하이마트쇼핑몰', '하이마트쇼핑몰', '신세계몰', '신세계몰', 'SSG닷컴', 'G마켓', '롯데홈쇼핑', '신세계몰', '인터파크', 'CJ온스타일', '신세계몰', '하이마트쇼핑몰', 'SSG닷컴', 'CJ온스타일', 'SSG닷컴', '롯데홈쇼핑', '11번가', '신세계몰', '신세계몰', 'SSG닷컴', '하이마트쇼핑몰', 'CJ온스타일', 'CJ온스타일', '하이마트쇼핑몰', 'SSG닷컴', '신세계몰', '신세계몰', '롯데홈쇼핑', '현대Hmall', 'CJ온스타일', '신세계몰', '11번가', 'SSG닷컴', '신세계몰', 'SSG닷컴', 'CJ온스타일', '롯데백화점', '현대Hmall', 'SSG닷컴', 'GSSHOP', '11번가', 'CJ온스타일', '롯데홈쇼핑', '롯데백화점', '하이마트쇼핑몰', '옥션', '롯데백화점', '11번가', 'GSSHOP', 'CJ온스타일', '신세계몰', '롯데홈쇼핑', '현대Hmall', 'G마켓', 'GSSHOP', '옥션', 'GSSHOP', 'SSG닷컴', '하이마트쇼핑몰', '11번가', '옥션', 'GSSHOP', '11번가', 'G마켓', '11번가', '롯데ON', '인앤샵', 'CJ온스타일', 'G마켓', '현대Hmall', 'G마켓', 'CJ온스타일', '신세계몰', 'SSG닷컴', '롯데홈쇼핑', 'GSSHOP', '하이마트쇼핑몰', 'GSSHOP', '롯데홈쇼핑', '옥션', 'SSG닷컴', '인터파크', '롯데홈쇼핑', 'GSSHOP', '11번가', 'G마켓', '신세계몰', '롯데홈쇼핑', '신세계TV쇼핑', 'CJ온스타일', '11번가', 'GSSHOP', '옥션', 'GSSHOP', '롯데홈쇼핑', 'G마켓', 'G마켓'], '날짜': ['21.03.01.', '21.03.20.', '21.01.05.', '21.02.04.', '21.05.30.', '21.02.17.', '21.04.04.', '20.12.11.', '20.07.08.', '21.04.14.', '21.05.12.', '21.06.12.', '20.10.11.', '21.01.07.', '20.10.29.', '20.10.31.', '20.10.31.', '20.12.14.', '21.04.02.', '20.08.23.', '21.03.20.', '21.02.17.', '20.12.11.', '20.10.29.', '20.04.14.', '20.10.21.', '20.09.29.', '20.12.16.', '20.12.10.', '21.04.07.', '21.01.25.', '21.03.02.', '21.01.21.', '21.03.16.', '21.05.31.', '20.12.30.', '20.06.08.', '21.01.26.', '20.05.29.', '21.03.12.', '20.05.18.', '21.09.13.', '21.02.20.', '21.01.07.', '20.08.27.', '21.01.26.', '21.03.10.', '20.11.05.', '21.07.25.', '20.05.20.', '21.04.26.', '20.12.02.', '21.01.06.', '20.12.22.', '21.03.04.', '21.02.20.', '20.11.10.', '20.11.09.', '21.01.29.', '20.11.19.', '21.03.12.', '20.11.20.', '21.05.02.', '20.11.30.', '20.12.21.', '20.11.29.', '20.11.06.', '21.07.15.', '20.10.12.', '20.12.01.', '20.10.18.', '21.03.16.', '21.02.17.', '21.01.17.', '20.06.07.', '21.01.27.', '21.03.07.', '21.01.07.', '20.09.05.', '20.10.17.', '20.10.05.', '20.11.24.', '20.04.22.', '21.02.25.', '20.11.11.', '21.03.26.', '20.06.30.', '20.05.02.', '20.09.20.', '20.09.12.', '20.11.02.', '21.05.04.', '20.11.06.', '21.02.18.', '20.08.28.', '20.09.02.', '20.08.01.', '20.11.15.', '20.10.10.', '21.03.22.'], '리뷰': '중소기업에서 만든 제품 30만 원대와 코드 제로 둘 중에 하나를 고 민 고민 끝에 코드 제로를 선택했어요. 금액이 3 배나 비싸기에 망설여 지더라구요. 최근에 사무실에 중소기업 제품을 구매해서 사용 중인데 일단 코드 제로는 청소할 때 미끄러지는 게 너무 부드럽고 확 차이가 나더라. 구요 근데 청소기 앞부분에 불이 안 켜지니 앞에 먼지가 있는지 보이는 것은 중소기업 제품이 좋은 것 같고 물걸레는 코드 제로가 처음이라 비교를 할 수가 없는데요 물걸레 청소할 때 물이 진짜 적당히 나오는 것 같아 좋아요. 물걸레랑 청소가 같이 되니까 편하네요. 청소 기 돌려 놓고 물걸레질 따로 하고 그랬는데 참 편하네요. 천천히 해야 되고 물걸레가 좀 작은 감은 있어요. 저는 원룸을 관리하는데요 계단 복도 청소할 때 청소하기가 너무 편합니다. 허리도 안 아프고 서 서해도 되고 1 층에서 4 층 다 청소하니까 밧 데리 1 개랑 추가 밧 데리 한 칸 정도 드네요. 밧 데리 용량도 충분한 것 같고 청소도 이만 하면 깨끗이 되고 아쉬운 것은 물걸레 포가 부족해서 더 구매해야겠어요 저는 워낙 청소가 많아서 필요하겠지만 일반 가정에서는 충분할 것 같네요. 소음도 1 단 해서 한 밤중에도 바닥 먼지 청소해도 조용하고 좋아요. 약간 무거운 감은 있어요. 그래도 이 정도는 충분히 사용할 것 같고 바라는 거라면 가격이 좀 내려갔으면 하는 거네요. 따른 건 좀 사용해 봐야 알겠지만 아무튼 잘 사용할께요. 코드 제로 전의 삶과 후의 삶 급격히 달라지다. 본인은 장모 중단 모 반려 묘 두 마리를 모시는 집 사이다. 나의 하루는 청소로 시작해서 청소로 끝난다. 하지만 눈에 보이지 않는 먼지나 털로 인해 본인의 집에 놀러 오는 사람은 올 때와 갈 때 옷에 붙어 있는 털의 양이 남 다르다. 항상 민망하다. 그런 친구의 영업으로 혹 하여 구매하게 된 청소기 주문하고 이두근 삼두근이 두근거리며 언제 오는지만 기 다렸다. 배달은 리뷰 일인 오늘 토요일 한낮에 도착했다. 엘지 기사님이 방문하여 설치와 사용 방법을 알려주고 마법 소녀처럼 사라진 이후 청소기가 충전되길 기다렸다. 청소를 위해 경건하게 샤워를 하고 나와 충전된 청소기를 기본 단계로 하여 거실을 쓸었다. 나는 충격 받았다. 나름 정확한 검증을 위해 난 어 제 저녁 청소를 했다. 하지만 녀석의 몸통에는 주인님의 털과 먼지가 가득 했다. 떨리는 동공을 고 정하고 바로. 두 번째 구입하는 제품이 고전에는 이 모델보다 비싼 모델 색상 차이 을 구입했었는데 별 차이 없네요. 기능 차이가 없으니 이 모델이 나은 듯 후딱 거치대 조립하고 충전 중입니다. 거치대 을 스탠드 형식이나 벽 고정 형식 선택 사양이며 스탠드 형식으로 해도 거치대 밑면이 무게감이 있어 안 정적 입니다. 자 주 쓰는 툴 두 개와 물걸레 툴 물걸레를 거치대에 거치할 수 있어 요충 전은 본체와 보조 배터리 동시에 충전 가능하고 여러 가지 툴과 정리가방이 별도로 있어 좋고요. 물걸레 할 때 진공 청소도 같이 되는 점이 참 마음에 들어 요물도 자동 공급되는 점 만 이 기능이 있는 듯 해 요청 소기 무게감은 있습니다. 가볍지 않아요. 다이 에 비해 무겁습니다. 다만 그만큼 사용 시간이 길어 요배 터너도 여분으로 하나 더 있어서 바로 교채 해서 청소 시간을 연장하니 좋고 요소음은 적은 데 흡입력이 좋고 특히 터 보 모드로 하면 바닥에 달라붙는 느낌이 옵니다. 저희 집이 반려 동물 털 때문에 흡입력 강한 청소기를 찾았는데 무선으론 이만한 청소기가 없더라 고요 반려 동물 때문에 청소 기의 수명이 짧은 편인데 오래오래 쓸 수 있었으면 좋겄네요. 왜 지금까지 구매를 안했을까. 싶을 정도로 너무나 편하고 좋습니다. 유선 청소기를 쓸 때는 선 길이가 안 맞아 코드를 여기저기 꽂아서 쓰느라 불편했는데 이제는 그럴 일이 없어서 그런지 너무 편해요. 부모님도 한 번 써 보시고는 너무 편하다며 수시로 먼지가 보일 때마다 청소하시네요. 후기에 생각보다 무겁다는 이야기가 있어서 걱정했는데 전혀 걱정할 필요 없었을 정도로 가볍습니다. 설치해 주시면서 설명해 주신 사용법 필터 청소만 신경 쓰면 편하게 잘 사용 할 것 같아요. 고민 고민하다가 드뎌 청소기 구입했어요. 너무 좋와 요 저는 2마리 냥 집 사인데 확실히 청소 기밀 때 빨아 드는 힘이 장난 아니네요. 털 을 많이 흡수해요. 거치대도 해 놓으니 보기도 좋고 가격도 여기가 최저가에 요 멍 냥이 집사님 들은 구입해도 좋을 것 같아요. 언니가 새 집에 입주하여 집들이 선물로 뭘 사 줄까. 고민을 많이 했는데 필요한 것이 있나. 싶어 물어보니 바로 콕 집어 코드 제로를 사 달라고 사진을 보내왔더라구요. 언니는 계획이 다 있었네요. 반려 견을 키우는 데 아마도 펫 전용 흡입구 가 있어서 요즘 뜨고 있는 코드 제로를 점 찍어 뒀나. 싶어요. 가격대. 우리 고양이들이 청소기 소리를 무서워해서 주말에만 청소기 쓰고 평소에는 찍찍이 와 물걸레를 쓰고 있었으나 시간도 오래 걸리고 힘들어서 청소기를 찾다가 매 탈 남 유 튜브에서 코드 제로 펫 전용 보고 난 후 이 거 다 싶어 구매했습니다. 매장에 가서 봤는데 110만원 정도 하더라구요. 검색 하니 쓱 닷컴이 가장 저렴하더군 요1. 주일 기다려 배송 받았고 뭐가 많았습니다. 사용한 지 2 주째인데 펫 전용 기능만 써도 충분하더라구요. 카펫이랑 방석 매트 이 불 등 등 하나로 해결하고 있습니다. 매일 매일 돌리는데도 청소하고 나서 나온 냥 털 보면 깜짝 놀랍니다. 소음은 늦은 시간에 써도 될 정도이며 고양이들은 무서워는 하는데 도망가거나 숨지는 않습니다. 우리 고양이 해와 달이를 만나게 해 준 동생이 청소기가 필요 하다고 해서 1대 사서 선물해 주기로 했습니다. 로봇 청소기 엘지 제품 가 있는데 평소에는 편한데 잠깐 돌리거나 구석구석 까지는 좀 어렵더라구요. 무 선 청소기 계속 보고 있었는데 비싸도 고민 고민 끝에 구매했어요. 몸 체가 조금 무겁 긴 한데 그래도 이 정도면 타사보다는 가벼운 편인 것 같아 요소리 크다는 분들도 많던데 이거는 사람마다 느끼는 게 다른 듯 저는 작다고. 생각했거든요. 이 정 도면 소음 정도는 아닌 듯해 여 무선 청소기 중에 여러 가지가 있는데 이 제품 선택한 이유가 침구류 돌리는 기능 때문인데 오자마자 침구류부터 돌려봤어요. 짱죠 음 맨날 이불 털 수가 없어서 가장 뿌듯해 여 물걸레 로봇 청소기 이건 엘지 제품은 아님 있어서 가끔 돌릴 때 쓰려고 산 건데 일회용이 있는지는 몰랐어요. 이것도 일회용이 있더라. 고요 뜻밖에 개 이득 근데 금방 물이 빨리 말라요. 그래도 걸레 빨기 귀찮을 때 쓰면 좋을 것 같아요. 거치대에 두기 어려운 것 들은 가방을 따로 줘서 거기 다가 넣고 보관하면 되요. 비싼 만큼 좋네요. 그리고 터보 기능은 7분 정도 여서 평소에는 기본으로 돌리고 흡입이 안 되는 부분은 터보로 돌리면 되요. 로봇 청소기랑 무선 청소기 고민하시는 분들 많으실 텐데 둘 다 써 보면 장 단점이 너무 뚜렷해서 신. 무게 중심이 잘 잡혀서 인지 실제 무게에 비해서 청소할 때 무게감은 별로 느껴지지 않고 쓰기에 아주 편리합니다. 무선이니 당연히 편리하고 헤드 움직임을 컨트롤하기가 좋습니다. 물걸레질과 진공 흡입 청소를 동시에 할 수 있으니 당연히 편리하긴 하지만 물걸레질은 아쉬움이 있어요. 물걸레질은 물걸레 전용 청소기나 스팀 청소기로 보충해야 할 듯 그래도 휴스톰 물걸레 청소기보다는 작동 편하고 그 정도 효과는 있어서 아쉽지만 만족 그러나 물통은 사용 후에 잘 말려야 한다고 매뉴얼에 씌여 있지만 구조적으로 물이 완전히 빠지지도 않거니와 흔들어서 물을 다 빼고 나서 남아 있는 미세 방울도 잘 마르지 않아요. 만 24 시간이 지 나 도 완전히 안 마르는데 이건 물통 구조적 문제인 듯해서 아쉽습니다. 소음도 그다지 크지 않습니다. 우리 집 강아지가 청소 기만 돌리면 청소기에 대고 짖어 대고 공격하는데 강아지 짖는 소리보다는 작습니다. 가장 감탄한 건 포장 박스인데 각 부속품이 완벽하게 자리 잡게 만든 데 거의 예술입니다. 박스는 이렇게 예술로 만들었으면서 부속품 보관함은 왜 이 리 허 접한 지 부속품 보관함을 챙겨 주는 센스 까지는 좋았는데 센스 발휘하는 김에 좀 잘 만들어 주지 백만 원 넘는 가격에 기 절 초풍 하면서 1주일 넘게 고민 하다 결제했는데 청소 싫어하거나 못하는 사람 살림할 시간이 많지 않은 사람에게는 백만 원보다 훨씬 큰 값어치가 있습니다. 청소가 훨씬 쉬워 져서 청소 주기가 짧아지니까 요 실제 기계 자체의 가성 비는 떨어지지만 삶의 질의 측면에서는 충분히 만회할 만한 가격이라고 생각합니다. 그러나 뽀송한 물걸레 효과를 원하는 사람은 이 제품에 스팀 청소기가 한 대 더 있어야 할 것 같습니다. 그래서 저도 스팀 청소기도 질렀다는. 남자인 제가 사용하기에도 무겁습니다. 무거워서 그런지 손잡이의 버튼과 엄지손가락 뿌리 부분에 마찰이 있어 손이 많이 아픕니다. 둥글레 만들었으면 문제 없을 듯 한데 말이죠. 애견 매트 청소 할 때 문제가 조금 있습니다. 흡입력을 낮추면 털이 그대로 남아 있도 흡입력을 올리면 청소기에 달라 붙어서 건식 청소는 좀 힘드네요. 물걸레 겸 흡입으로 하니 어느 정도 효과가 있습니다. 청소기에 부착하는 툴들을 거치대에 거치 할 수 없어 불편하네요. 사용할 때 마나 가방에 넣어 둔 것을 꺼낼려고 하니 좀 번거롭습니다. 코드 제로 삼성 비스 포크 다이 슨 이렇게 고민하다가 가전은 엘 지란 말 듣고 조금 가격대가 있음에도 불구 하고 코드 제로 선택했어요. 카드 할인 받아서 90만원 대에 구입했구요. 배 송은 주문하고 한 이틀 만에 총알 배송으로 온 것 같아요. 설치 기사님 따로 안 오시고 자율 설치인 것 보고 조금 당황 했으나 유 튜브 보고 하니까 뚝딱 되더라구요. 어르신들은 당황하셔서 어려울 수도 있을 것 같아요. 저희 집은 유선 청소기를 오래 써서 무선 청소기가 필요가 있나. 했는데 부모님이 저보다 청소를 자주 하셔서 무겁고 불편하겠단 생각에 어버이날 맞이해서 부모님한테 사 드렸는데 왠 걸 제가 써 보니 너무 가볍고 신세계입니다. 소음도 적 고 강아지도 덜 짖더라구요. 저녁이나 이른 아침에 살짝 청소도 가능 하고 진짜 솜털처럼 가볍습니다. 무겁다는 리 뷰 보고 걱정했는데 유선 청소기를 쓰던. 저인지라 유선 청소기는 청소 하기도 전에 끄낼 때 무거워서 승질 이 승질이 났는데 코드 제로 너무 좋습니다. 진짜 두 번 사세요 세 번 사세요. _. 우선 가 성비 좋고 하자 없는 제품에는 만족합니다. 다만 제품 사기 전에 홈페이지를 통해 확인해 보았을 시에는 해당 제품이 기사님이 와서 설치를 해 주시는 것인지 단순 택배를 보내주시는 건지에 대해서는 굉장히 모호합니다. 내부 리뷰를 보고 기사님이 설치를 해 주시는 것으로 이해하고 부모님께 선물로 드린 거라. 나중에 택배로만 왔을 때는 굉장히 당황했던 기 억이 있구요. 이런 부분에서 제가 잘못 이해했는 지에 대해 문의 글을 올렸을 때는 다른 설명 없이 택배로 발송되었다는 답변만 짤막하게 주시더라구요. 이런 후속 대처에 대한 부분에 아쉬움이 많네요. 구매 하실 분들은 꼭 사기 전에 이런 부분에 대한 궁 금점이 있을 때는 꼭 문의하시고 진행하시구요. 아무래도 고 가니 까요. 판매 담당자 분은 동일한 판매 페이지 내에서 구매 수량에 따라 판매 상태를 조정하셔서 페이지를 노출하고 계신 듯 한데 이러한 과정에서 정보가 변경되면 꼭 고지하셔서 혼선이 없도록 하는 게 좋겠습니다. 홈쇼핑으로 구매하는 85만원에 이것저것 빠졌더라구요. 이걸 했다 취소하고 풀 패키지로 구매했어요. 가격은 비싸지만 할인 받고 사은품 없으니 좀 더 싸게 살 수 있더라구요. 특히 밧 데리는 두 개 필요합니다. 먼지 청소기 후 물걸레까지 하면 하나론 부족해요. 추후 구매하는 거 잘 안하게 되잖아요. 그리고 같이 들어와 야 저렴. 침구 청소기도 가끔 이지만 필요하구요. 선 없이 여 기저기 다니니 청소 시간도 단축 육체노동도 감소 만족합니다. 소리는 타사 제품보다 작고 외관상 뒤에 빳 데리 부분 빼고 예뻐요. 헌데 모터가 타사 제품보다 약해 흡입력이 떨어지는 것과 생각한 것보다 다른 부속품들 중에서 침구 흡입구가 쫌 옛날 싸구려 만능 솔처럼 느껴지는 게 기대가 너무 컸나. 봐요. 스팀이나 살균 같은 기능을 기대하다가 핸드 청소기에 너무 많은 기대를 한 듯 기존의 물걸레 청소기 모델에서의 걸레 크기가 작아서 아쉬워요. 옛날 스팀 기능 있던 물걸레 청소기를 생각하면 안 되겠죠. 대체적으로 만족하지만 가격 대비하여 성능이 떨어진 다 생각이 들어서 기존의 기능이 따로 있는 청소기를 구입하는 게 더 경제력 있는 선택이 아닐까 합니다. 가격이 많이 쎄네요. 그렇다 하더라도 종합적으로 청소 시에는 꼭 필요한 기능이 다 갖춰 진데 다가 공간 낭비도 하지 않아서 대체적으로 만족합니다. 무선이 첨이라 그런지 흡입력이 표준으로 할 땐 과자 부스러기나 자잘. 배송도 빠르고 전문 기사님이 설치해 주셨습니다. 또 친절한 설명까지 해 주셔서 좋았어요. 아직 청소기 테스트는 못 해봤지만 외관상은 색감도 이 쁘고 깔끔하네요. 무게도 무겁지 않고 한동안은 청소할 맛 날 것 같아요. 스마트 폰으로 어 플 설치 해서 청소기 관리도 할 수 있어서 좋은 거 같아요. 물걸레 크기가 조금 작 긴 하지만 청소와 물걸레를 동시에 할 수 있고 용도에 따라 다양한 청소 솔이 있어 구석구석 청소 할 수 있겠네요. 다양한 구성품을 보관할 수 있는 가방도 좋아요. 배터리는 2개 물 걸리 포 4개 물걸레 일회용 물 티슈가 20 개 청소기 가격이 비싼 만큼 소모품은 더 많으면 좋을 텐데 조금 아쉽네요. 청소기 소리는 조금 큰 듯 하지만 보통 청소기에서 나는 소리인 거 같고요. 거치대는 벽에 고정시킬 수도 있고 스탠드 형식도 있어 두 가지 선택을 할 수 있어요. 거치대에 본체 물걸레 모두 거치 가능해 보관하기 편리해요. 보관의 편의 성 다양한 상황에 따라 청호 할 수 있누. 브러쉬 청소 물걸레의 성능은 현재 최고니 까 오래오래 고장 안 나 고 쓸 수 있으면 좋겠습니다. 살까 말까 계속 망설이 다가 할인할 때 카드 할인까지 받아서 구매했어요. 해 피 콜에서 3주 걸린다고 안내 받았지만 배송 연락이 없어 기다리다 결국 3 주째에 상품 받았는데 배송 안내 전화 시간에 딱 맞춰서 오셔서 설치도 사용 방법도 친절하게 해 주셨어 요충 전해서 사용한다고 몇 시간 기 다려서 사용해 보니 기존에 사용하던 청소기보다 소음도 약하고 깨끗하게 청소되서 만족스러웠어요. 침구 청소기는 사용해 보니 청소가 되 긴 하는 건가. 싶었는데 이불이 좀 뽀송 해진 느낌이 들 긴 했어요. 다만 무게감은 좀 있어서 광고처럼 한 손으로 번쩍 들고 하기는 힘들 거 같더라구요. ; 다른 키트들은 사용해 보면서 더 익혀야 할 거 같아요. 그래도 비싼 청소기 샀으니 열심히 청소해서 집 콕 많은 이 시기에 가족들 건강까지 잘 지켜보렵니다. 기존 유선 청소기는 자주 사용하기가 부담스럽고 소리도 커서 불편했습니다. 그래서 무선 청소기 중 고민 고민 끝에 9를 구매하기로 했습니다. 하지만 고르는 게 여간 힘든 게 아니네요. 9 모델별 구성품과 가격이 제각각이라 힘들었습니다. 하지만 나중에 후회 없도록 풀 패키지를 선택했습니다. 모든 구성품을 사용하게 될지는 모르겠으나 풀 패키지를 선택해야 속이 후련할 듯 했습니다. 결정을 했으면 결제 결제 후 이틀 만에 배송이 됐습니다. 직 배송으로 친절하신 기사님이 방문하시어 조립과 세세한 설명을 해 주시네요. 덕분에 금 방 사용법을 익혔습니다. 사용해 본 결과 만족스러운 점은 역시 무선의 편리함이 가장 마음에 들었고 물걸레와 흡입 청소가 동시에 가능하다는 점도 상당히 마음에 들었습니다. 소음은 그리 크지 않아 사용함에 불편함이 없고 층 간 소음에서 자유로울 수 있을 거 같습니다. 유선 청소기 쓸 때는 살짝 마음에 걸렸었는데 이 제 그런 부담은 없을 듯 합니다. 배터리도 2개 라 장시간 청소도 가능하고 다양한 구성품 덕에 구석진 곳도 청소를 할 수 있게 되었습니다. 만족 만족 잔 고장 없이 오래 사용 할 수 있으면 최고의 청소 기가 될 듯 합니다. 원래 기사님이 설치까지 해 주시는 건지 모르겠는데 전 집에 강아지가 외부인을 싫어해서 그냥 달라고 했어요. 설명서 따라 그대로 하니까 어렵지 않게 설치 완료 했어요. 성능도 괜찮고 생긴 거도 깔끔해서 좋아요. 유선 청소기 쓰다가 코드 제로로 바꾸니까 무게가 가 벼워 져서 청소할 때 훨씬 편하네요. 삼 성과 엘지에서 1 달 간 고민하다가 물걸레와 먼지 흡입을 동시에 할 수 있고 물걸레 사용 중 물 분사 가능이 있어 결국 앨지 걸로 선택을 했는데 아주 탁월한 선택이었던 것 같아요. 쓰레기 버리는 기능도 아주 좋아요. 삼성은 쓰레기 버리는 통이 따로 있으나 부피도 크고 장소도 차지하고 쓰레기 봉투도 따로 사야 하기에 엘지 선택으로 마음을 돌렸는데요 아주 잘 함 흡입력 좋아요. 조용해요. 물걸레 청소 아주 잘 닦여요. 청소가 재밌어 졌어요. 흡입구도 여러 가지라 아주 좋아요. 밤 늦게 청소기 돌려도 가족들 신경 안 쓰여요. 고민 그만 하시고 엘지 것 사셔도 후회를 안하실 거예요. 전 너무 좋습니다. 물걸레는 기본으로 4 장 나오는데 부족해서 샌 타에 들려서 1 묶음에 4 장 들어 있는 것 구매 할려구요 참 그리고 물걸레 아주 잘 빨립니다. 예전에 유선 물걸레 청소기와 무선 물걸레 청소기를 다 사용 해봤는데 걸레가 잘 안 빨려서 스트레스 받았었어요. 엘지 물걸레는 손세탁으로 깨끗 히 빨리는 게 아주 좋아요. 심하게 강추합니다. 코드 제로 전의 삶과 후의 삶 급격히 달라지다. 본인은 장모 중단 모 반려 묘 두 마리를 모시는 집 사이다. 나의 하루는 청소로 시작해서 청소로 끝난다. 하지만 눈에 보이지 않는 먼지나 털로 인해 본인의 집에 놀러 오는 사람은 올 때와 갈 때 옷에 붙어 있는 털의 양이 남 다르다. 항상 민망하다. 그런 친구의 영업으로 혹 하여 구매하게 된 청소기 주문하고 이두근 삼두근이 두근거리며 언제 오는지만 기 다렸다. 배달은 리뷰 일인 오늘 토요일 한낮에 도착했다. 엘지 기사님이 방문하여 설치와 사용 방법을 알려주고 마법 소녀처럼 사라진 이후 청소기가 충전되길 기다렸다. 청소를 위해 경건하게 샤워를 하고 나와 충전된 청소기를 기본 단계로 하여 거실을 쓸었다. 나는 충격 받았다. 나름 정확한 검증을 위해 난 어 제 저녁 청소를 했다. 하지만 녀석의 몸통에는 주인님의 털과 먼지가 가득 했다. 떨리는 동공을 고 정하고 바로 고양이 화장실이 있는 방으로 진격했다. 사실 내 중요 거점은 이곳이다. 모래를 잡아 주는 매트를 깔아도 이를 청소하는 일 또한 사람을 고 생시킨다. 이곳을 집중적으로 밀었다. 매트 안에 들어간 모래는 마치 바늘로 구슬을 꿰는 것과 같은 일이다. 하지만 코드 제로는 달랐다. 모래들이 끌려 나오며 몸통으로 빨려 들어가는 모습을 보며 난 쾌감에 사로잡혔다. 잘 샀다. 아마 내가 100만원 짜 리 청소기를 샀다면 경기할 어머니가 눈에 선하지만 스스로 만족한다. 마지막으로 그 증거를 사진으로 기록 하여 여기에 남긴다. 많은 반려 인들이 여러 가지 청소기를 비교 구매하는데 도움이 되었으면 한다. 참고로 체크무늬 방석은 우리집 주인님의 애착 방석이다. 즉 원래 저 색이 안 보이고 고양이 털로 뒤덮혀 있었다는 뜻이다. 이 정도 청소력이면 선방했다고. 본다. 언니가 새 집에 입주하여 집들이 선물로 뭘 사 줄까. 고민을 많이 했는데 필요한 것이 있나. 싶어 물어보니 바로 콕 집어 코드 제로를 사 달라고 사진을 보내왔더라구요. 언니는 계획이 다 있었네요. 반려 견을 키우는 데 아마도 펫 전용 흡입구 가 있어서 요즘 뜨고 있는 코드 제로를 점 찍어 뒀나. 싶어요. 가격대가 높아서 이곳 저곳 검색해 보았고 제 기준에는 늘 즐겨서 애용하는 몰이 맘에 들어서 구입을 하여 언니네로 배 송지를 해 두었는데 연휴 끝나고 이틀 만에 바로 잘 받았다고. 합니다. 언니가 생각했던 것보다 코드 제로 청소기가 소음도 적 고 강력한 먼지 흡입과 물걸레 청소 외에도 미세 먼지 배출 등 여러 가지 구성 편리한 기능이 많아서 좋다며 아주 흡족 해하네요. 그래서 선물한 제 마음도 정말 기 쁘네요. 우리 집에도 가전이 많은데 역시 가전은 인가 봅니다. 거실에서 반려 견과 함께 생활하려면 패 브릭 소 파며 집안 여러 곳에 털과 먼지가 날릴 텐데 이제는 걱정 끝 펫 털이 날릴 걱정 없이 맘껏 즐겁게 지 낼 수 있어서 좋을 것 같아요. 코드 제로 9 펫 펫 전용 흡입구 저도 갖고 싶네요. 로봇 청소기 엘지 제품 가 있는데 평소에는 편한데 잠깐 돌리거나 구석구석 까지는 좀 어렵더라구요. 무 선 청소기 계속 보고 있었는데 비싸도 고민 고민 끝에 구매했어요. 몸 체가 조금 무겁 긴 한데 그래도 이 정도면 타사보다는 가벼운 편인 것 같아 요소리 크다는 분들도 많던데 이거는 사람마다 느끼는 게 다른 듯 저는 작다고. 생각했거든요. 이 정 도면 소음 정도는 아닌 듯해 여 무선 청소기 중에 여러 가지가 있는데 이 제품 선택한 이유가 침구류 돌리는 기능 때문인데 오자마자 침구류부터 돌려봤어요. 짱죠 음 맨날 이불 털 수가 없어서 가장 뿌듯해 여 물걸레 로봇 청소기 이건 엘지 제품은 아님 있어서 가끔 돌릴 때 쓰려고 산 건데 일회용이 있는지는 몰랐어요. 이것도 일회용이 있더라. 고요 뜻밖에 개 이득 근데 금방 물이 빨리 말라요. 그래도 걸레 빨기 귀찮을 때 쓰면 좋을 것 같아요. 거치대에 두기 어려운 것 들은 가방을 따로 줘서 거기 다가 넣고 보관하면 되요. 비싼 만큼 좋네요. 그리고 터보 기능은 7분 정도 여서 평소에는 기본으로 돌리고 흡입이 안 되는 부분은 터보로 돌리면 되요. 로봇 청소기랑 무선 청소기 고민하시는 분들 많으실 텐데 둘 다 써 보면 장 단점이 너무 뚜렷해서 신중하게 고민하시는 게 좋은 것 같아요. 저처럼 편하게 사는 게 목적이다. 이럼 큰맘 먹고 두 개를 구매 하 두 개 다 구매해서 사람들이 저한테 장단점을 너무 물어봐서 혹시나 도움되시는 분들 보시라고 짧게 적어 볼께요.  광고 아님 로봇 청소기 무선 청소기 걸레 로봇 청소기 전부 내 돈 내고 구매함 왜 세 개나 샀냐고 하시면 움직이는 게 귀찮아서 청소 쪽은 안 아끼고 구매하고 대신 다른 걸 아끼는 편 임 로봇 청소기 장 점 밖에 있어도 어플로 시작만 누르면 돌릴 수 있어서 맨날 청소가 가능함 알아서 청소해서 내가 돌아 다닐 필요가 없음 집에 청소 기만 돌려주는 사람을 고용한 느낌 단점 가끔 장애물 걸리면 뻘 짓함 집을 아주 천천히 돌아다녀서 시간이 오래 걸림  나가 있을 때 돌리면 최고 흡입이 무선 청소기 보다는 약 한편  무선 청소기 장 점  원하는 곳 돌릴 수 있음 생각보다 소음이 적음 실 용도가 높음 물걸레도 가능하고 심지어 물걸레는 일회용도 있음 개인적으로 침구 위에 돌릴 수 있는 게 가장 마음에 들음 단점  맨날 돈 리기 귀찮음 몸체가 무게가 거슬리는 정도는 아니지만 유선 청소기보다 무거움 이건 사실 어쩔 수 있어서 무선 청소기 사용하려면 감안해야 됨 금액이 비 쌈 침구 필요없는 사람은 조금 더 저렴하게 살 수 있는 기종 있음 물걸레 로봇 청소기는 타사제품이니 안적겠음 한 마디로 그냥 맨날 돌리기 귀찮으면 로봇 청소기 실용도 다 따지면 무선 청소기. 무선이 첨이라 그런지 흡입력이 표준으로 할 땐 과자 부스러기나 자잘한 부스러기나 다 흡입이 안 된는 거 같고 2 단계로 높여야 흡입을 해요. 뭔 가 터보 모드로 해 여만 속 시원히 흡입한 거 같은 느낌이에요. 물걸레도 장착해서 해봤는데 이전에 스팀 물걸레 쓰다가 쓰니 좀 적응이 안 되 긴 한데 엎드려서 손 걸레질보다 훨 나으니 좋아요. 점점 적응해 가겠죠. 장점이 참 많은 거 같아요. 부스러기만 생기면 가족 중 누구라도 들 고 가서 밀어요. 청소도 서로 하려고 하고 제가 좀 편해 질 거 같아요. 그 동안 청소기 큰 소리에 너무 익숙 해진 탓인지 흡입 강도가 약하다고. 느껴질 정도로 소음이 줄어든 것 같습니다. 그렇다고. 밤 9시 이후에 안심하고 돌릴 정도의 소음은 아니지만 기존 유 무선 청소기 대비 소음이 부드럽네요. 디자인은 개 취지만 다 보다 예뻐요. 비싸서 그런 가 그리고 무선 청소 기라 무게가 꽤 중요한 데 한결 가벼워 진 것 같습니다. 충전 후에 거실 한 번 밀어 봤는데 손에 전혀 부담이 가지 않네요. 충전하기 위해서 제품을 거취할 때 살짝 힘이 들어가는 것 외에 청소할 때는 가 벼워 진 장점을 실감할 수 있습니다. 와이 파이로 제품 연결해서 청소 주 기 등을 확인할 수 있는 것도 좋구요. 충 전이 다 되면 폰으로 알림이 뜹니다. 앱 등록 시 다양한 부 러쉬 기본으로 제공해서 침구류 나 틈새 등 청소할 때도 여 긴 하게 사용 가능할 것 같습니다. 먼지 배출할 때도 손을 더럽힐 필요 없는 것도 좋구요. 너무 장점만 얘기했는데 단점은 가격이 너무 비 싸요 청소기 1대를 100만원 훌쩍 넘는 돈을 주고 살 거라. 생각도 못했었는데 타사 최신 제품들도 100만원이 넘어가니 만 탓할 수도 없지만 요 10년 이상 사용해서 본 전 뽑을 생각으로 큰 맘 먹고 구매했습니다. 배터리 야 버텨 줘 그리고 소음이 줄었다고. 는 하지만 저 소음 모드 기능도 있으면 좋겠네요. 모터 때문에 어쩔 수 없겠지만 늦게 퇴근했을 때도 맘 편히 청소기 돌릴 수 있었음 좋겠네요. 그래도 가전은 라는 고전 을 믿고 샀으니 고 장 없이 잘 쓰고 싶네요. 몰에서 깜짝 특가로 잘 구매했습니다. 청소기 고민하다가 버전 업되면서 편리 해져서 구매했는데 풀 패키지 모델이라 그런지 부속품들이 많이 들어 있네요. 간단하게 청소하기도 너무 편하네요. 전용 도크가 있어서 결합 시 알림 음에 듀얼 배터리라서 배터리 용량도 많구 물걸레 청소와 흡입도 잘 되네요. 모델은 구성품에 따라 필요한 거 사도 되지만 듀얼 배터리 옵션으로 구매하는 거 추천 물량 수급이 불안정해서 오래 기다린 거 빼고는 대 만족이네요. 핸들링 부드럽네요. 가구 밑에도 청소가 가능해요. 특히 다른 제품보다 소음이 작아서 만족해요. 한 가지 모터 있는 곳에 약간의 열이 느껴지는데 큰 문제는 아닐 듯 보이네요. 와이프가 무지 좋아해요. 동영상은 안 올라가서 못 올렸어요. 삼성이랑 고민 끝에 코드 제로로 결정하고 주문했는데 좋은 선택이었네요. 배송은 일주일 정도 예상했는데 주문 후 이틀 후에 기사님이 방문하셔서 설치해 주셨습니다. 오시기 전 연락 먼저 주셔서 방문 시간 조율했고 친절하고 자세하게 청소기 작동법 설 명해 주셨어요. 아직 몇 번 사용해 보진 않았지만 무선이라 언제든지 간편하게 청소기를 이용할 수 있어서 좋네요. 함께 구성에 들어 있는 여러 가지 도 구들로 여기저기 구석구석 청소할 수 있을 것 같아요. 물걸레 기능도 여러 가지 버튼으로 조절해 가며 사용할 수 있어서 효율적이에요. 청소기 무게가 배터리 때문에 무거울까 걱정했었는데 실제 청소를 해보니 신경 쓰일 정도는 아닙니다. 청소기 헤드도 여러 방향으로 매끄럽게 잘 움직여서 좋네요. 제품이라 어플도 다운 받아서 연동했더니 충전 완료 시에는 알람도 오고 얼마나 어떤 청소를 했는지도 보여주네요. 신기합니다. 에서 구매한 덕에 더 저렴하게 구매할 수 있었네요. 코드 제로 9 무선 청소기 만족스럽습니다. 기존에 사용하던 무선 청소 기가 배터리 문제로 고장이 났어요. 그래서 와 삼성 다이 슨 중에서 고민하다. 선택했어요. 듀얼 배터리에 물걸레 침구 키트 있는 9700 선택했는데 구성도 많고 정리가 방도 있어서 너무 좋네요. 코로나 대 유행으로 비대면 배송 받았어요. 약속한 시간에 집 앞 배송해 주셨고 따로 설치할 게 없어서 설명서 보면서 사 부자 사 부작 조립하기 좋았어요. 다만 고가의 청소 기이고 기사님 배송 제품인 만큼 물건 잘 받았는지 궁금 사항은 없는지 확인 전화 한 번 주셨으면 더 좋았겠다는 생각은 들어요. 편리성과 성능은 대 만족이고 무엇보다 소음이 적어서 밤에 잠깐씩 돌리기에도 부담스럽지 않을 거 같아요. 씽 큐 앱과 연동시키면 청소 횟수나 시 간 배터리 완충 알림 등 필요 없다면 필요 없고 편리 하다면 편리한 기능을 이용할 수 있어요. 비싼 가격 만큼 만족도는 높아요. 가격 비교 해보고 더 저렴한 곳도 있었지만 큰 차이는 아니었고 에서 쓱 머니 행사를 해서 여기서 주문했는데 배송도 빠르고 잘한 선택 같아요. 평소 즐겨 사용하고 관리비 납부까지 하고 있는데 한도 부분은 좀 아쉬워요. 목요일에 주문하고 화요일에 받았습니다. 친절하게 미리 공지해 주신 시간에 와서 설치 받았습니다. 처음 청소기를 보고 구성품이 진 짜 많다 였습니다. 이걸 다 쓸 수 있을까. 싶지만 두면 쓸 곳이 있을 것이 다라는 생각입니다. 청소기 설치 후 사용 했을 때 첫 사용감은 무겁다 입니다. 무게감이 장난이 아니더라. 구요. 부모님께서 너무 무겁다 하시긴 하는데 자주 사용하다 보면 익숙 해지겠죠. 최근 가 젼 을 그레이 계통으로 구매하기 시작했는데 청소기 색상과 잘 어울리네요. 무선을 쓰다 보면 유선으로 돌아가지 못한다는 데 기대가 됩니다. 수요일 오전에 주문하고 금요일에 설치되었습니다. 기존에 유선 청소기 쓰다가 무선으로 바꾼 건데 편하고 풀 키트 구성으로 된 거라서 주말에 종류별로 사용해 보았는데 사용법도 편하고 괜찮네요. 처음에 은색이라 촌스러울 줄 알았는데 다른 색보다 오히려 나은 것 같네요. 물걸레 키트도 사용해 보았는데 사용하기 편리하네요. 다만 물걸레 사용 후에 통에 있는 물기를 다 말리고 보관해야 될 것 같은데 통 모양 특성 상 물기 마르는 시간이 상당히 오래 걸릴 것 같기는 하네요. 무선 청소기 구매 시 다른 브랜드는 전혀 고려하지 않았는데 정말 잘한 것 같아요. 부드럽게 밀리고 방향 전환 잘 되고 소음 적고 흡입력은 기본이네요. 무겁 긴 하지만 다른 무선 청소기도 이 정도 무게 인걸 감안하면 최선의 선택인 것 같아요. 너무 만족하고 강 추합니다. 신제품이 출시되서 그런지 가격이 내려간 것 같고 몰이 가장 좋은 가격이었어요. 무선 청소기 중에서 흡입력이 큰 제품이지만 확실히 유선보다는 별로 예요. 귀퉁이 그런 곳은 롤러가 안 닿기 때문에 꼭 미세 솔로 바꿔야 하는 불편함이 있습니다. 하 지만 확신히 편한 건 맞습니다. 기동성이 좋아서 바로바로 가져와서 청소할 수 있어서 편해요. 물걸레도 하면서 먼지도 흡입하는 건 최대 장점이예요. 청소하고 나도 물걸레 할 때 보면 머리카락 같은 거 꼭 있거든요. 이런 거까지 다 흡입하니 걸레질하고 나도 좋은데 큰 쓰레기는 못 흡입합니다. 생각보다 가볍고 무선이라 너무 편합니다. 베란다에서 유선 가져 다 코드 꽂아 이 방 저 방 선 때문에 번 잡했는데 선 없는 게 너무 편해요. 부속품도 다양해서 활용도 좋을 듯 하구요. 주말에 여의도 더 현대 매장에 사러 갔는데 진열도 안 되어 있고 작 원은 엄청 많던데 서로 상담 피하듯 ;; 그냥 요즘은 온라인으로 후기 보며 야무지게 비교하며 할인 쿠폰 카드 추가 할인 잘 찾아서 사는 게 위너 임 우리 집 백색 가전은 모두 일 정도로 잔 고 장 없이 만족합니다. 가격은 저렴하게 잘 샀습니다. 다이 슨 을 두고 고민 고민 하다 구입했는데 전체적으로는 만족할 만한 만 듦 새라고 생각합니다. 흡입력에 관해서는 터보 모드로 해야 바닥에 착 달라붙을 정도로 흡입력이 쎄다는 걸 느낄 수 있습니다. 단점은 터보 모드로 돌리면 밧 데리가 금방 닳는다는 건데 듀얼 배터리 충전 방식으로 어느 정도는 해소되는 거 같습니다. 흡입도구는 거의 풀 팩 키 지라서 사용 안하는 것도 있을 정도 로 다양하고 많더군요. 전화번호를 잘못 입력해서 기사님께 죄송했습니다. 배송까지 고생 엄청 하셨더라구요. 제가 확인했는데도 배 송지 번호를 잘못 입력했단 걸 인지를 못한 바람에 가 시기 전까지 다음엔 확인 꼭 해 달라고 당부하고 가셨습니다. 연락을 못해 그냥 찾아오시기도 하셨다고. 해서 너무 죄송했어요. 제품은 12월 제조 상품으로 왔고 설치도 직접 해 주시고 설명도 해 주셨습니다. 청소기 옆에 부착해 두는 설명서는 자꾸 떨어지더라구요. 기사님께 서도 보시고도 그냥 별 말 없으시길래 중요하지 않은 거 같아 빼서 뒀습니다. 벽에 박으면 물걸레를 설치할 수 없다고 하셔서 이동성도 고려해서 그냥 세워서 설치하였고 다른 구성품들 간단한 사용법도 알려 주셨어요. 자세한 건 검색하거나 설명서를 봐야 할 거 같습니다. 기대한 만큼 청소기 흡입력이 너무 좋아서 놀랐어요. 설치하고 다음날 양념가루를 냉장고에서 쏟았는데 바닥이랑 모두 정말 쉽게 청소할 수 있었고 평소 같았음 저걸 어찌 청소 하나 엄청 걱정했을 텐데 다양한 장비들이 있어 더 고민이 되지 않았던 거 같아요. 앞으로 청소가 즐거워질 거 같습니다. 다이 슨 과 9 중 어떤 걸 살까 엄청 고민해서 까지 생각한 다음 주문한 상품인데 오프라인보다 훨씬 더 저렴하게 잘 구매할 수 있어 좋았습니다. 페이백까지 받아서 완전 만족 이요 고민은 배송을 늦출 뿐 다들 구매하시고 즐거운 청소되셔요. 역시 좋네요. 풀세트 라 평소에는 청소기로 이용하다가 필요할 때만 머리통 바꿔서 쓸 수 있으니 좋아요. 무선이라 부담 없이 청소하기 좋아요. 유선 일 땐 청소하는 게 큰 일처럼 느껴지고 부담스러웠는데 지금은 조금만 더러워도 청소기 가져와서 쓱 밀고 다시 세워 두니까 집이 훨씬 깨끗 해졌어요. 물걸레도 통에 물 부어 두면 자동으로 조금씩 나오니까 집 전체 청소하는 동안 걸레가 마르지 않아서 깨끗한 청소가 가능해요. 배터리도 듀얼이라 오래 가구요 34평인데 전혀 부족함 느끼지 못했어요. 색은 아이언 그레이로 했는데 별 다른 이유는 없었고 그냥 구매 당시에 이 색깔이 가장 저렴했기 때문이에요;;. 그런 거 치곤 색도 너무너무 예뻐요. 고급스럽 구요. 설치 기사님이 오셔서 직접 조립해 주세요 시간은 금방 끝나 구요. 저희 집 구조상 설치한 자리가 현관 들어오자마자 보이는 곳인데 기사님이 현관에서 잘 보이는 데니까 자랑하기 좋으실 거라고 자랑할 만한 물건이지 않냐고 기사님도 이 거 쓰시는데 만족하신 다구요. 잘 구매한 것 같아요. 쓸수록 만족스러워요. 정말 최악의 구 매 였습니다. 여기서 청 소기 구매 절대 절대 비추입니다. 12월 말에 구매해서 1월 초에 배송 도착 개시 34 일 만에 물걸레 키트 누수로 엘지 기사한테 불량 판정서 받으면 맡 교환 해 준 데서 ; 불량 확인서 ; 까지 받아 는데 서류 받아 놨다고. 전화하니 쇼핑몰 쪽에서는 전자제품이라 교환 어렵다 제 조사 쪽에서 말고는 안 된다고 한다는 둥 그 날부터 20 여 일 가 까 일 팀장부터 메니 져 까지 돌아가며 하루 34 회 전화만 하는 영혼 없는 탁상 업무만 반복이고 반품하겠다 하니 제조사 측 핑 게만 대시 고 그래 줄 수 없다네요. 참고로 저 신세계 30년 가까이 애용 햇던 고객입니다. 신세계 몰이 구명가게도 아니고 제가 말이 안 되는 요구를 하는 것도 아니고 말 그대로 전자 제품이 다 보니 소비자 구매 시 이런 사소한 불량 충분히 있을 수 있다고. 봅니다. 그럼 교환해 주는 게 당연한 거고 그 절차는 몰에서 제조사와 협의 하여 해결해야 되는 부분인데 무조건 소비자에게 손해를 다 보라니 황당하기 짝이 없죠. 좀 저렴하게 청소기 하나 사려 다가 이번에 신세계 몰 일 처리하는 거 보고 완전 대 실망 정도가 아니네요. 다 들 신 중히 하세요 모두의 경우가 될 수 있는 일 입니다. 죄 없이 한 달 가까이 맘 고생한 걸로 생각하면 정말 참을 수가 없습니다. 다시 한 번 신세계 몰의 일 처리에 큰 실망을 이네요. 기대 이하네 요세기가 조절 가능하지만 빨아들이는 힘이 약하네요. 보완했다고. 해서 기대를 너무 많이 했나. 바요 장점은 1 기존 청소기 보다 가볍다 2 소음이 없다 3 물조절 가능한 물걸레와 먼지 청소를 동시에 할 수 있다 4 손쉽게 먼지 통을 비울 수 있다 5 물 세척이 가능해 위생적으로 사용 가능하다 6 이불 털기 힘든데 이불 털면서 먼지 청소 가능하다 7 청소 할 수 있는 기구가 다양하다 8 작아서 자리를 많이 차지 않고 디자인 예쁘다 9 높이가 낮아 쇼 파 밑이나 선반 밑으로 쏘옥 들어가 청소하기 쉽다 10 사은품 구성이 좋다 여러 가지 장점이 더 많아서 사용 하기로 했습니다. 쓰던 청소기가 고장이나 구매하게 되었는데 좋은 가격에 좋은 사양으로 구매했어요. 요즘 가전은 메탈릭 회색이 유행인지 아주 세련되 보이고 구성품 또한 쓸 모 있는 게 많아 요기 존 상품보다 좀 더 가벼워 선택하게 되었어요. 자리 차지 않아 더욱 맘에 들어요. 물걸레 기능도 잘 써봐야 겠어요 먼지는 그때그때 비우는 게 좋겠죠. 작년부터 생각해 두었던 무선 청소기 다이 슨 삼성  비교분석 다이 슨 벽에 구멍을 뚫어서 고정 외 산삼성 먼지 통이 앞에 있어 지저분한 먼지가 보여 미관상 안 좋고 스테이션 구입시 설치공간마련과 먼지봉투 비용 추가 부담  삼성 펜이나 삼성에 없는  정수기  스타일러스를 선택의 여지가 없어 사용 중인데 가전제품으로는  괜찮은 듯하고 이번에 구입한 9700 며칠 사용해 보니 괜찮은 듯함 이로써  가전에 대한 선입견은 어느 정도 클리어된 것 같으나 무선 청소기인 만큼 배터리상태를 좀더 관찰해 봐야겠음 에서 이 제품설명시 보완해야 할 사항은 다음과 같음 1 같은 모델의 제품이 왜 몇 가지 다른 가격으로 판매 중 2 걸레 포 기본 서비스 수량 표시가 없어 구매 전에는 알 수가 없고 제품 받은 후에 아 알 수 있음 포함  기본 4매 서비스 1회 용 20매 포함 3 판매가격 할인조건이 너무 자주 변경되어 구입 결정이 선뜻 안됨 나도 결재 후 다음날 보니 카드 5 할인에서 7 할인으로 변경되고 다시 며칠 뒤에는 기본 할인 자체가 13에서 14 로 다운 우롱당하는 거 같아 주문 취소하고 싶음 그나마 배송 현황 확인 차 앱들어왔다가 카드 할인율 내린 거 보고서 카드 5 할인 받아 주문한 거 취소하고 다시 카드 7 할인 받아 재주 문 그래도 기본 할인 1 더 내린 건 적용 못 받았네 4 에서. 제공하는 홍보내용 말고  자체적으로 실제 사용하는 동영상이라도 업 로드해 주면 주문에 결정적 영향을 줄 것임  홈쇼핑 영상 등 그래서 내가 홍보에 기여하고자 동영상 하나 찍어서 올림 할인 1 차액을 포인트나 걸레 포로 보상해 주세요 ; 5 배송 일이 명확하지 않음 고객센터에 요청해서 다행히 주문 후 5일 후에 수령했으나 사은품은 3주 후 수령 가능이라니. 이상. 넘 좋아요. 상중심이라 무겁긴 하지만 툴들이 많아서 여기저기 청소가 편하고 특히 물걸레가 물 공급도 되고 흡입도 되 서 넘 좋아요. 전 침구까지 있는 걸 찾았는데 오브제는 넘 비싸고 또 침구가 없는 게 더 많아서 이게 더 좋으네요 최고에요. 삼성 제트를 살까. 9를 살까 오랫동안 고민하다가 물걸레 청소 성능에 서 엘 지가 좀 더 낫다 길래 구입했어요. 다른 무선 청소기를 몇 년째 쓰고 있었는데 배터리가 다 됐는지 힘이 딸려서 청소가 시원찮 드라구요 그래서 듀얼 배터리로 큰맘 먹고 샀는데 대 만족이에요. 가격이 가격인지라 쉽게 사기 망설여 졌는데 디자인도 좋고 소음적 고 힘이 좋아서 긴 머리카락도 쉽게 빨아들이고 너무 좋아요. 추천합니다. 엘지 설치기 사분께서 직접 가지고 오셔서 설치해 주시 고 친절하게 설명해 주셨어요. 사용이 간편해서 한 번 들어도 이해됐고 실제 사용해 보니 편리하네요. 삼성 청소기랑 고민 많이 했었는데 무게가 더 가볍고 필터가 더 저렴한 점 때문에 엘 지로 결정했어요. 다 좋은데 단점은 좀 크 다 싶은 쓰레기는 걸려서 빼주어야 작동이 되더라구요. 조금 큰 사이즈 쓰레기도 빨아들일 수 있음 좋겠다는 생각이 들었어요. 물걸레 청소기는 다른 걸 안 써 봐서 모르겠는데 아주 좋은 줄은 모르겠지만 그냥 쓰기에 무난합니다. 시부모님 사 드렸어요. 엘지 기사님께서 방문 예약 전화 주셨고 날짜 맞춰 오셔서 설치해 주시고 설명도 잘해 주셨어요. 침구 청소기까지 있는 풀세트네요. 씨제이 홈쇼핑에서 타 사이트보다 조금 더 저렴하게 구입하게 되어 기 뻐요. 다이 슨 이 고장 나서 9 모델 중 고민 하다 청소 튤도 다양하고 가격도 저렴해서 구입했어요. 헤드 부분 무게감은 좀 있지만 소음도 적 고 부드럽게 핸들링되네요. 물걸레까지 거치대에 보관해도 부피가 크지 않아 벽면에 보관하기도 좋네요. 집안 가전이 모두 제품이랑 색상도 잘 어울리네요. 소음 적 고 굉장히 부드럽게 밀리면서 청소 잘 됩니다. 무게 중심이 상단부에 있어 균형 잡기 어색한 단점은 있네요. 주문 시에는 백화점 상품인 줄 알았는데 하이 마트에서 배송 왔고 딱 배송만 해 줘서 제가 직접 조립 설치했네요. 청소 흡입구가 정말 다양해서 활용도 높을 것 같은데 일일이 설명서 보면서 공부해야 해서 익숙해 지려면 시간 걸리겠어요. 일렉트로 룩스 청 소기를 쓰다가 바꿔서 기존 제품과 비교 할께요. 기존 제품보다 소리가 작아서 흡입력이 약하게 느껴졌는데 한 번 지나가면 거의 빨아들이는 것 같아요. 개인적으로 물걸레와 흡입이 동시에 되어서 너무 편하고 좋아요. 작은 평수에서 사용을 해서 밧 데리 하나로 방세 개와 거실 주방 모두 해결이 되네요. 9를 한 이 유 중 쓰레기 버리는 건데 너무 편하고 좋네요. 기존 제품은 분리해서 털고 씻고 불편했는데 이건 그냥 열고 내리면 되어서 편리 해요 마지막으로 기사님이 직접 배달해서 조립 해 주시고 친절하게 설명까지 해 주셔서 좋았습니다. 잘 사용할께요. 감사합니다. 제품은 좋은 나 판매자가 양심 없는 인간 일세 제품 생산 일 보면 1년이 다 되 가는 재고 이 거 리퍼 상품 같다는 의심이 들 정도 내가 언 박 싱해서 쓰기는 하지만 판매자 이런 재고를 보 낼려면 미리 고지하는 게 정상 아녀 어디서 재고를 신품 가격에 팔아 먹어. 다이 슨 청소기와 코드 제로 중 고민하다가 엘지 코드 제로로 구매했어요. 다이 슨 은 길이가 조절 안 되더라구요. 무게 면에선 비슷했어요. 밧 데리 교체 부분도 생각해야 할 것 같구요. 다이 슨 이 더 비 쌈 상품 조립도 어렵지 않게 했습니다. 소리도 조용하고 먼지 흡입력도 좋아요. 벽걸이 부착 안하고 스탠드로 설치했는데 괜찮네요. 흡입력은 유선 대비 터보 모드가 중상 정도 됩니다 11. 종 풀 셋으로 이 정도 가격이면 잘 산 거 같아요. 컬러도 아이언 그레이랑 판타지 실버랑 고민 많이 했는데 막상 와서 실물 보니 빈티지 와 인도 촌스럽지 않고 이 쁘네요. 색상 때문에 10여만원을 더 지출 한다는 것이 돈 랄 같이 느껴질 정도로 실물이 훨 나아요. 11월 22 일 주문 12월 16일 배송 예정 헉 하지만 26일 왔네요. 한 달 이상 이 리저리 다가 물걸레 할 거면 를 많이 선호하더라구요. 진 짜 잘한 거 같네요. 왜 진작에 안 샀나. 싶네요. 돈 값 어치합니다. 흡입력도 유선보단 못하지만 괜찮아요. 물걸레도 좋아요. 기존 쓰던 거보다 작아서 언제 다 닦나. 싶었는데 금방인데요. 근데 물걸레 겸용엔 흡입력이 부족하네요. 전 따로따로 할 꺼라. 상관없지만 구매하시는 분들 참고하시라고요. 좋아 좋아요. 울 딸이 알바 해서 생선으로 사 준 거라. 더 좋고 만족합니다. 이사하면서 유선에서 무선 청소기로 구입했어요. 진짜 무조건 만족스럽습니다. 사실 고가 라 선뜻 구입을 못해 고민하다가 샀는데 진작 살 걸 그랬다 싶네. 쇼 사용도 손쉽고 디자인도 맘에 들어 요청 소가 쉬우니 집이 깔끔하고 청소 시간도 줄었어요. 최고예요. 코드 제로 9 청소기 9700 리뷰 무선 청소기 구입 시 한국제품을 구입해야 하나 사람들에게 많이 알려 진 해외 제품을 구입해야 하나 고민했었는 대 가 잘 되고 홈 가전에서는 제품을 선호하기 때문에 제품을 선택하게 되었습니다. 에서도 여러 가지 제품이 다양하게 구성되어 있으나 가격 차이가 많이 나는 편은 아니어서 구성이 가장 많은 제품을 선택하게 되었습니다. 구매 후 전자제품 배송하는 곳에서 배송되는 날짜와 시간을 유선으로 확인해 주었습니다. 구매 후 2일 만에 도착하게 되었고 배송 온 기사님께서 는 설치도 해 주셨고 사용 방법도 친절하게 설명해 주었습니다. 또 한 유트 브로 제작된 동영상 사이트 주소도 보내주어 향후 사용하는 대 문제 없는 수준입니다. 생각보다 부피가 크지는 않아서 많은 자리를 차지하지는 않았습니다. 또 한 고급스럽게 겉 모습이 되어 있어서 좋았습니다. 아직 사용은 많이 해보지 않아서 제품에 대해서는 정확하게 알 수는 없지만 베 터 리가 2개인 것으로 봤을 때 베 터리 문제는 없을 거라고 생각됩니다. 잘 받았습니다. 엘지 기사님이 직접 가져다주시고 설치까지 친절히 진행해 주셨어요. 기존 핸디 형 무선 사용하다가 흡입력이 약한 듯하여 제품으로 바꿨는데 확실히 좋네요. 흡입력도 좋고 손 닿는 곳에 항상 준비되어 있으니 청소하는 게 번거롭지 않습니다. 배송도 빠르고 만족스럽네요. 기존 무선 청소기가 고장 나기를 기다리는 중 방송하기에 고민 고민 하다가 결제 기존 제품보다 조용하고 해드 두께가 얇아 져서 좋아요. 먼지 비우기도 좋고요. 밧 데리도 2개 각종 청소 도구가 많아서 또 좋고 청소도구 가방도 있어 가 더 더 더 좋아요. 여기에 10 프로 적랍금까지. 주문 당일 바로 해피 콜이 왔고 월요일 지정해서 받았어요. 엘지 기사님이 배송 설치 설명 해 주셨고요. 현재 최고 사양인데 원하던 아이언 그레이 색상으로 저렴하게 구입할 수 있어 좋았습니다. 헤드에 모터가 있어 아무래도 좀 무거운 편이나 유선 청소기에 비하면 훨씬 편하고 흡입력도 별 차이 없는 듯 무엇보다 물걸레 기능 너무 좋네요. 물이 계속 나오니 부직포 물걸레하고는 차원이 다름 청소기 이렇게 비싼 거 써야 하나 싶었지만 후회는 안 할 것 같습니다. 유선만 쓰다 큰맘 먹고 무선 청소기 구입했네요. 풀 패키지 구성으로 구입했는데 여러모로 사용하긴 좋은데 다 써 볼 련 지 무게감이 있어 그런지 좀 사용 하다 보면 전 손이 좀 아파요. 물론 손이 좀 작은 편이라 개인적인 견해 이지만 몇 번 사용 하질 않아 아직은 아주 좋다 나쁘다를 판단 해볼 수 있는 단계는 아닌 듯해요. 무 선이라 편하다는 게 가장 큰 강점입니다. 생각만큼 환상적이지는 않지만 간편하게 그때그때 사용하기 좋고 기존 사용하던 청소기보다 미세 먼지 제거에 더 효율적인 것 같습니다. 매장에서 확인 결과 무게감이 조금 있는 건 알았지만 그럼에도 느껴지는 건 어쩔 수 없네요. 기본 단계로 사용하면 밧 데리 몇 일간 사용 가능하고 밧 데리가 두 개 라 번갈아 사용할 수 있어 편리합니다. 가격대가 있어 오랜 고민 끝에 구매했는데 전반적으로 만족스런 구매라. 생각됩니다. 거실 한쪽에 세워 두고 필요시 코드 없이 사용하는 게 가장 큰 장점이고 정말 편하고 좋으네요 밧 데리가 손잡이 부분에 있어 무거운 건 사실이지만 타사도 마찬가지기 때문에 손에 익으면 괘 안을 꺼 같음 이것저것 포인트랑 할인해서 가격도 적당히 사서 만족함. 주문하고 이틀 만에 방문 설치 받았습니다. 다이 슨 유선 청소기만 사용하다가 오른손에 무리가 가지 말아야 해서 한 달 이상 다이 슨 과 엘지 9를 고민했습니다. 배송 받고 사용 한 결과 다이 슨 보다 가볍고 소음이 덜 합니다. 단점은 흡입력이 좀 약한데 일반 모드 사용 하니 머리카락이 한 번에 흡입되지 않고 여러 번 해 주어야 해서 강 모드 사용했습니다. 그래도 청소기 사용할 때 아래층에 시 끄러울까 봐 신경 쓰지 않아도 되겠다 싶습니다. 엄청 검색했는데 카드 청구 할인 포함해서 하이 마트가 제일 저렴했어요. 흡입력에 비해 소음도 작고 가벼워서 한 손 조작도 자유로워 요 이전 버젼을 어 머님이 쓰시는데 먼지 배출이 더 손쉬워 져서 좋아요. 가방에 부품을 보관할 수 있어 깔끔하네요. 무선 청소기를 두 번째 사용하는 건데 코드 제로는 가격이 바 싸서 고민을 했어요. 그런데 저렴한 건 정말 못 써요. 도 거의 안 되고 그렇게 돈이 나가느니 가격이 있어도 잘 되고 오래 사용하려고 구입했습니다. 그리고 설치해 주시고 설명도 잘해 주신 이 건웅 기사님 정말 감사 드립니다. 저는 가벼운 유선을 써서 인지 몇 번 썼는데도 아직 익숙치 않아서 인지 무겁네요. 구성품이 어 마 무시하게 많아 보여서 기사님 설 명해 주셨는데도 가시고 나니 헸 갈리더라구요 일단 물걸레와 흡입을 동시에 해서 덜 힘들고 시간 절약되지만 머리카락이 흡입구로 빨리 지 않고 물걸레에 닿으면 흡입이 않됩니다. 흡입기만 쓰면 부드럽고 흡입력 강하고 무선이라 정말 편하긴 하네요. 선으로 부터의 자유 러 움이 생활의 질을 높여 줍니다. 전부터 사고 싶었던. 코드 제로 물걸레 청소기 정말 마음에 쏙 들어요. 다이 슨 과는 비교가 되지 않아요. 현재 다이 슨 2개 사용하고 있어서 고민 하다 구입했는데 너무 좋아요. 고급스럽고 부드럽고 힘 좋고 청소 편하고 청소기 안에 있는 미세 면지 물 청소 가능하고 역시 엘지 너무 잘 구입한 것 같아요. 11 절에 구입했는데도 다른 가 전보다 배송은 빨리 왔어요. 소음도 크지 않고 유선보다 확실히 편합니다. 아이들이 과자 부스러 기 흘리면 전에는 귀찮아서 물 티슈로 닦았는데 무선 청소기가 옆에 있으니 청소기에 먼저 손이 쉽게 갑니다. 유 튜브에서 삼성 다이 슨 비교하는 거 보고 결정했는데 잘 산 듯 합니다. 물걸레 키트와 침구 청소 키트 때문에 사양이 높은 걸로 구매했는데 만족합니다. 침구 청소 키트로 매트리스 한번 돌려보면 가격 차이만큼 충분히 값어치 한다고 느끼게 될 겁니다. 기존 삼성 다이 슨 사용 중인데 마루 바닥은 상관없는데 폴더 매트 청소할 때마다 앞으로 밀 때마다 삼성은 잘 안 밀리고 다이 슨 은 안 밀리는 거 추가 당길 때 아이가 흘린 과자 부스러기들이 뒤로 튕겨 청소기를 진짜 열심히 돌렸는데요 안 되겠다 싶어 고민하다가 청소기 한 대 더 구입했어요. 집에 진공 청소기가 총 5개가 됐네요. 젤 만족스럽습니다. 쓱쓱 깨끗 12 단계 폴더 매트 위 청소 잘 밀리고요. 다만 물걸레는 기존 사용하는 휴스톰에 비해 그닥이네요. 가볍게 데 일로 하기엔 괜찮은 거 같아요. 풀 패키지인데 거치대에 다 수납이 안 되니 매번 빼서 쓰기 번거로울 듯 싶어요. 설치 기사님이 넘 친절하시고 궁금한 거 다 친절히 대답해 주셔서 설치까지 아주 만족스러웠습니다. 아직 자리를 결정 못해서 대충 아이언 그레이 매장에서 색상 고른 건데 아주 이 뻐요. 다이 슨 사용하다 엘 지로 바꿨습니다. 소리는 확실히 다이슨에 비해 작네요. 흡입력은 전원 누른 후 한 번 더 눌러서 사용 중이에 요 표준은 너무 약하더라구요. 물걸레는 아직 사용 전이라 모르겠고 거치대가 좀 더 높았으면 좋겠어요. 대체로 만족합니다. 아 색상은 화면보다 어두워요. 신혼 선물로 샀어요. 선 물 받는 분이 이 모델을 콕 집어서 다른 사이트 비교해서 제일 저렴하게 구매했습니다. 오프라인보다 이십만 원 정도 절약했네요. 색상 무난하니 질리지 않고 구성품 좋아요. 소리도 많이 안 나서 늦은 저녁만 아니면 언제든 돌려도 무방하다 합 니 닿. 너무 좋네요. 일단 예상한 것보다 부수 기재가 너무 많이 왔습니다. 기본 바닥 물걸레 헤드 2개에 미세 솔 기타 등 등 여러 헤드 34 개 더 왔군 요. 부 수기 재가 너무 많아서 놔두기가 어렵네요. 아마 메인 헤드 2개만 주로 쓸 거 같구요. 무게는 생각보다 약간 무겁지만 1020 분 정도 사용하기에 무리는 없었습니다. 여 성분들은 조금 무리가 갈 수 도 있습니다. 전체적으로 너무 만족합니다. 지금 연휴 지나고 받았는데 몇 번 사용 후 너무 잘 샀다는 생각이 듭니다. 공간도 많이 차지하지 않고 디자인도 예쁘고 흡입구 쪽이 작고 슬림해서 여기저기 빠짐 없이 청소되는 거 같아요. 다른 흡입구도 여러모로 쓰임이 많고 물걸레 청소도 힘 안 들이 고 깨끗하게 할 수 있어 좋습니다. 다이 슨 슬림 플 러 피랑 놓고서 오래 고민 후 최종 결정했습니다. 일단 건 타입이 아니라서 맘에 들고요. 무게는 솔직히 약간 더 무겁지만 무게 중심이 잘 잡혀 있어서 크게 부담될 정도는 아니라 고 보여 집니다. 오프라인보다 저렴하게 구매해서 기분이 좋네요. 설 연휴가 껴서 배송은 열흘 걸렸지만 빠른 편이었어요. 다 청소기 쓰다가 무선 쓰니까 편하기도 하고 무엇보다 소리가 별로 크지 않아서 너무 좋네요. 무선이라서 수시로 청소기 돌릴 수 있어서 그것도 좋은 것 같아요. 매우 만족합니다. 가격은 저렴하게 구매한 건 아니지만 배송 빠르고 편하게 쓰고 있어요. 이 거 매트릭스 물걸레 포함 전부 있는 패키지 구요 설치 기사님 3일 정도 걸려서 오셨어요. 삼성 꺼보다 부드럽게 따라가면서 청소가 되 구요. 단점은 먼지 털 때는 삼성 꺼보다는 깔끔하지 않아요. 고민하시는 분 중 여자 분 있으 심 엘지 꺼 추천요 청소할 때 부드럽게 딸려 간다는 느낌 있어요. 삼성 껀 뻑뻑 해요. 백화점에서 직접 테스트 해보니 흡입력이랑 편리함이 맘에 들어서 가격 비교 후 온라인 구매했어요. 침구 키트가 필요해서 9700 했는데 써 보니 넘 좋네요. 물걸레 키트도 좋구요. 배터리도 두 개라서 번갈아 쓰면 될 거 같고 거치대가 생각보다 부피 차지를 안해서 책상 옆 짜 투리 공간에 뒀어요. 며칠 써 보니 편리함 때문에 그런지 무게 감 나가는 건 별 문제가 안 되더라구요. 배송 전 해피 콜 오고 배송 기사님이 친절하게 설치도 해 주셔서 넘 좋았습니다. 예전부터 사고 싶어서 엄청 고민하다가 오랫만에 눈 팅하고 있는데 딱 올라와 있는 거에 요 안 그래도 잘 모르니깐 매장도 가보고 인터넷으로 여기저기 가격 비교 다 해 보고 결국 이곳에서 최저가로 완전 저렴하게 구매하게 되었습니다. 완전 기 뻐요. 생각보다 무겁지 않고 요소음도 많이 심하지 않습니다. 전 완 전 뿌듯합니당. 무선 청소기가 이렇게 편할 줄 몰랐네요. 갈수록 업그레이드 돼서 나 와 요 생각보다 무게 감은 있지만 핸들링이 부드럽고 소음도 적 고 무엇보다 선이 없는 게 델 로 좋아요. 기존 유선 청소기는 소리가 너무 커서 전화 소리도 못 들었는데 바꾸고는 청소 중 대화가 가능합니다. 앞에는 다이 슨 을 써는 데 코드 제로 바꾸었습니다. 다이 슨 보다 무게 좀 나가네요. 디자인 마음에 속 드네요. 물걸레가 보기보단 작네요. 조금 실망 다양한 기구가 많아서 좋고 일체형으로 굳이 벽을 지 안는 스텐 드라 좋아요. 유선 청소기를 주로 사용하다 무선을 청소기를 구입하니 가볍고 소리는 작고 성능은 좋으네요 물걸레가 좀 어설퍼서 안 사용할 것 같았는데 요즘처럼 집에 계속 있고 청소를 자주 하는 시기에는 간단히 청소하기 편한 거 같아요. 다만 물걸레를 잘 짜 줘야 바닥에 물기가 돌지 않아요. 청소기 한번 돌리고 물걸레 돌리면서 먼지 청소도 한 번 더 하니 깔끔 해지는 느낌예요. 침대용 브러쉬도 작아져서 잘 될까 했는데 먼지 흡입 양호하게 잘 되었어요. 충전 대에 세워 놓고 가볍게 돌리기 좋아서 아직 까지는 만족하고 있습니다. 무선 청소기 다이 슨 과 고민하다가 부분이나 물걸레 겸용으로 사용하기 위해 구매했읍니다. 여성분들 중에서도 무게 감이 느껴지는 분들이 많을 것 같네요. 그리고 배송은 많이 늦네요. 제품이 없어 생산 후 배송을 할 거면 미리 알려 주는 게 소비자에게 도리인 것 같은데 아무 통보도 없고 문의 시에도 정확한 배송 일정을 이야기해 주 지도 않네요 10. 월 6일 주문 후 10월 17일 제품 수령했읍니다. 설치는 기사님 아침 통화 후 오전에 방문해서 설치해 주시고 간단한 설명도 해 주십니다. 20년 동안 고 장 한번 없이 사용한 필립스 청소기 힘이 쎄서 지금까지 쓰고 있었는데 무거워 기운이 달려 드디어 신상으로 교체해서 가볍게 청소했네요. 자리도 적게 차지하고 좋아요. 많은 부속품들을 잘 사용해야 할 텐데 근데 모델 명이 어디 있는지 못 찾겠어요 9700. 가 보이지 않아요. 가격이 조금 변동이 있어서 속상하지만 그래도 공식 온라인 몰이라 믿음이 가서 구입했던 거고 배송 및 설치도 기사님이 오셔서 해 주셔서 만족해요. 배송 날짜는 제가 지정한 날짜에 와서 빠르다고. 표시했어요. 흡입력은 유선보다 약하지만 확실히 편리해요. 청소 툴 종류도 다양하게 있어서 킷백에 보관하니 깔끔하네요. 그리고 물걸레는 보통이예요. 일단 워낙에 유명한 제품이 다 보니 단점을 말하는 게 제품을 이해 하는데 더 빠른 도움이 될 듯 합니다. 1 먼지 통 비울 때 먼지 통을 비우고 나서 두껑이 닫히는 부분에 먼지들이 묻어 두껑을 덮어도 그 틈 사이로 먼지가 나올 수 있어 먼지 통을 비워 줄 때마다 물 티슈로 그 부분을 먼지 하나 없이 닦는데 이 과정이 꽤 번 거러울 수 있어 사용함에 불편함을 느낍니다. 물론 이 부분을 생각하지 않고 그냥 사용한다면 청소 도 중 두 껑 틈 사이로 나오는 먼지를 마시면서 청소 해도 상관 없으면 그만이겠지요2. 베란다 문틈 사이에서 청소를 할 때 과정에서 제일 좁은 브러쉬가 문틈과 딱 끼는 정도 입니다. 브러쉬가 03 센치 정도만 좁았으도 베란다 문틈 청소가 쉽지 않았을까. 아쉬웠습니다. 이 두 가지의 아쉬움 점 말고는 로봇 청소기와 같이 사용한다면 쾌적한 집안을 유지 하시는데 정말 수월 할 실 겁니다. 어째 튼 이런 편리한 제품들을 만들어 주셔 감사합니다. 유선 청소기보다는 조금 흡입력이 떨어지지만 애기들 많은 집은 맨날 꺼내기가 쉽지 않더라구요. 오랜 고민 끝에 드뎌 질렀습니다. 배 터리 두 개로 번갈아가면서 청소를 하니깐 수시로 청소를 할 수 있는 장점 애기가 떨어뜨리는 잔여물을 바로바로 청소할 수 있어서 정말 좋아요. 특히 물걸레 키트는 대 박입니다. 기본 10자 이상 작성 시 100 즉시 지급 이미지 등록 시 100 즉시 추가 지급 개당 상품 가격이 5000원 이하 상품은 적립 대상에서 제외되며 리 뷰 포인트는 최초 1회 작성 시에만 지급됩니다. 같은 단어가 반복된 내용은 임의 로 삭제되며 지급된 포인트가 회수될 수 있습니다. 다른 고객님들에게 유용한 상품 리뷰를 작성해 주세요. 배송 빠릅니다. 아직 사용 전이지만 기 대해 봅니다. 부품이 많아서 당황했다만 거의 청소 솔 종류 고 조립은 그리 어렵지 않아요. 충전 중인데 빨리 쓰고 싶네요. 전날 오전에 주문해서 바로 다음날 오전에 배송 받았습니다. 셀프 조립 임으로 구매 시 참고 하세요 설명서에 있는 대로 조립하면 되 서 여자인 저도 바로 조립했습니다. 어렵지 않고요. 바로 테스트 했는데 미 세 먼지로 잘 흡입합니다. 굳이 터보 모드 안 써도 될 것 같고 구성품은 모두 다 다 포함하여 잘 받았습니다. 구매 전 물걸레 기능이 약하다는 후기를 읽어서 패키지 구성으로 사야 할지 많이 고민했는데 결과는 완전 완전 대 만족 이에 요 먼저 울 집은 냥 이를 키우는 집인데 어디서 이런 털이 숨어 있었나. 싶을 정도로 흡입력이 좋아요. 글고 제일 고민스러웠던 물걸레 기존 있던. 혼자 도는 물걸레 에 보다 한결 좋아요. 전에는 물걸레 지나간 자리에 동글동글 흔적이 남았다면 요건 직접 밀 고 다녀서 그런지 몰라도 지나간 자리 흔적 없이 잘 닦여서 너무 좋아요. 덕분에 울 냥이 발자국이 흔적도 없이 사라진 답니다. 쿠폰 활용해서 타 사이트보다 어느 방송보다 저렴하게 잘 사서 더더욱 만족스러워요. 전에 다이 슨 8 을 썼었는데 다 이 슨 의 단점을 잘 보완한 것 같아요. 배터리 2개라서 끊김 없이 청소 가능해요. 물걸레질을 동시에 할 수 있어서 좋네요. 그런데 물기가 먼지 통에 흡입되면 냄새가 나 지 않을까. 염려되 요 걸레질 할 때 흡입 없이도 가능하고 동시에도 가능해서 상황에 따라 사용하면 되네요. 소음도 다이슨에 비해 많이 줄었어요. 다만 약간 고음이라 조금 신경질적인 듯 개인 차이는 있겠죠. 제가 소리에 예민한 편이라 다양한 청소툴이 있어서 편리 해요 그런데 이렇게 많을 필요가 있을까. 싶기도 하고 다 사용할 수 있을지 청소 전문가가 될 듯 해요 다만 툴을 좀 줄이고 가격을 낮춘다면 대 환영 단점은 가격이 좀 쎄다는 거 그래도 다이 슨 비교해서 뒤지지 않아요. 니 까 도 잘 될 것이고 단점 하나 더 자꾸 청소하고 싶어 지네요. 자세한 리뷰가 없어서 궁금하신 분들을 위해 리뷰 남깁니다. 상품은 매우 좋습니다. 주위에서 무선 무선 하길래 어떻게 청소기에 100만원을 쓰냐. 이해 못하는 1인 이었던 제가 무선을 써 보니 그 말 쏙 들어갔습니다. 한 달 동안 매장 이곳저곳 온라인 사이트 여기저기 보면서 구매를 고려했었는데요 여기만큼 저렴한 곳 없어요. 근데 배송은 빠르다 해서 시켰는데 빠르지 않아요. 수령까지 6일 정도 걸렸습니다. 요새는 뭐 시키면 2 틀 안에 오잖아. 요상 품 리뷰에 배송 빠르다 했는데 댓 츠 노 노 나는 참을 성이 있다 하시는 분들에게 추천합니다. 그리고 아쉬운 점은 기사님께서 전화 후방문 해 주시는 걸로 알고 있었는데 전화가 없길래 제가 직접 전화해서 물었습니다. 시간도 정해져 있어서 원하는 시간에 못 오신다고 현관문 앞에 두신 다는 거 경비실에 맡겨 달라 했습니다. 하 하 하기 사 님은 지역마다 다르니깐요 이건 복 불복 같네요. 나는 랜덤 좋아해 하시는 분들에게 추천합니다. 암튼 풀 키트로 사용해 보니 값을 하는 것 같아 좋습니다. 친언니가 제트 쓰는데 물걸레는 코드 제로 입니다. 여러분 는 사랑입니다. 유선 청소기 만큼 흡입력이 쎄다고. 느껴지지 않으시면 3초 꾸욱 누르면 초강력으로 됩니다. 쑥쑥 잘 빨려 요 10분 정도 계속 청소기 돌리니 손목 쫌 뻐근하네요. 쉬엄쉬엄 하시면 좋을 것 같아요. 한 줄 평 배 송 빼고는 그 모든 것이 완벽 하다. 차이 슨 7개월 만에 흡입구 모터 고장으로 엘 지구 입했어요. 다 좋은데 차이 슨 보다 무거워서 검지 손가락이 좀 쓸려 요 내구성 훨 좋고 디테일도 좋아요. 다만 물걸레 통에 물이 남은 채 놓아두면 물이 줄줄 줄 새요 풀 패키지로 샀는데 다른 흡입구 옵션은 많이 쓰진 않아요. 기본 패키지로도 충 분 하단 생각들 어요. 무선 이어도 사람 이 하는 청소는 눈에 보이는 곳 위주로 하게 되어 물걸레 로봇 청소기 저렴. 이랑 병행하고 있어요. 전반적으로는 엘지 코드 제로 만족해요. 홈쇼핑에서 행사 많이 하고 있지만 저는 풀 페 키지 99700 을 원했습니다. 침구 청소용도 필요했거든요 원하던 대로 다양한 툴과 보관용 가방도 있어 맘에 듭니다. 지난번 쓰던 다이 슨 보다 소리는 적지만 본체가 좀 무거운 느낌인데 헤드가 가벼워서 그런지 헤드 쪽이 조금 들리는 느낌이네요. 아직 익숙하지 않아서 그렇겠죠. 물걸레 청소를 원했던 거라. 사용해 본 결과 얼룩 자국이 보이던 마루 바닥이 깨끗 해졌어요. 맘에 듭니다. 설치가 어려운 분들께 선물로 보내. 드리려고 배송 기사님이 직접 배송해 주신 다고 해서 더 비싼 가격이지만 구매했어요. 고객센터와 도 기사님이 방문해 주시는 걸로 확인했지만 구매 12 일 후 택배로 받게 됐습니다. 홈쇼핑 고객센터에 문의 해보니 설치 배송이 맞지만 택배 사로 된 것 같다 원하면 저희가 직접 고객센터로 요청해서 접수 하는 수밖에 없다고 답변을 들었구요. 덕분에 기사님 방문 시 발생되는 비용은 저희가 부담했습니다. 배송 방법이 틀리면 안내를 주셔 야죠 지금 보니 페이지가 수정되었네요. 너무 불편하고 번거로웠습니다. 큰맘 먹고 무선 청소기를 드디어 샀습니다. 주문이 많았는지 배송에는 시간이 좀 걸렸지만 잘 받았어요. 살 짝씩 여러 번 사용해 봤는데 확실히 흡입력이 좋고 무선이라 편하네요. 근데 확실히 무게 감이 있어서 연세 드신 분들이 사용하기에는 좀 무리가 있어 보입니다. 훨 주문하고 다음날 받았어요. 그런 데 설치 기사님이 설치 오시는 건 아니었구요. 제품 포장 괜찮았고 전기 선 연결 먼저 고정하고 지지대를 조립해야 한 다 능 충전하고 시운전만 해보았으나 잘 되는 것 같습니다. 이 전 다이 슨 사용하다 갈아 탔는데 좋습니다. 제품을 많이 쓰는 편인데요 이번 거는 생각보단 가벼워 진 거라는 데 손목이 아프네요. 이전에 쓰던 거는 손잡이 쪽이 아니고 청소기 헤드 바로 위에 필요한 본체가 붙어 있는 일렉트로 룩스 여서 손목이 아프지 않고 밀고 다녔는데 요즘 제품은 손잡이 부분에 본체가 달려 있어서 바로 손목의 힘으로 들고 밀어야 하니 피로감을 바로 느끼게 되네요. 손 잡이 부근에 붙은 본체에 비해 흡입구 부분은 너무 가벼워서 오히려 당황 비싼 거 큰맘 먹고 샀는데 근데 요즘 청소기는 다 그렇게 생겼네요. 까요. 손목 아픈데 아무튼 반품 할 거는 아니라 그냥 익숙 해지길 바랄 뿐입니다. 조용하고 좋습니다. 거치대에 꽂기가 조금 불편합니다. 탁 걸치면 되는 게 아니라 홈을 맞춰서 꽂아야 합니다. 엘지 코드 제로 청소기 구입하시려는 분 모델이 많아 헛갈리시죠. 최고가 코드 제로 9 9700입니다. 숫자 9700 뒤에 오는 영문 두 자리는 색상을 의 미합니다. 이것과 제일 유사한 제품이 9570입니다9700. 과 9570의 차이점은 청소용 소도구 45 개와 고관용 가방이 있고 없고 차이입니다. 거의 안 쓰는 소도구 입니다. 저는 9700을 구입했는데 솔직히 소도구 거의 안 씁니다. 필요 없이 처박아 두는 소도구를 10만원 넘게 주고 산 결과입니다. 주변 지인들에게는 9570을 권하겠습니다. 이것 하나 산 것으로 집에 있는 로봇 청소기 징 공 청소기 물걸레 청소기 침구 청소기 다 필요 없게 되었습니다. 일 년 전부터 구매할려고 생각하고 있다가 부족한 부분이 있어 망설이고 있다가 사양이 업그레이드 되 서 구매했습니다. 청정 스테이션이 있는 삼 껄 살까도 생각했는데 물걸레 기능과 흡입 기능이 동시에 되는 엘 지로 선택했는데 엘지도 청정 스테이션이 나오면 좋겠습니다. 다이 도 그렇고 이런 청소기는 먼지 통 비울 때가 정말 싫더라구요. 한꺼번에 맘에 쏙 들게 만들어 주시지. 건조기도 처음에 용량이 작게 나와서 일 년을 기다리고 있다가 14 키로 나오길래 얼른 샀는데 몇 달 안 있어 16 키로 나 오더만 청소기도 처음 나왔을 때 분명히 일 년 안에 업그레이드 분명히 될 꺼라 싶어 힘들게 유선 쓰면서 참았더니 업그레이드는 됐는데 청정 스테이션은 안 만들어 주네요. 언능 만드세요. 추가로 구매하게요. 오래 걸릴 거 같았는데 인근 전자 랜드에서 바로 와서 살짝 놀랐어요. 가격이 좀 부담스럽 긴 하지만 나름 만족하면서 사용 중입니다. 단점은 아직도 한 손으로 들기에는 다소 무겁다는 거 이외에는 다 좋습니다. 물걸레 기능은 아직 사용 전이라 기대됩니다. 몇 번 쓰지는 않았지만 받아서 써 보니 과 연 소문대로 무겁지 않고 편리 해요 조립도 설명서 보고 하니 간단하고 쉬웠어요. 수고한 나에게 주는 선물로 사양 좋은 걸로 구입했는데 이 모델은 카펫 흡입구가 빠져 있네요. 보조 배터리와 1회 용 물걸레가 있어서 좋으네요. 바쁜 저에게는 많은 힘이 되어 주겠죠. 이제 청소 스트레스는 가 고 없어 질 거 같아요. 배송은 기사님이 직접 배송해 주셨습니다. 배송도 빨랐구요. 제품은 터보 3초 누르고 청소하면 아주 깨끗하게 잘 됩니다. 물걸레 청소는 잔 먼지가 전혀 남지 않아서 다음 날까 지도 바닥이 뽀송하니 깨끗해서 좋았어요. 다만 소 잡이 쪽에 모터가 달려 있다 보니 좀 무겁습니다. 손목 약하신 분들에 겐 솔 찍히 비추 입니다. 그러나 강력 청소를 원하신다면 강 추 입니다. '}], [{'제품명': '2020년형테팔 엑스퍼트3.60 TY6933', '가격': '178,600', '평점': ['평점4', '평점3', '평점3', '평점5', '평점5', '평점4', '평점1', '평점5', '평점5', '평점1', '평점5', '평점5', '평점4', '평점5', '평점5', '평점4', '평점5', '평점4', '평점1', '평점4', '평점4', '평점1', '평점5', '평점5', '평점5', '평점5', '평점3', '평점5', '평점5', '평점4', '평점4', '평점5', '평점5', '평점3', '평점5', '평점4', '평점4', '평점3', '평점5', '평점5', '평점5', '평점2', '평점5', '평점5', '평점5', '평점5', '평점5', '평점5', '평점5', '평점5', '평점5', '평점5', '평점5', '평점5', '평점5', '평점5', '평점3', '평점4', '평점4', '평점5', '평점5', '평점5', '평점5', '평점5', '평점4', '평점5', '평점4', '평점5', '평점5', '평점5', '평점5', '평점5', '평점5', '평점5', '평점5', '평점5', '평점5', '평점5', '평점2', '평점5', '평점5', '평점3', '평점4', '평점5', '평점5', '평점3', '평점5', '평점5', '평점5', '평점5', '평점3', '평점4', '평점5', '평점5', '평점4', '평점5', '평점4', '평점5', '평점5', '평점4'], '채널': ['11번가', '11번가', '테팔', '11번가', '11번가', '11번가', '11번가', '11번가', '11번가', '테팔', '테팔', '테팔', '테팔', '11번가', '11번가', '11번가', '11번가', '11번가', '11번가', '테팔', '11번가', '11번가', '11번가', '테팔', '11번가', '11번가', 'G마켓', '11번가', '11번가', '11번가', '11번가', '테팔', '11번가', '11번가', '11번가', '11번가', '11번가', '11번가', '11번가', '11번가', '11번가', '옥션', '11번가', '테팔', '11번가', '테팔', '테팔', '테팔', '테팔', '테팔', '테팔', '테팔', '테팔', '테팔', '테팔', '테팔', '테팔', '테팔', '테팔', '테팔', '테팔', '테팔', '테팔', '테팔', '테팔', '테팔', '테팔', '테팔', '테팔', '테팔', '테팔', '테팔', '테팔', '테팔', '테팔', '테팔', '테팔', '테팔', '테팔', '테팔', '테팔', '테팔', '테팔', '테팔', '테팔', '테팔', '테팔', '테팔', '테팔', '테팔', '테팔', '테팔', '테팔', '테팔', '테팔', '테팔', '테팔', '테팔', '테팔', '11번가'], '날짜': ['21.10.13.', '21.11.11.', '21.09.10.', '21.10.06.', '21.04.07.', '21.11.12.', '21.12.21.', '21.10.06.', '21.11.11.', '21.11.22.', '21.12.23.', '21.08.15.', '21.08.28.', '21.10.17.', '21.04.03.', '21.04.02.', '21.11.14.', '21.11.19.', '21.10.03.', '21.09.13.', '21.11.02.', '21.10.21.', '21.10.15.', '21.08.26.', '21.04.02.', '21.04.04.', '21.02.12.', '21.04.02.', '21.10.06.', '21.04.04.', '21.10.13.', '21.03.21.', '21.10.02.', '21.11.13.', '21.04.03.', '21.04.02.', '21.04.05.', '21.04.05.', '21.02.19.', '21.04.02.', '21.04.07.', '21.02.19.', '21.04.04.', '20.12.23.', '21.04.02.', '22.01.06.', '21.11.16.', '21.11.10.', '21.10.28.', '22.01.02.', '21.10.01.', '22.01.04.', '22.01.07.', '21.12.30.', '21.12.27.', '22.01.07.', '21.12.26.', '22.01.01.', '21.12.30.', '21.12.02.', '21.11.28.', '21.11.28.', '21.12.11.', '21.12.08.', '21.11.25.', '21.11.27.', '21.12.04.', '21.11.15.', '21.11.15.', '21.11.13.', '21.11.22.', '21.11.16.', '21.11.23.', '21.11.13.', '21.11.14.', '21.11.23.', '21.11.19.', '21.11.20.', '21.11.02.', '21.11.12.', '21.11.01.', '21.11.11.', '21.11.11.', '21.10.25.', '21.10.23.', '21.10.31.', '21.10.13.', '21.10.15.', '22.01.08.', '21.10.10.', '21.10.15.', '21.10.01.', '21.10.08.', '21.10.06.', '21.10.02.', '21.10.03.', '22.01.05.', '21.10.02.', '21.08.19.', '21.11.30.'], '리뷰': '무선 청소기 넘 갖고 싶었는데 가격 부담 없는 테팔로 구매했어요. 사용 후 장 단점을 남겨 봅니다. 1 배송 엄청 빠릅니다. 2 할인해서 10만원 이하의 가격으로 구매했는데 가격이 넘 매력적이고 가 성비 짱입니다. 3 흡입력도 좋고 충전만 되어 있음 언제든지 가져 다 청소할 수 있어 사용이 편리합니다. 4 체 중이 45 인데 무게 감은 조금 있으나 많이 무겁거나 버겁진 않습니다. 5 소음은 흡입력이 2 단계로 되어 있어 세게 하지 않으면 귀 어 거슬릴 정도는 아닙니다. 6 충 전시 시간이 오래 소요되는 단점이 있고 유선보단 흡입구가 날렵하진 않아 낮은 공간 청소는 불편하며 흡입구가 고정되지 않아 힘 없이 이 리저리 움직여 좋은 기능이지만 불편함도 있으며 플라스틱 흡입 구라 내구성이 신경 쓰입니다. 7 작 동시 나오는 바람은 바로 세우지 않고 몸에서 약간 옆으로 비겨 사용 하니 그리 신경 쓰이진 않습니다8. 충전기가 조금 부실하지 않나. 생각되긴 하지만 이 가격이면 그 정도는 감내할 수 있을 것 같습니다. 결론적으로 삼 다 무선 청소기 써 보진 않았지만 이 가격에 이 정도 성능이라면 테팔 청소기 강추합니다. 장점 저렴하게 샀다. 카드 할인까지 받아서 94050에 샀다. 가볍다. 기능이 단순하지만 그래서 만족한다. 흡입력은 아주 좋은 건 아니지만 일반 가정에서 사용하기 괜찮다. 유튜에서 다른 청소기들과 비교하는 걸 봤는데 다른 청소기에 비해 소리가 조용한 편이다. 동영상엔 크게 녹음 됨 단점 바람이 얼굴로 온다. 이게 매우 매우 큰 단점 다른 상품평에 옆으로 기울여서 사용하면 괜찮다고. 해서 나도 그러려고 했는데 별 소용 없다. 청소하는 동안 청소기가 뿜어내는 바람을 직통으로 마시며 청소해야 한다. 나는 그래서 한 손으로 송 풍구를 대충 가리며 청소하지만 짜증난다. 필터가 미 세 먼지를 얼마나 거를 지 의 문 요거트 통이라도 덮어야 하나 고민 중 스스로 서 있지 못하고 벽에 붙은 충전기에 끼울 때만 서 있는다. 아무리 봐도 99천원 이하 가 적정 가격인 거 같음 ;;;;. 장점 가격이 저렴 배터리 잔량 표시됨 무게가 가볍다. 단점 공기 청정기나 선풍기 인 줄 얼굴로 먼지 거른 바람이 직 빵으로 온다. 쎄게 온다. 힘이 약하다. 현재 집에 무선 청소기 3개 사용 중 테팔 꺼도 최근에 산 거 있는데 이건 가격에 딱 맞는 청소기 임 마스크랑 보호 안경 쓰고 청소해야 함 무선 청소기 여러 개 사용 중이고 브랜드 별로 다 사용 해봤지만 얼굴로 바람 나오는 제품은 처음 봄 생각이 조금 짧았던 제품 반품 귀찮아서 다른 제품 고장 나면 사용하려고 충전 중 배송은 빨랐음. 배송은 일단 빨랐습니다. 포장 상태도 만족하구요. 벽에 고정시켜서 청소기를 거치도 할 수 있고 다른 악세사리도 같이 거칠 할 수 있는 것도 좋았습니다. 소리는 조용하다고. 할 수 없지만 시끄럽지 않은 편으로 보통 정도 되는 거 같네요. 흡입력은 만족합니다. 확실히 소형 무선 청소기에 비해서는 흡입력이 훨씬 좋구요. 일반 유선 청소기에 8090 에 가까운 성능을 보여주는 거 같습니다. 러그 위나 카페 트 위를 지나갈 때 잘 빨아들이네요. 다만 단점이라면 배터리 충전 속도가 느립니다. 핸드폰 고속 충전이 되는 게 보편화되다 보니 이런 점들이 불편하게 느껴지네요. 그래도 가격보다 훨씬 좋은 성능과 무겁지 않은 무게감 테팔이라는 브랜드 이미지 이렇게 장점으로 볼 수 있겠네요. 6년 동안 사용했던 삼성 무선 청소기가 갑자기 고장이 나서 급하게 찾아보다가 저렴한 가격에 나와서 바로 구매했어요. 사실 십만원도 안 되게 사서 많이 기 대 안 했는데 진짜 생각보다 좋아요. 쓸 데 없어 보였던 빛이 생각보다 먼지 자세히 청소하는데 도움이 되네요. 쓱쓱 청소기 밀어도 잘 청소되고요. 소리는 우리가 생각하는 청소기들의 소음보다 적은 편이라 맘에 들어요. 아쉬운 점은 얼굴로 바람이 온다는 건데 리뷰 보고 알고서 산 거지만 이게 의 외로 신경이 많이 쓰이네요. 먼지 바람이 내 얼굴로 직 빵으로 오는 듯한 느낌 그리고 먼지 통이 투명해서 먼지들이 다 보이는 게 좀 아쉽긴 하네요. 배터리 충전하는 게 좀 부실해 보이고 저희 집은 벽에 구멍 뚫는 거 안 좋아해서 그냥 놓고 충전하는데 그러다 보니 깔끔해 보이지 가 않네요. 하지만 청소기 자체로서의 기능은 가격 대비 최 곱니다. 11 절 딜 로 99000원으로 구매했습니다. 장점은 무선이 여서 편하고 모터 세기가 쎈 거 같습니다. 조립도 생각보다 편해서 여자들도 쉽게 조립 가능할 거 같습니다. 단점은 바람이 얼굴로 나오는 점 거치대가 허술해서 요즘 못질 못하는 집에서는 설치하기 난감할 거 같습니다. 못 도 안 들어 있고요. 그리고 길이 조절을 할 수 없고 직접 헤드와 봉을 빼서 길이 조절을 해야 한다는 점 입니다. 그래도 가격적인 면을 생각한다면 튼튼하고 디자인도 깔끔하고 안에 필터도 분리되어서 나중에 세척도 편리 할 거 같습니다. 가성 비 제품입니다. 청소기 제대로 된 것 사고 싶어서 고루 고 고 른 게 데 팔 청소기 다단점 1 청소기를 가동시키면 얼굴로 먼지가 올 라 온 다 기분 더럽다 2 청소기 필터 빼기가 너무 힘들고 어렵다 청 호기 필터 뺄 때마다 욕 나온다도 대체 왜 이 따 구로 만들었을까. 필터 교환이 가능한 지도 모르겠다 귀찮아서 청소기 돌리기가 싫다 중국산 저렴한 것도 써 봤는데 오히려 저렴. 이가 낫다 데 팔 청소기 최악이다. 무선이라 그런지 유선 대비 힘이 약하긴 하지만 청소 잘되네요. 핸들 부분에 모터가 있어 살짝 묵직하긴 한데 흡입구 부분이 컨트롤 잘 되서 청소하기 힘들지 않았어요. 단 충 전하고 강 으로 15분 정도 청소했더니 배터리가 나가더라. 구요. 충전 다시 하고 나머지 청소했는데 평소보다 청 소속도를 올려야 겠다 싶어요. 소음은 살짝 크긴 한데 다른 무선 청소기랑 비슷한 정도이고 다른 리 뷰에서 언급된 것 처람 바람이 얼굴로 오는 거랑 홀딩하기 힘든 게 단점이 긴 해요. 그래도 저렴한 가격에 구입했으니 가격 대비 나쁘지 않은 거 같아요. 일단 무선을 10만원도 안 되는 가격에 사서 만족해요. 써 보니 유선보단 해 드가 무거운 게 좀 아쉬워요. 근데 쓸 때마다 일일이 선을 꽂 지 않아도 되니까 쉽게 쓰기 너무 좋아요. 흡입력도 나름 괜찬구요. 근데 흡입판이 작은 솔 같은 게 달려서 구르면서 빨아들이네요. 그러다 보니까 긴 머리 카 락은 돌돌 감기는 게 많아서 한 번씩 빼줘야 하는 게 좀 번거롭네요. 다른 건 걍 쓸 만 해요. 청소기 공기 순환이 위로 나오는 경우도 있네요. 청소기가 아니고 쓰레기를 샀어요. 청소하는 내내 바람이 얼굴을 강타 테팔은 청소기 왜 만들죠. 후라이팬 기술 자가 청소기까지 만드나요. 다른 제품들 사세요 구매는 먼지 바람이 좋으신 분들 만 사는 걸로. 가 성비 너무 좋아요. 리뷰보고 테팔로 맘 굳히긴 했지만 진짜 솔 직 후기입니다. 배송은 월요일 오전 10시 주문해서 수요일 오후에 받았어요. 한 칸 정도 충전되어서 온 것 같은데 생각보다 넘 가볍고 작은 먼지들까지 다 청소되네요. 가 성비 넘쳐요. 굳이 이 가격에 아쉬운 거 꼽자면 앞부분이 플라스틱이라 깨지면 사용 못 할 것 같아서 약간은 조심 조심 키가 큰 편이라 이 가격에 완전 만족합니다. 고민이 신분 얼른 겟하 세용 내 돈 내산 찐 후기. 본가에서는 다이 슨 을 쓰는데 가격이 너무 부담스러워서 테팔 엑스 퍼트를 구매 했습니다. 고양이 모래도 흡수 잘 되고요. 무엇보다 러 그에 쌓인 먼지들도 다 흡수가 됐습니다. 샤기러 그를 쓰는 데 이젠 먼지 털러 안 가도 돼서 너무 좋아요. 나중에 결혼할 때 이 친구 데려가려고 합니다. 많이 파 세요. 배송 빠르고 잘 받았어요. 청소기 흡입력도 무선 청소기들 비교하면 완전 좋아요. 별 하나 뺀 거는 청소기 거치대가 너무 약하고 허술해요. 대충 거치대 느낌 나 사 박고 고정은 했는데 부속품 꽂는 곳이 약해서 꽂는 거 라기 보다는 걸친다는 느낌 그리고 청소기 꽂는 곳 라인 쪽에 살짝 프라스틱이 부셔져서 왔네요. 쓰는데 지장 없을 거 같아서 그냥 씁니다. 그리고 리뷰 데로 바람이 얼굴 쪽으로 많이 와요. 다음에는 바람하고 거치대 개선 좀 부탁 드립 니다. 라이브 방송보고 구매했는데 저렴한 편에 테팔이니 브랜드도 믿을 만하고 소음도 적당해요. 핸들링 좀 가 벼운 감 있으나 그래서 전체 무게도 가 벼워요. 아쉬운 건 바람 나오는 곳이 옆면이었으면 얼굴 부분이랑 안 부딪힐 텐데 하는 아쉬움이 있네요. 가 성비 흡입력도 배송도 만족합니다. 라이브로 저렴하게 구입했고요. 가벼워서 일단 좋아요. 기존에 일렉트로 닉스 사일 런 트 청소기를 사용하다 보니 무거워서 매일 쓰는 게 힘들어서 무선 청소기를 사려 했는데 테팔이라 믿고 구입했어요. 소음은 기존 청소기랑 비슷한 정도로 느껴졌고 청소는 잘 빨아들이네요. 그리고 정말 가볍고 잘 밀려서 좋아요. 아쉬운 점은 거치대를 따로 사야 하는데 같이 판매하셨음 좋았겠어요. 구매자들에게 좀 저렴하게 판매하시던지요 집 벽에 나 사 박 아가며 거치대 설치할 수 있는 집이 얼마나 있을까. 싶어요. 거치대가 없어서 편하게 못 세우는 게 가장 아쉽네요. 판매하는 곳 알려 주심 구입하고 싶어요. 가격 대비 만족스러워요. 배송은 정말 빨라서 어제 저녁 5시 주문해서 오늘 오후 1시에 받자마자 충전해서 바로 사용해 봤는데 소음은 생각보다 크지 않아서 괜찮구요. 흡입력은 아무래도 유선보다는 세지는 않지만 미세 먼지 등은 잘 흡입 되는 거 같아요. 바람은 나오기는 하는데 그닥 얼굴로 향하지 않아서 크게 신경 쓰이는 정도는 아닙니다. 그런데 예상 외로 가 유용하게 쓰이네요. 어차피 낮에 청소하는 거라. 크게 쓸 데 없을 거 같았는데 낮이 여도 곧잘 보여서 좋네요. 근데 새 제품인데도 불빛이 좌우가 다른데 왜 그럴까요. 가 성비 너무 맘에 듭니다9. 을 쓰고 있고 보조제품으로 구매한 건데 너무 만족 스럽습니다. 소음도는 보통이고 흡입력도 괜찮은 편이 예요 구석에 어두운 곳을 보조하는 등도 편리하고 맘에 듭니다. 충전 대를 걸어 둘 공간이 필요해서 그 점이 좀 아쉽네요. 가볍고 흡입력은 좋지만 청소할 때 나오는 미세 먼지를 제가 먹고 있다는 느낌이 들 정도로 바람이 정확히 얼굴로 와요. 그리고 거치대 겸 충전기 벽에 못 박고 설치해야 해서 불편합니다. 하지만 가격 대비 이 정도로 가볍고 흡입력 좋은 제품 찾기 쉽지 않아 만족합니다. 처음 써 보는 상품이라서 기대가 너무 많았는데요 다른 걸 다 떠나 흡집이 좀 많은데 사진 찍는 것도 반품하는 것도 그냥 그 모든 과정이 귀찮은 상황이라서 그냥 쓰겠습니다. 사실 가격은 너무 싸게 구입이 ？ 瑛 릿 歐楮？ 이런 후기조차 잘 안 쓰는 사람입니다만 은 상황 자체가 좀 성질 나서 글은 남깁니다. 사실 성능도 금액에 비해 좋고 청소한 후 처리과정도 괜찮아요. 다만 청소기 필터를 통과 한 바람이 너무 얼굴 쪽으로 나와서 사실 신경 쓰이긴 해요. 가끔 재채를 심하게 할 때도 있고요. 추후 업그레이드 버젼이 혹시 나온다면 그 점은 꼬옥 개선해 주셨음 합니다. 고정할 거치대 조립할 때 설명서가 너무 부실하고 나사 조임이 어려운 단점이 있었지만 그래도 청소기 성능 자체는 만족할 만 했습니다. 너무 편하고 좋아요. 나 삼성 같은 회사 청소기만큼 가볍지는 않는데 그래도 이 정도면 쓸 만 합니다. 추천해요. 장점은 생각보단 무겁지 않다는 점이고 단점은 청소기 바람 배출하는 곳이 바로 상단 얼굴을 향해 있어 매우 분 편했으며 브러쉬가 밀착형 천 브러쉬인 줄 알았는데 솔 브러쉬 라 바닥에 밀착되지 않아 흡착력이 매우 떨어 짐 저희 집이 방화 마루 라 더욱더 밀착이 안 되었 슴. 청소기만 돌리면 죽 일 듯이 ？ 아 오는 갓 아지 가 이 청소기는 시 큰둥하네요. 조 용 해요 가볍고 청소하기도 쉽네요. 머리카락 빼내기도 쉽고 먼지 망 청소도 필터는 물 청소 가능하고 거치대에 추가 청소용품을 같이 끼워 둘 수 있어 잃어버릴 염려도 없겠네요. 몇 년은 고장 없이 잘 쓰면 더 좋겠네요. 주문하자마자 바로 배송처리되어서 다음날 배송 받았어요. 생각보다 크고 생각보다 가 벼워서 잘 쓰고 있어요. 충전 단자가 무조건 못을 박아서 사용해야 하는데 그 점만 조금 아쉬워서 어떻게 해야 좋을지 고민 중입니다. 감사합니다. 일단 배송 겁나게 빠르구요. 오자마자 충전해서 사용 하니 흡입력은 좋은데 역시 키 작은 저에 겐 뒤 바람이 직 빵으로 오네요. 머리 말릴 정도로 바람이 세서 혹시나 봤더니 셋팅이 맥스로 출고되나 봐요. 바람 나오는 뒤 빨간 버튼 누르면 조절 가능한 데 표준으로 하니 한결 낮 긴 한데 청소기능은 어떤지 낼 다시 해봐야겠어요 아주 가볍지는 않은 것 같고 가격은 대 박 만족합니다. 맡길 일 없이 오래 사용하길 바랄 뿐이예요. 맥스로 카페트 청소는 정말 잘 되네요. 우선 배송이 정말 빠르네요. 주문하고 바로 다음날에 와서 깜짝 놀랐어요. 포장도 꼼꼼 하게 잘 되어 있었어요. 무선 청소기를 처음 구입해 봤는데 유명한 다 슨 이나 큰 차이는 없었어요. 무게도 그리 무겁지 않고 소음은 그냥 청소기에서 일반적으로 나는 정도예요. 다. 슨 도 소음이 꽤 있더라구요. 앞부분에 가 있어서 좀 있어 보이는 것 같아요. 거치대가 세워 지는 게 있음 더 좋았겠지만 가격이 워낙 저렴하다 보니 이 정도도 만족합니다. 남편이 거치대를 벽에 붙인다고 말도 안 하고 벽에 구멍을 내놔서 좀 짜증이 났지만 그것 말고는 만족해요. 장점 흡입력은 좋음 좌우 자유롭게 헤드가 움직여서 청소가 용이 함 단점 작동 중에 바람이 청소하는 사람의 얼굴로 와요. 그리고 청소기의 세기가 강 약 조절되는 게 없이 아니면 로만 작동되네요. 또 한 전원 버튼이 손잡이 부분에 있어서 손잡이 잡고 청소하다 보면 자꾸 전원 버튼을 눌러서 끄게 되네요. 전원 버튼 위치가 청소기 소음은 일반적으로 청 소기 작동할 때 나는 정도의 소음 정도에 요 그런 데 제가 받은 청소기가 문제가 있는 건지 청소기 작동 중에 헤드 부분에서 아무것도 없는 상황인데도 불구하고 청소기가 비닐 같은 것을 흡입할 때 내는 불편한 소리를 내 어서 청소기를 작동하는 중간 중간 내고 있습니다. 무선 청소기 구매 하고 싶었는데 삼성 다이 슨 은 비싸서 구매할까 말까 고민 하다 구매 포기 했는데 이번에 라이브 방송 특가로 나와 엄청 저렴하기도 하고 예전에 무선 청소기 평가 평점 테팔 무선 청도 기도 좋았던 걸로 기억되서 구매했어요. 일단 배송은 엄청 빠르네요. 라 방 때 구매해서 오후 6시 다 되 서 구매 했는데도 오늘 오후 2시 30분 이전에 도착했어요. 청소기 배터리 무게 때문인지 가볍진 않고 벽 거치대는 나사 미 포함이고 청소기 켜면 윗 쪽에서 바람이 많나. 오는 점이 아쉽지만 헤드에 큰 바퀴 달린 거 헤드가 옆으로 잘 꺽이는 거 불 들어오는 거 흡입력 좋고 소음이 생각보다 크지 않은 게 좋네요. 정말 가볍고 좋아요. 그동안 청소 포로 쓸다가 청소기로 침대만 쓸어 주었는데도 먼지가 한 가득 나와서 찐 당황;;; 가벼운 편인데 흡입력도 너무 좋아서 만족해요. 거치 식 충전인 게 단점이지만 창틀에 걸어서 잘 사용하고 있네요. 11 번 가 라이브 첫 구매인데 좋은 제품 좋은 가격에 구매해서 대 만족입니다. 배송은 총알 임 1 단은 너무 약해서 2 단으로 쓰는데 2 단 소리가 시끄럽지 않고 잘 빨아들임 핸들은 부드럽다 기보 단 휙휙 나가는 느낌 브러쉬가 돌 돌이가 아닌 빗이라 그런 듯 싶기도 다 도 써봤지만 이 정도면 가격대비 훌륭함 최대 단점인 바람이 얼굴로 나오는 건 좀 눕혀서 쓰면 괜찮음 무겁지 않고 윗부분이 날렵한 디자인이라 스텐 거치 데에 똑바로 세워 져서 좋음. 여기저기 가격 비교하고 있었는데 11 일 날 할인 받아 구매해서 너무 좋아요. 바람이 얼굴로 나온 다 해서 걱정했는데 댓 글처럼 심하지 않아 다행 예전 하부 중심 테팔 청소기 사용하다 요거 사용 하니 너무 가볍고 좋아요. 가격 대비 만족. 왜 진작 안 샀는지 휴 마트가 서 한번 만져 보고 인터넷으로 사 긴 했는데 원래 유선 청소기 썼는데 무겁기도 하고 선으로 연결하고 그래서 좀 빡쳐 있다가 무선 청소기 그냥 적당한 거 사자 해서 찾았는데 성능도 좋고 그냥 좋아요. 가격 대비 좋아요. 자취 템 강 츄. 어제 인가 주문했는데 총알 배송이네요. 남편 몰래 사서 오늘 낮에 숨겨 놓다가 마음에 찔려서 저녁에 불었어요. 기존 무선 청소기가 너무 무겁고 30만원 넘게 줬는데도 지금은 먼지를 먹지 못하고 계속 뱉어서 화나서 믿는 테팔이고 가격도 저렴해서 지금 꼭 사야 했다고. ♡ 이벤트 당첨되면 최고라고 으 헝 이벤트 당첨 ？ 瑛？ 더 좋겠어요. 어쨌 뜬 남편한테 들키고 나서 남편이 개봉했고 저는 말했죠. 내가 개봉 안했다고. 남편이 이 쪽 저쪽 해보더니 깨끗하게 청소되는 걸 보더니 잘 샀대요. ♡ ♡ 휴 다행이 댜♡. 배송 하나는 진짜 짱이었어요. 오전에 주문하자마자 그 다음날 배송 도착 문자가 오더군요. 시운전했을 때 중량은 가벼웠으나 어느 분이 리뷰에 바람이 위로 나와 얼굴 쪽으로 나와 조금 불편 하가는 글을 봤는데 역시나 얼굴 쪽으로 바람이 나와 그건 좀 불편합니다. 그것만 빼면 가 성비 괜찮은 거라고 봐요. 배송 른 빨랐어요. 포장도 겉에 박스로 한 번 더 포장되어 만족합니다. 제품도 각각 안전하게 잘 포장되어 있네요. 가벼워서 청소할 때 힘이 별로 들 지 않아 만족합니다. 다이 슨 보다 손에 힘이 덜 들어 가요 장단점이 될 수 있지만 버튼은 누르고 있지 않아도 원 터치로 작동되어 저는 만족합니다. 소리도 생각보다 크지 않아요. 잠깐 돌렸는데 머리카락이며 먼지가 많이 쌓여 있네요. 다만 필터가 헤 파 필터가 아닌 게 아쉽네요. 가격 대비 성능이 좋아 아주 합니다. 에어 포스 360을 2년 넘게 사용하다 청소기 노후 화로 특가 라 구매했는데 진짜 가볍네요. 흡입구 솔이 에어 포스 360은 주기적인 머리카락 및 이 물질 제거가 필요한데 엑스 퍼트 360은 청소가 필요 없어 편리하네요. 먼지 통 제거하는 것도 에스 퍼트 360이 편함 가격 대비 에어 포스 360보다 가 성비는 좋은 듯합니다. 하지만 마감이나 만 듬 세는 360이 무겁지만 조아 요 계속 비교하며 사용해 볼게요. 득 템 한 기분입니다. 헤드 부분 유연하고 좋아요. 가볍다 정도는 아니지만 한 손으로 사용하기 어려움 없는 무게입니다5. 시간 충전하면 세기 강하게 하여 17분 사용 가능합니다 15. 평 집 바닦 정리 다 해 놓고 돌리니 1015 분 정도면 청소 완료 할 수 있어 아직은 괜찮으나 아무래도 배터리가 12 년 사용할 수 있는 소모품이니 장기적으로 보면 조금 아쉬운 점입니다. 바람이 얼굴로와요. 나중에 사용 감 있을 땐 사용하기 찝찝할 꺼 같은 불안감이 있습니다. 그것 빼고는 괜찮아요. 완충하고 두 번 사용했는데 중간에 꺼짐이 4번 정도 발생했어요. 실 수로 전원 버튼을 누른 건지 아 님 충전 불량인 건지 몇이 더 테스트 해보겠습니다. 홈쇼핑보다 엄마가 주문 하래서 인터넷 검색했더니 색상이 다른 것이라서 몇 번이나 그 기종이 맞는지 확인 해보고 주문했어요. 밑에 입구 쪽이 자유자재로 움직여서 카페 트 등 잘 조종해야겠더라구 요 요즘은 중간 막대 부분을 빼고 가볍게 사용하고 있어요. 모바일 상품권 발송해 주셔서 정말 감사합니다. 구입 안했으면 후회할 뻔 했네요. 완전 훌륭합니다. 소음도 적당하고 마감도 깔끔하고 흡입력도 양호합니다. 허 접한 수입산과 비교 불가 집 청소하시느라 힘들어 하시는 어머니께 많은 도움이 될 듯 합니다. 거치대가 바닥에 있으면 더 좋았겠지만 마침 위치가 가 벽이라 쉽게 설치했네요. 가격 대비 좋아요. 배터리가 더 비싸서 갈진 못하겠고 한 2년 쓰다 배터리 나가면 이 거 다시 사는 게 좋겠죠. 9만 9천원에 산 건데 배터리가 11만원 이래서 가볍진 않아요. 보통 무선 청소기 무게 예요 흡입력 좋고 저렴하고 잘 샀어요. 테팔이 고 디자인이 예뻐서 구입했는데 흡입은 센 듯한데 바람이 얼굴 쪽으로 나오는 것도 좀 그렇고 쓰레기 버리는 것이 원 터치가 아니고 통과 필터를 다 빼야 하고 소리도 큰 편이네요. 필터도 헤 파 필터 아래 단계 필터라. 하더라구요. 999 걸러 진다 설명은 해 주셨는데. 와이프 선물로 샀습니다. 작은 사무실에 쓸 거 알아봐 달래서 깜짝 선물로 샀는데 너무 맘에 든다고 이걸 집에서 쓰고 쓰던 호루라기 청소기를 사무실에 갔다 놨네요. 바람이 사용자 쪽으로 나온다는 후기가 있었는데 크게 신경 쓰이는 정돈 아니에요. 테팔 청소기 다른 거 쓰고 있었는데 망가져서 다른 걸로 재구매 배송 두 빠르고 오자마자 충전시켜 두고 써본 결과 조금 시끄럽긴 한데 괜찮음 구석 구석 부드럽게 먼지들 쏙쏙 잘 흡입해 주니 넘 좋네요. 요번 껀 더 오래 썼으면 좋겠네요. 배송 두 빠르고 상품도 넘 만족스럽네요. 동생에게 직배로 해서 보내주었더니 잘 받았다고. 하네요. 조립도 쉽고 생각보다 가 벼워 쓰기 좋다고. 합니다. 디자인도 심플 라니 착한 가격에 구매해서 굿 배송은 완 죤 로켓 배송 이네요. 빠른 배송에 감사 드리구요. 코로나 조심하시고 힘내세요. 충전 잔량표시 두 나오구요. 먼지 흡입구에 엘이디가 달려 있어 어두운 방에서도 청소에 도움이 됩니다. 배 송도 매우 빠릅니다. 사용하기도 편하고 가상 비 최고 입니다. 사무실 청소용으로 샀는데 좋아요. 만족합니다. 배송 빠르고 가격 저렴함 성능도 괜찮은 듯 싶고 모든 게 깔끔 간편해서 좋네요5. 개나 한 번에 사서 사용하는데 불편함이 없을 듯 싶지만 추가 베 터 리만 구입하면 될 듯합니다. 디자인 깔끔하고 흡입력도 괜찮고 가 성비 괜찮네요. 한 가지 단점이라면 거치대를 피스로 박는 방법밖에 없는 건 아쉽네요. 우리 냥 님이 사막으로 만들어 놓으신 베란다 청소에 딱입니다. 가 성비 최고에 요 편리하게 사용 중입니다. 좋아요. 근데 충전 오래 해도 빨리 꺼져요. 그리고 바람이 얼굴 쪽으로 불어서 먼지가 다 오네요. 흡입력도 좋고 배터리도 길어서 좋아요. 청소하기 편하네용. 감사합니다. 가볍고 진짜 좋아요. 소리 너무 크고 청소할 때 바람이 얼굴 쪽으로 와서 불편하긴 한데 가격 대비로는 괜찮은 거 같네요. 환풍이 얼굴에 바로 쐬지는 거 빼면 만족합니다. 매장이 두개 라 두 번째 구매입니다. 고장도 없고 잘 사용하고 있어 요가 성비 짱. 예쁘고 성능도 좋네요. 잘 쓸께요. 완전 진짜 강 추 합니다. 수십만원 하는 다이 슨 도 써 봤는데 품질은 거의 비슷 한 데 가격은 훨씬 저렴하니 강추합니다. 간편하고 성능 좋아요. 바람 방향이 좀 거슬리 긴 하네요. 얼굴 방향. 좋네요. 잘 샀습니다. 굿. 유선 청소기의 흡입력을 기대하지 않고 가격을 생각한다면 가 성비 넘치는 제품입니다. 가 성비가 대단하네요. 성능도 배터리 교체 방식도. 배송도 빠르고 좋네요. 잘 쓰겠습니당. 어머니 너무 만 적 해하세요. 혹시나 맘에 안 드시는 부분이 있을까. 얼마나 조마 조마했는지 모릅니다. 사이즈까지 컴팩트해서 시기 무겁지 않고 만족하신 다네요. 배송이 빠르지는 않았지만 상품은 괜찮아 보여 요 다만 거치대를 벽에 부착하려면 피스는 알아서 사서 부착해야 되더라구요. 그런 거 보통 같이 주는 데 안 주니 깐 황당했어요. 배터리 사용시간은 좀 짧은데 쓰는데 불편함은 없습니다. 무선이라서 청소하기 편리하고 흡입력이 짱이예요. 선물 받은 사람이 너무 좋아해요. 가볍고 세다네요. 좀 약하기는 한데 사용할 만 한 수준이네요. 0. 다이 슨 에서 넘어왔습니다. 가격 대비 좋아요. 부모님이 매우 좋아하시네요. 배송 빠르고 제품도 좋네요. 가격 대비 성능 만족합니다. 100 만원짜리 안 쓰고 이 거 6대 쓰렵니다. 배송이 너무 느려요. 상품은 괜찮아요. 키가 작은데 모터 바람이 얼굴로 직격 타로 옵니다. 청소 할 때마다 너무 불쾌해요. 추천 안합니다. 가격 대비 만족해요. 일터에 사 놨는데 집에도 사 두려 구요. 부모님 사 드렸는데 아주 만족 해하셔요. 호. 가볍고 편해요. 잘 받아서 잘 쓰고 있습니다. 불 편한 점은 바람이 얼굴로 직접 와서 않 좋습니다. 흡입도 잘 되고 아주 만족스러워요. 계속 청소하고 싶어요. 가격도 착하고 너 뮤 좋아요 최고에요. 가벼워서 좋네요. 가볍고 방향 전환이 잘 되어 좋아요. 필터를 씻어 써야 하니 필터 만 하나 더 추가로 구입을 해야겠네요. 좋아요. 일렉트로 쓰다 고장 나서 쓰는데 흡입력 좋은데요 일렉트로가 약한 건가. 바람 얼굴로 나오는 거 빼고 만족합니다. 무겁다고. 해서 얼굴로 바람이 온다 해서 사면서도 걱정했는데 음 아주 좋아요. 만족 완전 만족. 져 아 용 편해 여. 아직은 제대로 사용을 못했어요. 원래 쓰던 테팔을 아직 쓰고 있네요. 어머니가 원하셔서 찾아 보 내드렸는데 막대기 부분이 조금 약한 것 같다고. 하세요 그래도 흡입력은 너무 좋다고. 하시더라구요. 만족 햐하셔서 너무 다행입니다. 거치대 조립하는 게 사 알 짝 헷갈렸지만 잘 조립했습니다. 선물로 해 드리고 저도 좋아서 같이 구매했어용. 선물용으로 구매했는데 잘 사용하고 있다고. 하네요. 만족합니다. 얼굴로 바람 오는 거 심각한 단점이네요. 그냥 싼 맛에 쓰려 구요. 청소 잘 되고 가볍고 좋아요. 연말 이벤트 대비 가경은 높으나 빠른 배송 맘에 듭니다. 아직 사용 전이지만 이 전 제품이 좋아서 사업 번창하세요. 잘 쓰고 있어요. 가격보고 싼 거 살려 다가 생각해서 테팔 껄 로 사 봤는데 별로 무겁지도 않고 흡입력 좋네. 여 기존에 쓰던데 2년 쓰니 맛 탱이가 가버려서 디자인도 이쁨. 상품은 잘 받았습니다. 일단 튼튼해 보입니다. 약간은 묵 직한 느낌 소리는 밤에는 좀 있는 듯 청소 세기는 힘 좋네요. 코드 식보다는 못하지만 충 전식 치고는 괜찮은 듯함 청 소 세기도 이 단 조절 가능 가성 짱. '}, {'제품명': '2020년형테팔 TY5510', '가격': '343,100', '평점': ['평점5', '평점5', '평점5', '평점5', '평점4', '평점5', '평점5', '평점5', '평점4', '평점5', '평점4', '평점2', '평점5', '평점5', '평점5', '평점5', '평점5', '평점5', '평점5', '평점5', '평점5', '평점5', '평점5', '평점5', '평점5', '평점5', '평점5', '평점5', '평점5', '평점5', '평점5', '평점4', '평점5', '평점5', '평점5', '평점2', '평점5', '평점5', '평점5', '평점4', '평점4', '평점4', '평점5', '평점5', '평점5', '평점4', '평점4', '평점4', '평점4', '평점2', '평점5', '평점5', '평점5', '평점5', '평점5', '평점5', '평점4', '평점5', '평점5', '평점5', '평점4', '평점4', '평점3', '평점5', '평점5', '평점5', '평점4', '평점5', '평점3', '평점5', '평점5', '평점4', '평점5', '평점5', '평점5', '평점5', '평점5', '평점5', '평점5', '평점5', '평점4', '평점4', '평점4', '평점5', '평점5', '평점5', '평점5', '평점5', '평점5', '평점5', '평점5', '평점5', '평점5', '평점5', '평점5', '평점5', '평점3', '평점5', '평점5', '평점4'], '채널': ['테팔', '테팔', '테팔', '테팔', '테팔', '테팔', '테팔', '테팔', '테팔', '테팔', '테팔', '테팔', '테팔', '테팔', '테팔', '테팔', '테팔', '테팔', '테팔', '테팔', '테팔', '테팔', '테팔', '테팔', '테팔', '테팔', '테팔', '테팔', '테팔', '테팔', '테팔', '테팔', '테팔', '테팔', '테팔', '테팔', '테팔', '테팔', '테팔', '테팔', '테팔', '테팔', '테팔', '테팔', '테팔', '테팔', '테팔', '테팔', '테팔', '테팔', '테팔', '테팔', '테팔', '테팔', '테팔', '테팔', '테팔', '테팔', '테팔', '테팔', '테팔', '테팔', '테팔', '테팔', '테팔', '테팔', '테팔', '테팔', '테팔', '테팔', '테팔', '테팔', '테팔', '테팔', '테팔', '테팔', '테팔', '테팔', '테팔', '테팔', '테팔', '테팔', '테팔', '테팔', '테팔', '테팔', '테팔', '테팔', '테팔', '테팔', '현대Hmall', '테팔', '테팔', '테팔', '테팔', '테팔', '테팔', '테팔', '테팔', 'GSSHOP'], '날짜': ['21.11.07.', '21.10.04.', '21.10.21.', '21.11.23.', '21.10.26.', '21.10.29.', '21.10.24.', '21.10.29.', '21.12.02.', '22.01.04.', '21.09.27.', '21.08.24.', '21.11.18.', '21.11.15.', '21.10.23.', '21.10.21.', '21.11.16.', '21.10.27.', '21.11.18.', '21.12.23.', '21.10.21.', '21.10.29.', '21.10.22.', '22.01.08.', '21.12.30.', '21.12.16.', '21.10.29.', '21.10.17.', '21.12.21.', '21.12.12.', '21.11.17.', '21.12.14.', '21.12.13.', '21.12.15.', '21.12.11.', '21.11.16.', '21.12.08.', '21.11.03.', '21.12.11.', '21.12.17.', '21.11.19.', '21.10.23.', '21.10.20.', '21.12.26.', '21.02.17.', '21.10.07.', '21.10.24.', '21.12.25.', '21.11.07.', '21.12.10.', '21.12.18.', '22.01.06.', '21.12.10.', '21.11.17.', '21.11.16.', '21.12.04.', '21.12.06.', '21.10.22.', '21.11.07.', '21.12.11.', '21.10.22.', '21.11.19.', '22.01.05.', '21.12.17.', '21.11.27.', '21.11.01.', '21.12.11.', '21.12.05.', '21.11.27.', '21.10.24.', '21.11.17.', '21.12.26.', '21.11.09.', '21.11.15.', '21.10.21.', '21.10.20.', '21.11.16.', '21.11.15.', '21.10.29.', '21.11.12.', '21.10.21.', '21.12.26.', '21.12.30.', '21.10.21.', '21.03.09.', '21.11.15.', '21.10.28.', '21.10.17.', '21.12.18.', '21.11.10.', '21.05.20.', '21.11.25.', '21.12.13.', '21.12.25.', '21.11.08.', '21.11.28.', '21.11.07.', '21.11.18.', '21.03.08.', '21.04.27.'], '리뷰': '10월 20일부터 11월 6일까지 18일 동안 사용한 후기입니다. 일단 무게는 보건소에 인 바디 재러 갔다가 이렇게 살면 할머니 되기 전에 죽는다는 소리 들은 사람이 들 고 왔다 갔다 하기에도 전혀 부담되지 않을 정도로 가볍습니다. 20 대 여성 무선 청소 기라 흡입력이 떨어지지 않을까. 걱정했지만 부스터 모드 사용 안 해도 충분할 정도로 흡입력이 좋아요. 순식간에 호로록 빨아들입니다. 저 사실 부스터 모드 어떻게 켜는지 아직 몰라요. 부스터 모드 안 해도 잘만 빨아들여서 쓸 필요가 없었어요. 가벼운데 다 헤드가 이름 값 해요 360도 돌아가서 360인 거 맞죠. 아주 잘 돌아가서 손목이 전혀 안 아파요. 소리가 안 거슬려요. 기존에 구형 대형 유선 청소기랑 홈쇼핑으로 충동 구매한 중형 무선 청소기가 있었는데 전자는 시 끄러운 건 당연하고 넘 무거워서 대 청소 때만 쓰고 평소엔 주로 후자를 썼거든요. 근데 소리가 무슨 호루라기 부르는 것처럼 시 끄러워서 청소할 때 아 아빠 티비 안 들린다고 이 랬 는 데 이건 소리가 당연히 나긴 나는데 짜증이 안 나요. 짜증이 안 나 고 청소를 더 열심히 해야겠다는 사명감만 불탑니다. 진짜 라니 까요. 대체 이걸 뭐라. 표현해야 하죠. 일반 차 쓰다가 전기 차 탄 기분이라 해야 할까요 저 전 기 차 처음 봤을 때 인 줄 알았음 30평 정도 되는 집 청소하기에 배터리도 충분하네. 여 여태 쓰면서 청소 도중에 꺼진 적 한 번도 없어요. 이걸 쓰고 제가 청소를 좋아하지 않았던 게 아니라 청소는 장비 빨이라는 걸 깨달았습니다. 그동안 컴퓨터 노트북은 성능 다 따지고 깐깐하게 굴면서 청소기는 그냥 호로 록만 잘하면 된다고 생각했던 스스로를 반성합니다. 나 청 소 좋아했네. 휴학하고 집에서 뒹굴 거리면 서 매일 어 더럽네. 하고 이 걸로 바닥 훑고 있으니까 오빠가 오 바하지 마래요 암 것도 모르면서 사은품으로 받은 거치대는 받기 전엔 대체 몰까 했는데 직접 보니 무거워서 지탱을 잘해 주네요. 조립할 때 힘으로 밀어붙여야 하지만 그래서 튼튼합니다. 요즘 티비에서 테팔 청소기 광고하는 거 보고 엄마가 저거 좋아 보인다며 저 보고 알아 보라고 시켰어요. 공식 샵이 제일 싼 데다. 라이브 방송 혜택 있대. 서 그 날까지 대기 타고 바로 구매했네. 욥 결론은 대 만족이구요. 테팔 청소기를 저렴한 20만원 대에 사게 돼서 더 만족스러워요. 청소 잘 하겠습니당. 기존에 쓰던 싸구려 청소기가 고장 나서 매장 둘러보면서 정말 많은 제품들을 직접 만져 보고 테스트 해본 후 테팔로 결정해서 구매했습니다. 오자마자 뜯어서 바로 사용해 봤는데 너 무너무 잘 샀다고. 생각되어서 후기 남깁니다. 1 무게 매장에서 다른 제품들과 비교해 봤을 때 제일 가벼워서 한 손으로 들어도 거뜬하다는 게 좋았어요. 타 제품들도 성능은 좋을 테지만 일단 드는 게 너무 버거워서 후보에서 많이 탈락했어요. 많이 비싸기도 하고 이 제품은 일단 가볍기 때문에 언제든지 청소가 필요한 곳에 슉슉 돌려주기만 하면 된다는 게 진짜 큰 메리트에 요 왜 청소 한번 하려고 하면 막 청소기 끄내고 번잡스럽고 이러는데 에어 포스 360은 휙 끄내고 슉 돌리면 끝이라 진짜 편해요. 가벼운 청소기 찾는 분들 손목 안 좋으신 분들은 무조건 이 제품 추천합니다. 청 소가 편 해지는 가장 큰 지름길 이에 요 2 흡입력 제품이 가 벼워서 흡입력이 좀 떨어지는 건 아닐까 걱정했는데 전혀 요 걱정이 무색하게 성능도 넘 좋고 큰 알갱이 작은 먼지 다 깨끗하게 잘 빨아들여요. 부스트 기능 쓰면 더 강력하게 흡입하는 게 가능해서 좋습니다. 그리고 전에 쓰던 게 일반적인 청소기 헤드 납작 해서 흡입구멍 없는 쪽은 먼지가 그대로 남아 있기도 했는데 소프트 헤드라서 구석구석까지 다 닿습니다. 최고에 요 3 악세서리 딱 필요한 악세서리만 있는 것도 좋아요. 저는 쓰는 것만 써서 막 쓸데없는 거 들어 있으면 쓰레기만 나오고 별로 인데 딱 실생활에 필요한 헤드들이 들어 있어서 다용도로 활용할 수 있어서 편리해요4. 디자인 저는 집 분위기를 내추럴로 해서 우드 화이트가 많은데 봉 색상이 딱 로즈 골드 느낌이라 거실에 세워 놔도 잘 어울려서 좋아요. 가격이 괜찮으면 디자인이 별로 인 경우가 많은데 에어 포스 360은 이 가격에 이런 심플하고 깔끔한 디자인이라 니 칭찬합니다5. 거치대 거치대 같이 주셔서 넘 편하게 보관하고 있어요. 처음 조립 할 때 약간 헷갈려서 헤매긴 했는데 조립 다 하고 나니까 세상 쉬웠던 것 제가 잘 못하는 걸로 인테리어랑 잘 어울리는 깔끔한 블랙 색상이고 밑 쪽으로 중심 잘 잡아두고 충전기도 쉽게 거치할 수 있게 되어 있어서 잘 쓰고 있습니다. 실 사용 기는 여기까지입니다. 제가 이 거 구매하고 사용해 본 담에 부모님 댁에도 하나 배송해 드렸는데 넘 잘 사용하고 계셔서 더 좋아요. 감사합니다. 많이 파세요. 요새 삼성 다이 슨 등 핫한 청소 기라 거치대 이벤트 있길래 후딱 주문 햇어요. 거치대가 먼저 오고 다음날 청소기 도착 거치대 조립하는데 충전 대가 없어 깜짝 놀 랏 는 데이건 본 품에 들어 있군요. 참고하시길 거치해 놓고 휘청거림 같은 거 없고 벽에 구멍 안 뚫어서 더 좋고 추가 구성품 다 들어 잇고 거치대 중간에 구성품 꽃을 자리 있어요. 예비 필터도 1 개씩 추가로 잇고 무게는 적당. 연결대나 청 소통 비우는 거 다 원 터치 분리로 편하고 버튼 한 번만 눌러 줌 자동으로 도니 이것도 편리 소음도 준수합니다. 지금 데 커 앤 데 커 휘파람 핸디 쓰는데 넘 시. 작동 시켰을 때 소음이 적어서 놀랬습니다. 강아지 털이 잘 밀리고 특히 저희 집 마루의 나무 결이 생생 해서 그동안 청소기로 놓치는 잔 부스러기가 있었는데 부드럽게 끌어 올려 흡수를 했습니다. 몹시 칭찬해 보내주신 거치대는 좀 무거워서 조립하는데 힘 좀 썼습니다. 이 음 봉 나사가 잘 안 들어가 전 동 드릴 옆집에서 빌려서 했는데 보 시 던 엄마가 오빠 시키라고 하시더라구요 ;;. 시간과 힘은 좀 들였지만 조립 잘 해서 청소기 잘 걸어 두었습니다. 다소 불편한 점은 청소기 이음대의 길이 조절이 안 되어서 기존 길이 조절하며 청소했던. 제 겐 낯설고 불편합니다. 그리고 360도 회전을 도와 주는 플라스틱 반 투명 호스 같은 이 음 부분이 좀 불안합니다. 다른 청소기에 비해 좀 긴 거 같고 불투명하게 있으니 금방이라도 찢어지지 않을까. 좀 걱정이 되었고 거치대가 소 무거웠던 게 불편했어요. 하지만 전반적으로 마음에 듭니다. 길이야 적응하기 나름이고 회전 호스는 조심해서 사용할 게요. 흡입력 기대 이상으로 좋고 소음 레 시 벨 기대 이상으로 낮네요. 친구 집에서 사용해 본 다이 이나 직장에서 사용 중이 코드 에 결코 뒤 지지 않는 것 같습니다. 추천합니다. 캐릭터가 예뻐서 구매한 로봇 청소기가 먼지 없는 곳만 골라서 나 다니니 속이 타서 하나 더 장만 하려고 고심하다 결정 장애로 또 골치 아파서 정가보다 할인률이 월 등 한 이 제품을 선택했는데 주문하고 제품 받기도 전에 가격이 조금 더 내리고 적립금 혜택도 좋아서 막 약 올라 혼났습니다. 이틀 정도 후에 원래 가격으로 회복되어 그만 속 태우기로 했고 그제서야 개봉해서 조립해 보는데 거치대가 충전기가 꼭 그래야만 했나. 이게 최선인가 싶더라. 고요 또 익숙 해지면 그러려니. 하게 되겠지만 거실 벽 귀퉁이에 세워 놓는데 영 아름답지 가 않네요. 청 소기 본 품 성능은 별 불만 없습니다. 다른 경쟁사 제품을 써 본 적이 없어 비교 불가 고요 소음은 크게 거슬리지 않고 흡입력 괜찮고 굴리면 잘 굴러다닙니다. 후진할 때 플라스틱 바퀴 구르는 소리가 내 소중한 마루를 상처 낼까 봐 조심스러운데 상처 없었고요. 소 파 밑 침대 밑은 청소기 본체 높이가 좀 있다 보니 그냥 막 수월하진 않아서 예전에 그 멍청한 로봇도 함께 쓸 작정이 고요 거치대 뒷면 조이는 나사 플라스틱 부분이 깨져 와서 문의하니 하나 더 보내준다고 해서 다행이 고요 그리고 아주 가볍진 않지만 후 다닥 하고 선 무리를 느낄 정도의 무게는 아니에요. 정들면서 더 유효하게 사용할 예정입니다. 무선 청소기 바꾸려고 온갖 브랜드 상품평 가격 꼼꼼히 보고 구매했는데 사용해 보니 정말 만족스러워서 후기 남겨요. 일단 날렵하고 가. 청소기 다양하게 다 사용해 보았는데요 이 거 정말 물건입니다. 다이 슨 은 2년 쓰다 배터리 가는데 청소기 값만 해서 폐기했고 코드 제로도 광고에 비해 성능이 그리 좋지 않고 청소기 소음이 심하고 무엇보다 무거웠습니다. 저가 제품은 이야기 안 해도 다들 아실 것 같아요. 정말 청소를 좋아하는 제 게 운 명의 청소기 입니다. 성능은 기본이고 조용해서 밤에도 청소가 가능하구 요가 벼워서 침구 청소 틈새 청소 너무나 손쉽게 하고 있어요. 무엇보다 헤드 부분이 유연하고 롤링이 부드러워서 청소를 힘 안 들이 고 하게 되네요. 분리해서 씻는 것도 너무 편하구요. 정말 일주일 가까이 고민하다 블 로그 리뷰 다 검색 해보고 고민 고민 끝에 구매했는데 후회 1도 없어요. 이 가격에 이 정도 구성에 이 정도 성능이라 니 테팔이 왜 사랑 받는 가전인지 알 거 같아요. 테팔의 다른 제품들에 대한 신뢰도도 이 제품 덕에 한껏 올라갔어요. 다이 슨 과 코드 제로 비스포크에 100만 씩 쓸 필요 하나도 없을 것 같아요. 가격은 저렴하고 성능은 더 뛰어난 테팔 무선 청소기 하나면 청소 걱정 끝 끝 끝 힘 세고 조용하고 합리적 가격에 감사 드려 요 주변 분들에게도 적극 추천 합니다. 다이 슨 100개 줘도 안 바꿔요. 주문한 날 포함 3 일째에 거치대랑 같이 받았습니다. 배송 빠르네요. 거치대 봉 끝 부분에 유격이 있긴 한데 이건 넘어가기로 하고 본 품은 만족감 좋습니다. 역시 모터라. 그런 가 조용하구요. 터보 모드 파워 훌륭하네요. 부모님 댁에 다 이 10 있는데 걔는 소리가 너무 카랑카랑 거슬려서 흡입력이 딸린다는 리 뷰를 좀 봤는데 그분들은 그냥 유선 청소기 써야 하는 게 아닌지 현재 발견한 단점이 하나 있는데 헤드를 천천히 밀면 롤러 돌아가면서 생기는 바람에 먼지나 머리카락이 날립니다. 약간은 빠르게 밀어야 될 것 같아요. 유선 쓰다가 고민 많이 하고 구매했어요. 소음을 포기하고 강력한 걸 할까 아니면 적당한 소음에 적당한 흡입력을 구매할까 하다가 구매 평이 좋아 믿고 구매했어요. 거치대도 함께 배송되었고 추가 밧 데리 구매하려 다가 가격이 너무 나가서 구 건 다음 기회로 하고요. 스틱형은 처음 써 봐서 그런지 깃털처럼 가볍다라고 박스에 광고가 있는데 짧게 해서 솔 브러쉬 껴서 사용 시 손목이 이 이 깃털처럼 은 아니더라. 구요. 저한테 필요한 구성품만 있어서 좋았구요. 따로 배송된 거치대 아니 여도 본 품에 들어 있는 걸로 벽에 안 걸어도 좋으네요. 단 무선 충전이라 아무래도 약서 아쉽긴 해요. 청소기 망가져서 고민하다가 구매했습니다. 집에 테팔 스팀이 있는데 흡입력이 좋아서 구매해 봤는데 소음도 적 고 흡입력 진짜 좋네요. 두묘 집사인데 앞쪽에 브러쉬 쪽에 털이 많이 낄 까 걱정했는데 생각보다 잘 안 끼고 그냥 흡입해 주네요. 이것은 갓 인생 템 가성 비 침구 청소기도 이불 잘 안 밀리고 털만 쏙쏙 잘 빠셔서 힘이 덜 들어 가요 집 사시면 이 거 추천해 드리고 싶을 정도 소음이 적으니깐 애들도 별로 안 싫어해요. 처음에 쓸 때는 소음이 별로 없어서 이게 잘 되는 건가. 싶었는데 애들 컬 흡입하는 거 보자마자 이건 진짜 될 청소기네 하면서 너무 좋았습니다. 오래 사용할 수 있길. 흠 오래 고민하다가 할인 많이 해서 좋은 가격에 샀습니다. 그 전 사용했던 청소기는 일렉트로 룩스 2041 하 중심 형 청소기였어요. 테팔은 제가 사용하던 모델에 비해 조용하구 흡입력은 비슷한 거 같아요. 예전 것보다 신형이 다 보니 청소 통과 필터 청소가 편할 거 같구요. 제품에 필터 리필이 동봉되있어서 좋았어요. 글구 벽에 구멍을 뚫기 싫어서 거치대가 고민이었는데 레이블 거치대 를 함께 보내주셔서 고민 끝 솔도 정리 가능하고 조립도 십자 드라이버가 있으면 여자 혼자서도 거뜬합니다. 아직 사용 기간이 길지 않아 성능에 대한 후기는 쓰기 어렵지만 합리적인 가격에 잘 구매한 것 같아요. 아 근데 가벼운 건 솔직히 잘 모르겠어요. 구매 결정하시는데 도움이 되 길 바 래요. 가격 대비 너무 아쉬운 상품이네요. 제가 청소를 좋아해서 무선 청소기는 제조사 별로 거의 다 사용해 보았고 지금 저희 집에도 3개의 무선 청소기가 있는데 용도 별로 다르게 사용 중 주로 안방과 거실에 사용 중이 던 엘지 청소기가 무게가 너무 무거워 검색 하다 테팔을 샀는데 단점이 몇 가지 있네요. 현재까지 장점을 찾지 못했음 첫 번째 360도 회전하다 보니 헤드가 지 마음대로 돌아다녀요. 제가 원하는 목표물로 한 번에 조준해서 닦기가 힘드네요. 두 번째 헤드가 너무 좁아요. 타사 청소기는 헤드가 넓어서 한 번 밀 때 넓은 부위를 밀 수 있는데 지금 저희 집에 사용 중이 던 청소기들보다 훨씬 좁네요. 셋째 배터리 잔량표시가 없어서 현재 배터리가 어느 정도 남은 상태인지 전혀 알 수 없어요. 넷째 충전을 시킬 때 본체 부분을 분리시켜야 충전이 가능함 이 거 진짜 불편한 거 같아요. 더 저렴한 테팔 청소기도 많이 보이던데 요게 가격이 잴 높은 거 라 성능 및 기능 면에서 당연 좋을 줄 알고 구입한 건데 유감스럽습니다. 다시 박스 포장하기가 번거롭고 귀찮아서 반품은 못할 거 같고 놔뒀다가 다른 청소기 고장 나면 사용해야겠네요 구매 고려 중이 신 분들 꼭 참고하세요. 좋은 후기들에 좀 의아한 이상 무선 청소기를 다양하게 많이 사용해 본 사람의 솔직한 후기였습니다. 정말 청소기가 넘 필요해서 한참 알아본 지가 석 달 넘었어요. 첨 고민 끝에 인터넷 보고 후기 좋은 상품을 샀다가 소음과 삐 이 명소리가 넘 크고 머리가 아퍼 반품 후 구매에 더 신중해 지더라구요. 마침 블 프로 다이 슨 과 고민 하다 세일도 많고 가격도 착하고 도 생각하고 브랜드 라 후기도 참작하고 이 제품을 구매했는데 만족합니다. 흡입력이 정말 세지는 않지만 이 정도 흡입력도 카페 트먼 지 청소도 문제 없네요. 디자인도 예쁘고 조립 충전 물청소 등 쓰기도 편해서 좋아요. 이번엔 오래 잘 쓰렵니다. 전에 쓰던 청소기는 테팔 에어 포스 라이트 빨간색이였는데 가격 대비 만족하면서 2년 잘 사용했었습니다. 그래서 청소기 테팔 제품에 믿음이 있었는데 이번에 고 장 나서 똑같은 거 구입할까 하다 한 단계 업그레이드해서 좀 더 비싼 걸로 구입해 보았네요. 일단 디자인이 고급스러워서 맘에 들었고 가볍습니다. 그리고 먼지 통이 위에 달려 있어서 무게 중심이 위에 있어 방향 전환이 휙휙 잘 돌아가고 소파 아래 부분에도 잘 들어갑니다. 이게 장점이 자 단점 같아요. 대신에 팔이 좀 더 아픕니다. 전에 것에는 먼지 통이 아래 있어서 묵직하니 중심을 잡아 주어 안정적이였다면 휙휙 돌아가니 좀 불안정했는데 적응하니 괜찮습니다. 강약 조절하는 것이 없고 소리가 적어서 먼지 흡입이 잘 되나 싶었는데 왠 만한 크기 먼지 과자 부스러 기 다 잘 빨아들이네요. 소음이 굉장히 작다는 게 장점이예요. 거치대에 걸어 놓으니 비싼 청소기처럼 뽀대 나네요. 아직 까진 별 불만 없이 사용 중입니다. 고장 없이 오래 사용했음 좋겠어요. 거치대 같이 있는 구성 너무 좋네요. 저희 집은 청소기 자리에 구멍 뚫을 수 있어서 아예 고정해 뒀는데 부속 헤드들 같이 거치 되는 거 너무 좋습니다. 따로 보관 할 걱정 안 해도 되고 한 눈에 보이니 좋아 요충 전도 제품 거치 하면 바로 되니까 편하더라구요. 헤드가 휙휙 잘 움직이는데 침대 밑이나 장애물 많은 곳에서 머리만 요리조리 돌려서 청소할 수 있어서 편했어요. 손 목 약한 사람도 충분히 쓸 수 있는 무게 같아 요소음도 기존에 쓰던 유선 청소기들보다 훨씬 적습니다. 완전 만족해요. 받아 보고 세 번 써본 후기입니다. 일단 저는 유선 청소기만 쓰다가 선도 불편하고 소리도 커서 무선 청소기 가 성비 괜찮은 거 찾던 중 우연히 테팔 제품을 보게 되 서 반신 반으로 구입하게 됐어요. 일단 가격 면에서 괜찮은 거 같아 큰맘 먹고 처음으로 무선 청소기 구입 받아 보고 써 보니 이런 게 무선 청소기구나 싶더라구요. 비싼 청소기는 멈두 도 안 나서 테팔로 산 건데 저는 이 제품 만족해요. 일단 밀리는 것도 부드럽게 잘 밀리고 소리도 정말 작아서 청소할 맛이 나더라. 구요 무게는 그리 가벼운 편은 아니지만 전에 쓰던. 저렴. 이 제품이 더 무거웠어 가지구 이 건 괜찮은 거 같아요. 역시 무선 청소 기가 신세계네요. 진작 바꿀 걸. 이 리 편한 것을 이 정도면 성공이네요. 다만 배터리 잔여 량 표시가 없는데 아쉽지만 크게 불편한 건 아니니 괜찮아요. 쓰다가 갑자기 꺼지면 떨어졌구나. 생각해야겠어요 호불호가 갈릴 거 갔지만 저는 완전 만족입니다. 청소가 재밌어요. 일단 해드 부분이 부드럽게 잘 돌아가서 갠 적으로 나무 편합니다. 완전 가벼운 건 아니고 바닥에 끌고 다니면 무리 없이 청소 가능합니다. 흡입력도 좋은 것 같아요. 워낙 먼지나 부스러 기 머리카락 등을 데일리로 청소할 용으로 산 거라. 이대로 만족 부스터 모드도 때에 따라 같이 잘 활용하면 좋을 것 같아요. 같이 주신 거치대 한쪽 안에는 녹이 슬어 있던데 주신 건 좋지만 확인을 해보시고 보내야 할 듯 청소시간은 34평 집 꼼꼼히 돌고 나 먄 꺼지는 정도 아직 더 써봐야겠지만 지금으로 썬 완전 만족 ; 색상도 고급진 로즈 색이라 예뻐요. 앞에 사용했었던 무선 청소기가 몇 번 사용하지 않았는데 금방 고장이 나서 반신반의 몇 번을 망설이다 테팔을 믿고 구매했는데 흡입력도 좋고 소리도 적당합니다. 무게도 너무 가벼운 것 보다 적당해서 청소하기 수월합니다. 구성품도 딱 필요한 거만 있어서 너무 좋고요. 매트리스나 이 불 먼지 청소 정말 잘 됩니다. 벽에 구멍 뚫기 싫은 데 사은품으로 주신 거치대도 너무 유용하네요. 가격도 저렴하고 성능도 좋고 디자인도 이 뻐서 가 성비 짱이네요. 판매자 분 응대도 빠르시고 친절하셔서 모두 만족합니다. 많이 파시 고 번 창 하세요. 다이 슨 쓰다가 배터리 교환이 어렵고 비용도 비싸서 배터리 교환할 돈으로 테팔 무선 청소기 구매했습니다. 거치대 조립도 쉽고 청소기 헤드도 부드럽게 움직입니다. 일반 모드와 부스터 모드가 있는데 부스터 모드는 다이 슨 강력 모두랑 흡입력이 비슷한 것 같습니다. 무게도 다이 슨 보다 가볍습니다. 가성 비 있는 제품이고 가장 큰 장점은 배터리 탈 착이 가능해서 나중에 배터리 효율이 안 좋으면 받을 필요 없이 배터리만 추가로 사서 쓰면 되 서 좋을 것 같네요. 10년 넘게 유선 청소기 사용하다가 끌고 다니다가 사용 포기하고 청소기 방치 무선 청소기면 좋겠다 싶은데도 이 거 괜찮네. 할 만한 것은 너무 말 않되게 비싸고 십만원 대도 보면 소음이나 성능이 좀 많이 떨어져 오래는 못 쓸 거 같고 그랬는데 어느 날 우연히 본 홈쇼핑에서 이 청소기를 설명하고 있었는데 이 거 다 싶었지요. 성능 디자인 가격대도 괜찮더라구요. 그래서 네이버에서 찾아 리뷰도 많이 보고 그리고 구매하게 되었습니다. 잘 도착했구요. 딱 제 생일 날에 도착했었습니다. 잘 쓰고 있구요. 아직은 손에 익숙치 않아 손목에 힘이 좀 많이 들어가지만 차차 편해 질 거라. 생각합니다. 돌린 후 청소기 내부 청소가 쉬어 더욱 좋습니다. 쓰면 쓸 수록 구매 잘했다는 생각이 듭니다. 요새 삼성 다이 슨 등 핫한 청소 기라 거치대 이벤트 있길래 후딱 주문 햇어요. 거치대가 먼저 오고 다음날 청소기 도착 거치대 조립하는데 충전 대가 없어 깜짝 놀 랏 는 데이건 본 품에 들어 있군요. 참고하시길 거치해 놓고 휘청거림 같은 거 없고 벽에 구멍 안 뚫어서 더 좋고 추가 구성품 다 들어 잇고 거치대 중간에 구성품 꽃을 자리 있어요. 예비 필터도 1 개씩 추가로 잇고 무게는 적당. 연결대나 청 소통 비우는 거 다 원 터치 분리로 편하고 버튼 한 번만 눌러 줌 자동으로 도니 이것도 편리 소음도 준수합니다. 지금 데 커 앤 데 커 휘파람 핸디 쓰는데 넘 시끄러워서 차량용 청 소기로 보냇어요 이 정도면 조용하죠. 배터리는 기본 1개 들어 잇고 45 시간 충전에 230 분 작동 청소를 30분 넘게 하지는 않으니 적당합니다. 배터리 무게도 적당해요. 동생이 코드 제로 쓰는데 2년도 안 되 서 배터리 방 전대서 추가 구매하려니. 돈도 들고 짜증난다고 하던데 부디 내구성 좋길 바 래 요 최저가에 거치대도 받고 차이 슨 같은 것보다 브랜드도 잇고 굳이 890 짜리. 안 사도 갖출 거 다 갖춰서 좋네요. 잘 쓸 게용. 무선 청소기 바꾸려고 온갖 브랜드 상품평 가격 꼼꼼히 보고 구매했는데 사용해 보니 정말 만족스러워서 후기 남겨요. 일단 날렵하고 가 벼워서 주부인 제가 쓰기에도 편하고요. 마룻바닥 매트 가리지 않고 매끄럽게 잘 밀려 요 코너링도 좋구요. 청소 후 모아진 먼지를 보니 뿌듯 ♡ 먼지 흡입 잘 됩니다. 또 한 가지 저희 아파트가 층 간 소음이 심해서 무선 청소기 윗집에서 드르륵 하는 소리가 거슬렸는데 바닥 긁는 소리가 거의 없어서 깜짝 놀랐답니다. 맘 편히 청소할 수 있어서 악세서리 중에 틈새 청소할 수 있는 것도 있어서 나중에 대 청소할 때 잘 쓰겠어요. 거치대 포함이고 조립은 다행히 쉬워서 저 혼자 약간 버벅거리며 완성했습니다. 담에 한 달 후기도 써 볼께요. 다이 슨 부터 코드 제로 차이 슨 까지 여러 종류 써 봤는데 테팔은 가격 대비 진짜 최고네요. 와이프가 티비 광고 보고 하나 더 사자 고 해서 구매했는데 완전 만족입니다. 이 가격에 이성 능이면 어느 정도의 단점도 안 보이네요. 그냥 사 세요 비싼 거 살 필요 없습니다. 다만 아쉬운 건 거치대 중간 나사가 작아서 잘 안 들어간다는 리뷰가 보이던데 저 역시 그랬고 대신 집에 있는 큰 드라이버로 쉽게 조였습니다. 참고 해 주세요. 암튼 계속 써 보면 알겠지만 첫 인상은 나쁘지 않네요. 흡입력도 좋고 소리도 이 정도면 나쁘지 않습니다. 로즈 골드 색상도 생각보다 귀엽습니다. 다이 슨 처 럼 계속 누르고 있지 않아도 되 서 좋아요. 먼지 통 탈 착이 초간 편하네요. 침구 청소도구도 잘 되요 먼지가 많이 잡혔어요. 사용. 이 간편해서 청소가 참 쉽네요. 소리도 유선 청소기에 비해서는 훨씬 조용해 요 헤드가 잘 돌아가긴 한데 한 번씩 통째로 들어줘야 될 때가 있어요. 제 키가 작은데 길이 조절이 안 되 서 좀 아쉬워요. 무게는 초경량은 아니고 그럭저럭 가벼운 편인 것 같네요. 엘지 삼성도 써 보았더니 엄청 좋다 정도는 아니지만 꽤 스무스하게 청소가 잘 되고 먼지 통 처리 관리가 쉬워서 아주 좋아요. 집이 전세인데 벽에 구멍 안내 게 거치대 서비스도 쓸 만 하구요. 구성도 넘치지 않게 딱 좋습니다. 이 가격에 수월한 청소를 도와 주셔서 넘 감사하네요. 첫째 디자인이 정말 예쁘고 만 듦새가 튼튼하고 고급스럽습니다. 둘째 청소하기 편하고 흡입력 충분합니다. 셋째 소형 헤드가 참 좋습니다. 연결해서 카페 트 청소 돌렸는데 머리카락 다 긁어내고 묵은 먼지까지 말끔히 빨아들여 청소돼서 속이 시원했습니다. 양가 부모님 댁에 하나씩 사 드렸어요. 디자인도 예쁘고 무게도 적당해서 청소할 때 힘들지 않다고. 만족스러워 하십니다. 사 드린 보람이 있어요. 조립도 쉬웠구 요 배송이 하루 만에 와서 더 더 만족합니다. 거치대 조립도 쉽네요. 부모님 댁 엘지 구형 유선 청소기가 더 이상 필터도 구할 수 없고 해서 새로 샀습니다. 유선보다 사용 시간이나 흡입력 면에선 떨어지겠지만 그래도 이 제 무선으로 편하게 쓰셨으면 했고 전부터 홈쇼핑 방송에서 눈여겨보던 테팔이라 이 기회에 주문했어요. 생각보다 소음도 크지 않고 좋더라구요. 며칠 더 시용해봐야겠지만 일단 만족합니다. 맘에 들어 하시는 거 좀 더 보다 가 저희 집도 사려고 생각 중이예요. 부모님 댁 사용이 일종의 마루 타 느낌 엘지 삼성 쓰고 싶지 맘 솔직히 청소기를 백 몇 십 주고 사는 것도 좀 그렇구 걔들이 특별히 성능이 엄청 나 단 생각도 안 들 구요. 먼지 통 비우는 거 편한 게 제일 맘에 드시는 모양이예요. 아 직까지의 유일한 단점은 사은품으로 주신 거치대 조립 설명서가 없어서 여기저기 검색하고 후기 사진보고 별 걸 다 했는데 조립법 얘 긴 없어서 다들 천재이신 가 했는데 글쎄 거치대 박스 뒷면에 설명 서가 똭 인쇄되어 있었어요. 비슷하게 헤메는 분들 있을 거 같아 알려 드려요. 무선 청소기는 이번이 3 번째 입니다. 첫 번째 구매한 필 청소기는 내구성이 약해 금방 고장 나고 두 번째 구매한 일 는 일 년에 한 두 번 씩 받으면서 3년 조금 넘게 쓰다가 완전히 고 장 나서 이번엔 테팔로 바꾸게 되 였어요. 거치대 경우 사은품으로 받게 되 서 안전하게 보관 충전하게 되고 인테리어 효과도 누리는 듯해요. 전에 쓰던 건 소음이 좀 큰 편이였는데 확실히 조용하면서 흡입력은 더 좋은 듯 해요 투 냥 님들을 모시고 있다가 보니 화장실 모래가 온 방안에 굴러다녀 수시로 청소해야 하는데 모래가 잘 흡입이 되지 않아서 몇 번 씩 같은 자리를 밀어야 하고 나머지는 빗자루로 쓸어야 하는 고된 작업 을 해야 했는데  동영상에서 보시다시피 한번 지 나가도 모래가 싹 쓸어버리는 다른 건 몰라도 흡입력에선 넘 무 넘 무 맘에 들어요. 기존에 쓰던 청소기가 이제 수명을 다해서 새 청소기를 알아보다가 테팔 청소기를 알게 됐어요. 청소기가 오자마자 사용해 봤는데 우선 소음이 작다는 것이 가장 마음에 들었어요. 흡입력도 좋고 여러모로 정말 좋은 것 같습니다. 앞으로 이 걸로 잘 청소 할 것 같아요. 배송 빠르고 거치대와 동시에 와서 좋네요. 디자인도 이 쁘고 가볍다고. 해서 구매했어요. 음 생각보다 무겁습니다. 이건 안 쓰던 거라. 그런 듯 핸디나 유선보다 묵직해서 청소하다 보면 팔아 파요;; 헤드가 돌아가는 건 아직 적응이 안 됐는데 코너 청소하기 편한 거 같아요. 제대로 흡입이 되긴 하는 건가. 싶었는데 이 불 청소 해보니 알겠네요 ;;. 와 이 가루 뭐지 ;;; 이 불 빨래도 자주 하는데 충격이에요. 한바탕 돌리고 물걸레는 로봇 청소기가 합니다. 가격 대비 괜찮다고. 생각해요. 설명서는 매우 빈약. 일단 거치대가 있어서 너무 좋아요. 전에 쓰던 거는 세워 놓기 불편해서 작은 겨 끼워서 그냥 바닥에 보관했었는데 거치대가 있으니 편리합니다. 그리고 차이 슨 이라며 이것저것 많은데 가 불편하더라구요. 이건 뭔 가 테팔이라서 가 괜찮지 안을 까 싶은 마음이 들어 구매했어요. 전에 쓰던 것보다 소리가 작으니 힘이 없는 거 아니냐고 하는데 어차피 머리카락이랑 먼지 빨아들이는 용이니 소음적 어서 전 더 좋아요. 한 달 사용하고 또 후기 남길께요. 부모님 댁에 사 드리고 청소기 바꿀 기회가 생겨 동일 제품으로 구매했어요. 먼지 통 비우기가 쉽고 핸들링이 좋은 편인데 무겁게 느껴지기는 합니다. 핸들링 중 뭔 가 내 조작대로 움직이지 않는 것도 같으나 전체적으로 먼지 통 비우기 쉬워 편리 청소 만족도 좋은 편 너무 많이 검색해 봤는데 믿고 써보기로 했어요. 검색할 수록 뭘 사야 할지 모르겠더라구요. 그래도 이 가격대에 이 정도의 제품 만족해요. 일렉트로 룩스 무선 청소기 쓰다가 부품 문제로 포기하고 결국 세재 품 구매했어요. 9 과 다이 슨 다 비교해 봤는데 저렴 이로 2년 만 쓰자 라는 마음으로 에어 포스로 선택했씁니 다 일단 원하는 날짜에 받을 수 있어서 배송 만족했구요. 기존 일렉트로 룩스 헤드에 비해 약간 무겁긴 하지만 그래도 들만 해요 아이가 자기가 하겠다고. 번쩌 들 정도 고장 안 나 고 오래오래 썼으면 좋겠네요. 디자인도 예뻐서 만족. 다이 슨 4년 쓰고 고장 나서 일주일 동안 폭풍 검색 유 튜브 맘 카페 쇼핑몰 리뷰 다 훑어보고 대기업 제품부터 차이 슨 제품들까지 다 찾아봤는데 공통점이 3년 정도면 배터리에 이상이 생기더라구요. 이번엔 가 성비로 가보자 하고 저렴. 이 제품들 중 제일 평이 좋은 테팔로 구매했네요. 흡입력 약 하단 얘기가 있어서 고민 했는데 저는 만족스러웠어요. 소음도 적 고 디자인도 너무 심플하고 로즈 골드랑 블랙이 고급스러워요. 제발 고장난 안 나 길. 삼성 엘 지청 소기는 가격이 넘비 싸서 엄두를 못 냈는데 테팔 청소기는 가격도 저렴하면서 디자인 성능 품질 면에서 삼성 엘 지청 소기 못지않은데요 다만 길이 조절이 되지 않아 좀 아쉽네요. 그래서 일반 모드 작동 시 흡입력이 다소 약한 감이 있습니다. 항상 부스터 샷 기능을 작동시키고 써야 될 것 같습니다. 필터도 좋고 예비 필터 도 한 개씩 더 들어 있습니다. 한번 더 자세히 말하자면 삼성 엘 지청 소기보단 성능이 아주 조금 떨어지지만 가격 대비 아주 매우 좋습 나다. 차이 슨 청소기도 써 봤는데 너무 안 좋아서 별 기 대안했는데 테팔 청소기는 매우 만족합니다. 제품 자체로만 보면 메인 청소기는 아니고 서브 용이나 청소 공간이 크지 않을 경우 유용하게 쓰일 것 같습니다. 다만 서비스 부분에서 큰 불쾌감을 느꼈습니다. 첫 번째 배송에서 거치대 봉 2개가 누락되어 유선으로 연락 드렸고 추가로 배송해 주신 단 말에 별 말 없이 넘어갔습니다. 그런 데 10일이 지 나 도 안 오길래 다시 연락했더니 추가 배송하겠다는 내용을 누락했다는 말을 듣고 살짝 기분이 나빴 으나 그럴 수 있다는 생각으로 빨리 보내. 달라는 말만 하고 넘어갔습니다. 근데 일주일 동안 배송 온 게 없어서 다시 연락했더니 그 내용을 또 누락했다고. 하는데 화가 안 나 게 생겼습니까. 어떻게 하면 일 처리를 그런 식으로 하시는지 이해가 안 가네요. 업무가 많아 그렇다고. 하셨는데 그게 변명이 되는 건지 업무가 많으면 누락해도 되는 건지 참 한 두 번 그냥 넘어 가드 렸으면 많이 참아 드렸다고. 생각했는데 이 건 뭐 사람 인내심 테스트 하는 것도 아니고 화가 많이 났습니다. 그 주 내로 보내겠다는 말에 그 주가 아니라 당장 오늘 보내서 송장 번호까지 달라는 말을 하니 그제서야 보내네요. 해외 배송도 아니고 거의 3주 만에 모든 제품을 받을 수 있다는 게 말이 되는 건지 참 의 아합니다. 저 같은 일이 다른 분에게는 다시는 발생 안 하도록 일 처리 정확히 해 주세요. 지금도 테팔 거 가 성비 좋게 잘 써서 이번에도 테팔 구매했어요. 지금 거 테팔도 작동은 잘 되지만 오래 쓰기도 했고 아이가 몇 번 떨어뜨려 먼지 통이 열리지 않아 구매했네요. 그만큼 품질 좋은 거는 제가 써 보고 경험했기에 별 고민 없이 또 테팔로 선택했어요. 역시 가격 대비 품질은 굿 청소기 소리 정말 작아서 놀랐고 바닥에 굴리는 소리 또한 제로 부드럽게 밀리고 소리만 들으면 약한 거 같으나 흡입은 잘 되요. 거치대까지 있어 유용하게 잘 사용합니다. 전에 사용하던 일렉트로 룩스보다 가 벼워서 좋네요. 흡입력만 보면 조금은 부족해 보이지만 흡입구 쪽에 있는 부러쉬가 회전하면서 먼지를 쓸면서 흡입하는 원리라서 기존 것보다 좋습니다. 사은품으로 함께 보내주신 스탠드도 조립과 분리를 하지 않고 사용할 수 있어서 더욱 편합니다. 좁은 곳에 세워 두는 것도 너무 종구요. 가벼움과 강 한 흡입력 스탠드로 인 한 사용 편리함까지 마냥 저렴한 것은 아니지만 이 가격에 이 정도 성능이면 완전 만족 합니다. 내구성만 뒷밭 침 해 줘서 고장 없이 오래 사용할 수만 있다면 더 할 나 위 없겠네요. 이쁘고 쓰기도 편하고 흡인력도 정말 좋아요. 카페 트 청소도 진짜 잘 되어 청소하고 나면 기분까지 좋아지는 느낌입니다. 차이 슨 쓰다가 배터리가 끝장 나서 이 제품으로 갈아 탄 거라. 비교가 확실히 되네요. 무게는 차이 슨 이 더 가벼워요. 제가 몸에 근육이 1도 없는 스타일이라 청소하고 나니 팔이 좀 아픕니다. 그 외에는 차이 슨 과 비교하는 게 미안할 정도로 이 아이가 월등 합니다. 다시 산다고 해도 이 제품으로 고를 거예요. 참 거치대 있으니까 넘 편하고 모든 부속품들 다 같이 걸어 놓을 수 있어서 특히나 더 더 더 좋아요. 좋은 제품 싸게 팔아 주셔서 감사합니다. 다른 엘 모 청소기 사용하다가 먼지 통 청소가 너무 힘들어서 후기와 무게 가벼워서 구매했어요. 자동 먼지 흡입 되는 청소기 사려다. 오래 묵 혀 두는 먼지로 벌레가 많이 생긴 다 하여 고 심 끝에 구매 너무 좋네요. 무게 가볍고 소리 조용하고 무엇보다 톡 하고 버릴 수 있는 먼지 통 좋네요. 분리해서 씻을 수 있고 머리카락도 엉키지 않고 공처럼 모이네요. 한 가지 아쉬운 점은 160 키 인 저에게 조금 긴 거 같아요. 유선만 쓰다가 무선 쓰니까 편하고 좋네. 여 전엔 선이 짧아서 집 다 청소하려면 콘센트 옮겨서 꽂고 해야 했는데 그럴 필요 없으니 좋아요. 그런데 생각보단 좀 무거웠어요. 한 손으로 계속은 못하겠고 그리고 전 검지 손가락 마디 쪽이 쓸려서 좀 아프더라구요. 흡입력도 유선에 비해 선 좀 약하지만 먼지 통 비우기도 쉽고 할인도 많이 하고 거치대도 주고 쓰기 편하고 전 잘 샀다고. 생각해요. 다른 리뷰에 얼굴로 바람이 온다고 하던데 제 키가 156인데 그냥 서서 하면 안 오구요 식탁 아래 같은 곳 밀려 고 허리를 숙이면 오긴 하더라구요. 계속 오는 거 아니라 전 괜찮았어요. 기다리던 테팔 무선 청소기가 도착을 하고 바로 조립을 해서 사용해 보았어요. 핸들이 부드럽고 가 벼워서 청소할 때 편하네요. 침대 밑에 창틀 사이도 허리를 굽히 지 않고 청소가 가능 해졌어요. 흡입력이 조금 더 강했으면 좋겠어요. 먼지 통 분리해서 버리기 쉽게 되어 있어요. 아이들도 서로 청소를 도와 주려 하네요. 우리 집 구석구석 깨끗해 지겠어요. 기존엔 유선 쓰면서 이 모델 점 찍어 놓고 다른 브랜드 꺼 가 성비 좋다는 거 사 봤지만 전부 반품하고 테팔 에어 포스 360으로 구매했습니다. 일단 가벼움에 헤드가 사방으로 도니 너무 편하더라구요. 물론 유선에 비해 흡입력이 엄청 세다는 느낌은 없지만 가볍고 편리하고 소음도 적으면서 디자인까지 갖춘 모델이라 마음에 들어요. 그리고 제일 좋은 점 하나 뽑기도 어렵네요. 그냥 테팔 청소기라는 점 하나만 보고도 너무 만족하면서 사용하고 있습니다. 어서 구매하세요. 다이 슨 이나 삼성 엘지 껀 너무 비싸서 저렴한 가격으로 테팔 구매했는데 흡입력도 좋고 무게도 막 가볍다고. 할 순 없지만 성인 여성도 밀기에 괜찮아요. 고개도 잘 꺾여서 가구 모서리 부분도 부드럽게 청소할 수 있어요. 먼지 통 비우는 것도 너무 간단하고 잘 쓰고 있어요. 가격도 저렴하고 전반적으로 너무 만족스러워요. 저는 오프라인에서 다른 청소기와 비교한 후 주문하게 되었습니다. 일단 구매하게 된 가장 큰 이유는 다른 어떤 청소기보다 가볍다는 점 이에 요한 손으로 청소하기에 큰 무리 없고 360도 돌아가기 때문에 큰 동작이 필요하지 않아 사용감이 좋았습니다. 또 다이 슨 과 고민하던 중 청소 통을 물로 세척 가능하냐. 아니냐. 로 나눠 지더라. 구요 다이 슨 은 물 세척 불가라. 하여 테팔로 마음을 굳히게 되었어요. 사용 후 느낌 점은 겁쟁이 저희 냥 이도 도망가지 않고 가만히 보고 있을 정도로 소음이 적습니다. 제 기준 털과 모래도 잘 흡입하는 거 같아요. 하지만 소음이 적은 만큼 흡입력이 엄청 좋진 않습니다. 그 땐 초강력 모드로 하면 좋을 거 같아요. 거치대는 벽에 못을 박아야 해서 밑에 접착력 좋은 테이프로 고정시켰습니다. 더 써봐야 알겠지만 가격 대비 만족합니다. 올해 1월 달에 똑같은 청소기 구매하여 쓰다가 청소기 모터와 롤 쪽을 연결하는 긴 봉 쪽이 부러져서 새로 구매를 하게 되었습니다. 하루에 한 번 청소하는데 말이죠. 먼지를 흡입하는 롤 은 구매한 지 한 달 만에 고장이 나서 왜 그런지 살펴보니 청소기 롤 부분과 봉 전선의 접촉 불량이였구요. 롤 이 돌아가지 않아도 먼지는 잘 흡입되니까 청소기 계속 사용했었습니다. 물론 여기서 청소 기를 구매한 건 아닙니다. 청소기를 생각보다 오래 쓰지 못해서 속상했지만 필터가 물 청소가 가능하고 먼지가 흡입이 괜찮다는 점 이 두 가지가 좋아 다시 구매했습니다. 한 가지 개선해 주셨으면 하는 점이 있다면 청소기를 내려놓고 쓰는 거치대가 함께 들어 있는데 또 벽에 설치할 수 있는 거치대가 왔습니다. 처음부터 어떤 거치대가 필요한 지 고객에게 물어보았다면 하나만 말씀드렸을 텐데 요 결국 쓰레기를 하나 더 만들었네요. 아쉽습니다. 쓰지도 않는 건 쓰레기 밖에 되지 않으니까요. 부모님 편하게 청 소하시라고 구매했습니다. 일단 근력이 많이 떨어 지 신 부모님께는 딱이네요 가볍고 헤드가 자유자 제로 잘 움직여서 손목 무리는 없을 듯 합니다. 조금 아쉬운 건 아이들 먹고 버린 마 쮸 비닐은 안 빨려 가 고 헤드에 껴 버리네요. 그것 말고는 먼지 작은 부 스러 기 잘 빨아 드립니다. 흡입력 좋네요. 물걸레 질 매일 안 해도 바닥이 매끈해요. 브랜드 제품으로 230만 원대에 침구 청소 가능한 제품으로 찾다 보니 선택지가 얘 뿐이었는데 할인하고 이벤트 더해서 싸게 잘 산 거 같아요. 딱 아쉬운 것 하나는 기 본 청소기 머리 쪽에 호스랑 먼지 통 이음새 플라스틱 내구성이 불안불안합니다. 청소기와 거치대 같이 배송 와서 좋았어요. 청소 기가 흡입력이 엄청나게 좋은 건 아니지만 가정용으로 사용하긴 적당한 것 같아요. 다만 같이 온 거치대 조립하는데 나사가 딱딱 맞게 조여 지지 않아서 불안했습니다. 그래도 조립 다 끝내 놓고 나니 청소기 거치 및 충전시키는 덴 문제 없어서 잘 쓰고 있어요. 부모님 쓰시던 기존 청소기가 고장 나서 선물 드렸어요. 청소기 자체는 외관도 깔끔하고 일반 코드 쓰시다 쓰니 좀 무겁 긴 해도 간편 하다고 좋아하세요. 근데 처음 배송 올 때 깨진 상품으로 와서 교환했는데 맞교환은 안 되고 무조건 업체로 반품 상품 수령 후에만 출고 가능하다고. 하셔서 일주일 넘게 또 기다렸어요. 잘못 보낸 건 업체 측인데 재포장이며 택배 수거며 시간은 시간대로 흐르고 접수 후에 재 문의 해 달라고도 하시고 왜 저희가 불편을 감수해야 하는지 청 소기 없어서 빗자루로 청소했다며 여기 테팔 공식 스마트 스토어 아닌가요 상담 말투라도 좀 친절하셨으면 덜 기분 상했을 텐데 뭔 가 상투적이고 친절한 상담 사분은 아니셨네요. 상품은 좋았으나 서비스에 실망해서 별 뺐습니다. 집안 어디에 둬도 공간 많이 안 차지하고 디자인이 예뻐 보기도 좋아요. 유선 쓰다가 무선 쓰니 청소하기 너무 편하고 어떤 분이 청소 하는 게 즐겁다고. 쓰셨던데 공감됐습니다. 아무리 가볍다 해도 무선이라 그래도 무거운데 기존 다른 제품에 비해 가볍네요. 너무 유용해서 부모님 생각났어요. 사 드릴까 싶네요. 대형 마트에서 사려고 본 건데 여기서 주문하는 게 더 저렴해서 구매했어요. 디자인도 깔끔하고 좋은데 흡입력까지 굿 이에 요 너무너무 맘에 들어요. 부모님도 만족하시고 매일 매일 잘 쓰고 있어요. 최고 최고 전에 쓰던 것보다 시끄럽지도 않고 좋슴다. 일단 가벼워요. 그러나 몇 일 사용 후 밧 데리가 금방 소모 된 거 같아요. 흡입하는 소리가 조금 낮아 졌어요. 비싼 브랜드와 비교해도 손색 없다 댓 글 보고 구매했는데 다이 슨 보다는 훨씬 가 성비는 좋아요. 밧 데리도 따로 구매 가능할 거 같네요. 부모님도 사 드렸는데 무엇보다 가 벼워서 마음에 듭니다. 그리고 거치도 주셔서 구멍 안내서 좋아요. 아직 사용 전인데 무게는 다 이 슨 보다 가 벼워 좋네요. 성능은 청소 한번 해봐야 알겠지만 예전에 사용하던 테팔도 잘 사용해서 믿고 구입했어요. 거치대 조립 시 홈 사이즈가 맞지 않아 나사가 완전히 조립되진 않지만 사용하는 덴 괜찮을 꺼 같아요. 기존에도 테팔 청소기를 4년 정도 사용하고 있었는데 아이가 몇 번 넘어트렸더니 작용되다 멈추다 해서 검색하다가 다시 테팔로 구입 했어요. 기존에도 가볍다고. 생각 했는데 이번 제품은 훨씬 가볍고 360도라서 그런지 뭔 가 스무스하게 움직이고 전에는 뭔 가 보조자 퀴가 굴러 다니는 소리가 좀 크다 생각 했는데 이번 꺼는 뭔 가 소리도 작네요. 더 군 다가 거치대 주는 행사까지 해서 일요일 저녁에 주문 했는데 화요일에 받았어요. 처음 무선 청소기를 구입하면서 한 번 충전으로 사용 할 수 있는 시간이 짧으면 어떻게 하나 하는 고민 이였습니다. 한 달을 사용하면서 34평 청소를 하면서 사용 중에 베 터 리가 떨어진 적이 한 번도 없었습니다. 현재는 베 터 리가 충분하여 사용하는데 아주 만족스럽습니다. 거치대가 같이 있어 충전과 정리가 한 번에 되는 점도 좋습니다. 베 터 리 수명이 오래 가 길 바랄 뿐입니다. 소음도 유선보다 많이 작아서 늦은 저녁에도 사용하기 좋습니다. 다이 슨 배터리 갈 때도 되고 흡입력이 너무 약 해져서 테팔 구입했어요. 일단 많이 무겁지 않고 손도 안 아파서 좋네요. 흡입력도 괜찮은 것 같고 색상이나 디자인 실물이 예뻐요. 사은품으로 거치대 주셔서 참 좋은데 거치대 바닥이 좀 거 친 날 카로 운 상태라서 바닥이 긁히는 느낌이 들어서 그게 좀 아쉬워요. 확실히 청소기 소리도 부드럽고 흡입력도 만족스럽네요. 좋은 제품 저렴하게 구매 할 수 있어서 넘 기쁘네요. 다만 사은 품으로 온 거치대는 애매하네요. 조립시 몸체 나사가 제대로 안 들어갑니다. 다른 분들이 말하신 거 처럼 나 사 구멍도 제대로 안 맞고요. 괜히 사은 품 주고 싫은 소리 들을 필 욘 없잖아요. 조금만 더 신경 써 주시면 좋겠어요. 너무 무겁지 않아 사용하기 편리합니다. 충전 시간 대비 사용 시간이 길지 않은 점이 조금 아쉬운데 무선 충전 형 청소기의 공통적인 문제라고 생각되네요. 동영상의 사용 소음 확인해 보세요. 배송도 빠르고 사용 방법이 간편해서 가격 대비 만족입니다. 가볍고 청소하기가 엄청 편하네요. 테팔 구매 전에 국내 브랜드 무선 청소기를 사용했었는데 사실 너무 무거워서 청소하기가 힘들었어요. 한 4년 정도 쓰다가 배터리도 방전되고 해서 배터리 사려고 보니 20만원이 훌쩍 넘더라구요. 그 가격이나 테팔 사는 가격이 비슷해 보여서 바로 구매했는데 기대보다 훨씬 좋네요. 추천합니다. 생각보다 가볍고 흡입력이 좋습니다. 다만 큰 헤드 부분은 다른 분들 말씀처럼 회전이 너무 잘 되어서 오히려 불편하네요. 그리고 거치대는 조금 투박합니다. 구멍이 잘 안 맞아서 조립 시 힘들고 조립을 해도 거치할 때 흔들리네요. 불안정합니다. 가 성비 좋게 잘 산 것 같아요. 충전시간에 비해 청소기를 돌릴 수 있는 시간이 너무 적은 것 같아서 사기 전에 고민을 많이 하긴 했는데 역시나 그 부분을 제외하고는 다 만족스럽네요. 손목에 너무 부담을 주는 무게도 아니고 거치대가 있어 설치도 깔끔하게 할 수 있고 흡입력도 나쁘지 않아요. 디자인도 마음에 듭니다. 이곳에서 제일 저렴하게 구입했네요. 배 송은 성탄절 연휴 고려하면 빨리 배송되었어요. 엄마가 쓰실 거라. 가격이랑 여러 가지 고려해서 구입 유선을 쓰시다 쓰신 거 라 무선의 단점으로 아직 까지는 맘에 들어 하지 않으시네요. 무겁고 유 선보다 흡입이 시원하지 못하다 보니 처음에는 머리카락도 잘 흡입 안 된다며 화가 나셨다고. 하네요. 조금 적응하다 보면 조금 나아질 듯도 한데 아쉬워하셨어요. 맘에 들어요. 흡입력도 좋고 목 도 자유 자재로 움직여서 편해요. 다만 저희 부모님께 서는 너무 거추장스럽고 존재감이 너무 크다고. 싫어하시네요. 소음은 그냥 청소기 소음 이에 요 딱히 작은지는 모르겠어요. 청소 기 거치대 사은품으로 잘 받아서 잘 쓰고 있습니다. 가 성비 갑 색상을 고를 수 없는 건 아쉽지만 오랫동안 검색해 보고 리뷰 보면서 고민한 보람이 있습니다. 스탠드에 녹이 좀 슬어 있긴 했는데 큰 문제 아니니 꺼 그러려니. 합니다. 가볍고 소음 적고 흡입력 좋아서 마 우 만족합니다. 친구 집에 엘지 100 만원짜리 무선 청소기보다 훨 나아요. 유선 청소기보다는 조용하네요. 처음 사용해서 그런지 무겁게 느껴집니다. 다른 제품을 사용한 적이 없어서 비교는 불가하지만 소음도 적당하고 청소도 잘 되는 것 같습니다. 배터리 잔량 알림이 없어서 돌아갈 때 까지 사용 중인데 34평 청소하고도 배터리가 남았는지 잘 돌아갑니다. 거치대도 마음에 듭니다. 단지 중간 볼트는 구멍이 잘 안 맞아서 들어갈 수 있는 만큼만 조여 났네요. 흡입력 오 이 정도면 흡입력 좋다고. 할 수 있을 꺼 같습니다. 배송 깔끔하고 빠른 편입니다. 디자인 군더더기 없고 디자인 굿 단점 거치대에 꼽아야 충전되는 시스템 그냥 아 답 터로 충전하는 게 편할 듯 궁 금점 모델 명 뒤에 붙는 거랑 붙지 않는 거랑 별로 다른 점을 모르겠는데 가격은 차이가 남. 후다닥 조립하고 청소기 돌렸는데 흡입력이 너무 좋습니다. 특히 부스터 모드는 유선 청소기와 별 반 다르지 않은 흡입력 소리도 앵앵거리는 소리가 아니라 부우웅 소리가 아주 촥 깔려서 조용히 납 니다 배터리 분리형이라 좋구요. 무선 청소기 뭐 타 사 100만원 가까이 주고 살 필요 없습니다. 테팔 5510 이 가 성비 갑이 고 공식 홈이 가장 저렴합니다. 한 달 이상 사용 후기입니다. 우선 거치대가 청 소기 바닥과 일치 하지 않아 좀 당황 스러웠지만 고정은 되는지라 그냥 사용합니다. 다른 분들 청소기는 거치대가 잘 맞는지 궁금하내요. 흡입력은 엄청 세진 않아요. 그래서 성격 급하시거나 깔끔하신 분들께는 비추입니다. 그러나 그런 데로 쓸 만 하고 고양이 털도 그런 데로 잘 흡입합니다. 그리고 부드럽게 잘 밀리기 때문에 천천히 하셔야 흡입이 잘 됩니다. 한 가지 아쉬운 점은 흡입 강도가 없다는 거에 요 그래서 먼지가 많이 쌓인 곳은 물 티슈로 한 번 더 닦아 내야 하는 번거로움이 있으니 이게 싫으신 분들은 흡입 강도가 있는 것을 추천 드립니다. 유선 청소기가 이 가격이면 그런 데로 만족할 만한 제품이었을 것 같아요. 하지만 무선 청소기이고 테팔 이라는 것을 감안하면 별 세 개 반 정도 주고 싶은데 반개는 안 되나 봐요. 테팔 청소기 두 번째 구입입니다. 예전 버전은 소리가 크고 무거웠는데 그 제품과 비교하면 가볍고 핸들링도 부드럽습니다. 고무줄 같은 것은 한 번에 흡입되진 않아요. 밀착되지 않으면 튕겨 나가거나 빨려 들어가지 않는 것 같아요. 특성에 맞게 요령껏 사용하면 좋을 것 같아요. 오래도록 잘 썼으면 좋겠습니다. 저희는 일단 두 제품 혼용해서 써보려고 요. 사무실용으로 구매했습니다. 이런 무선용 핸디 청소기는 너무 고가 라 20만원 대에서 뭘 사야 할지 모르겠어서 고민하다가 테팔 브랜드 이미지 생각하고 구매했는데 좋은 것 같아요. 잘 사용하겠습니다. 아직 청소는 안 해봤 찌만 잠깐 돌려본 바로는 생각보다 파워가 약한 줄 알았는데 흡입은 잘 되더군요. 밧 데리 용량을 제대로 확인 못 하고 산 게 잘못이 긴 하지만 배송 빠르고 제품 가볍고 사용하기 편합니다. 단 보조 밧 데리를 하나 더 구매해야 강 모드 이용 시 32평 정도 되는 아파트 청소가 가능할 듯해 구매할 예정입니다. 구매하실 분들은 참조하세요. 언니가 무선 청소기 하나 주문해 달라고 해서 찾아보다가 브랜드 믿고 테팔 제품 선택했어요. 처음엔 좀 더 저렴한 제품을 구매했는데 이 제품이 자꾸 눈에 아른 거려서 구매 취소하고 이 걸로 다시 주문했네요. 디자인이랑 기능 둘 다 너무 좋은 것 같아요. 거치대도 사은품으로 주고 언니가 너무 가볍고 소리도 적 고 흡입력도 좋다 고 청소기 너무 좋은 거 잘 샀다고. 좋아했습니다. 청소 기 덕분에 삶의 질이 올라갔다네요. 다음번에 제거 살 때도 테팔 제품으로 구매해야겠어요. 라이트라서 가벼울 줄 알았는데 무게는 다이 슨 과 중국가 성비 모델 중간쯤 흡입력은 좋습니다. 가격 대비 좋은 상품이네요. 먼지 통 비우는 것도 편하고요. 손 잡이 방아쇠 밑 부분을 좀 더 길게 만들었으면 좋을 듯합니다. 손가락 네 개가 들어가게 요 아무튼 가 성비 모델로는 괜찮은 모델입니다. 배송도 빠르고 제품도 가격 대비 성능이 너무 좋네요. 전에 16 만원 짜리. 써 봤는데 파워 면에서 비교 자체가 불가할 정도로 압도적으로 테팔이 좋네요. 제가 엘 지나 다이 슨 청소기를 써 보진 않았지만 이 가격에 이 정도 퀄리티의 제품을 산다면 굳이 고려해 볼 필요가 없지 않을까. 싶을 정도로 정말 마음에 듭니다. 받자 마자 조립해서 테스트 함 일단 가볍고 조용함 조용해서 청소는 잘 되나 의심했는데 먼지는 먼지 통에 많이 쌓여 있었슴 청소기 앞 헤드가 부드러워서 그동안 유선 청소기 드르륵 하면서 시끄러워서 밑에 집 시끄러울까 걱정했는데 편안하게 청소해도 될 것 같음. 어떤 청소기를 사야 하나 고민하다가 여러 가지 비교해 본 후 구입했습니다. 일단 조립도 어렵지 않아 좋았고 작동도 잘 되네요. 흡입하는 소리가 작아서 청소가 잘 되려나. 싶었는데 걱정과는 달리 흡입도 문제 없네요. 보내주신 거치대도 잘 쓰겠습니다. 감사합니다. 역시 테팔입니다. 제품 마감이나 이음새도 너무 깔끔하고 이벤트 기간이라 거치대까지 받은 게 정말 신의 한 수 인 것 같아요. 흡입력이나 사용감은 뭐 말할 것도 없고요. 진짜 저렴한 청소기도 많고 비싼 브랜드 청소기도 많지만 딱 적정선에서 모든 걸 겸비한 청소기는 이 청소기네요. 우연히 라이브 쇼핑 보다가 가격이 괜찮아서 부모님께 선물 드렸어요. 아주 가볍다고. 했지만 여느 무선 청소기 만큼의 무게라고 하십니다. 거치대가 포함된 가격이라는 게 너무 좋네요. 문의사항에 배터리 말이 많던데 오래 사용할 수 있길. 일단 조립은 어렵지 않았구요. 아직 제대로 충전해서 써보진 않았지만 다른 청소기들보다 소음은 확실히 덜하네요. 청소 기 고장으로 맨날 손 걸레질하고 있던 터라. 그닥 더러 울 꺼 없었는데도 먼지 통에 먼지가 들어 있는 거 보니 흡입력도 괜찮은 듯요. 아기가 있어서 무선 청소기가 필요했는데 마침 가격이 좋아 구매하게 되었어요. 아직 많이 사용하지는 않았지만 사용 감 괜찮아요. 소음도 심하지 않고 흡입력이 아주 강하다는 느낌은 못 받았지만 잠깐 청소기 돌리고 난 후 먼지 통을 확인해 보니 꽤 모여 있더라고요. 이틀 사용한 결과 만족합니다. 낑낑대면서 거치대 조립하고 구멍 와 꾸 잘 안 맞음 기대 반 걱정 반으로 작동했는데 그냥 쓸만해요우와는 아니구요. 저한테 제일 별로 인 단점은 머리카락이 밑에 붙어서 따라다녀요. 손으로 먼지 다 떼어 줘야 합니다. 그리고 바퀴 가 두 개 있는데 처음에 사진 보고도 모르고 사 서 갑자기 모르는 사람이랑 눈 마주친 기 분입니다. 유선 청소기만 쓰다가 고장이 났는데 방이 동 할 때마다 코드 뽑아야 하는 번거로움이 없어서 참 좋아요. 소음도 크지 않아 괜찮은데 흡인력은 생각보다 약하네요1. 단만 있다는 게 좀 아쉽네요. 강한 흡입이 필요할 때 여러 번 왕복으로 밀어야 하는 게 번거롭네요. 일단 가벼워서 너무 좋구요. 핸들링이 어 머 세상 부드럽고 각 도가 럼 청 크게 돌아 가요 거치대에 놓우며 누 자동 충정 되는 것도 너무 베리 굿 저는 너무 만족하고 다음번에도 테팔 쓸 꺼에 요 후라이팬만 테팔 쓰다가 청소기까지 너무 반했습니다. 테팔 냄비 후라이 팬 드라이기 커피포트 등 등 이번 청소기도 같은 모델 재구매에 요 고급 엘 지가 전에 비해 저렴한 가격 뒤떨어지지 않는 성능 테팔 만세 테팔 청소기 만세 근데 원래 이 가격이었나요. 똑같은 모델 전에 샀는데 조금 오른 거 같아요. 아쉽지만 머 그래도 샀어요. 대체재가 없으니까 요 테팔 만세. 무선이라 좋구요. 가벼워서 더 좋아요. 전자 유선 사용했었는데 흡입력도 비슷하구요. 먼지 비우기도 편하고 조립하기도 완전 수월해요. 충전도 간편하고 어머님이 제가 사용하는 거 보시고 원하셔서 사 드렸네요. 완전 대 만족입니다. 충분한 타 리뷰 등을 검토 가격 비교 후 주문함 20 년도 상품 세일 행사로 합리적 가격으로 판단됨 배송 예상일 주문 폭주로 인해 하루 늦어진 거 빼고 모두 만족하고 있슴 본 품 배송 이튿날 거치대까지 따로 배송 와서 잊고 있다가 한 번 더 만족함 이상. 테팔에 어 포스 360 반신 반의 하고 구매했는 대 진짜 비싼 엘지 삼성 다이 슨 살 필요 없네요. 사기 전에 유명 무선 청소기 비교 유 트 브 보고 구매 했는 대 실화 입니다. 정말 좋아요. 테팔 바닥에 잔 먼지 까지 다 쓸어 담습니다. 흡입력도 좋아요. 쇼 파 옆 작은 공간도 거치대까지 쏙 들어갑니다. 강추해요. 저희 부모님 댁과 시댁에 하나씩 선물해 드렸어요. 정말 가볍고 깨끗하게 청소되고 소음도 정말 적네요. 저희 집은 삼 비스 포크 제품을 쓰는 데 그것보다 더 좋은 느낌이에요. 부모님들께 서는 가 벼운 게 최고인 거 같아요. 기분 좋은 선물이 되어 넘 기 분 좋네요. 묵직한 청소기 싫어하시는 분 무조건 강 추합니다. 이 정도 가격에 비하면 타사 제품과 성능 흡입력 별 차이 없고 특히 타사 고가 제품과 비교시 제일 가볍습니다. 저희 집에서 사 사 제품 써 본 경험과 대형 마트에서 사 제품도 만져 본 결과 말씀드립니다. 모터가 위에 있어서 한 손 조작이 조금 힘들긴 한데 모든 무선 청소기의 단점이니 신경 쓰이진 않습니다. 매트리스나 이 불 청소 헤드가 있어서 이게 정말 좋아 요강 아지가 털이 빠지는데 매일 침대 패드 청소하니 정말 깔끔합니다. 조 립도 쉽고 흡입력도 좋아서 좋은 가격에 구매한 것 같아요. 봉 부분이나 부분 포인트 컬러는 로즈 골드에 요 참고 하세요. 이전에 장난감 같은 청소기를 써서 그런지 가볍게 느껴 지진 않아요. 그래도 다이 슨 보다는 훨씬 가벼운 것 같네요. 성능 너무 좋아요. 먼지 쓰레기 버리기도 정말 수월하고 거치대 같이 올 줄 몰랐어요. 못을 박아야 하나 했는데 거치대 짱. 엄마 먼저 사 드리고 만족스럽다고. 해서 저도 구매했어요. 무선 청소기 이 거 정말 신세계네요 밀리는 것도 부드럽게 잘 밀리고 소리도 작아서 좋아요. 가볍지는 않고 배터리 잔량 표시 없는 게 좀 아쉽긴 하지만 청소가 잘 되는 것 같아 만족합니다. 잘 쓸께요. 배송도 엄청 빨랐구요. 다양한 구성품이 있어서 좋아요. 정리하는 것도 거치대를 2가지 타입으로 선택할 수 있어서 마음에 들어요. 흡입력도 좋고 바닥에서 힘들이지 않고 밀어도 잘 밀리구요. 크리스마스 이브 날 배송이 와서 선물 받은 기분이였어요. 매우 부드럽게 잘 되요. 청소도 잘 되고 다이 슨 8 쓰다가 오래되서 바꿨는데 소음 고 적 고 가볍고 거치대까지 주는 데 가격도 착하고 반려 묘 있어서 매우 고심하다 골랐어요. 카펫에 붙은 작은 털은 발 안 빨리지만 무난하게 잘 쓰고 있습니다. 일단 구매 전에 리뷰를 꼼꼼히 읽고 다른 제품과 비교 후 구매 했는데 요 소음도 작고 파워도 좋아 먼지도 깔끔하게 흡입하네요. 다이 슨 도 청소하고 나면 곳곳에 머리카락이며 먼지가 남던데 말이죠. 다른 제품과 비교해서 가격도 너무 좋구 성능도 좋아 아주 만족합니다. 일단 디자인이랑 색상이 너무 이 뻐요. 다 슨 청소기 한참 전에 모델 사용하다가 이번에 이사하면서 청소기 바꿨는데 다 슨 굉장히 만족하면서 몇 년 동안 사용했었는데요 소리가 좀 컸는데 얘는 진짜 조용하네요 아직 많이 사용은 안했지만 흡입력은 잘 모르겠어요. 거치대 다른 분 들은 따로 배송 받으셨단 분들도 계셨는데 저는 한꺼번에 같이 왔고 배송도 빨라서 좋았어요. 타사 제품 살까 고민하다가 네이버 검색 중에 테팔 청소기를 알게 되었어요. 금액 대비 후기가 좋다는 상품평 믿고 구매했어요. 배송도 빠르고 사용해 보니 만족합니다. 단 거치대가 힘이 없고 나사도 안 맞지만 사은품으로 주신 거니 고맙게 사용하겠습니다. 좋은 가격에 잘 사용하겠습니다. 예전 쓰던 다 이 슨 이 고장 나서 전자 제품 전시장에서 비교해 보고 샀어요. 다이 슨 보다 가볍고 핸들링도 아주 좋습니다. 또 한 청 소통 부분이 믹서 기통처럼 분리 및 세척이 좋아서 아주 만족스럽습니다. 그리고 꼭 벽걸이를 안하고 바닥에 분리 설치가 가능합니다. 흡입력도 다이 슨 보다 좋은 거 같습니다. 만족하며 쓰고 있어요. 손 목이 아픈 저로 선 청소기가 가벼운 진 잘 모르겠지만 다 이 슨 을 두 손으로 잡고 써야 했던 것에 비하면 가볍다고. 해 얄 듯 머리카락이 시원하게 빨려 들어 가진 않지만 그건 장점 10가지 중에 한 가지 흠 일 정도 소음도 적어서 밤에 사용해도 무난하다 전세라서 벽에 거치하지 않았는데 저리 써도 만족. '}, {'제품명': '테팔 TY6545KL', '가격': '128,990', '평점': ['평점4', '평점5', '평점5', '평점5', '평점5', '평점3', '평점5', '평점5', '평점4', '평점5', '평점5', '평점4', '평점4', '평점5', '평점5', '평점5', '평점5', '평점4', '평점5', '평점5', '평점5', '평점4', '평점5', '평점4', '평점5', '평점5', '평점4', '평점5', '평점5', '평점3', '평점4', '평점5', '평점4', '평점4', '평점5', '평점5', '평점1', '평점5', '평점3', '평점3', '평점5', '평점5', '평점4', '평점5', '평점5', '평점5', '평점5', '평점4', '평점4', '평점5', '평점4', '평점5', '평점5', '평점5', '평점4', '평점5', '평점5', '평점4', '평점5', '평점5', '평점5', '평점5', '평점5', '평점4', '평점5', '평점5', '평점5', '평점5', '평점5', '평점5', '평점5', '평점5', '평점4', '평점5', '평점5', '평점5', '평점5', '평점5', '평점4', '평점5', '평점2', '평점5', '평점5', '평점5', '평점5', '평점5', '평점5', '평점4', '평점5', '평점5', '평점5', '평점4', '평점5', '평점5', '평점5', '평점5', '평점5', '평점5', '평점5', '평점4'], '채널': ['옥션', 'CJ온스타일', 'CJ온스타일', 'CJ온스타일', '테팔', '테팔', '11번가', '옥션', 'GSSHOP', '테팔', '테팔', '테팔', '테팔', '테팔', '테팔', '롯데ON', '테팔', '테팔', '테팔', 'GSSHOP', 'CJ온스타일', '테팔', '테팔', '테팔', '테팔', '롯데ON', '테팔', 'CJ온스타일', '롯데홈쇼핑', '테팔', '테팔', 'CJ온스타일', '옥션', '11번가', 'GSSHOP', 'CJ온스타일', 'GSSHOP', 'GSSHOP', 'GSSHOP', '옥션', 'SK스토아', '롯데홈쇼핑', '11번가', '옥션', '테팔', '테팔', '테팔', '테팔', '테팔', '테팔', '테팔', '테팔', '테팔', '테팔', 'SK스토아', '테팔', '테팔', '테팔', '테팔', '테팔', '테팔', '테팔', '테팔', '테팔', '테팔', '테팔', '테팔', '테팔', '테팔', '테팔', '테팔', '테팔', '테팔', '테팔', '롯데ON', '테팔', 'CJ온스타일', '테팔', '테팔', '테팔', '테팔', '옥션', 'GSSHOP', '테팔', '테팔', '테팔', '테팔', '테팔', '테팔', '테팔', '테팔', '테팔', '테팔', '테팔', '테팔', 'CJ온스타일', '옥션', 'G마켓', '테팔', '테팔'], '날짜': ['21.10.27.', '21.10.22.', '21.08.24.', '21.10.23.', '21.06.18.', '21.10.12.', '21.10.14.', '21.10.19.', '21.10.15.', '21.10.13.', '21.10.14.', '21.06.22.', '21.10.31.', '21.09.05.', '21.10.14.', '21.10.17.', '21.09.01.', '21.09.30.', '21.09.28.', '21.05.27.', '21.06.13.', '21.09.04.', '21.09.23.', '21.09.23.', '21.10.06.', '21.12.17.', '21.06.08.', '21.11.27.', '21.09.11.', '21.06.20.', '21.09.03.', '21.04.28.', '21.07.17.', '21.07.16.', '21.03.03.', '21.03.02.', '21.07.18.', '21.05.06.', '21.02.28.', '21.09.15.', '20.12.10.', '20.03.18.', '20.06.24.', '20.03.06.', '21.08.31.', '21.11.04.', '22.01.07.', '21.12.30.', '21.12.16.', '21.12.27.', '21.12.15.', '21.11.30.', '21.08.05.', '21.12.02.', '21.03.03.', '21.11.13.', '21.11.11.', '21.11.02.', '21.06.26.', '21.11.05.', '21.11.09.', '21.10.24.', '21.10.31.', '21.10.25.', '21.10.31.', '21.10.31.', '21.10.21.', '21.10.16.', '21.10.12.', '21.10.19.', '21.10.14.', '21.10.30.', '21.10.09.', '21.10.12.', '21.12.28.', '21.10.10.', '21.09.29.', '21.09.28.', '22.01.04.', '21.09.27.', '21.09.23.', '22.01.03.', '21.09.26.', '21.09.27.', '21.12.30.', '21.09.25.', '21.09.01.', '21.09.20.', '21.09.06.', '21.09.06.', '21.09.20.', '21.09.20.', '21.08.20.', '21.08.20.', '21.09.03.', '21.12.25.', '22.01.02.', '21.12.13.', '21.12.12.', '21.12.05.'], '리뷰': '선물했는데 좋아하십니다. 무선이 편하고 좋아요. 2년 전에 사서 쓰고 한 대 더 구입한 것인데 가 성비 갑 이에 요 기본 기능 충실 청소 간편해 좋아요. 잘 받았습니다. 거치대가 불안정한 거 외엔 괜찮습니다. 배송 빠르고 혼자 자립할 수 있어서 좋아요. 청소도 잘 됩니다. 굿. 청소는 잘 되는데 작동하자마자 앞부분 가 들어오지 않네요. 조립이 간편해서 손재주 없는 사람도 금방 사용할 수 있어요. 지인 이사 선물로 보냈어요. 마음에 든다고 하네요. 힘이 좋아요. 우리 아들이 열심히 청소를 하네요. 가 성비 좋은 거 같아요. 엄마도 좋아하세요. 저렴하게 구매해서 좋아요. 배송도 빠르고 좋아요. 흡입력이 좋습니다. 다만 약간 무겁습니다. 그러나 흡입력 좋아서 용서 합니다. 마트에서 한 번 사 서 사용 해보고 흡입력이 괜찮아서 본가에도 보 내드렸어요. 가격 대비 모터가 2개 라 빨아들이는 힘이 좋고 통 비우는 것도 간단해요. 너무 좋아요. 컴팩트 한데 흡입 럭 짱 만족도가 높아요. 두 번째 사용합니다. 사용이 간 편해요. 청소기 가격들이 넘 비싸 엄두도 못 냈는데 가 성비 너무 좋은 듯 합니다. 무겁다 댓 글 접했는데 하나도 무겁지 않고 흡입력도 좋네요. 먼지를 빨아들이는 강력함이 맘에 들어요. 근데 씽크대 밑에는 번 거러워요. 핸들링 부드럽고 흡입력도 좋아서 잘 사용하고 있어요. 좋아요. 성능도 좋고 소음도 보통 득 템햇네요. 테팔 에어 포스 라이트 무선 청소기 6545 저렴한 무선 청소기 찾다가 온 스타일에서 할인 행사하는 테팔 제품을 구매했습니다. 일단 가볍고 청소기 기능 만족합니다. 헤드가 크고 모터가 약해서 구석에 있는 아주 작은 티끌은 잘 흡수 되지 않지만 왠 만한 청소는 다 됩니다. 소음은 아주 작지는 않지만 중간 정도의 크기로 소음이 시끄럽다고. 느껴지지는 않습니다. 단점은 청소 중 헤드 부분이 자꾸 들려서 발로 밟아 줘야 한다는 것입니다. 앞 쪽에 라이트 기능이 있어서 틈새 먼지 청소 기능이 긴 하지만 청소기 통이 있어서 침대와 쇼 파 밑에 들어가지 않아 제 기능을 하지 못하는 점입니다. 한 번 충전에 우리 집 30평 대 아파트 전체 청소 가능합니다. 통 분리 후 청소도 간편합니다. 구매한 가격에 편리한 무선 청소기로써는 매우 만족합니다. 할인 가에 쿠폰 사용과 적립금 사용 가능했고 이틀 간 가전제품 적립행사가 있어서 적립금이 적립되었습니다. 박스 포장 밖에 또 포장되어 깨끗한 제품으로 잘 받았습니다. 빠른 배송도 만족합니다. 제 개인적인 의견이지만 흡입력이 삼성 유선 청소기보다는 약한 것 같습니다. 그리고 무선 청소기 처음 사용해 봤는데 생각보다 무겁네요. 집이 작 으면 10 평 이내 이 걸로 청소해도 되겠는데 집이 큰 곳 30 평 이상 에서 사용하기에는 손목 힘이 약한 사람으로서 쫌 무거워서 오래 잡고 다니기가 힘듭니다. 또한 무선이라 용이 한 점은 있지만 흡입력과 무게 때문에 잘 안 쓰게 됩니다. 그리고 약간 헤드 부분이 뻑뻑 해서 침대 아래에 밀었다 빼면 헤드가 접혀서 바닥을 청소하려면 발로 다시 눌러서 펴야 합니다. 그러나 가격적으로 저렴하기 때문에 소음 걱정이 되는 원룸이나 투 룸 같이 작은 집에서 사용 하기엔 소리도 크지 않고 청소 면적이 넓지 않아 손에 무리도 가지 않을 것 같아 적당할 것 같습니다. 추석 연휴 전에 잘 받았습니다. 코드가 없어서 사용하기 편리합니다. 헤드가 작고 좌우로 잘 움직여서 구석구석 청소하기 좋고 헤드 앞에 라이트가 있어서 먼지가 잘 보여서 좋아요. 흡입력도 좋고 생각보다 소음이 그리 크지 않아서 만족하며 사용하고 있습니다. 배송은 물량 많아 오래 걸렸어요. 유선 청소기 쓰는데 아이들이 하루에도 몇 번 씩 바닥을 어 지럽혀 간 편히 사용하려고 샀어요. 유선 비해 편리하지만 흡입력은 떨어지긴 하네요. 하지만 간단한 청소 수시로 하려고 샀고 쿠폰에 할인까지 9만원도 안 되게 사서 만족합니다. 거치대 없이도 세워 져서 공간도 적게 차지하구요 31. 평 아파트 꼼꼼이 청소하기 엔 약간 부족하지만 간단히 자주 청소하기 엔 비교적 가볍고 소음도 적어 만족합니다. 기존 동일 모델 2년 쓰다가 힘이 딸린 듯해서 똑같은 모델로 샀는데 먼지 통 비우는 게 바뀌었더라구요. 더 편해 졌어요. 새 거라. 밧 데리 힘도 좋구 청소도 그만큼 잘 됩니다. 소음도 별로 크지 않고 좋아요. 다만 구석진 곳은 안 된다는 점이 다소 아쉽긴 해요 그래도 이 가격에 이만한 청소기 찾기는 힘들 듯. 온 세일 중 행사 가가 넘 좋게 나와 바로 질러 버렸어요. 소형 무선 청소기를 사용하다 고장이 나서 평소에 살려고 봐 뒀던 테팔을 드뎌 구매했네요. 박스 포장 든든. 가볍고 흡입력도 좋아요. 청소기 없이 그냥 손으로 닦고 살았는데 청소기 한번 돌리니까 안 보이는 먼지가 상당하더라구요. 미세 먼지도 흡수된다고 해서 너무 좋았습니다. 회전도 잘 되기는 하는데 조끔 답답해서 들어서 옮기게 되는 것 빼고는 다 좋아요. 저는 이 청소기 두 번째 사용하고 있어요. 가격에 비해 성능 좋고 편해요. 3년 정도 사용 하니 밧 데리가 충전이 잘 안 되어서 이번에 새로 구매하게 되었어요. 더 좋은 것 들 도 많이 있지만 그에 비해 가격이 높으니 이건 부담 없이 사서 사용하기 아주 좋습니다. 부모님 추석 선물로 드렀여요 손목이 아프 신 터라. 요즘 나오는 배터리가 윗부분에 있는 건 타입은 무거울 것 같아 테팔로 드렸는데 바퀴가 있어 아주 부드럽고 힘도 좋고 예쁘다고. 극찬하시네요. 아주 만족스런 선물이었습니다. 없는 것 보다는 낫고 일반 청소기보단 편리하죠. 무게는 적당한 묵 직함 있고 터보로 쓰니 하루에 한 번 20 가량 사용하면 방전됩니다. 일단 헤드가 좁아서 좀 아쉽고 나머지는 분리나 필터 등 좋으네요 소음은 큰 편이지만 제가 가지고 있는 유선 청소기보단 작아요. 그리고 편리는 하고 목을 꺽어 놓으면 잘 서 있네요. 거치대 설치 필요 없이 사용한다는 게 좋았습니다. 다른 무선 청소기도 비교 많이 했었는데 자취하는 저로써는 부속품이 많은 것보다 간편하고 실용성 위주로 사려고 했습니다. 그리고 전반적으로 디자인도 심플하고 공간 차지를 많이 안합니다. 무선이라 간편하게 사용할 수 있다는 점도 만족 습니다. 데 팔 에어 포스 무선 청소기 가격이 괜쟎 고 빨아 드리는 힘도 좋내요. 구매 전 상세 설명을 잘못 봐서 잘못 샀어요. 내가 원했던 건 분리돼서 청소도 되는 건데 침대나 가구 밑에는 청소가 힘드네요. 다음 부터는 잘 보고 사야 겠어요. 일단 가격이 저렴해서 두 개를 구매는 했는데 후 기가 별로 여서 불안불안 합니다. 하지만 2년 전에 같은 제품 사서 사용하다가 불량 나서 센 테에 문의 했더니 새 상품으로 교환 해 주더라구요. 가격 성능 까지 괜찮아서 재구매 한 만큼 이번에도 큰 문제 없음 합니다. 장점 무선이라 구석구석 청소 할 수 있고 흡입력 좋아요. 흡입력 강 약 조절 할 수 있어요. 단점 개개인의 차이겠지만 무거워요. 청소할 때 팔이 아파요. 충전시간 오래 걸리고 배터리 진짜 빨리 없어 져요. 한번 충전하고 청소기 강으로 한 번 돌리면 배터리도 끝 청소기 돌리고 충전기로 계속 충전하면 상관 없을 듯 해요. 첨엔 배터리 너무 빨리 없어 져서 불량 인 줄 알았는데 설명서 보니 사용 시간 약 30분 강 13 분으로 되 여 있는 거 보니 불량은 아닌 듯 해요. 자동으로 세워 져서 좋구용. 무선 처음 사용해 보는데 넘 편하네영. 딱 달라붙어 있는 건 안 빨아들여 져도 먼지나 머리카락 정도는 다 빨아들여 용 소음이 좀 있는 편인데 원룸에서 사용해서 조금만 사용하기 때문에 상관없구용. 앞에 불빛이 나와서 더 편한 거 같애용 잘 쓰겠습니당. 정말 만족스럽습니다. 청소기로서의 기능은 모두 제대로 수행하는 착 한 청소기입니다. 약간의 소음은 감수할 정도이고 뒷정리도 간편합니다. 쓰레기 저장 통 한 번씩 비우고 씻어 주면 한동안은 깔끔하게 사용할 수도 있고요. 구매 강추. 구매한 지 2 달이 좀 되었습니다. 처음부터 빨아들이는 힘이 좀 약해서 이상했는데 오늘은 작동이 멈췄습니다. 구매하고 청소기는 대략 35 회 정도 각각 15분 내외로 사용했습니다. 처음부터 배터리 불량품을 보내준 것 같습니다. 환불 처리해 주거나 혹은 교환해 주세요. 가 성비 만족합니다. 소리가 크다는 후기들이 몇몇 보여서 얼마나 클까 걱정했는데 저희 집은 여태 썼던 청소기들 중 소리가 제일 작은 것 같네요. 물론 소파 등 가구 아래까지 는 청소할 수는 없지만 웬만한 먼지 흡수는 다 되는 것 같습니다. 저는 가 성비 만족입니다. 데 팔 무선 청소기가 좋다고. 해서 구입했는데 아무리 수입 제품이라고 해도 한 글 설명서 한 자도 없다니 온통 아랍어 같은 글 기본 적인 설명서는 요즘 동봉 되어 있다고. 알고 있는데 고객센터에 문의해도 자세히 모른다 하시니 해결은 했지만 설명 가서 있다면 아쉬운 점 이네요. 배송 받고 작동되기에 구매 확정햇더니 충전이 안 되 서 판매자에게 문의 하니 답변도 느리고 구매자에게 서비스센터가 서 확인 받아 오라 구매 사이트에 반품 요청하라 초기 불량 물건 받아서 불편한 데 뒤 처리를 구매자에게 떠넘기는 건 아니라고 봅니다. 많이 불쾌합니다. 적립금이 있어 기분 좋게 구매했습니다. 청소 기 이름에 라이트가 왜 있나. 했는데 진짜 가볍습니다. 손목에 부담이 전혀 없네요. 특별한 노즐이나 기능이 없는 딱 기 본 청소만 잘하는 청소기를 찾고 있었는데 딱 좋습니다. 잘 쓰겠습니다. 대 박이 가격에 이 좋은 걸 샀어요1. 가볍다 2 힘 좋다 3 스택 드형 태라 별도 거치대 없어도 된 다 4 가격이 부담스럽지 않다 5 기존은 위쪽이 무거웠는데 그렇지 않아 사용할 때 손목 무리 없음 다이 슨 10 사용 중입니다. 기존 테팔은 임시용이었는데 이번에 산 테팔은 메인이 될 거 같아요. 조립이 엄청 간단하고 충 전이 살짝 되어 있어서 바로 돌려 봤네요. 소음은 아주 크지도 작지도 않고요. 흡입력은 보통이에요. 초코 과자가루 바닥에 살짝 붙은 건 잘 못 빨아들이고 머리카락이나 먼지는 잘 흡입해요. 무엇보다 엄청 가 벼워 좋네요. 가성 비 훌륭해요. 빨간색 쓰다가 배터리 교체할 때도 된 것 같고 배터리 값도 비싸서 그냥 새 걸로 주문했는데 검정색이라 새롭네요. 우선 두개 놓고 사용하면 더 편리할 것 같네요. 거치대도 필요 없고 좋습니다. 여기가 젤 저렴 무지 가격 차이나네요 가격이 더 떨어졌군요. 이럴 수가 그렇게 나 많이 억울. 좋아요. 불도 들어오고 물 히 고 회 전해서 침대 안쪽도 청소할 수 잇고 잘 쓰겟습니다. 저렴하게 잘 샀습니다. 근데 생각보다 힘은 약해요. 무게 중심이 아래에 있어 가볍게 느껴지고 혼자서도 잘 서 있네요. 먼지 통이 생각보다 커서 자주 비우지 않아 편리하지만 조금 작아도 좋을 듯 색상도 깔끔하고 다 좋은데 충전기 꽂는 게 쬐끔 불편하네요. 덜 그럭 소리 엄청 나요. 소음이 커요. 거치대 없이 잘 세워 집니다. 흡입력도 나쁘진 않아요. 생각보다 파워 쌔서 좋아요. 목이 잘 꺽여서 살짝 불편 아랫집에서 기계소리 어 마 무시하게 난다고 문에 쪽지 써 붙임 나는 가격대 비 만족. 간단한 청소하려고 샀어요. 흡입은 유선에 비해 좀 약하지만 아이들 때문에 수시로 간편하게 청소할 수 있어 좋네요. 자리 차지도 안 하구요. 이사 가면서 새로 운 청소기 구매로 사 봤어요;. 아직 안 써 봤지만 배송은 빠르구 좋아요. 사은품도 감사합니당. 배송도 빠르고 쓰던 제품 다시 구매했어요. 가격대에 비해서 흡입력 맘에 듭니다. 부모님 유선 청소기 끌고 다니기 힘드셔서 심사숙 고 끝에 선물해 드렸어요. 앞부분 들리는 건 세우지 않는 이상은 문제 되지 않아요. 잘 쓸 것 같아요. 자취생들에게 좋은 듯해 요소음도 보통이고 잘 되 여 아주 혼자 잘 세워 지 고 너무너무 좋아욤. 강약 조절 할 수 있는데 늦은 시간에 집 들어올 때 약으로 돌리면 소음이 아주 작아서 급할 때 쓰기 좋아요. 배송이 엄청 빨라요. 기존 쓰던 제품이 베 터리 고장으로 구매했는데 오래 사용했으면 좋겠어요. 할인 받아 타 사이트보다 저렴하게 구입 농장 컨테이너에서 사용 중인데 가볍고 쓰기 편해요. 추천. 청 소통 비우기 간편해서 좋아요. 자취생에게 딱. 음 배송도 빠르고 조립도 간단 해용. 배송도 빠르고 이상 없는 제품으로 잘 받았습니다. 무게감도 많이 느껴지지 않고 머리카락이나 먼지 등도 잘 빨아들이네요. 고장 없이 오래도록 잘 사용했으면 좋겠네요. 완전 흡입력 좋아서 먼지 다 빨아들이고 밑이 막대기 빼서 머리카락 뺄 수 있어서 평해요. 앞에 고개가 돌아가서 침대 아래 밀 때 불편한 거 빼곤 좋네요. 흡입력도 좋고 디자인도 깔끔하고 만족도 높아요. 두 번째 구매했는데 완전만 족해요. 배송 빠르고 포장 꼼꼼 해요. 가 성비 좋아요. 사용 시간이 짧아 고민했는데 청소해 보니 그리 짧지 않네요. 거치대 없이 세워 둘 수 있어 더 좋고요. 동일 모델 레드 제품 3년 쓰니 성능이 떨어 지 내 여 베 터 리 교환해야 할 듯 싶은데 가격이 새 제품 쓰는 게 더 이득이 내 여 그래서 이번엔 블랙으로 구매. 디자인 고급 지고 가격 착하고 써보고 선물하느라 4 개째 구매입니다. 다들 촣아하네요. 처음 써 보는데 다시 재구매 글이 많아서 결정했습니다. 평일 간단히 청소할 목적으로 산 거라. 만족합니다. 항상 잘 쓰고 잇어요. 필터 청소 물로 하고 말리고 잇어 옹. 소리가 다소 큰 거 외에는 만족합니다. 좋은 제품 빠른 배송 감사합니다. 좋아요. 맘에 들어요. 단지 소리는 조금 큰 것 같네요. 거치는 단독으로도 가능하네요. 추천합니다. 굿 굿 굿 좋긴 한데 그냥 저냥. 재구매 할 정도입니다. 가볍고 청소 잘되고 소리 먼 조금 더 적으면 좋겐습니다. 가격도 마음에 들고 품질도 좋아요. 이 전 도면 가격 대비 쓸 만 합니다. 와 가 성비 값 이에 요 다른 비싼 무선 청소기에 비해 가볍고 흡입력도 결코 밀리지 않아요. 너무 만족스러워요. 밧 데리 완전 빨리 닳아요. 제조일 안 적혀 있을 때 의심했어. 야하는데 재고 떨이인 기분이 드네요. 빠른 배송 감사합니다. 사업 번창하세요. 테팔 무선 청소기 집에서 쓰고 있어요. 그래서 부모님 댁에 선물했습니다. 오 래 잘 쓰셨음 좋겠어요. 제가 사용하고 있는 거 사진 첨부했어요. 자취생에게 적극 추천 해요 먼지 통 비우기도 쉽고 흡익력도 좋아요. 한 달 샤용 후기입니다. 잘 돌아가고 어른 신분이 쓰기에도 좋아요. 가격 대비 품질도 좋고 좋은 것 같아요. 가격 대비 대 만족입니다. 잘 구매한 것 같아 요. 굿 굿 굿 너무 좋아요. 가 성비 값인 듯합니다. 아직 써 본진 않았지만. 배송 빨라요 청소기도 잠시 사용해 봤는데 흡입력이 좋네용. 엄마도 사야 한다고 하셨는데 추천해 드려야겠어요. 명절과 겹쳐 늦은 배송 예상했는데 빨리 도착했어요. 감사합니다. 사용해 본 제품이라 망설임 없이 구매했습니다. 좋지만 쓸 때마다 흡입되는 부분이 자꾸 들려요 그리고 빨리는 부분이 회 저 을 해서 걸린 머리카락을 제거하 기가 히 듭니다. 강아지를 키우니 털 때문에 청소를 자주 해야 되 서 구매 쌨습니다. 복잡하고 다기능 대신 심플한 본 제뿜이 딱 입 니다가 성비 최고. 힘도 너무 좋고 그동안 이 가격대 청소기 전부 고장 나거나 해서 버렸는데 오래 썼음 좋겠네요. 매번 발로 앞에 꺾이는 거 잡아 주는 거 빼곤 최고입니다. 구석진 곳에는 라이트 때문에 머리카락 먼지 잘 보여서 좋아용. 정말 최고입니다. 가격도 저렴하고 대 만족입니다. 특히 우리 엄마 정말 만족한다고 좋아하십니다. 빠른 배송 감사합니다. 무게가 적당하고 디자인 예뻐요. 간단히 청소하기에 괜찮습니다. 모두 굿 사용이 특히 편 함가 성비 짱 메인 청소기 보조로도 딱. 소음이 좀 있긴 해요. 먼지 통 분리도 쉽고 만족합니다. '}, {'제품명': '테팔 TY6543KL', '가격': '139,000', '평점': ['평점5', '평점5', '평점5', '평점5', '평점5', '평점5', '평점4', '평점5', '평점5', '평점5', '평점5', '평점5', '평점4', '평점5', '평점5', '평점5', '평점1', '평점1', '평점4', '평점5', '평점5', '평점5', '평점4', '평점5', '평점5', '평점5', '평점3', '평점4', '평점2', '평점4', '평점5', '평점4', '평점5', '평점5', '평점5', '평점4', '평점5', '평점1', '평점5', '평점5', '평점5', '평점5', '평점2', '평점5', '평점5', '평점5', '평점5', '평점5', '평점4', '평점5', '평점4', '평점5', '평점5', '평점5', '평점5', '평점4', '평점5', '평점5', '평점5', '평점4', '평점4', '평점4', '평점4', '평점4', '평점4', '평점5', '평점5', '평점4', '평점5', '평점5', '평점3', '평점5', '평점5', '평점4', '평점4', '평점5', '평점5', '평점5', '평점2', '평점5', '평점5', '평점5', '평점3', '평점5', '평점4', '평점4', '평점4', '평점5', '평점5', '평점4', '평점4', '평점5', '평점5', '평점4', '평점5', '평점4', '평점5', '평점4', '평점5', '평점4'], '채널': ['YGGlobal story', '11번가', 'GSSHOP', 'GSSHOP', 'GSSHOP', 'G마켓', 'GSSHOP', '현대Hmall', '현대Hmall', 'GSSHOP', 'GSSHOP', 'GSSHOP', 'GSSHOP', '현대Hmall', '현대Hmall', '현대Hmall', 'GSSHOP', 'GSSHOP', '옥션', '현대Hmall', '현대Hmall', '현대Hmall', '현대Hmall', '현대Hmall', '현대Hmall', '현대Hmall', 'GSSHOP', 'GSSHOP', 'GSSHOP', '옥션', 'GSSHOP', '11번가', '현대Hmall', 'GSSHOP', 'GSSHOP', 'GSSHOP', 'GSSHOP', 'GSSHOP', '현대Hmall', '현대Hmall', '현대Hmall', '현대Hmall', 'GSSHOP', '현대Hmall', '현대Hmall', '현대Hmall', 'YGGlobal story', 'YGGlobal story', 'YGGlobal story', 'YGGlobal story', 'YGGlobal story', 'YGGlobal story', '김 초 특 가', 'GSSHOP', '김 초 특 가', 'GSSHOP', '현대Hmall', 'GSSHOP', 'GSSHOP', '김 초 특 가', 'GSSHOP', 'GSSHOP', 'GSSHOP', 'GSSHOP', 'GSSHOP', '옥션', 'GSSHOP', 'GSSHOP', '김 초 특 가', 'GSSHOP', '김 초 특 가', 'GSSHOP', 'GSSHOP', 'GSSHOP', 'GSSHOP', 'GSSHOP', '현대Hmall', 'GSSHOP', 'GSSHOP', 'G마켓', 'GSSHOP', '김 초 특 가', 'GSSHOP', 'GSSHOP', 'GSSHOP', 'GSSHOP', 'GSSHOP', 'GSSHOP', 'GSSHOP', 'GSSHOP', 'GSSHOP', 'GSSHOP', 'GSSHOP', 'GSSHOP', 'G마켓', '옥션', 'GSSHOP', 'GSSHOP', 'GSSHOP', 'GSSHOP'], '날짜': ['21.07.07.', '20.08.06.', '19.09.03.', '19.12.10.', '19.07.03.', '19.09.20.', '20.01.22.', '19.11.03.', '19.08.14.', '19.08.25.', '19.10.22.', '19.09.12.', '19.10.19.', '19.08.14.', '19.08.14.', '19.08.14.', '19.09.29.', '20.02.05.', '19.09.06.', '19.08.14.', '19.08.14.', '19.08.14.', '19.11.14.', '19.08.14.', '19.08.14.', '19.08.14.', '19.10.09.', '19.10.12.', '19.10.25.', '19.10.31.', '19.08.28.', '19.10.01.', '19.08.14.', '19.09.10.', '19.08.22.', '19.07.24.', '19.09.05.', '19.12.20.', '19.01.22.', '19.08.14.', '19.02.12.', '19.02.08.', '19.03.24.', '19.02.08.', '19.02.08.', '19.01.22.', '21.11.09.', '21.08.28.', '21.11.25.', '21.11.03.', '21.11.07.', '21.07.17.', '20.06.05.', '20.02.03.', '20.06.15.', '20.01.24.', '20.01.08.', '20.01.23.', '20.02.16.', '20.06.16.', '20.01.23.', '20.02.02.', '20.01.26.', '20.02.02.', '20.01.31.', '19.08.14.', '19.12.28.', '19.11.16.', '20.05.04.', '19.12.19.', '20.05.03.', '19.12.13.', '19.12.28.', '19.10.19.', '19.11.08.', '19.12.03.', '19.11.26.', '19.12.10.', '19.12.06.', '19.10.07.', '19.11.09.', '20.03.31.', '20.02.04.', '19.11.23.', '19.12.19.', '19.10.11.', '20.02.18.', '20.02.19.', '20.02.16.', '19.11.09.', '20.02.06.', '20.02.15.', '20.02.15.', '19.11.22.', '19.10.11.', '19.11.03.', '19.10.11.', '20.02.04.', '19.11.02.', '20.02.15.'], '리뷰': '기존 청소기 다이 슨 꺼랑 두 개 쓰구 잇엇 는 데 다이 슨 이 바 테리 수명이 다 되어서 가 벼운 걸 찾다가 리뷰 평보구 테팔 거 구매 해봣네요 아주 만족 합니다. 청소한 후라 30초 정도 돌려 밧는데 사진처럼 먼지가 흡입되어 놀라 웟어요 잘 구매한 듯 비싼 거 다 필요 없네요. 가볍고 흡입력 좋으면 쵝 옵니다. 기존 유선 청소기 헤드가 파손되어 무선으로 어떤 것을 구매할까 하다가 속는 셈 치고 구매 했는데 헤드가 부드럽게 움직여 청소도 힘들지 않고 잘 되요. 요즘 새로 나오는 청소기는 모터가 윗부분에 있어서 손목에 부담이 되었는데 시골에 있음 본 제품은 손목에 무리 없이 편하게 청소할 수 있고 보관 시 공간을 많이 차지하지 않아 너무 좋아요. 흡입력도 좋고 무지 편해요. 유선 청소기 끌고 다니고 할 필요 없이 정말 편해요. 우연히 타 방송 홈쇼핑에서 판매하던 테팔 청소기를 보고 집 청소기로 쓰려고 구매를 했어요 10. 년 전쯤 사 용 하 테팔 청소기보다 가격이 훨씬 저렴해서 큰 기 대 않고 구매했는데 기 대 이상이 예요 악세사리 하나 없이 오로지 바닥 청소만 가능한 데 일단 가볍고 흡입력 나름 괜찮고 제일 맘에 들었던 건 쓰레기 모이는 통이예요. 여지껏 쓰던 청소기들은 쓰면 쓸수록 먼지들이 먼지 필터 쪽에 달라 붙어서 흡입력이 떨어지고 자주자 주 씻어 주지 않으면 냄새도 나 고 완전 짜증이었어요. 근데 이번 테팔 청소기는 먼지들이 통 아래 부분에만 몰리고 필터 근처엔 아예 가지를 않아서 흡입력이 떨어질 염려도 없고 청소하고 뚜껑 버튼 누르면 아래로 깨끗이 쓰레기가 내려가니까 냄새가 나 지도 않 고요 그래서 여기저기 뒤지다. 홈쇼핑에서 공부방에서 쓸 청소기를 하나 더 장만 했어요. 첨 샀던 가격보다 훨씬 저렴하게 요 집에서도 공부방에서도 넘 편히 잘 쓰고 있어요. 동영상은 못 올리겠네요. 병원에서 유선 청소기 엄청 큰 거 쓰고 있는데 아침마다 청소하기 너무 힘들어서 원장님이 무선 청소기 하나 사라 해서 보다가 예전에 테팔 꺼 썼던 기 억이 있어 폭 풍 검색했어요. 예 전 썼던 거는 파워도 좋고 흡입력도 좋았는데 좀 무거운 감이 있었어요. 근데 요건 둘 다 만족하면서 전 꺼보다 무겁지도 않아요. 만족하며 잘 쓰고 있어요. 파워 면에서는 확 실이 유선보단 못하지만 병원에 그렇게 먼지가 많은 편도 아니고 아니 좋아요. 일단 가격이 부담 없고요. 디자인 완성도도 훌륭합니다. 고급스런 느낌이 철철 납니다. 테팔이라고 해도 가격이 워낙 저렴해서 긴가 민가 했는데 마음에 들어요. 요란한 거치대 필요 없고 아무데나 세워 놓을 수 있는 게 너무 좋고 필터 뿐만 아니라 먼지 통 자체가 분리 되는 것도 너무 좋아요. 분리 방법도 간 딘 하고 소음 또한 약으로 사용할 때는 소프트 하고 좋습니다. 단 한 가지 부족한 점은 많이 혀 지지 않아서 침대 밑 구석구석은 안 되고 여러 가지 흡입구 옵션이 없는 것인데 그것은 감수할 만 합니다. 가성 비 좋은 청소기를 원하신다면 적극 추천 해요. 거치대 필요 없이 자체 스탠딩 되는데 그 럴려면 무게 중심이 아래쪽에 있어야 해서 먼지 통이 아랫부분에 설치된 듯 한데요 침대 아래 틈이나 거실 장 아래 틈 좁은 곳에는 먼지 통 때문에 진입이 안 되는 단점이 있구 용 작고 귀엽고 아 담 사이즈에 바 뀌가 잘 굴러 가져서 무게 감은 크게 느껴 지진 않습니다. 충전 칸이 보여 져서 완충 됐는지 알 수 있고 사용할 때도 칸이 줄어들어서 확인 가능한 점 어두운 부분에서 빛이 비춰 주니 먼지 있는 곳 잘 보여 집니다. 창틀이나 문틈 먼지 흡입이 되는 작은 부품이 포함되 서 탈부착 기능 있었음 하는 아쉬움은 있네요. 첫째 조립은 간단하고 도라 이 버 필요 둘째 버튼이 쉽게 잘 눌러 짐 살짝 만 건들여도 셋째 소음이 많이 아주 많이 큼 아 랫 층 눈치 보임 넷째 흡입은 괜찮은 대 옆에 바퀴에 뭍 음 다 서째 사용 후 세워 놓을 수가 없어서 틈 사이에 그래도 가 성비 생각하면 괜찮아요. 포인트가 있어 산 가격에 구입을 하여서 좋았고 상품평을 보고 흡인력 때문에 고 민를 많이 했는데 받자마자 충전하고 사용을 해보니 흡인력은 생각보다 괜찮은 것 같고 단점은 청소하다가 앞이 들려서 한 번씩 내려야 되고 앞쪽이 안 구부려 져서 소파 밑이나 서랍 장 밑을 청소할 때는 불편했어요. 그래도 집에 청소기 있는데 무선이라 편리하게 사용할 수 있어서 좋아요. 가격 대비 맘에 들어요. 배송 모 거의 24시간 만에 배송되구요. 가벼워서 좋고 성능 흡인력 좋고 소음도 심하지 않아서 맘에 듭니다. 쉽게 조립해서 청소기 돌려본 결과 생각했던 것보다 더 맘에 들어서 고민하닐는 분들께 추천합니다. 청소기가 몇 개나 있지만 소음 소리가 심해서 안 쓰고 버리거나 방치했는데 테팔 청소기는 정말 마음에 듭니다. 충전 지속 시간과 사용 가능 한 시간이 문제 되 드라도 가격 대비 약간의 불편함은 감수 할 수 있으 니 만족 스럽니. 다. 다이 청 소기 갑자기 멈춤 배터리 교환 때가 된 듯  배터리 비용이 조금 있어서 상품평이 좋은 테팔로 10만원 대 정도 성능을 긴가 민가 하면서 구입 오래전부터 일 몬스  그리고 다이 까지 사용함 그 중 제일 가볍고 거치대 필요 없이 셀프 스탠딩 흡입력 좋고 ♡ 청 소통 비우기 쉽고 그러나 본체 재질은 고급스럽지 않고 그 외 보조 툴은 없지만 요즈음 무선 청소기 가격대가 워낙에 고가  딱 무선 청소용으로는 가 성비 굿♡. 상품평이 좋아서 구매해 는 데 고가 사양은 아니 여도 쓸 만 합니다. 무게감은 조금 느껴지지만 무선이라 이동하기 좋고 강도를 약으로 하고 써도 잘 빨려 들어가네요. 카펫 청소도 수월하고 흡입구가 가끔 씩 들리기는 해도 사용하는데 큰 문제점은 없네요만 족합니다. 택배 배달 친절하게 이쁘게 두고 가셨구 여 주문하고 다음날 바로 왔습니다. 포장도 2 중으로 깔끔하게 포장해 주시 구 여 다 좋은데 가격도 싸고 할 일도 해 주시고 사용해 보니 잘 빨려 들어가는데 소리는 쓰다 보면 적응하겠죠. 삼성 청소기를 너무 오래 쓰다 보니깐 자꾸 뜨거워서 주문했어요. 이건 충전하고 바로 편하게 쓸 수 있더라구요. 특히 선이 없어서 첨엔 어색하지만 계속 써 보니 아주 편안하게 잘 쓰네요. 색깔도 넘 이 뻐요. 와 인색이라 넘 맘에 드네요. 먼지 통도 투명이라 좋쿠 여 바로바로 씻어서 사용 하니 좋습니다. 상품평에 보니 무겁다 하는데 팔 힘이 약한 사람한테 는 무겁다 생각 들 거 같구 여 팔 힘이 좋은 사람은 그다지 무겁지는 않은데 전 선이 없어서 젤 맘에 드네요. 잘 쓸께요. 감사합니다. 물건 빨리 보내주셨서. 처음 배송 오자마자 상자를 뜯어보고 실망 아 무리 라이트라지만 이 가격에 구성품이 달랑 충전 밧 데리 선 한 개 거기에다 청소하는데 웬 터보 오토바이 굴러가는 소음 데시 빌에 모터가 서로 닿는 소리가 나서 반품했습니다. 역시 입니다. 바로 맞교환 새로 온 제품은 소음이 적어 맘에 드네요. 구성품에 조금만 신경 음 해서 별 하나 뺐습니다. 이것저것 알아보다가 가격들은 비싸고 해서 우연한 기회에 테팔 꺼를 봤습니다. 젓 번째로 가격이 저렴해서 마음에 들 고요 두 번째는 디자인이 맘에 들어요. 무게도 안 무겁고요. 다만 밧 데리만 땅 충전하고 사용하면 방 두 개하고 나면 절반이 없어 지네요 나만 그런 건지 그래도 만족합니다. 제품은 디자인도 이 쁘고 색상도 맘에 들어 요기 존 타사 제품보다 성능도 월등 하고 강으로 하면 시간이 좀 짧아서 아쉽긴 한데 강약으로 요령껏 조정하면서 하면 충분히 청소가 다가 능하고 약으로만 청소해도 어 지간한 건 다 빨아 드리고 시간도 넉넉하게 청소할 수 있어서 좋네요. 다만 배송이 좀 아쉬웠습니다. 밸 도 안 누르고 문 앞에 놓고 간 것까진 괜찮은데 옆집 문 앞에 다 놓고 확인도 안하고 무책임하게 그냥 배송 완료 문자만 남겨 주셔서 그게 좀 아쉽네요. 흡입력은 솔직히 기대했는데 물건 받자마자 사용해 보니 흡입력 완전 만족입니다. 도 활용도 좋으네요 꼭 어두운 곳이 아니어도 더 밝게 비춰 주니 더 꼼꼼 하게 쓸 수 있을 것 같아요. 무게도 가 벼워서 청소하는 동안 크게 힘들지 않을 것 같습니다. 저렴하게 아주 잘 산 것 같아 매우 만족합니다. 일렉트로 룩스 사용하다 배터리 교환하느니 새 제품 사서 2년 정도 쓰면 될 정도로 해서 알아본 테팔입니다. 그러니 비교 대상은 일 렉으로 해서 평 쓰겠습니다. 삭 상은 짐작하고 산 거지만 좀 촌스럽습니다. 감안하시구요. 제일 큰 문제는 청소기 헤드가 자꾸 들려서 수시로 눌러 줘야 하고 핸들링 최악입니다. 일 렉트로 룩스 사용하다 테팔로 바꾸려는 분들에 겐 이 핸들링 부분에서 절대 비추입니다. 흡입력은. 다이 슨 도 사용해 보고 비슷한 가격대의 저렴한 제품들도 사용해 봤지만 아무리 싸다 해도 정말 최악이네요. 보조적으로 사용하려 구매했는데 사용하기에 너무 불편해요. 소리며 진동이며 핸들링이며 이 걸로 청소하다 스트레스 받아서 그냥 다른 제품 다시 구매했습니다. 1 단은 상당히 약해서 과 연 청소의 의미가 있을지 의문이에요. 2 단은 그나마 쓸 만 해요. 10 분 안에 청소를 끝내야 한다는 말이죠. 카페 트 청소하려고 샀어요 9 카펫 노즐보다 더 싸서 청소 길 또 샀네요. 셀프 스탠딩 기능이 청소를 하는 중엔 좀 걸 치적거리는 기능이네요. 청소 중 수직으로 세워 지게 되면 스탠딩 기능이 걸려서 자꾸 노즐을 발로 풀어 줘야 해요 먼지 통이 엄청 커서 좋아요. 정말 가볍구요. 2개의 모터에 강 모 브러시로 촘촘 튼튼하니 카페 트 청소에 딱이에요 틈 새 노즐 하나 정도는 있었으면 더 좋았겠어요. 필터는 하나 더 사야겠어요. 다이 슨 이나 코드 제로 사고 싶은데 비싸서 가격 떨어지기 기다리던 중 이렇게 좋을 수가 충전도 빨리 되고 무겁지도 않고 공간 차지도 안하고 대 만족 후회 없어요. 백만 원짜리 하나 안 부럽네요. 빠른 배송도 감사 드립니다. 청소가 즐거워 지네요. 좋은 가격에 잘 구매했습니다. 어머니가 청소 기가 무거워 선을 끌고 다니기 힘들다고. 하셨었는데 때 맞춰 방송을 해서 구매해서 보내. 드렸는데 벌써 도착했다고. 해서 놀랐습니다. 포장 풀어 작동해 보니 가볍고 성능도 좋은 거 같습니다. 7 배 더 주고 산 유명 외국 브랜드 청소기보다 가격 차이 만큼 성능은 더 좋은 거 같습니다. 강추합니다. 기존에 사용하던 청소기 소음이 너무 커서 주문했는데 소음이 없진 않으나 시끄러운 정도는 아닙니다. 흡입력도 아주 좋은 건 아니고 보통이 예요 디자인은 예쁘네요. 전반적으로 가격 대비 괜찮습니다. 고장 없이 오래 쓰면 좋겠네요. 현대는 잘 될 듯 보면 좋은 물건 최저가로 들어오면 현대. 청소기는 놀랍게도 3월부터 알아보다가 가격과 브랜드 따지다 보니 이 품 번을 외울 지경까지 됐음 소음 이 정 도면 엄청 큰 거 같지도 않고 당연히 홀로 잘 서 있을 수 있고 청소할 때 불도 들어와서 청소에 용이 한 듯 디자인이나 무게나 브랜드나 만족 추천. 무선 청소기를 사고 싶어 계속 알아보던 중 방송을 보고 바로 구매하게 되었어요. 상품평도 좋고 가격도 맘에 들어 주문 배 송도 담 날에 도착해서 램프 3개 상태로 충전 중에 시험 삼아 해보니 너무 잘 되네요. 흡입력 짱 레드 색상도 완전 맘에 들어요. 요거 요거 대박이에요. 가 성비 값이 요 청소기 필요해서 여기저기 알아보는데 넘 비싸서 망설이 다가 현대 홈쇼핑 테 펠 청소기 보고 바로 주문했어요. 아주 성능도 좋고 무지 무지 맘에 들어요. 무거 운 건 이제 싫어요. 무조건 가벼운 게 좋아요. 디자인도 깔끔해요. 예전 것에 비해 훨씬 가볍고 청소도 잘 됩니다. 헤드에 라이트 기능이 있어서 잔 먼지 확인도 쉽고 가격도 착해서 맘에 듭니다. 브러시와 필터 청소도 아주 간단하고 쉽습니다. 주변에 강 추 하고 싶은 상품입니다. 작동시간도 생각보다 짧지 않아요. 처음으로 별 3개합니다. 무선이라는 거 빼고 별로 입니다 후회스럽지만 사용해서 어쩔 수 없이 씁니다. 소리는 생각보다 괜찮지만 결정적으로 흡입력과 바닥을 쓸 때 드르럭하는 롤 2개가 돌아가는 플라스틱 소리나 요 아래층 눈치 보여서 잘못해 요소리라는 상품평이 이 소리였던 것을 써 보고 압니다. 테팔은 프라이팬만 구매하는 것이 좋겠어요. 배송 엄청 빨라 좋았구요. 사용해 보니 조립도 넘간단 하고 사용 무게 감도 괜 찬 씁니다. 다만 소음이 무선 치고는 크네요. 티비소리가 잘 안 들릴 정도 이네요. 그렇지만 흡입력은 이 정 도면 괜찬고요. 가격이 넘착해서 좋아요 잘 쓰겠습니다. 3년 넘게 테팔 무선 하다 이번에도 좀 더 저렴하지만 상품평이 좋어서 주문했는데 청소기 헤드가 자꾸 들리고 청소가 깔끔하게 안 되요. 밧 데리 수명이 긴 것 같아 타 제품 사려다. 다시 테팔 샀는데 아무리 싼 가격이라도 가 성비 따지면. 청소기 성능은 좋은 거 같습니다. 다만 하자 품이 배송되어 교환 신청 및 옥션에 연락하는 등의 시간과 노력이 필요했기에 안타깝습니다. 처음 연락은 새 제품 교환이 아니라 하자 품을 가져가서 확인 후 새 제품 교환이라 하여 소비자에게 책임을 먼저 떠넘기려는 의도를 느끼게 하여 불쾌하였습니다. 결국 새 제품으로 맞교환을 하긴 하였으나 불필요한 에너지를 소모한 거 같아 아쉽습니다. 가격도 저렴하고 색상 이쁘네요. 홈쇼핑 방송보다 모터 2개에 가볍고 흡입력 좋다 해서 여기저기 찾아보다. 에서 구입하게 되었어요. 받자마자 조립해서 청소기 돌려 봤는데 진짜 흡입력 좋네요. 그리고 충전 다 되면 자동으로 불이 꺼지네요. 잘 쓸께요. 엄마가 힘들어 해서 간편하게 쓸 수 있는 제품을 찾다가 구매했는데 소리는 살짝 크지만 성능은 괘 안네요 세워서 보관하는 게 편하고 무게 감도 적 당합니다. 먼지 통도 ？ 蹈？ 버릴 수 있어 편리한 데 분리가 안 되는 점이 살짝 아쉽네요. 주문 다음날 배송 받았구요. 생각보다 소음도 작고 가볍습니다. 가성 비 대비 굿이네요. 레드로 주문했는데 디자인도 굿입니다. 쇼 파 밑 청소는 어려워서 유선 청소기하고 병행해서 이용할 생각입니다. 좀 더 써 보고 괜찮으면 하나 더 구입해서 부모님께 보내. 드릴 생각입니다. 번창 하세요. 로봇 청소기 사용 중인데 서브로 하나 추가 구매했어요. 머리 감은 후 타월 드라이나 드라이기 사용 후 많이 빠진 머리카락 등 먼지 흡입구에 램프가 있어 약간 어두운 곳에서도 잘 보여 요충 전도 오래가는 편에 셀프 스탠딩 가능해서 좋아요. 친절하고 빠른 배송 고맙습니다. 후기가 좋아서 구매 했어요. 무선 청소기도 하나 필요하던 차에 저렴하게 잘 구매 했습니다. 조립해서 잠깐 충전하고 사용 했는데 흡입력이 좋아요. 무게는 무선 청소 기라 무게가 좀 무겁네요. 좋은 제품 고맙습니다. 가볍고 사용 하기 무난한 청소기네요. 작년에 샀던 일 렉 유선 청소기가 넘 무겁고 장판을 들어 올리는 짜증 나는 흡입력으로 청소가 늘 스트레스였는데 요거 맘에 듭니다. 디자인은 조금 투박해도 막 쓰기 좋고 가 벼워요. 아쉬운 점은 헤드에 머리카락 감기면 빼는 게 쪼금 일이 긴 하지만 그래도 무선이라 역시 좋습니다. 고가 인 청소기를 살까 저렴 이로 살까 고민하다가 후기가 좋은 테팔 청소기로 구입했는데 실망시키지 않아서 넘 좋네요. 그리 무겁지도 않고 앞에서 나오는 불빛이 정말 도움되네요. 혼자서도 잘 서 있는 싸고 성능 좋은 테팔 오래도록 사용했으면 좋겠어요. 구매하고 나서 처음엔 잘 이용했는데 아무리 베 터 리가 소모성이라고는 하나 완충 후에 청 소기를 돌려도 5분도 안 되 서 끝나네요. 서비스센터에 전화를 했더니 배터리 교체 수리를 해야 한다고 배보다 배꼽이 더 크다는 게 이런 건지. 너무 좋아요. 배 송도 하루 만에 오고 일단은 너무 가볍고 흡입력도 가격 대비 만족합니다. 색상도 강렬하고 촌스럽지 않은 레드 이구요 손잡이와 버튼도 쓰기 편하게 되어 있네요. 먼지 통 비우기도 쉽고 깔끔하게 되어 있고 충전도 금방 되네요. 완전 잘 쓸께요. 싸게 좋은 제품 샀다고 기대했는데 첫 번째 배송 제품은 전원도 안 들어오는 불량 고객센터 직원이 나 보고 서비스센터 전화해 보라는 어 이 없는 말 기분 상하고 서비스센터는 더럽게 전화 연결 안 되고 결국 다시 고객센터 연락 후 교환 처리 기분 나빠 반품 하려다. 걍 교환했어요. 응대 제대로 다시 교육 받으셔야 할 듯 합니다. 일단 제품은 가격 대비 괜찮아요. 3년 쓴 제품이 밧 데리 교체해야 해서 이 제품 방송 보다가 구매했어요. 가격이 타 제품에 비해 저렴하고 성능 좋아요. 잘 됩니다. 아쉬운 점은 틈새 청소는 브러쉬 등 교체 불가능해서 그런 건 못해요. 그래도 청소는 잘 돼서 아주 좋아요. 먼지 비우 긷 편해요. 배송은 엄청 빨랐습니다. 실제로 사용해 보니 ？ 방송에서 본 것처럼 그렇게 가볍지 않구 여 거실과 방 하나 빌 고 나면 ？ 방전 청소기 세척도 그렇게 간편하고 쉽지는 않구 여 사진 상에처럼 ？ 청소기 입구 흡인 구 부분에 머리카락이 엉켜서 일일 히 손으로 빼내야 합니다. 기대 이하입니다. 가격이 저렴해서 구매했는데 가볍다 광고 했지만 실제 느끼는 무게는 그리 가볍지 않습니다. 바퀴에 먼지나 이물질에 자꾸 묻어 불편하고 이동성이 매끄럽진 않아요. 먼지 통 버릴 때 뚜껑에 오히려 먼지가 다시 묻어 아주 불편하네요. 무선 청소기 치곤 가격이나 성능 괜찮아요. 무게도 쓰시던 분들은 무겁다 했는데 괜찮아요. 기계가 너무 가벼워도 헐렁할 것 같은데 사람마다 쓰시는 입장이 다르겠지만 저는 흡입력도 이 가격이면 괜찮은데 청소기는 가격이 요 아이랑 은 10 배나 차이 나는데 너무 많은 걸 바라면 안 되겠죠. 울 집 청소하기에는 용량이 넘 작아요. 사용시간이 적어도 50분 이상이라야 될 듯 청소하다 말고 다시 충전해서 써야 되니 번거럽습니다. 산 거 사용해 버렸으니 교환할 수도 없고 그냥 사용 해야겠지요 가격 대비 성능은 괜찮아요 사용 시간이 짧아서 그렇지. 7평 자취방에서 쓰려고 샀어요. 터보 모드로 시간이 13분밖에 안 된 다 길래 본가에는 못 샀네요. 자취방에서 쓰기는 너무 좋아요. 빨리는 것도 카페 트가 확 딸려 오고 생각보다 엄청 괜찮아요. 만족합니다. 블랙이 없어서 레드로 했지만 레드가 그 전형적인 가전 제품의 빨강이라 좀 촌스럽긴 해요. 쓰던 청소기가 고장 나서 다시 또 재구매했어요. 핸드 청소기는 테팔이 가볍고 흡입력이 좋아서 만족합니다. 색도 맘에 들고 좋아요. 상품 만족합니다. 조립도 쉽고 작동도 잘 되고 지금까진 아주 좋아요. 가볍고 편합니다. 브러쉬나 툴도 기본 구성으로 있는 줄 알았는데 아쉽네요. 청소기는 만족합니다. 색깔도 이 쁘고 가 벼워요. 편해요. 가벼워요. 가격 대비 완 젼 좋아요. 흡입력 좋아요. 부모님 댁에 주문해 드렸는데 만족해 하셨어요. 조립도 쉽고 사용법이 간단해서 유선 청소기보다 편리하게 이용하신다고 합니다. 가 성비 좋아요. 단점이 있다면 필터를 추가로 안 파네요 같이 팔았으면 좋앗을 텐데. 가격이 싸서 샀는데 가격 만큼 이랄까 좁은 공간 사용하기 힘들고 밧 데리 빨리 달아요. 가볍게 급하게 청소할 때는 유용할 것 같아요. 약간 엘지 싸이클 청소기의 핸디 형 같은 느낌입니다. 소리도 적당하고 먼지도 잘 빨려 들어 오는데 밧 데리가 얼마 가지 못하네요. 방세 개에 주방 하나인데 꼭 방 하나는 못하게 되네요. 방 한 켠에 세울 수 있어 자리 차지하지 않아서 좋구요. 테팔 청소기 돌려 보니 무선이라서 가볍고 조와 요‥ 헤 파 필터 리필 하나 더 왔으면 했는데 리필은 없네요. 따로 구매해야 겠네요 지금은 충전 중. 무선이라 청소하기 너무 편해요. 간편하게 바로바로 사용할 수 있어서 좋아요. 흡이 급구에 라이트 있어서 바닥에 먼지들이 잘 보이네요. 유선보단 약하지만 편하고 가격 대비 맘에 들어요. 무겁고 사용 시 소음이 심하고 움직임이 유연하지 않아 불편하지만 흡입력은 만족합니다. 가격 대비 그냥 쓸 만 합니다. 선이 없으니 어 디든 데려 갈 수 있어 편리하네요. 다만 그렇게 시원하게 빨리 지는 않는 것 같아요. 가격 대비 좋은 물건 잘 샀어요. 친지분이 집에 오셔서 청소기를 보고 주문해 달라기에 추가 주문했어요. 조금만 더 가벼웠으면 좋겠고 소음 때문에 조용한 밤에는 사용을 자제해야 겠어요. 흡입력 좋은데 청소기 흡입구 너비가 좀 좁은 듯 쉽네요. 마음에 들어요. 좋은 제품 저렴하게 구매해서 너무 좋아요. 가격 대비 완전 만족 이에 요충 전해서 편하게 여기저기 쓰기 좋습니다. 여려 기능이 있으면 좋겠기 지만 그러면 복잡 해지고 머니도 더 주겠죠. 기대 이상 저에 겐 가볍고 핸들링도 좋음이 가격이면 완전 대 박 다른 분 들은 의견이 분분하시던데 전 조 으네요. 써보고 구입한 제품이라 좋아요. 굿 굿 청소하기가 편해 진 느낌이에요. 잘 받았다고. 합니다. 배송이 아주 빨라요. 가 성비 짱이라고. 간편하게 바로바로 사용할 있어서 좋아요. 잠깐 충전하여 사용해 보았는데 시 원스레 먼지를 흡입하는 거 같아서 마음에 드네요. 고장 없이 오래오래 사용 했으면 합니다. 완전 좋아요. 배 송도 빨라요. 배송 여기는 제주도 월욜에 주문하여 목욜에 수령 조립은 엄청 쉬워요. 5분도 안 걸린 거 같아 요. 청소 잘 되 요 먼지도 잘 빨아들이고 약간 무거운 감이 있지만 괜찮습니다. 이 가격에 이 정도 상품이면 완전 만족입니다. 청소기를 쓰면 앞부분이 들려요 가 벼워서 그런 듯해요. 처 오기 쓸 때마다 앞부분을 발로 내려 주면서 사용해서 불편합니다. 바퀴 앞부분이 자꾸 들려서 힘들어요. 가격 품질 배송 모두 만족임다. 좋은 가격에 잘 구매했습니다. 시골 어머님 드리려고 산 겁니다. 한 달 두 더 남았는데 너무 일찍 산 나 봅니다. 가볍습니다. 청소기 먼지 통이 밑에 있어서 쇼 파 밑이나 침대 밑에 등 여러 가지 장소에 적합하지 않는 청소기네요 와이프한테 잘 놋 샀다고. 한 소리 들었어요. 무선이라 너무 편리하고 서 음도 그닥 심하지 않아요. 흡입력도 마음에 들어 요청 소 버리는 것도 너무 간단하여 만족합니다. 가격도 착해서 저희는 넘 만족합니다. 쓰기 편하네요. 평소 손목 어깨 불편한 데 이 정도 이 가격에 자주 자주 쓸 수 있어 좋습니다. 세워 놓을 수도 있어요. 흡입 강력하고 소리도 그닥 큰 편 아니고 완전 강추합니다. 그런 데로 만족 하나 조립할 때 나사가 잘 빠지지 않아 힘들었고 박스 2 중 포장으로 배송 왔는데 그렇게 까지 테이프로 도 배를 해 놓을 필요가 있는 건지 꺼내는데 짜증이 너무 났다 제품 설명서도 맘에 안 들고. 최고에 요 소음 기능 디자인 칼라 무개 흠 임 다 좋아요. 잘 받았습니다. 빠른 배송 고맙습니다. 설치 간단 해오 그러나 소리가 엄청 크고 흡입구가 작아 여러 번 움직여야 해요 세컨드로 쓸 거라. 그냥 저냥 사용하려고요. 대체로 사용하기 편합니다. 충전도 잘 되고 이동하기도 좋습니다. 흡입력도 생각보다 강합니다. 전 만족합니다. 이 상품은 가격도 저렴하지만 내 구성이 뛰어나고 고장이 없어서 정말 좋아요. 사용하기 편하고 좋네요. 흡입력도 나쁘지 않아요. 어느 정도 무게감은 잊지만 가격 대비 만족합니다. 성능도 좋고 좋은 만큼 소음은 발생합니다. 실로 짜진 러 그를 청소할 때는 실이 청소기 솔에 감겨 애먹었습니다. 무겁지 않고 흡입력도 좋아요. 세 척도 간편하구요. 성능이 좋아요. 마음에 들어요. 쓰기는 아요. 배송도 괜찮고 성능도 좋고 혼자 서도 잘 서 있어요. 맘에 들어요. 배송 빠르고 충전 해 놓으면 작은 집엔 오래 쓰고 좋아요. 가 성비 너무 좋은 제품이네요. 간편하게 쓰기 좋고 그냥 집 안에 생활 먼지는 거뜬 히 해결됩니다. 생각했던 거 보 단 훨씬 좋아요. 근데 모양이 좀 투박하고 촌스러워요. 적당히 무게 감도 있어요. 무선이라서 청소하기가 너무 간편한 것 같아서 좋으네요 소음은 생각보다 조금 큰 것 같아요. 유선 청소기 못지않게 나네요. 먼지가 잘 흡수되네요. 간편해서 좋아요. 가볍고 사용하기 간편해서 좋아요. '}]]\n"
     ]
    }
   ],
   "source": [
    "print(yujeong_json_data)"
   ]
  },
  {
   "cell_type": "code",
   "execution_count": null,
   "metadata": {},
   "outputs": [],
   "source": []
  },
  {
   "cell_type": "code",
   "execution_count": null,
   "metadata": {},
   "outputs": [],
   "source": []
  },
  {
   "cell_type": "code",
   "execution_count": null,
   "metadata": {},
   "outputs": [],
   "source": []
  },
  {
   "cell_type": "markdown",
   "metadata": {},
   "source": [
    "# json 합치기"
   ]
  },
  {
   "cell_type": "code",
   "execution_count": 85,
   "metadata": {},
   "outputs": [],
   "source": [
    "json_data = saeha_json_data+chanhee_json_data+yujeong_json_data"
   ]
  },
  {
   "cell_type": "markdown",
   "metadata": {
    "id": "oE1UiLbIxifH"
   },
   "source": [
    "# 감정 사전"
   ]
  },
  {
   "cell_type": "code",
   "execution_count": 90,
   "metadata": {
    "id": "wM3yFLcG_Gqo"
   },
   "outputs": [],
   "source": [
    "negative_word_emotion = ['안','않','못','없','아닌','아니']"
   ]
  },
  {
   "cell_type": "markdown",
   "metadata": {
    "id": "zsW9a7Td_YBN"
   },
   "source": [
    "## 김찬희\n",
    "김찬희 : 무게, 흡입력, 충전"
   ]
  },
  {
   "cell_type": "code",
   "execution_count": 15,
   "metadata": {
    "id": "T-v4yGq__ykv"
   },
   "outputs": [],
   "source": [
    "weight_good_feature = {'무게':['가볍','가벼','적당','괜찮','좋','무난','없']}                      \n",
    "weight_bad_feature = {'무게':['무거','무겁','나가','있']}\n",
    "power_good_feature ={'흡입':['좋','강','충분','만족','괜찮','잘','짱','적당']}\n",
    "power_bad_feature ={'흡입':['나쁘','별로','약','부족','아직','장난']}\n",
    "charge_good_feature= {'충전' : ['짧','빨리','급속', '대박','빠른','빠르게','번거','잘','편하','편한','쉬운','쉽']}\n",
    "charge_bad_feature={'충전' : ['오래', '길','짜증','느','불편','어렵','아쉽']}"
   ]
  },
  {
   "cell_type": "markdown",
   "metadata": {
    "id": "YA5zNwwE_YR5"
   },
   "source": [
    "## 박유정\n",
    "박유정 : 디자인, 가성비 "
   ]
  },
  {
   "cell_type": "code",
   "execution_count": 1,
   "metadata": {
    "id": "9jxiH2Hz_zHc"
   },
   "outputs": [],
   "source": [
    "design_good_feature = { '디자인': ['예뻐','이쁜', '이뻐','예쁜','깔끔', '세련','고급','반해', '군더더기', '잘','스며드는' '굿', '무난', '만족', '칭찬', '좋'],\n",
    "                       '색상': ['예뻐','이쁜', '이뻐','예쁜','깔끔', '세련','고급','반해', '군더더기', '잘','스며드는' '좋', '괜찮', '무난', '만족']}\n",
    "design_bad_feature = { '디자인': ['못', '실망', '별로', '구리', '나뻐','나쁜', '이상', '투박', '별로'],\n",
    "                     '색상': ['못', '실망', '별로', '구리', '나뻐','나쁜', '이상', '투박', '별로'] }\n",
    "cost_effectiveness_good_feature =  { '가성': ['괜찮', '괜춘', '좋은', '최고', '굿','추천', '만족', '짱', '훌륭','있는'],\n",
    "                                     '가성 비': ['괜찮', '괜춘', '좋은', '최고', '굿','추천', '만족', '짱', '훌륭','있는'],\n",
    "                                     '가격 대비': ['괜찮', '괜춘', '좋아', '최고', '굿', '추천', '만족', '짱', '훌륭']}\n",
    "cost_effectiveness_bad_feature = { '가성':  ['별로','실망', '그닥', '없는','비추', '나뻐','나쁜', '글쎄', '떨어'],\n",
    "                                   '가성 비':  ['별로','실망', '그닥', '없는','비추', '나뻐','나쁜', '글쎄', '떨어'],\n",
    "                                   '가격 대비': ['별로', '실망', '그닥', '비추','나쁜', '나뻐', '글쎄', '떨어']}"
   ]
  },
  {
   "cell_type": "markdown",
   "metadata": {
    "id": "7DzpgyTo_YWB"
   },
   "source": [
    "## 정새하\n",
    "정새하 : 소음, 배터리, 가격\n"
   ]
  },
  {
   "cell_type": "code",
   "execution_count": 86,
   "metadata": {
    "id": "kKnOeany_0IA"
   },
   "outputs": [],
   "source": [
    "noise_good_feature = {'소음':['작아','조용','조용한','적당','크지않','크지','크진','적어','작은편','적고', '별로 크지', '생각보다 크지','괜찮', '크지 않', '시끄럽지', '큰맘'],\n",
    "                      '소리':['작아','조용','조용한','적당','크지않','크지','크진','적어','작은편','적고', '별로 크지','생각보다 크지','괜찮','크지 않', '시끄럽지', '큰맘']}\n",
    "noise_bad_feature = {'소음':['커','커서','시끄러','귀청', '크지만','시끄럽','거슬','심한','있는','큰편', '큰데', '작거나 하진', '약간', '심해'],\n",
    "                      '소리':['커','커서','시끄러','귀청','크지만','시끄럽','거슬','심한','있는','큰편','큰데', '작거나 하진', '약간','심해']} \n",
    "battery_good_feature = {'배터리':['길어','오래', '오래가'],\n",
    "                        '수명':['길어','오래','오래가']}\n",
    "battery_bad_feature = {'배터리':['짧아','약','약해','작아','빨리','없어','소모','짧긴'],\n",
    "                       '수명':['짧아','빨리','닳아']}\n",
    "\n",
    "price_good_feature = {'가격' : ['싸요', '싸고', '싸서', '가성비', '착해', '가격대비','싸게', '착한가격','저렴','만족','좋은','좋아','비싸지','비싸진','싸진','싸지']}\n",
    "price_bad_feature = {'가격' : ['비싸요', '비싸고', '비싸서']}"
   ]
  },
  {
   "cell_type": "markdown",
   "metadata": {
    "id": "ZxAV9htC_YYs"
   },
   "source": [
    "## 정한슬\n",
    "정한슬 : 내구성, 서비스"
   ]
  },
  {
   "cell_type": "code",
   "execution_count": null,
   "metadata": {
    "id": "36Wwrq5P_0u5"
   },
   "outputs": [],
   "source": [
    "durability_good_feature ={ '내구성': ['높', '강하', '좋','강력']}\n",
    "\n",
    "durability_bad_feature = { '내구성': ['떨어', '약', '좋지않']}\n",
    "\n",
    "as_good_feature = { 'as': ['편', '국내', '가능', '무상',] }\n",
    "\n",
    "as_bad_feature = {'as':  ['불편', '불가능', '유상']}\n"
   ]
  },
  {
   "cell_type": "markdown",
   "metadata": {
    "id": "kjvthfzi_YeD"
   },
   "source": [
    "# 키워드 추출 메소드"
   ]
  },
  {
   "cell_type": "code",
   "execution_count": 93,
   "metadata": {
    "id": "hnQmufIg_6Qp"
   },
   "outputs": [],
   "source": [
    "def get_feature_keywords(feature_keywords, review):\n",
    "    feature_temp = []\n",
    "    for keyword in feature_keywords: #감성 사전키 리스트에서 키를 뽑아서\n",
    "        if re.findall(keyword, review): #패턴을 찾음\n",
    "            sub_list = ['게','고','음','며','데','만','도','면']\n",
    "            \n",
    "            for sub in sub_list:\n",
    "                if sub+' ' in review: #리뷰안에 sub +' ' 가 있으면 \n",
    "                    review = re.sub(sub+' ', sub+',', review) # review 안에 sub+' '를 sub+','로 치환 \n",
    "                \n",
    "            a = re.findall(keyword +'+[ㄱ-ㅎ|ㅏ-ㅣ|가-힣]+\\s+[ㄱ-ㅎ|ㅏ-ㅣ|가-힣]+\\s+[ㄱ-ㅎ|ㅏ-ㅣ|가-힣]+',review) # K한 한 한글\n",
    "            #print('패턴찾기 1', a) # 키워드 뒤쪽 글자 가져오는 소음이 작아요 \n",
    "            b = re.findall(keyword + '+\\s+[ㄱ-ㅎ|ㅏ-ㅣ|가-힣]+\\s+[ㄱ-ㅎ|ㅏ-ㅣ|가-힣]+',review) # K 한 한글 \n",
    "            #print('패턴찾기 1', b) # 키워드 + 띄어쓰기 이후 글자 가져오는 소리 작아요\n",
    "            c = re.findall('[ㄱ-ㅎ|ㅏ-ㅣ|가-힣]+\\s+' + keyword +'[ㄱ-ㅎ|ㅏ-ㅣ|가-힣]+',review) # 한 K한글 예쁜 분위기가\n",
    "            #print('패턴찾기 1', c) #키워드 앞쪽 글자 가져오는 시끄러운 소음\n",
    "            d = re.findall('[ㄱ-ㅎ|ㅏ-ㅣ|가-힣]+\\s+' + keyword +'+\\s+[ㄱ-ㅎ|ㅏ-ㅣ|가-힣]+',review)\n",
    "            \n",
    "            for ngram in a: #패턴찾기로 찾아낸 문구들을 (문구, 키워드) 형태로 만드는 ['소음이 커요', '소음이 작아요','소음만 어찌했으면']\n",
    "                t = ()\n",
    "                feature_temp.append(t + (ngram,keyword)) # ('소음이 커요', '소음')\n",
    "            for ngram in b:\n",
    "                t = ()\n",
    "                feature_temp.append(t + (ngram,keyword))\n",
    "            for ngram in c:\n",
    "                t = ()\n",
    "                feature_temp.append(t + (ngram,keyword))\n",
    "            for ngram in d:\n",
    "                t = ()\n",
    "                feature_temp.append(t + (ngram,keyword))\n",
    "                \n",
    "    return feature_temp "
   ]
  },
  {
   "cell_type": "code",
   "execution_count": 88,
   "metadata": {},
   "outputs": [],
   "source": [
    "def get_feature_emotions(feature_good_dict,feature_bad_dict, feature_temp):\n",
    "    good_feature_emotion_list = []\n",
    "    bad_feature_emotion_list = []\n",
    "    \n",
    "    for ngrams in feature_temp: #(문구, 키워드)형태\n",
    "        keyword = ngrams[1]\n",
    "        ngram = ngrams[0]\n",
    "        is_bad_feature = None\n",
    "        \n",
    "        good_emotion_list = feature_good_dict[keyword] #키워드(key)를 이용해서 value 가져옴\n",
    "        bad_emotion_list = feature_bad_dict[keyword]\n",
    "        \n",
    "        #긍정\n",
    "        for emotion in good_emotion_list:\n",
    "            if re.findall(emotion, ngram): # 문구에서 가지고 온 value 리스트에서 단어 빼와서 패턴 찾기\n",
    "                is_bad_feature = False \n",
    "        #부정        \n",
    "        for emotion in bad_emotion_list:\n",
    "            if re.findall(emotion, ngram):\n",
    "                is_bad_feature = True  \n",
    "        #부정어       \n",
    "        for negative in negative_word_emotion: # 문구안에 부정적인 워드 있는지 확인\n",
    "            if re.findall(negative, ngram): \n",
    "                if is_bad_feature == True: \n",
    "                    is_bad_feature = False\n",
    "                    break\n",
    "                elif is_bad_feature == False:\n",
    "                    is_bad_feature = True\n",
    "                    break\n",
    "                else:\n",
    "                    is_bad_feature = True\n",
    "                    break \n",
    "                    \n",
    "        #긍정 부정 키워드 리스트 생성           \n",
    "        if is_bad_feature:\n",
    "            bad_feature_emotion_list.append(ngram)\n",
    "        elif is_bad_feature == False:\n",
    "            good_feature_emotion_list.append(ngram)\n",
    "        else:\n",
    "            pass\n",
    "    return good_feature_emotion_list, bad_feature_emotion_list"
   ]
  },
  {
   "cell_type": "markdown",
   "metadata": {},
   "source": [
    "# 점수화\n",
    "감정 사전을 이용해서 긍정, 부정에 대한 문구를 필터, 카운트"
   ]
  },
  {
   "cell_type": "code",
   "execution_count": 91,
   "metadata": {},
   "outputs": [
    {
     "name": "stdout",
     "output_type": "stream",
     "text": [
      "0 삼성전자 비스포크제트 VS20A956A3\n",
      "좋은 ['소음이 작아서 놀랐습니다', '소음은 적어서 또', '소음은 그럭저럭 조용한', '소리는 별로 크지']\n",
      "안좋은 ['소음이 크지 않아서', '소음이 커서 큰맘', '않는 소음인', '소리가 아니라 부드럽게', '소리가 약해 그동안은', '소리가 커서 사용할', '소리가 크지 않아', '소리를 높이지 않고', '소리 안 들린다고', '약간 소리가']\n",
      "배터리 좋은 ['배터리를 오래 사용하는', '배터리 오래 쓰도록']\n",
      "배터리 안좋은 ['배터리가 오래 안', '배터리의 경우 소모품으로', '배터리가 없는 제품이니', '수명이 점점 짧아지더니']\n",
      "1 삼성전자 삼성 VC-H22\n",
      "좋은 ['소리와 흡입력이 작아진다고', '소리 다 괜찮아서', '작아서 소리가', '작아서 소리도']\n",
      "안좋은 ['소음이 약간 있지만', '소음은 좀 있는', '소리가 작거나 하진', '소리가 너무 커서', '소리는 약간 큽니다', '소리는 좀 큰데', '소리는 조금 크지만', '소리 엄청 커요']\n",
      "배터리 좋은 ['배터리가 오래가는 건', '오래되서 배터리가']\n",
      "배터리 안좋은 []\n",
      "2 삼성전자 삼성 VC-H71\n",
      "좋은 ['소음이 적어서 시간', '소리는 시끄럽지 않아요']\n",
      "안좋은 ['소음이 안 나서']\n",
      "배터리 좋은 []\n",
      "배터리 안좋은 []\n",
      "3 삼성전자 제트 VS15R8500BF\n",
      "좋은 ['소음이 작아 밤에', '소음이 작아서 너무', '소음이 너무 조용해서', '소리는 생각보다 크지', '소리 또한 크지']\n",
      "안좋은 ['소음이 아예 없는', '소음이 크지 않아서', '소음이 여서 거슬리지', '소리가 커지긴 하는데', '소리가 좀 커지지만', '소리가 아닌 경쾌한', '소리 많이 안', '소리 않 난다고']\n",
      "배터리 좋은 ['배터리가 오래간 다']\n",
      "배터리 안좋은 ['배터리가 빨리 닳아서', '배터리가 빨리 닳을', '배터리 걱정은 없을']\n",
      "4 삼성전자 제트 VS20T9218QDCC\n",
      "좋은 ['소음이 적어 좋아요', '소리보다 훨씬 작아서', '소리 너무너무 조용하고', '조용한 소리에']\n",
      "안좋은 ['소음은 약간 있지만', '소음은 나쁘지 않아요', '소리가 너무 커서', '소리 전혀 안', '소리 잘 안하는데']\n",
      "배터리 좋은 ['배터리를 오래 오래']\n",
      "배터리 안좋은 ['배터리가 풀이 아니어서', '수명 때문에 안']\n",
      "Good noise: 0/1 = 0.0\n",
      "Good battery: 1/2 = 50.0\n",
      "Good price: 0/0 = 0\n",
      "0 신일 싹쓸이 SVC-680G\n",
      "좋은 []\n",
      "안좋은 []\n",
      "배터리 좋은 []\n",
      "배터리 안좋은 []\n",
      "1 신일전자 SVC-1316R\n",
      "좋은 []\n",
      "안좋은 []\n",
      "배터리 좋은 []\n",
      "배터리 안좋은 ['배터리 약해 지면']\n",
      "2 신일전자 SVC-8858PNX\n",
      "좋은 ['소음이 진짜 적어요', '소리가 적어 흡입력이', '소리가 너무 조용해서', '소리는 유선보단 조용한', '소리는 굉장히 조용한', '소리 시끄럽지 않고']\n",
      "안좋은 ['소음이 크지 않아', '소음이 안 나요', '소리 시끄러워서 정말']\n",
      "배터리 좋은 []\n",
      "배터리 안좋은 ['배터리가 빨리 끝난다는']\n",
      "3 신일전자 SVC-P5000HP\n",
      "좋은 []\n",
      "안좋은 []\n",
      "배터리 좋은 []\n",
      "배터리 안좋은 []\n",
      "4 신일전자 SVC-SHS500\n",
      "좋은 []\n",
      "안좋은 ['소리가 너무 시끄러운', '소리가 커서 아랫집']\n",
      "배터리 좋은 []\n",
      "배터리 안좋은 ['배터리가 안 좋아요']\n",
      "Good noise: 0/1 = 0.0\n",
      "Good battery: 1/2 = 50.0\n",
      "Good price: 0/0 = 0\n"
     ]
    }
   ],
   "source": [
    "check_division = lambda x, y: y if y ==0 else round((x / float(y)),2)\n",
    "for k, company in enumerate(json_data):\n",
    "    \n",
    "\n",
    "    for i, item in enumerate(company):\n",
    "\n",
    "        cleaner_good_noise_count = 0\n",
    "        cleaner_bad_noise_count = 0\n",
    "        cleaner_good_battery_count = 0\n",
    "        cleaner_bad_battery_count = 0\n",
    "        cleaner_good_price_count = 0\n",
    "        cleaner_bad_price_count = 0\n",
    "        cleaner_good_weight_count = 0\n",
    "        cleaner_bad_weight_count = 0\n",
    "        cleaner_good_power_count = 0\n",
    "        cleaner_bad_power_count = 0\n",
    "        cleaner_good_charge_count = 0\n",
    "        cleaner_bad_charge_count = 0\n",
    "        cleaner_good_durability_count = 0\n",
    "        cleaner_bad_durability_count = 0\n",
    "        cleaner_good_service_count = 0\n",
    "        cleaner_bad_service_count = 0\n",
    "        cleaner_good_design_count = 0\n",
    "        cleaner_bad_design_count = 0\n",
    "        cleaner_good_cost_eff_count =0\n",
    "        cleaner_bad_cost_eff_count =0\n",
    "\n",
    "        \n",
    "        \n",
    "        \n",
    "        \n",
    "        print(i, item['제품명'])\n",
    "        \n",
    "        #소음\n",
    "        nois_temp = get_feature_keywords(noise_good_feature.keys(), item['리뷰'])        \n",
    "        good_noise,bad_noise = get_feature_emotions( noise_good_feature,noise_bad_feature, nois_temp)\n",
    "        print(\"좋은\", good_noise)\n",
    "        print(\"안좋은\",bad_noise)\n",
    "        \n",
    "        #배터리\n",
    "        battery_temp = get_feature_keywords(battery_good_feature.keys(), item['리뷰'])        \n",
    "        good_battery,bad_battery = get_feature_emotions( battery_good_feature,battery_bad_feature, battery_temp)\n",
    "        print(\"배터리 좋은\", good_battery)\n",
    "        print(\"배터리 안좋은\",bad_battery)\n",
    "        \n",
    "        #가격\n",
    "        price_temp = get_feature_keywords(price_good_feature.keys(), item['리뷰'])        \n",
    "        good_price,bad_price = get_feature_emotions( price_good_feature,price_bad_feature, price_temp)\n",
    "        \n",
    "        #무게\n",
    "        weight_temp = get_feature_keywords(weight_good_feature.keys(), item['리뷰'])\n",
    "        good_weight,bad_weight = get_feature_emotions( weight_good_feature,weight_bad_feature, weight_temp)\n",
    "        \n",
    "        #흡입력\n",
    "        power_temp = get_feature_keywords(power_good_feature.keys(), item['리뷰'])      \n",
    "        good_power,bad_power = get_feature_emotions( power_good_feature,power_bad_feature, power_temp)\n",
    "        \n",
    "        #충전\n",
    "        charge_temp = get_feature_keywords(charge_good_feature.keys(), item['리뷰'])      \n",
    "        good_charge,bad_charge = get_feature_emotions(charge_good_feature,charge_bad_feature, charge_temp)\n",
    "        \n",
    "                \n",
    "        #내구성\n",
    "        dura_temp = get_feature_keywords(durability_good_feature.keys(), item['리뷰'])\n",
    "        good_dura, bad_dura = get_feature_emotions( durability_good_feature, durability_bad_feature, dura_temp)\n",
    "        print('내구성 좋은',good_dura)\n",
    "        print('내구성 안좋은',bad_dura)\n",
    "        \n",
    "        #서비스\n",
    "        servi_temp = get_feature_keywords(service_good_feature.keys(), item['리뷰'])\n",
    "        good_servi, bad_servi = get_feature_emotions( service_good_feature, service_bad_feature, servi_temp)\n",
    "        print('서비스 좋은',good_servi)\n",
    "        print('서비스 안좋은',bad_servi)\n",
    "        \n",
    "         #디자인\n",
    "        design_temp = get_feature_keywords(design_good_feature.keys(), item['리뷰'])\n",
    "        good_design,bad_design = get_feature_emotions(design_good_feature,design_bad_feature, design_temp)\n",
    "        # print(\"좋은\", good_design)\n",
    "        # print(\"안좋은\",bad_disign)\n",
    "            \n",
    "        #가성비\n",
    "        cost_eff_temp = get_feature_keywords(cost_effectiveness_good_feature.keys(), item['리뷰'])\n",
    "        good_cost_eff,bad_cost_eff = get_feature_emotions(cost_effectiveness_good_feature,cost_effectiveness_bad_feature, cost_eff_temp)\n",
    "        # print(\"좋은\", good_cost_eff)\n",
    "        # print(\"안좋은\",bad_cost_eff)\n",
    "        \n",
    "        #소음 점수화\n",
    "        if len(good_noise) > len(bad_noise):\n",
    "            cleaner_good_noise_count += 1\n",
    "        elif len(good_noise) < len(bad_noise):\n",
    "            cleaner_bad_noise_count += 1\n",
    "        else:\n",
    "            pass\n",
    "\n",
    "        #배터리 점수화\n",
    "        if len(good_battery) > len(bad_battery):\n",
    "            cleaner_good_battery_count += 1\n",
    "        elif len(good_battery) < len(bad_battery):\n",
    "            cleaner_bad_battery_count += 1\n",
    "        else:\n",
    "            pass\n",
    "        \n",
    "        #가격 점수화\n",
    "        if len(good_price) > len(bad_price):\n",
    "            cleaner_good_battery_count += 1\n",
    "        elif len(good_price) < len(bad_price):\n",
    "            cleaner_bad_battery_count += 1\n",
    "        else:\n",
    "            pass\n",
    "        \n",
    "        #무게 점수화\n",
    "        if len(good_weight) > len(bad_weight):\n",
    "            cleaner_good_weight_count += 1\n",
    "        elif len(good_weight) < len(bad_weight):\n",
    "            cleaner_bad_weight_count += 1\n",
    "        else:\n",
    "            pass\n",
    "        \n",
    "        #흡입력 점수화\n",
    "        if len(good_power) > len(bad_power):\n",
    "            cleaner_good_power_count += 1\n",
    "        elif len(good_power) < len(bad_power):\n",
    "            cleaner_bad_power_count += 1\n",
    "        else:\n",
    "            pass\n",
    "        \n",
    "        #충전 점수화\n",
    "        if len(good_charge) > len(bad_charge):\n",
    "            cleaner_good_charge_count += 1\n",
    "        elif len(good_charge) < len(bad_charge):\n",
    "            cleaner_bad_charge_count += 1\n",
    "        else:\n",
    "            pass\n",
    "\n",
    "        #내구성 점수화\n",
    "        if len(good_dura) > len(bad_dura):\n",
    "            cleaner_good_durability_count +=1\n",
    "        elif len(good_dura) < len(bad_dura):\n",
    "            cleaner_bad_durability_count +=1\n",
    "        else:\n",
    "            pass\n",
    "        \n",
    "        #서비스 점수화\n",
    "        if len(good_servi) > len(bad_servi):\n",
    "            cleaner_good_service_count +=1\n",
    "        elif len(good_servi) < len(bad_servi):\n",
    "            cleaner_bad_service_count +=1\n",
    "        else:\n",
    "            pass\n",
    "        \n",
    "        # 디자인 점수화\n",
    "        if len(good_design) > len(bad_design):\n",
    "            cleaner_good_design_count = 0\n",
    "        elif len(good_design) < len(bad_design):\n",
    "            cleaner_bad_design_count = 0\n",
    "        else:\n",
    "            pass\n",
    "        \n",
    "        # 가성비 점수화\n",
    "        if len(good_cost_eff) > len(bad_cost_eff):\n",
    "            cleaner_good_cost_eff_count =0\n",
    "        elif len(good_design) < len(bad_design):\n",
    "            cleaner_bad_cost_eff_count =0\n",
    "        else:\n",
    "            pass\n",
    "        \n",
    "        \n",
    "            \n",
    "#     #print('Total review count: {}'.format(len(reviews_list)))\n",
    "#     print('Good noise: {}/{} = {}'.format(cleaner_good_noise_count,cleaner_good_noise_count + cleaner_bad_noise_count,100*check_division(cleaner_good_noise_count, cleaner_good_noise_count + cleaner_bad_noise_count)))\n",
    "#     print('Good battery: {}/{} = {}'.format(cleaner_good_battery_count,cleaner_good_battery_count + cleaner_bad_battery_count,100*check_division(cleaner_good_battery_count,cleaner_good_battery_count + cleaner_bad_battery_count))) \n",
    "#     print('Good price: {}/{} = {}'.format(cleaner_good_price_count,cleaner_good_price_count + cleaner_bad_price_count,100*check_division(cleaner_good_price_count,cleaner_good_price_count + cleaner_bad_price_count)))\n",
    "#     print('Good power: {}/{} = {}'.format(cleaner_good_power_count,cleaner_good_power_count + cleaner_bad_power_count,100*check_division(cleaner_good_power_count,cleaner_good_power_count + cleaner_bad_power_count)))\n",
    "#     print('Good weight: {}/{} = {}'.format(cleaner_good_weight_count,cleaner_good_weight_count + cleaner_bad_weight_count,100*check_division(cleaner_good_weight_count,cleaner_good_weight_count + cleaner_bad_weight_count)))\n",
    "#     print('Good charge: {}/{} = {}'.format(cleaner_good_charge_count,cleaner_good_price_count + cleaner_bad_price_count,100*check_division(cleaner_good_price_count,cleaner_good_price_count + cleaner_bad_price_count)))\n",
    "#     print('Good durability : {}/{} = {}'.format(cleaner_good_durability_count,cleaner_good_durability_count + cleaner_bad_durability_count,100*check_division(cleaner_good_durability_count, cleaner_good_durability_count + cleaner_bad_durability_count)))\n",
    "#     print('Good service : {}/{} = {}'.format(cleaner_good_service_count,cleaner_good_service_count + cleaner_bad_service_count,100*check_division(cleaner_good_service_count, cleaner_good_service_count + cleaner_bad_service_count)))\n",
    "    "
   ]
  },
  {
   "cell_type": "code",
   "execution_count": null,
   "metadata": {},
   "outputs": [],
   "source": []
  }
 ],
 "metadata": {
  "colab": {
   "collapsed_sections": [],
   "name": "vacuum cleaner_natural language processing.ipynb",
   "provenance": []
  },
  "kernelspec": {
   "display_name": "Python 3 (ipykernel)",
   "language": "python",
   "name": "python3"
  },
  "language_info": {
   "codemirror_mode": {
    "name": "ipython",
    "version": 3
   },
   "file_extension": ".py",
   "mimetype": "text/x-python",
   "name": "python",
   "nbconvert_exporter": "python",
   "pygments_lexer": "ipython3",
   "version": "3.8.12"
  }
 },
 "nbformat": 4,
 "nbformat_minor": 4
}

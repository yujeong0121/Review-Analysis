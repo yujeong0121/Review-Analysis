{
 "cells": [
  {
   "cell_type": "markdown",
   "metadata": {
    "id": "CvGu5-6Dq3vH"
   },
   "source": [
    "# Konlpy 설치"
   ]
  },
  {
   "cell_type": "code",
   "execution_count": 1,
   "metadata": {
    "colab": {
     "base_uri": "https://localhost:8080/"
    },
    "id": "JaJa1kOZq2nI",
    "outputId": "45463856-6428-4ac8-fe81-e03f9389866c"
   },
   "outputs": [],
   "source": [
    "import re\n",
    "from konlpy.tag import Kkma\n",
    "from konlpy.tag import Okt\n",
    "import pandas as pd\n",
    "from pykospacing import Spacing\n",
    "import numpy as np\n",
    "from tqdm.auto import tqdm\n",
    "import os\n",
    "import json\n",
    "\n",
    "kkma = Kkma()\n",
    "okt = Okt()"
   ]
  },
  {
   "cell_type": "code",
   "execution_count": 2,
   "metadata": {},
   "outputs": [
    {
     "data": {
      "text/plain": [
       "'C:\\\\Users\\\\hp\\\\리뷰 project\\\\Vacuum-cleaner_Natural-language'"
      ]
     },
     "execution_count": 2,
     "metadata": {},
     "output_type": "execute_result"
    }
   ],
   "source": [
    "os.getcwd()"
   ]
  },
  {
   "cell_type": "markdown",
   "metadata": {
    "id": "DlA8U9a4xRNH"
   },
   "source": [
    "# 전처리\n",
    "크롤링한 데이터를 csv로 저장. 저장한 데이터를 가져와서 딕녀너리 형태로 변환 작업"
   ]
  },
  {
   "cell_type": "markdown",
   "metadata": {
    "id": "vtdthElfypWi"
   },
   "source": [
    "## 김찬희"
   ]
  },
  {
   "cell_type": "code",
   "execution_count": 4,
   "metadata": {
    "id": "0wOY4FWiq1Pa"
   },
   "outputs": [],
   "source": [
    "dyson_data= pd.read_csv('./data/다이슨.csv',encoding = 'cp949')"
   ]
  },
  {
   "cell_type": "code",
   "execution_count": 5,
   "metadata": {
    "colab": {
     "base_uri": "https://localhost:8080/"
    },
    "id": "-BfE17f83DqC",
    "outputId": "af033bcf-b64f-463a-e295-49d526d99451"
   },
   "outputs": [],
   "source": [
    "dyson_list = []\n",
    "dyson_dict = {}\n",
    "dyson_star = dyson_data['평점'].values\n",
    "dyson_model_name = dyson_data.drop_duplicates(['제품명'])['제품명']\n",
    "dyson_model_cost = dyson_data.drop_duplicates(['가격'])['가격']\n",
    "\n",
    "\n",
    "#해당 제조사의 제품숫자로 변경 \n",
    "for i in range(5):\n",
    "    \n",
    "    dyson_dict = {}\n",
    "    dyson_name = dyson_model_name.iloc[i]\n",
    "    dyson_cost = dyson_model_cost.iloc[i]\n",
    "    \n",
    "    dyson_test_1 = dyson_data['제품명'] == dyson_name\n",
    "    dyson_test = dyson_data[dyson_test_1]\n",
    "    dyson_star = dyson_test['평점'].tolist()[:100]\n",
    "    dyson_channel = dyson_test['채널'].tolist()[:100]\n",
    "    dyson_date = dyson_test['날짜'].tolist()[:100]\n",
    "    dyson_review = dyson_test['리뷰'].tolist()[:100]\n",
    "    \n",
    "    dyson_dict['제품명'] = dyson_name\n",
    "    dyson_dict['가격'] = dyson_cost\n",
    "    dyson_dict['평점'] = dyson_star\n",
    "    dyson_dict['채널'] = dyson_channel\n",
    "    dyson_dict['날짜'] = dyson_date\n",
    "    dyson_dict['리뷰'] = dyson_review\n",
    "    \n",
    "    dyson_list.append(dyson_dict)\n",
    "    \n"
   ]
  },
  {
   "cell_type": "code",
   "execution_count": 6,
   "metadata": {
    "id": "wc3NL50_rkQd"
   },
   "outputs": [],
   "source": [
    "dibea_data = pd.read_csv('./data/디베아.csv',encoding = 'cp949')"
   ]
  },
  {
   "cell_type": "code",
   "execution_count": 7,
   "metadata": {
    "colab": {
     "base_uri": "https://localhost:8080/"
    },
    "id": "sjzkuml2rkGh",
    "outputId": "06bc01fa-382c-4f19-88b3-4152ef09a7b6"
   },
   "outputs": [],
   "source": [
    "dibea_list = []\n",
    "dibea_dict = {}\n",
    "dibea_star = dibea_data['평점'].values\n",
    "dibea_model_name = dibea_data.drop_duplicates(['제품명'])['제품명']\n",
    "dibea_model_cost = dibea_data.drop_duplicates(['가격'])['가격']\n",
    "\n",
    "\n",
    "#해당 제조사의 제품숫자로 변경 \n",
    "for i in range(5):\n",
    "    \n",
    "    dibea_dict = {}\n",
    "    dibea_name = dibea_model_name.iloc[i]\n",
    "    dibea_cost = dibea_model_cost.iloc[i]\n",
    "    \n",
    "    dibea_test_1 = dibea_data['제품명'] == dibea_name\n",
    "    dibea_test = dibea_data[dibea_test_1]\n",
    "    dibea_star = dibea_test['평점'].tolist()[:100]\n",
    "    dibea_channel = dibea_test['채널'].tolist()[:100]\n",
    "    dibea_date = dibea_test['날짜'].tolist()[:100]\n",
    "    dibea_review = dibea_test['리뷰'].tolist()[:100]\n",
    "    \n",
    "    dibea_dict['제품명'] = dibea_name\n",
    "    dibea_dict['가격'] = dibea_cost\n",
    "    dibea_dict['평점'] = dibea_star\n",
    "    dibea_dict['채널'] = dibea_channel\n",
    "    dibea_dict['날짜'] = dibea_date\n",
    "    dibea_dict['리뷰'] = dibea_review\n",
    "    \n",
    "    dibea_list.append(dibea_dict)\n",
    "\n"
   ]
  },
  {
   "cell_type": "markdown",
   "metadata": {
    "id": "FOqUHErKyrGo"
   },
   "source": [
    "## 박유정"
   ]
  },
  {
   "cell_type": "markdown",
   "metadata": {
    "id": "_nIfvOWzNt4e"
   },
   "source": [
    "- 엘지"
   ]
  },
  {
   "cell_type": "code",
   "execution_count": 18,
   "metadata": {
    "colab": {
     "base_uri": "https://localhost:8080/",
     "height": 337
    },
    "id": "SIzSIfvODq2X",
    "outputId": "c0c80cfa-4bca-4c68-caf3-be2279d6e10b"
   },
   "outputs": [
    {
     "data": {
      "text/html": [
       "<div>\n",
       "<style scoped>\n",
       "    .dataframe tbody tr th:only-of-type {\n",
       "        vertical-align: middle;\n",
       "    }\n",
       "\n",
       "    .dataframe tbody tr th {\n",
       "        vertical-align: top;\n",
       "    }\n",
       "\n",
       "    .dataframe thead th {\n",
       "        text-align: right;\n",
       "    }\n",
       "</style>\n",
       "<table border=\"1\" class=\"dataframe\">\n",
       "  <thead>\n",
       "    <tr style=\"text-align: right;\">\n",
       "      <th></th>\n",
       "      <th>가격</th>\n",
       "      <th>평점</th>\n",
       "      <th>채널</th>\n",
       "      <th>날짜</th>\n",
       "      <th>제품명</th>\n",
       "      <th>리뷰</th>\n",
       "    </tr>\n",
       "  </thead>\n",
       "  <tbody>\n",
       "    <tr>\n",
       "      <th>0</th>\n",
       "      <td>775,970</td>\n",
       "      <td>평점5</td>\n",
       "      <td>보다쇼핑</td>\n",
       "      <td>21.11.01.</td>\n",
       "      <td>LG전자 코드제로 A9S 올인원타워 AS9370IKT</td>\n",
       "      <td>주문하고 3~4주 걸릴수있다고 안내전화받고 기다렸는데 10일만에 배송된다고 lg기사...</td>\n",
       "    </tr>\n",
       "    <tr>\n",
       "      <th>1</th>\n",
       "      <td>775,970</td>\n",
       "      <td>평점3</td>\n",
       "      <td>신세계TV쇼핑</td>\n",
       "      <td>21.11.05.</td>\n",
       "      <td>LG전자 코드제로 A9S 올인원타워 AS9370IKT</td>\n",
       "      <td>일단 배송이 한달 걸렸어요.. 삼성비스코프 청소기에 결함이 있어서 반품 처리 하고 ...</td>\n",
       "    </tr>\n",
       "    <tr>\n",
       "      <th>2</th>\n",
       "      <td>775,970</td>\n",
       "      <td>평점4</td>\n",
       "      <td>쇼핑엔티</td>\n",
       "      <td>21.11.16.</td>\n",
       "      <td>LG전자 코드제로 A9S 올인원타워 AS9370IKT</td>\n",
       "      <td>생각했던것보다 배송은 빨랐네요(10일 걸렸습니다)유선 청소기만 쓰다가 무선청소기 처...</td>\n",
       "    </tr>\n",
       "    <tr>\n",
       "      <th>3</th>\n",
       "      <td>775,970</td>\n",
       "      <td>평점3</td>\n",
       "      <td>CJ온스타일</td>\n",
       "      <td>21.09.15.</td>\n",
       "      <td>LG전자 코드제로 A9S 올인원타워 AS9370IKT</td>\n",
       "      <td>청소는 주로 남편이 하니까, 제가 청소기 쓸 일은 거의 없긴 한데요, 이것을 주로 ...</td>\n",
       "    </tr>\n",
       "    <tr>\n",
       "      <th>4</th>\n",
       "      <td>775,970</td>\n",
       "      <td>평점4</td>\n",
       "      <td>신세계TV쇼핑</td>\n",
       "      <td>21.09.20.</td>\n",
       "      <td>LG전자 코드제로 A9S 올인원타워 AS9370IKT</td>\n",
       "      <td>우선 먼지통 비우는 불편함이 없는점이 제일 좋았어요~소음도 생각보다 크지않고 청소기...</td>\n",
       "    </tr>\n",
       "  </tbody>\n",
       "</table>\n",
       "</div>"
      ],
      "text/plain": [
       "        가격   평점       채널         날짜                            제품명  \\\n",
       "0  775,970  평점5     보다쇼핑  21.11.01.  LG전자 코드제로 A9S 올인원타워 AS9370IKT   \n",
       "1  775,970  평점3  신세계TV쇼핑  21.11.05.  LG전자 코드제로 A9S 올인원타워 AS9370IKT   \n",
       "2  775,970  평점4     쇼핑엔티  21.11.16.  LG전자 코드제로 A9S 올인원타워 AS9370IKT   \n",
       "3  775,970  평점3   CJ온스타일  21.09.15.  LG전자 코드제로 A9S 올인원타워 AS9370IKT   \n",
       "4  775,970  평점4  신세계TV쇼핑  21.09.20.  LG전자 코드제로 A9S 올인원타워 AS9370IKT   \n",
       "\n",
       "                                                  리뷰  \n",
       "0  주문하고 3~4주 걸릴수있다고 안내전화받고 기다렸는데 10일만에 배송된다고 lg기사...  \n",
       "1  일단 배송이 한달 걸렸어요.. 삼성비스코프 청소기에 결함이 있어서 반품 처리 하고 ...  \n",
       "2  생각했던것보다 배송은 빨랐네요(10일 걸렸습니다)유선 청소기만 쓰다가 무선청소기 처...  \n",
       "3  청소는 주로 남편이 하니까, 제가 청소기 쓸 일은 거의 없긴 한데요, 이것을 주로 ...  \n",
       "4  우선 먼지통 비우는 불편함이 없는점이 제일 좋았어요~소음도 생각보다 크지않고 청소기...  "
      ]
     },
     "execution_count": 18,
     "metadata": {},
     "output_type": "execute_result"
    }
   ],
   "source": [
    "# 데이터 읽어오기\n",
    "lg_data = pd.read_csv('./data/엘지_중복제거.csv',  encoding = 'cp949')\n",
    "lg_data.head()"
   ]
  },
  {
   "cell_type": "code",
   "execution_count": 19,
   "metadata": {
    "colab": {
     "base_uri": "https://localhost:8080/"
    },
    "id": "vcyb9qFpDq4v",
    "outputId": "30393198-5513-4697-af46-0151ca90da7b"
   },
   "outputs": [
    {
     "name": "stdout",
     "output_type": "stream",
     "text": [
      "가격     0\n",
      "평점     0\n",
      "채널     0\n",
      "날짜     0\n",
      "제품명    0\n",
      "리뷰     0\n",
      "dtype: int64\n"
     ]
    }
   ],
   "source": [
    "# 결측치 확인\n",
    "print(lg_data.isnull().sum())"
   ]
  },
  {
   "cell_type": "code",
   "execution_count": 20,
   "metadata": {
    "id": "lnF-wuJODq66"
   },
   "outputs": [],
   "source": [
    "lg_model_name = lg_data.drop_duplicates(['제품명'])['제품명'] \n",
    "lg_model_cost = lg_data.drop_duplicates(['가격'])['가격']    "
   ]
  },
  {
   "cell_type": "code",
   "execution_count": 21,
   "metadata": {
    "colab": {
     "base_uri": "https://localhost:8080/"
    },
    "id": "YRItlEBIDrAp",
    "outputId": "061fe504-113c-4646-e987-ce039db2f1c2"
   },
   "outputs": [
    {
     "data": {
      "text/plain": [
       "0       LG전자 코드제로 A9S 올인원타워 AS9370IKT\n",
       "200                LG전자 오브제컬렉션 AO9571\n",
       "400               LG전자 코드제로 A9S A9370\n",
       "600         LG전자 A9S 오브제컬렉션 AO9471WKT\n",
       "800                  LG전자 코드제로 A9100S\n",
       "1000              LG전자 코드제로 A9S A9700\n",
       "Name: 제품명, dtype: object"
      ]
     },
     "execution_count": 21,
     "metadata": {},
     "output_type": "execute_result"
    }
   ],
   "source": [
    "lg_model_name "
   ]
  },
  {
   "cell_type": "code",
   "execution_count": 22,
   "metadata": {
    "colab": {
     "base_uri": "https://localhost:8080/"
    },
    "id": "CDA1xsPa8WyC",
    "outputId": "c5f76e2e-a7ca-4129-beb2-4aa31ee5bce8"
   },
   "outputs": [
    {
     "data": {
      "text/plain": [
       "0         775,970\n",
       "200     1,070,100\n",
       "400       698,220\n",
       "600     1,059,000\n",
       "800       593,170\n",
       "1000      867,260\n",
       "Name: 가격, dtype: object"
      ]
     },
     "execution_count": 22,
     "metadata": {},
     "output_type": "execute_result"
    }
   ],
   "source": [
    "lg_model_cost"
   ]
  },
  {
   "cell_type": "code",
   "execution_count": 23,
   "metadata": {
    "colab": {
     "base_uri": "https://localhost:8080/"
    },
    "id": "Y8UJnj198XHL",
    "outputId": "74ba31a0-e0f9-40d7-d224-f4273d1c8920"
   },
   "outputs": [],
   "source": [
    "# lg 6개 제품\n",
    "lg_list = []\n",
    "for i in range(6):\n",
    "    \n",
    "    lg_dict = {}\n",
    "    lg_name = lg_model_name.iloc[i]\n",
    "    lg_cost = lg_model_cost.iloc[i]\n",
    "    \n",
    "    lg_test_1 = lg_data['제품명'] == lg_name\n",
    "    lg_test = lg_data[lg_test_1]\n",
    "    lg_star = lg_test['평점'].tolist()[:100]\n",
    "    lg_channel = lg_test['채널'].tolist()[:100]\n",
    "    lg_date = lg_test['날짜'].tolist()[:100]\n",
    "    lg_review = lg_test['리뷰'].tolist()[:100]\n",
    "    \n",
    "    lg_dict['제품명'] = lg_name\n",
    "    lg_dict['가격'] = lg_cost\n",
    "    lg_dict['평점'] = lg_star\n",
    "    lg_dict['채널'] = lg_channel\n",
    "    lg_dict['날짜'] = lg_date\n",
    "    lg_dict['리뷰'] = lg_review\n",
    "    \n",
    "    lg_list.append(lg_dict)\n"
   ]
  },
  {
   "cell_type": "code",
   "execution_count": 24,
   "metadata": {
    "colab": {
     "base_uri": "https://localhost:8080/"
    },
    "id": "iCE7gjCc8XQH",
    "outputId": "2e4e0e2b-6bd2-4973-d95b-798b70a9df22"
   },
   "outputs": [
    {
     "name": "stdout",
     "output_type": "stream",
     "text": [
      "6\n"
     ]
    }
   ],
   "source": [
    "print(len(lg_list))"
   ]
  },
  {
   "cell_type": "code",
   "execution_count": 25,
   "metadata": {
    "colab": {
     "base_uri": "https://localhost:8080/"
    },
    "id": "Dqa3cUX4OhFY",
    "outputId": "c0dc88de-ec7f-4802-be66-8148908eef68"
   },
   "outputs": [
    {
     "name": "stdout",
     "output_type": "stream",
     "text": [
      "dict_keys(['제품명', '가격', '평점', '채널', '날짜', '리뷰'])\n"
     ]
    }
   ],
   "source": [
    "print(lg_list[0].keys())"
   ]
  },
  {
   "cell_type": "markdown",
   "metadata": {
    "id": "txUssQ51NxMp"
   },
   "source": [
    "- 테팔"
   ]
  },
  {
   "cell_type": "code",
   "execution_count": 26,
   "metadata": {
    "colab": {
     "base_uri": "https://localhost:8080/",
     "height": 250
    },
    "id": "owcT3g-yFNnA",
    "outputId": "0829a0ed-3a50-43a0-d131-8f2dfa1f1228"
   },
   "outputs": [
    {
     "data": {
      "text/html": [
       "<div>\n",
       "<style scoped>\n",
       "    .dataframe tbody tr th:only-of-type {\n",
       "        vertical-align: middle;\n",
       "    }\n",
       "\n",
       "    .dataframe tbody tr th {\n",
       "        vertical-align: top;\n",
       "    }\n",
       "\n",
       "    .dataframe thead th {\n",
       "        text-align: right;\n",
       "    }\n",
       "</style>\n",
       "<table border=\"1\" class=\"dataframe\">\n",
       "  <thead>\n",
       "    <tr style=\"text-align: right;\">\n",
       "      <th></th>\n",
       "      <th>가격</th>\n",
       "      <th>평점</th>\n",
       "      <th>채널</th>\n",
       "      <th>날짜</th>\n",
       "      <th>제품명</th>\n",
       "      <th>리뷰</th>\n",
       "    </tr>\n",
       "  </thead>\n",
       "  <tbody>\n",
       "    <tr>\n",
       "      <th>0</th>\n",
       "      <td>178,600</td>\n",
       "      <td>평점4</td>\n",
       "      <td>11번가</td>\n",
       "      <td>21.10.13.</td>\n",
       "      <td>2020년형테팔 엑스퍼트3.60 TY6933</td>\n",
       "      <td>무선청소기 넘 갖고 싶었는데 가격 부담없는 테팔로 구매했어요. 사용 후 장,단점을 ...</td>\n",
       "    </tr>\n",
       "    <tr>\n",
       "      <th>1</th>\n",
       "      <td>178,600</td>\n",
       "      <td>평점3</td>\n",
       "      <td>11번가</td>\n",
       "      <td>21.11.11.</td>\n",
       "      <td>2020년형테팔 엑스퍼트3.60 TY6933</td>\n",
       "      <td>장점: 저렴하게 샀다. 카드 할인까지 받아서 94050에 샀다. 가볍다. 기능이 단...</td>\n",
       "    </tr>\n",
       "    <tr>\n",
       "      <th>2</th>\n",
       "      <td>178,600</td>\n",
       "      <td>평점3</td>\n",
       "      <td>테팔</td>\n",
       "      <td>21.09.10.</td>\n",
       "      <td>2020년형테팔 엑스퍼트3.60 TY6933</td>\n",
       "      <td>장점-가격이 저렴, 배터리 잔량표시됨, 무게가 가볍다.단점-공기청정기나 선풍기인줄....</td>\n",
       "    </tr>\n",
       "    <tr>\n",
       "      <th>3</th>\n",
       "      <td>178,600</td>\n",
       "      <td>평점5</td>\n",
       "      <td>11번가</td>\n",
       "      <td>21.10.06.</td>\n",
       "      <td>2020년형테팔 엑스퍼트3.60 TY6933</td>\n",
       "      <td>배송은 일단 빨랐습니다. 포장상태도 만족하구요.벽에 고정시켜서 청소기를 거치도 할 ...</td>\n",
       "    </tr>\n",
       "    <tr>\n",
       "      <th>4</th>\n",
       "      <td>178,600</td>\n",
       "      <td>평점5</td>\n",
       "      <td>11번가</td>\n",
       "      <td>21.04.07.</td>\n",
       "      <td>2020년형테팔 엑스퍼트3.60 TY6933</td>\n",
       "      <td>6년동안 사용했던 삼성 무선청소기가 갑자기 고장이 나서 급하게 찾아보다가 저렴한 가...</td>\n",
       "    </tr>\n",
       "  </tbody>\n",
       "</table>\n",
       "</div>"
      ],
      "text/plain": [
       "        가격   평점    채널         날짜                       제품명  \\\n",
       "0  178,600  평점4  11번가  21.10.13.  2020년형테팔 엑스퍼트3.60 TY6933   \n",
       "1  178,600  평점3  11번가  21.11.11.  2020년형테팔 엑스퍼트3.60 TY6933   \n",
       "2  178,600  평점3    테팔  21.09.10.  2020년형테팔 엑스퍼트3.60 TY6933   \n",
       "3  178,600  평점5  11번가  21.10.06.  2020년형테팔 엑스퍼트3.60 TY6933   \n",
       "4  178,600  평점5  11번가  21.04.07.  2020년형테팔 엑스퍼트3.60 TY6933   \n",
       "\n",
       "                                                  리뷰  \n",
       "0  무선청소기 넘 갖고 싶었는데 가격 부담없는 테팔로 구매했어요. 사용 후 장,단점을 ...  \n",
       "1  장점: 저렴하게 샀다. 카드 할인까지 받아서 94050에 샀다. 가볍다. 기능이 단...  \n",
       "2  장점-가격이 저렴, 배터리 잔량표시됨, 무게가 가볍다.단점-공기청정기나 선풍기인줄....  \n",
       "3  배송은 일단 빨랐습니다. 포장상태도 만족하구요.벽에 고정시켜서 청소기를 거치도 할 ...  \n",
       "4  6년동안 사용했던 삼성 무선청소기가 갑자기 고장이 나서 급하게 찾아보다가 저렴한 가...  "
      ]
     },
     "execution_count": 26,
     "metadata": {},
     "output_type": "execute_result"
    }
   ],
   "source": [
    "tefal_data = pd.read_csv('./data/테팔_중복제거.csv',  encoding = 'cp949')\n",
    "tefal_data.head()"
   ]
  },
  {
   "cell_type": "code",
   "execution_count": 27,
   "metadata": {
    "colab": {
     "base_uri": "https://localhost:8080/"
    },
    "id": "wx1RzFXAFNoC",
    "outputId": "e91e1e69-b9dc-4388-c9bb-48bace38010c"
   },
   "outputs": [
    {
     "name": "stdout",
     "output_type": "stream",
     "text": [
      "가격     0\n",
      "평점     0\n",
      "채널     0\n",
      "날짜     0\n",
      "제품명    0\n",
      "리뷰     0\n",
      "dtype: int64\n"
     ]
    }
   ],
   "source": [
    "# 결측치 확인\n",
    "print(tefal_data.isnull().sum())"
   ]
  },
  {
   "cell_type": "code",
   "execution_count": 28,
   "metadata": {
    "colab": {
     "base_uri": "https://localhost:8080/"
    },
    "id": "5xLLZyMYFNpG",
    "outputId": "9480e104-7b8e-484f-8d4c-f5d0218cb7fc"
   },
   "outputs": [],
   "source": [
    "tefal_list = [] \n",
    "tefal_model_name = tefal_data.drop_duplicates(['제품명'])['제품명']\n",
    "tefal_model_cost = tefal_data.drop_duplicates(['가격'])['가격']\n",
    "\n",
    "# tefal 4개\n",
    "for i in range(4):\n",
    "    \n",
    "    tefal_dict = {}\n",
    "    tefal_name = tefal_model_name.iloc[i]\n",
    "    tefal_cost = tefal_model_cost.iloc[i]\n",
    "    \n",
    "    tefal_test_1 = tefal_data['제품명'] == tefal_name\n",
    "    tefal_test = tefal_data[tefal_test_1]\n",
    "    tefal_star = tefal_test['평점'].tolist()[:100]\n",
    "    tefal_channel = tefal_test['채널'].tolist()[:100]\n",
    "    tefal_date = tefal_test['날짜'].tolist()[:100]\n",
    "    tefal_review = tefal_test['리뷰'].tolist()[:100]\n",
    "    \n",
    "    tefal_dict['제품명'] = tefal_name\n",
    "    tefal_dict['가격'] = tefal_cost\n",
    "    tefal_dict['평점'] = tefal_star\n",
    "    tefal_dict['채널'] = tefal_channel\n",
    "    tefal_dict['날짜'] = tefal_date\n",
    "    tefal_dict['리뷰'] = tefal_review\n",
    "    \n",
    "    tefal_list.append(tefal_dict)\n",
    "\n"
   ]
  },
  {
   "cell_type": "code",
   "execution_count": 29,
   "metadata": {
    "colab": {
     "base_uri": "https://localhost:8080/"
    },
    "id": "Skrk3A_cFNqe",
    "outputId": "5a125d0e-2a67-4e24-dd3e-12f4ea241da3"
   },
   "outputs": [
    {
     "name": "stdout",
     "output_type": "stream",
     "text": [
      "4\n"
     ]
    }
   ],
   "source": [
    "print(len(tefal_list))"
   ]
  },
  {
   "cell_type": "markdown",
   "metadata": {
    "id": "OtT7W8CLyuIS"
   },
   "source": [
    "## 정새하"
   ]
  },
  {
   "cell_type": "code",
   "execution_count": 61,
   "metadata": {
    "colab": {
     "base_uri": "https://localhost:8080/",
     "height": 206
    },
    "id": "7k3Z0j_W3EOP",
    "outputId": "a0432a7f-b1f5-4ef8-d587-8c0d57194797"
   },
   "outputs": [
    {
     "data": {
      "text/html": [
       "<div>\n",
       "<style scoped>\n",
       "    .dataframe tbody tr th:only-of-type {\n",
       "        vertical-align: middle;\n",
       "    }\n",
       "\n",
       "    .dataframe tbody tr th {\n",
       "        vertical-align: top;\n",
       "    }\n",
       "\n",
       "    .dataframe thead th {\n",
       "        text-align: right;\n",
       "    }\n",
       "</style>\n",
       "<table border=\"1\" class=\"dataframe\">\n",
       "  <thead>\n",
       "    <tr style=\"text-align: right;\">\n",
       "      <th></th>\n",
       "      <th>가격</th>\n",
       "      <th>평점</th>\n",
       "      <th>채널</th>\n",
       "      <th>날짜</th>\n",
       "      <th>제품명</th>\n",
       "      <th>리뷰</th>\n",
       "    </tr>\n",
       "  </thead>\n",
       "  <tbody>\n",
       "    <tr>\n",
       "      <th>0</th>\n",
       "      <td>598,740</td>\n",
       "      <td>평점5</td>\n",
       "      <td>삼성공식파트너 평강프라자</td>\n",
       "      <td>21.04.29.</td>\n",
       "      <td>삼성전자 비스포크제트 VS20A956A3</td>\n",
       "      <td>삼성의 역전1. 구입동기경쟁사 제품을 약 3년간 사용하면서 3번의 배터리 방전 문제...</td>\n",
       "    </tr>\n",
       "    <tr>\n",
       "      <th>1</th>\n",
       "      <td>598,740</td>\n",
       "      <td>평점5</td>\n",
       "      <td>삼성공식파트너 평강프라자</td>\n",
       "      <td>21.05.30.</td>\n",
       "      <td>삼성전자 비스포크제트 VS20A956A3</td>\n",
       "      <td>기존에 타사A  제품  처음 출시될때부터 사용했어요~유선 청소기는 이제 더이상 사용...</td>\n",
       "    </tr>\n",
       "    <tr>\n",
       "      <th>2</th>\n",
       "      <td>598,740</td>\n",
       "      <td>평점5</td>\n",
       "      <td>신세계몰</td>\n",
       "      <td>21.11.24.</td>\n",
       "      <td>삼성전자 비스포크제트 VS20A956A3</td>\n",
       "      <td>저가 청소기를 3~4년정도 쓰다가 흡입력도 떨어지고 충전도 잘 안되서 큰마음먹고 청...</td>\n",
       "    </tr>\n",
       "    <tr>\n",
       "      <th>3</th>\n",
       "      <td>598,740</td>\n",
       "      <td>평점5</td>\n",
       "      <td>11번가</td>\n",
       "      <td>21.11.27.</td>\n",
       "      <td>삼성전자 비스포크제트 VS20A956A3</td>\n",
       "      <td>다이슨청소기만 오래사용하다가 삼성 제트로 바꿨어요.다이슨은 소음도 크고 사용시 버튼...</td>\n",
       "    </tr>\n",
       "    <tr>\n",
       "      <th>4</th>\n",
       "      <td>598,740</td>\n",
       "      <td>평점5</td>\n",
       "      <td>신세계몰</td>\n",
       "      <td>21.12.02.</td>\n",
       "      <td>삼성전자 비스포크제트 VS20A956A3</td>\n",
       "      <td>집에서 유선청소기를 쓰려면 전기코드 찾아야 되고 또 전기선이 짧아 고생하다가 삼성비...</td>\n",
       "    </tr>\n",
       "  </tbody>\n",
       "</table>\n",
       "</div>"
      ],
      "text/plain": [
       "        가격   평점             채널         날짜                     제품명  \\\n",
       "0  598,740  평점5  삼성공식파트너 평강프라자  21.04.29.  삼성전자 비스포크제트 VS20A956A3   \n",
       "1  598,740  평점5  삼성공식파트너 평강프라자  21.05.30.  삼성전자 비스포크제트 VS20A956A3   \n",
       "2  598,740  평점5           신세계몰  21.11.24.  삼성전자 비스포크제트 VS20A956A3   \n",
       "3  598,740  평점5           11번가  21.11.27.  삼성전자 비스포크제트 VS20A956A3   \n",
       "4  598,740  평점5           신세계몰  21.12.02.  삼성전자 비스포크제트 VS20A956A3   \n",
       "\n",
       "                                                  리뷰  \n",
       "0  삼성의 역전1. 구입동기경쟁사 제품을 약 3년간 사용하면서 3번의 배터리 방전 문제...  \n",
       "1  기존에 타사A  제품  처음 출시될때부터 사용했어요~유선 청소기는 이제 더이상 사용...  \n",
       "2  저가 청소기를 3~4년정도 쓰다가 흡입력도 떨어지고 충전도 잘 안되서 큰마음먹고 청...  \n",
       "3  다이슨청소기만 오래사용하다가 삼성 제트로 바꿨어요.다이슨은 소음도 크고 사용시 버튼...  \n",
       "4  집에서 유선청소기를 쓰려면 전기코드 찾아야 되고 또 전기선이 짧아 고생하다가 삼성비...  "
      ]
     },
     "execution_count": 61,
     "metadata": {},
     "output_type": "execute_result"
    }
   ],
   "source": [
    "samsung_df = pd.read_csv('./data/삼성.csv', encoding='cp949')\n",
    "samsung_df.head()"
   ]
  },
  {
   "cell_type": "code",
   "execution_count": 62,
   "metadata": {
    "colab": {
     "base_uri": "https://localhost:8080/",
     "height": 424
    },
    "id": "0ceNG81tBanR",
    "outputId": "dc16a6a9-177c-46f0-cbc7-19036e9c0b97"
   },
   "outputs": [
    {
     "data": {
      "text/html": [
       "<div>\n",
       "<style scoped>\n",
       "    .dataframe tbody tr th:only-of-type {\n",
       "        vertical-align: middle;\n",
       "    }\n",
       "\n",
       "    .dataframe tbody tr th {\n",
       "        vertical-align: top;\n",
       "    }\n",
       "\n",
       "    .dataframe thead th {\n",
       "        text-align: right;\n",
       "    }\n",
       "</style>\n",
       "<table border=\"1\" class=\"dataframe\">\n",
       "  <thead>\n",
       "    <tr style=\"text-align: right;\">\n",
       "      <th></th>\n",
       "      <th>가격</th>\n",
       "      <th>평점</th>\n",
       "      <th>채널</th>\n",
       "      <th>날짜</th>\n",
       "      <th>제품명</th>\n",
       "      <th>리뷰</th>\n",
       "    </tr>\n",
       "  </thead>\n",
       "  <tbody>\n",
       "    <tr>\n",
       "      <th>0</th>\n",
       "      <td>32,710</td>\n",
       "      <td>평점1</td>\n",
       "      <td>아비소</td>\n",
       "      <td>21.10.11.</td>\n",
       "      <td>신일 싹쓸이 SVC-680G</td>\n",
       "      <td>참...사람 욕심이란게....첨엔 그래 머리카락만 잘 빨아들이몀 된다 생각했는데.....</td>\n",
       "    </tr>\n",
       "    <tr>\n",
       "      <th>1</th>\n",
       "      <td>32,710</td>\n",
       "      <td>평점4</td>\n",
       "      <td>G마켓</td>\n",
       "      <td>21.08.02.</td>\n",
       "      <td>신일 싹쓸이 SVC-680G</td>\n",
       "      <td>아이들이 지우개 찌꺼기 진공청소기를 산다기에 알아봤더니책상용 진공청소기도 성능이 쓸...</td>\n",
       "    </tr>\n",
       "    <tr>\n",
       "      <th>2</th>\n",
       "      <td>32,710</td>\n",
       "      <td>평점4</td>\n",
       "      <td>아비소</td>\n",
       "      <td>21.07.30.</td>\n",
       "      <td>신일 싹쓸이 SVC-680G</td>\n",
       "      <td>머리카락용으로 구입했어요머리말릴때 머리카락이 너무 많이 빠져서휴지뽑아 손으로 쓱쓱 ...</td>\n",
       "    </tr>\n",
       "    <tr>\n",
       "      <th>3</th>\n",
       "      <td>32,710</td>\n",
       "      <td>평점5</td>\n",
       "      <td>옥션</td>\n",
       "      <td>21.08.10.</td>\n",
       "      <td>신일 싹쓸이 SVC-680G</td>\n",
       "      <td>배송은 빠른편이구요 상품도 마음에 들어요 가격이 왔다갔다 하네요 다행히 쫌 더 저렴...</td>\n",
       "    </tr>\n",
       "    <tr>\n",
       "      <th>4</th>\n",
       "      <td>32,710</td>\n",
       "      <td>평점5</td>\n",
       "      <td>아비소</td>\n",
       "      <td>21.01.02.</td>\n",
       "      <td>신일 싹쓸이 SVC-680G</td>\n",
       "      <td>전에도 신일 싹쓰리 5년정도 써서 이번에도 신일꺼로 구매했어요.그때보다 힘도 쎄지고...</td>\n",
       "    </tr>\n",
       "    <tr>\n",
       "      <th>...</th>\n",
       "      <td>...</td>\n",
       "      <td>...</td>\n",
       "      <td>...</td>\n",
       "      <td>...</td>\n",
       "      <td>...</td>\n",
       "      <td>...</td>\n",
       "    </tr>\n",
       "    <tr>\n",
       "      <th>916</th>\n",
       "      <td>38,700</td>\n",
       "      <td>평점5</td>\n",
       "      <td>SK스토아</td>\n",
       "      <td>20.10.19.</td>\n",
       "      <td>신일전자 SVC-SHS500</td>\n",
       "      <td>딸아이 기숙사 보냈어요.공간도 많이 차지하고 않고 좋다고 하네요</td>\n",
       "    </tr>\n",
       "    <tr>\n",
       "      <th>917</th>\n",
       "      <td>38,700</td>\n",
       "      <td>평점5</td>\n",
       "      <td>G마켓</td>\n",
       "      <td>20.11.07.</td>\n",
       "      <td>신일전자 SVC-SHS500</td>\n",
       "      <td>잘 받았습니다 감사합니다</td>\n",
       "    </tr>\n",
       "    <tr>\n",
       "      <th>918</th>\n",
       "      <td>38,700</td>\n",
       "      <td>평점5</td>\n",
       "      <td>위메프</td>\n",
       "      <td>20.10.23.</td>\n",
       "      <td>신일전자 SVC-SHS500</td>\n",
       "      <td>엄마  사드렸어요. 간단하게  청소하기  좋네요</td>\n",
       "    </tr>\n",
       "    <tr>\n",
       "      <th>919</th>\n",
       "      <td>38,700</td>\n",
       "      <td>평점5</td>\n",
       "      <td>전자랜드</td>\n",
       "      <td>20.10.23.</td>\n",
       "      <td>신일전자 SVC-SHS500</td>\n",
       "      <td>흡 입 력 좋아요.</td>\n",
       "    </tr>\n",
       "    <tr>\n",
       "      <th>920</th>\n",
       "      <td>38,700</td>\n",
       "      <td>평점1</td>\n",
       "      <td>옥션</td>\n",
       "      <td>20.11.06.</td>\n",
       "      <td>신일전자 SVC-SHS500</td>\n",
       "      <td>배송도 느리고 문의 전화시 불친절 합니다상품도 별루일 듯 해서 반품처리 했습니다반품...</td>\n",
       "    </tr>\n",
       "  </tbody>\n",
       "</table>\n",
       "<p>921 rows × 6 columns</p>\n",
       "</div>"
      ],
      "text/plain": [
       "         가격   평점     채널         날짜              제품명  \\\n",
       "0    32,710  평점1    아비소  21.10.11.  신일 싹쓸이 SVC-680G   \n",
       "1    32,710  평점4    G마켓  21.08.02.  신일 싹쓸이 SVC-680G   \n",
       "2    32,710  평점4    아비소  21.07.30.  신일 싹쓸이 SVC-680G   \n",
       "3    32,710  평점5     옥션  21.08.10.  신일 싹쓸이 SVC-680G   \n",
       "4    32,710  평점5    아비소  21.01.02.  신일 싹쓸이 SVC-680G   \n",
       "..      ...  ...    ...        ...              ...   \n",
       "916  38,700  평점5  SK스토아  20.10.19.  신일전자 SVC-SHS500   \n",
       "917  38,700  평점5    G마켓  20.11.07.  신일전자 SVC-SHS500   \n",
       "918  38,700  평점5    위메프  20.10.23.  신일전자 SVC-SHS500   \n",
       "919  38,700  평점5   전자랜드  20.10.23.  신일전자 SVC-SHS500   \n",
       "920  38,700  평점1     옥션  20.11.06.  신일전자 SVC-SHS500   \n",
       "\n",
       "                                                    리뷰  \n",
       "0    참...사람 욕심이란게....첨엔 그래 머리카락만 잘 빨아들이몀 된다 생각했는데.....  \n",
       "1    아이들이 지우개 찌꺼기 진공청소기를 산다기에 알아봤더니책상용 진공청소기도 성능이 쓸...  \n",
       "2    머리카락용으로 구입했어요머리말릴때 머리카락이 너무 많이 빠져서휴지뽑아 손으로 쓱쓱 ...  \n",
       "3    배송은 빠른편이구요 상품도 마음에 들어요 가격이 왔다갔다 하네요 다행히 쫌 더 저렴...  \n",
       "4    전에도 신일 싹쓰리 5년정도 써서 이번에도 신일꺼로 구매했어요.그때보다 힘도 쎄지고...  \n",
       "..                                                 ...  \n",
       "916                딸아이 기숙사 보냈어요.공간도 많이 차지하고 않고 좋다고 하네요  \n",
       "917                                      잘 받았습니다 감사합니다  \n",
       "918                         엄마  사드렸어요. 간단하게  청소하기  좋네요  \n",
       "919                                         흡 입 력 좋아요.  \n",
       "920  배송도 느리고 문의 전화시 불친절 합니다상품도 별루일 듯 해서 반품처리 했습니다반품...  \n",
       "\n",
       "[921 rows x 6 columns]"
      ]
     },
     "execution_count": 62,
     "metadata": {},
     "output_type": "execute_result"
    }
   ],
   "source": [
    "sinil_df = pd.read_csv('./data/신일.csv', encoding='cp949')\n",
    "sinil_df"
   ]
  },
  {
   "cell_type": "code",
   "execution_count": 63,
   "metadata": {
    "colab": {
     "base_uri": "https://localhost:8080/"
    },
    "id": "yuDM013RZ3Ot",
    "outputId": "e0dbc0db-99ef-40f0-a8e7-d3c03459a6bc"
   },
   "outputs": [
    {
     "name": "stdout",
     "output_type": "stream",
     "text": [
      "가격     0\n",
      "평점     0\n",
      "채널     2\n",
      "날짜     0\n",
      "제품명    0\n",
      "리뷰     0\n",
      "dtype: int64\n",
      "가격     0\n",
      "평점     0\n",
      "채널     0\n",
      "날짜     0\n",
      "제품명    0\n",
      "리뷰     0\n",
      "dtype: int64\n"
     ]
    }
   ],
   "source": [
    "#null 값 확인\n",
    "print(samsung_df.isnull().sum())\n",
    "print(sinil_df.isnull().sum())"
   ]
  },
  {
   "cell_type": "code",
   "execution_count": 64,
   "metadata": {
    "colab": {
     "base_uri": "https://localhost:8080/",
     "height": 112
    },
    "id": "x6AWJRfIaT8d",
    "outputId": "a27c32f0-6ffb-462a-bd51-cae32b85d320"
   },
   "outputs": [
    {
     "data": {
      "text/html": [
       "<div>\n",
       "<style scoped>\n",
       "    .dataframe tbody tr th:only-of-type {\n",
       "        vertical-align: middle;\n",
       "    }\n",
       "\n",
       "    .dataframe tbody tr th {\n",
       "        vertical-align: top;\n",
       "    }\n",
       "\n",
       "    .dataframe thead th {\n",
       "        text-align: right;\n",
       "    }\n",
       "</style>\n",
       "<table border=\"1\" class=\"dataframe\">\n",
       "  <thead>\n",
       "    <tr style=\"text-align: right;\">\n",
       "      <th></th>\n",
       "      <th>가격</th>\n",
       "      <th>평점</th>\n",
       "      <th>채널</th>\n",
       "      <th>날짜</th>\n",
       "      <th>제품명</th>\n",
       "      <th>리뷰</th>\n",
       "    </tr>\n",
       "  </thead>\n",
       "  <tbody>\n",
       "    <tr>\n",
       "      <th>389</th>\n",
       "      <td>59,030</td>\n",
       "      <td>평점5</td>\n",
       "      <td>NaN</td>\n",
       "      <td>20.11.29.</td>\n",
       "      <td>삼성전자 삼성 VC-H71</td>\n",
       "      <td>한국산이라서 품질이 좋다.중국산 5만원짜리 사서 썼는데 빨리 고장나서   전에 쓰던...</td>\n",
       "    </tr>\n",
       "    <tr>\n",
       "      <th>411</th>\n",
       "      <td>59,030</td>\n",
       "      <td>평점5</td>\n",
       "      <td>NaN</td>\n",
       "      <td>19.06.05.</td>\n",
       "      <td>삼성전자 삼성 VC-H71</td>\n",
       "      <td>제가 쓰던 청소기인데 너무 괜찮아서 엄마 사드렸어요. 가볍고 바닥에 떨어진 부스러기...</td>\n",
       "    </tr>\n",
       "  </tbody>\n",
       "</table>\n",
       "</div>"
      ],
      "text/plain": [
       "         가격   평점   채널         날짜             제품명  \\\n",
       "389  59,030  평점5  NaN  20.11.29.  삼성전자 삼성 VC-H71   \n",
       "411  59,030  평점5  NaN  19.06.05.  삼성전자 삼성 VC-H71   \n",
       "\n",
       "                                                    리뷰  \n",
       "389  한국산이라서 품질이 좋다.중국산 5만원짜리 사서 썼는데 빨리 고장나서   전에 쓰던...  \n",
       "411  제가 쓰던 청소기인데 너무 괜찮아서 엄마 사드렸어요. 가볍고 바닥에 떨어진 부스러기...  "
      ]
     },
     "execution_count": 64,
     "metadata": {},
     "output_type": "execute_result"
    }
   ],
   "source": [
    "samsung_df[samsung_df['채널'].isnull()]"
   ]
  },
  {
   "cell_type": "code",
   "execution_count": 65,
   "metadata": {
    "colab": {
     "base_uri": "https://localhost:8080/"
    },
    "id": "M55tcEhoaMoV",
    "outputId": "bbd2ab38-76cd-4f3e-fad5-312f3766b6db"
   },
   "outputs": [
    {
     "data": {
      "text/plain": [
       "컴퓨존              154\n",
       "11번가             141\n",
       "신세계몰             122\n",
       "삼성공식파트너 보보       118\n",
       "SSG닷컴             88\n",
       "G마켓               57\n",
       "하이마트쇼핑몰           42\n",
       "네고네고              36\n",
       "롯데홈쇼핑             31\n",
       "옥션                22\n",
       "삼성공식파트너 평강프라자     15\n",
       "현대Hmall           15\n",
       "글로벌114            11\n",
       "솔커머스              10\n",
       "롯데ON               8\n",
       "GSSHOP             8\n",
       "코스트컷몰              7\n",
       "인터파크               4\n",
       "전자랜드               3\n",
       "강남언니네              3\n",
       "디자이너 W             3\n",
       "위메프                3\n",
       "삼성공식파트너 디지털마트      3\n",
       "롯데백화점              3\n",
       "보다쇼핑               1\n",
       "동원몰                1\n",
       "케이엔디지털             1\n",
       "선                  1\n",
       "Name: 채널, dtype: int64"
      ]
     },
     "execution_count": 65,
     "metadata": {},
     "output_type": "execute_result"
    }
   ],
   "source": [
    "#결측치 대체 위한 채널 수 확인\n",
    "samsung_df['채널'].value_counts() "
   ]
  },
  {
   "cell_type": "code",
   "execution_count": 66,
   "metadata": {
    "id": "fmUaKaAqc0Ru"
   },
   "outputs": [],
   "source": [
    "#440, 462\n",
    "samsung_df.iloc[440]['채널'] = '컴퓨존'\n",
    "samsung_df.iloc[462]['채널'] = '컴퓨존'"
   ]
  },
  {
   "cell_type": "code",
   "execution_count": 67,
   "metadata": {
    "colab": {
     "base_uri": "https://localhost:8080/"
    },
    "id": "Uj7y_QhGdpt1",
    "outputId": "d55b1750-0fb9-496c-e4ec-691c818780b9"
   },
   "outputs": [
    {
     "name": "stdout",
     "output_type": "stream",
     "text": [
      "가격     0\n",
      "평점     0\n",
      "채널     2\n",
      "날짜     0\n",
      "제품명    0\n",
      "리뷰     0\n",
      "dtype: int64\n"
     ]
    }
   ],
   "source": [
    "print(samsung_df.isnull().sum())"
   ]
  },
  {
   "cell_type": "code",
   "execution_count": 68,
   "metadata": {
    "colab": {
     "base_uri": "https://localhost:8080/",
     "height": 238
    },
    "id": "pxOmYp5uRj2B",
    "outputId": "6f25183a-e852-459d-8cfd-157e1a083f66"
   },
   "outputs": [
    {
     "data": {
      "text/html": [
       "<div>\n",
       "<style scoped>\n",
       "    .dataframe tbody tr th:only-of-type {\n",
       "        vertical-align: middle;\n",
       "    }\n",
       "\n",
       "    .dataframe tbody tr th {\n",
       "        vertical-align: top;\n",
       "    }\n",
       "\n",
       "    .dataframe thead th {\n",
       "        text-align: right;\n",
       "    }\n",
       "</style>\n",
       "<table border=\"1\" class=\"dataframe\">\n",
       "  <thead>\n",
       "    <tr style=\"text-align: right;\">\n",
       "      <th></th>\n",
       "      <th>가격</th>\n",
       "      <th>평점</th>\n",
       "      <th>채널</th>\n",
       "      <th>날짜</th>\n",
       "      <th>리뷰</th>\n",
       "    </tr>\n",
       "    <tr>\n",
       "      <th>제품명</th>\n",
       "      <th></th>\n",
       "      <th></th>\n",
       "      <th></th>\n",
       "      <th></th>\n",
       "      <th></th>\n",
       "    </tr>\n",
       "  </thead>\n",
       "  <tbody>\n",
       "    <tr>\n",
       "      <th>삼성전자 비스포크제트 VS20A956A3</th>\n",
       "      <td>185</td>\n",
       "      <td>185</td>\n",
       "      <td>185</td>\n",
       "      <td>185</td>\n",
       "      <td>185</td>\n",
       "    </tr>\n",
       "    <tr>\n",
       "      <th>삼성전자 삼성 VC-H22</th>\n",
       "      <td>181</td>\n",
       "      <td>181</td>\n",
       "      <td>181</td>\n",
       "      <td>181</td>\n",
       "      <td>181</td>\n",
       "    </tr>\n",
       "    <tr>\n",
       "      <th>삼성전자 삼성 VC-H71</th>\n",
       "      <td>183</td>\n",
       "      <td>183</td>\n",
       "      <td>181</td>\n",
       "      <td>183</td>\n",
       "      <td>183</td>\n",
       "    </tr>\n",
       "    <tr>\n",
       "      <th>삼성전자 제트 VS15R8500BF</th>\n",
       "      <td>183</td>\n",
       "      <td>183</td>\n",
       "      <td>183</td>\n",
       "      <td>183</td>\n",
       "      <td>183</td>\n",
       "    </tr>\n",
       "    <tr>\n",
       "      <th>삼성전자 제트 VS20T9218QDCC</th>\n",
       "      <td>181</td>\n",
       "      <td>181</td>\n",
       "      <td>181</td>\n",
       "      <td>181</td>\n",
       "      <td>181</td>\n",
       "    </tr>\n",
       "  </tbody>\n",
       "</table>\n",
       "</div>"
      ],
      "text/plain": [
       "                         가격   평점   채널   날짜   리뷰\n",
       "제품명                                            \n",
       "삼성전자 비스포크제트 VS20A956A3  185  185  185  185  185\n",
       "삼성전자 삼성 VC-H22          181  181  181  181  181\n",
       "삼성전자 삼성 VC-H71          183  183  181  183  183\n",
       "삼성전자 제트 VS15R8500BF     183  183  183  183  183\n",
       "삼성전자 제트 VS20T9218QDCC   181  181  181  181  181"
      ]
     },
     "execution_count": 68,
     "metadata": {},
     "output_type": "execute_result"
    }
   ],
   "source": [
    "item_group = samsung_df.groupby('제품명').count()\n",
    "item_group"
   ]
  },
  {
   "cell_type": "code",
   "execution_count": 69,
   "metadata": {
    "colab": {
     "base_uri": "https://localhost:8080/",
     "height": 238
    },
    "id": "1MsjNAbIYV3M",
    "outputId": "76913453-d2dd-4df1-f71e-52cb6371b873"
   },
   "outputs": [
    {
     "data": {
      "text/html": [
       "<div>\n",
       "<style scoped>\n",
       "    .dataframe tbody tr th:only-of-type {\n",
       "        vertical-align: middle;\n",
       "    }\n",
       "\n",
       "    .dataframe tbody tr th {\n",
       "        vertical-align: top;\n",
       "    }\n",
       "\n",
       "    .dataframe thead th {\n",
       "        text-align: right;\n",
       "    }\n",
       "</style>\n",
       "<table border=\"1\" class=\"dataframe\">\n",
       "  <thead>\n",
       "    <tr style=\"text-align: right;\">\n",
       "      <th></th>\n",
       "      <th>평점</th>\n",
       "      <th>채널</th>\n",
       "      <th>날짜</th>\n",
       "      <th>제품명</th>\n",
       "      <th>리뷰</th>\n",
       "    </tr>\n",
       "    <tr>\n",
       "      <th>가격</th>\n",
       "      <th></th>\n",
       "      <th></th>\n",
       "      <th></th>\n",
       "      <th></th>\n",
       "      <th></th>\n",
       "    </tr>\n",
       "  </thead>\n",
       "  <tbody>\n",
       "    <tr>\n",
       "      <th>398,780</th>\n",
       "      <td>183</td>\n",
       "      <td>183</td>\n",
       "      <td>183</td>\n",
       "      <td>183</td>\n",
       "      <td>183</td>\n",
       "    </tr>\n",
       "    <tr>\n",
       "      <th>45,900</th>\n",
       "      <td>181</td>\n",
       "      <td>181</td>\n",
       "      <td>181</td>\n",
       "      <td>181</td>\n",
       "      <td>181</td>\n",
       "    </tr>\n",
       "    <tr>\n",
       "      <th>568,450</th>\n",
       "      <td>181</td>\n",
       "      <td>181</td>\n",
       "      <td>181</td>\n",
       "      <td>181</td>\n",
       "      <td>181</td>\n",
       "    </tr>\n",
       "    <tr>\n",
       "      <th>59,030</th>\n",
       "      <td>183</td>\n",
       "      <td>181</td>\n",
       "      <td>183</td>\n",
       "      <td>183</td>\n",
       "      <td>183</td>\n",
       "    </tr>\n",
       "    <tr>\n",
       "      <th>598,740</th>\n",
       "      <td>185</td>\n",
       "      <td>185</td>\n",
       "      <td>185</td>\n",
       "      <td>185</td>\n",
       "      <td>185</td>\n",
       "    </tr>\n",
       "  </tbody>\n",
       "</table>\n",
       "</div>"
      ],
      "text/plain": [
       "          평점   채널   날짜  제품명   리뷰\n",
       "가격                              \n",
       "398,780  183  183  183  183  183\n",
       "45,900   181  181  181  181  181\n",
       "568,450  181  181  181  181  181\n",
       "59,030   183  181  183  183  183\n",
       "598,740  185  185  185  185  185"
      ]
     },
     "execution_count": 69,
     "metadata": {},
     "output_type": "execute_result"
    }
   ],
   "source": [
    "price_group = samsung_df.groupby('가격').count()\n",
    "price_group"
   ]
  },
  {
   "cell_type": "code",
   "execution_count": 70,
   "metadata": {
    "colab": {
     "base_uri": "https://localhost:8080/"
    },
    "id": "jB-Vua_0TIbf",
    "outputId": "6213aa53-f299-4e52-81fa-88c848064d3b"
   },
   "outputs": [
    {
     "data": {
      "text/plain": [
       "Index(['삼성전자 비스포크제트 VS20A956A3', '삼성전자 삼성 VC-H22', '삼성전자 삼성 VC-H71',\n",
       "       '삼성전자 제트 VS15R8500BF', '삼성전자 제트 VS20T9218QDCC'],\n",
       "      dtype='object', name='제품명')"
      ]
     },
     "execution_count": 70,
     "metadata": {},
     "output_type": "execute_result"
    }
   ],
   "source": [
    "samsung_keys = item_group.index\n",
    "samsung_keys"
   ]
  },
  {
   "cell_type": "code",
   "execution_count": 71,
   "metadata": {
    "colab": {
     "base_uri": "https://localhost:8080/",
     "height": 35
    },
    "id": "o7pXNtxoZHQA",
    "outputId": "a13672d7-3b5b-46ee-b74d-24d88800773d"
   },
   "outputs": [
    {
     "data": {
      "text/plain": [
       "'45,900'"
      ]
     },
     "execution_count": 71,
     "metadata": {},
     "output_type": "execute_result"
    }
   ],
   "source": [
    "samsung_prices = price_group.index\n",
    "samsung_prices[1]"
   ]
  },
  {
   "cell_type": "code",
   "execution_count": 72,
   "metadata": {
    "colab": {
     "base_uri": "https://localhost:8080/"
    },
    "id": "j248W9mBBssP",
    "outputId": "e8ce9d2b-9147-40a0-e8cf-3771fc9bb646"
   },
   "outputs": [],
   "source": [
    "#삼성 딕셔너리 \n",
    "samsung_dic_list=[]\n",
    "samsung_review_list = [] # 리뷰\n",
    "samsung_score_list = []  # 평점\n",
    "samsung_date_list = []  # 날짜\n",
    "samsung_channel_list = [] # 채널\n",
    "\n",
    "\n",
    "\n",
    "for i, key in enumerate(samsung_keys):\n",
    "    samsung_dic = {}\n",
    "    samsung_dic['제품명'] = key\n",
    "    samsung_dic['가격'] = samsung_prices[i]  \n",
    "    #해당 제품의 데이터만 가져오기\n",
    "    samsung_item_review_df = samsung_df[samsung_df['제품명'] == key]\n",
    "    samsung_dic['리뷰'] = samsung_item_review_df['리뷰'].tolist()[:100]\n",
    "    samsung_dic['평점'] = samsung_item_review_df['평점'].tolist()[:100]\n",
    "    samsung_dic['날짜'] = samsung_item_review_df['날짜'].tolist()[:100]\n",
    "    samsung_dic['채널'] = samsung_item_review_df['채널'].tolist()[:100]\n",
    "   \n",
    "    samsung_dic_list.append(samsung_dic)\n",
    "\n",
    "  \n"
   ]
  },
  {
   "cell_type": "code",
   "execution_count": 73,
   "metadata": {
    "colab": {
     "base_uri": "https://localhost:8080/"
    },
    "id": "VSvYku6coDoU",
    "outputId": "a0dfb137-7f3b-426b-8cfb-36ebacdc770e"
   },
   "outputs": [
    {
     "data": {
      "text/plain": [
       "Index(['신일 싹쓸이 SVC-680G', '신일전자 SVC-1316R', '신일전자 SVC-8858PNX',\n",
       "       '신일전자 SVC-P5000HP', '신일전자 SVC-SHS500'],\n",
       "      dtype='object', name='제품명')"
      ]
     },
     "execution_count": 73,
     "metadata": {},
     "output_type": "execute_result"
    }
   ],
   "source": [
    "item_group = sinil_df.groupby('제품명').count()\n",
    "item_group\n",
    "sinil_keys = item_group.index\n",
    "sinil_keys"
   ]
  },
  {
   "cell_type": "code",
   "execution_count": 74,
   "metadata": {
    "colab": {
     "base_uri": "https://localhost:8080/",
     "height": 35
    },
    "id": "l_z_X7-roDZe",
    "outputId": "902cefca-8795-4a48-a3f3-de599041a0a4"
   },
   "outputs": [
    {
     "data": {
      "text/plain": [
       "'179,000'"
      ]
     },
     "execution_count": 74,
     "metadata": {},
     "output_type": "execute_result"
    }
   ],
   "source": [
    "price_group = sinil_df.groupby('가격').count()\n",
    "price_group\n",
    "sinil_prices = price_group.index\n",
    "sinil_prices[0]"
   ]
  },
  {
   "cell_type": "code",
   "execution_count": 75,
   "metadata": {
    "colab": {
     "base_uri": "https://localhost:8080/"
    },
    "id": "rplcnDL6Bsjo",
    "outputId": "d9afa83d-d065-496b-a888-762bbd396163"
   },
   "outputs": [],
   "source": [
    "#신일 딕셔너리\n",
    "\n",
    "sinil_dic_list=[]\n",
    "sinil_review_list = [] # 리뷰\n",
    "sinil_score_list = []  # 평점\n",
    "sinil_date_list = []  # 날짜\n",
    "sinil_channel_list = [] # 채널\n",
    "sinil_dic = {}\n",
    "\n",
    "\n",
    "for i, key in enumerate(sinil_keys):\n",
    "    sinil_dic = {}\n",
    "    sinil_dic['제품명'] = key\n",
    "    sinil_dic['가격'] = sinil_prices[i]  \n",
    "    #해당 제품의 데이터만 가져오기\n",
    "    sinil_item_review_df = sinil_df[sinil_df['제품명'] == key]\n",
    "    sinil_dic['리뷰'] = sinil_item_review_df['리뷰'].tolist()[:100]\n",
    "    sinil_dic['평점'] = sinil_item_review_df['평점'].tolist()[:100]\n",
    "    sinil_dic['날짜'] = sinil_item_review_df['날짜'].tolist()[:100]\n",
    "    sinil_dic['채널'] = sinil_item_review_df['채널'].tolist()[:100]\n",
    "   \n",
    "    sinil_dic_list.append(sinil_dic)\n"
   ]
  },
  {
   "cell_type": "markdown",
   "metadata": {
    "id": "HHvvHYxsyv2b"
   },
   "source": [
    "## 정한슬"
   ]
  },
  {
   "cell_type": "markdown",
   "metadata": {
    "id": "LkXJwIPw94qW"
   },
   "source": [
    "### 쿠쿠 홈시스"
   ]
  },
  {
   "cell_type": "code",
   "execution_count": 123,
   "metadata": {
    "id": "57xHn6BH3Eex"
   },
   "outputs": [
    {
     "data": {
      "text/html": [
       "<div>\n",
       "<style scoped>\n",
       "    .dataframe tbody tr th:only-of-type {\n",
       "        vertical-align: middle;\n",
       "    }\n",
       "\n",
       "    .dataframe tbody tr th {\n",
       "        vertical-align: top;\n",
       "    }\n",
       "\n",
       "    .dataframe thead th {\n",
       "        text-align: right;\n",
       "    }\n",
       "</style>\n",
       "<table border=\"1\" class=\"dataframe\">\n",
       "  <thead>\n",
       "    <tr style=\"text-align: right;\">\n",
       "      <th></th>\n",
       "      <th>가격</th>\n",
       "      <th>평점</th>\n",
       "      <th>채널</th>\n",
       "      <th>날짜</th>\n",
       "      <th>제품명</th>\n",
       "      <th>리뷰</th>\n",
       "    </tr>\n",
       "  </thead>\n",
       "  <tbody>\n",
       "    <tr>\n",
       "      <th>0</th>\n",
       "      <td>309,000</td>\n",
       "      <td>평점5</td>\n",
       "      <td>쿠쿠홈시스생활가전</td>\n",
       "      <td>21.10.02.</td>\n",
       "      <td>쿠쿠홈시스 쿠쿠 CVC-A1410UG</td>\n",
       "      <td>청소기 잘 샀네요~~~~</td>\n",
       "    </tr>\n",
       "    <tr>\n",
       "      <th>1</th>\n",
       "      <td>309,000</td>\n",
       "      <td>평점5</td>\n",
       "      <td>쿠쿠온라인공식판매점</td>\n",
       "      <td>20.09.17.</td>\n",
       "      <td>쿠쿠홈시스 쿠쿠 CVC-A1410UG</td>\n",
       "      <td>빠른배송 쵝오에요~</td>\n",
       "    </tr>\n",
       "    <tr>\n",
       "      <th>2</th>\n",
       "      <td>309,000</td>\n",
       "      <td>평점5</td>\n",
       "      <td>쿠쿠넬로</td>\n",
       "      <td>21.03.02.</td>\n",
       "      <td>쿠쿠홈시스 쿠쿠 CVC-A1410UG</td>\n",
       "      <td>다이슨 보다 좋아요</td>\n",
       "    </tr>\n",
       "    <tr>\n",
       "      <th>3</th>\n",
       "      <td>309,000</td>\n",
       "      <td>평점3</td>\n",
       "      <td>주식회사 원어나더</td>\n",
       "      <td>21.05.24.</td>\n",
       "      <td>쿠쿠홈시스 쿠쿠 CVC-A1410UG</td>\n",
       "      <td>가성비 좋은 청소기</td>\n",
       "    </tr>\n",
       "    <tr>\n",
       "      <th>4</th>\n",
       "      <td>309,000</td>\n",
       "      <td>평점2</td>\n",
       "      <td>옥션</td>\n",
       "      <td>21.02.20.</td>\n",
       "      <td>쿠쿠홈시스 쿠쿠 CVC-A1410UG</td>\n",
       "      <td>플라스틱 사출 상태가 좋지 않고, 충전기 잭 연결쪽이 조금 뛰어 나와서 품질에 좀신...</td>\n",
       "    </tr>\n",
       "    <tr>\n",
       "      <th>...</th>\n",
       "      <td>...</td>\n",
       "      <td>...</td>\n",
       "      <td>...</td>\n",
       "      <td>...</td>\n",
       "      <td>...</td>\n",
       "      <td>...</td>\n",
       "    </tr>\n",
       "    <tr>\n",
       "      <th>395</th>\n",
       "      <td>248,930</td>\n",
       "      <td>평점5</td>\n",
       "      <td>G마켓</td>\n",
       "      <td>21.07.25.</td>\n",
       "      <td>쿠쿠홈시스 쿠쿠 CVC-A1420UG</td>\n",
       "      <td>가성비 최강입니다. 배터리도 하나더 준다고 하니 대기업제품 안부럽네요. 흡입력 사용...</td>\n",
       "    </tr>\n",
       "    <tr>\n",
       "      <th>396</th>\n",
       "      <td>248,930</td>\n",
       "      <td>평점3</td>\n",
       "      <td>쿠쿠홈시스 주식회사</td>\n",
       "      <td>21.01.02.</td>\n",
       "      <td>쿠쿠홈시스 쿠쿠 CVC-A1420UG</td>\n",
       "      <td>26일에 주문했는데 31일에 받았고, 왠만하면 다 찾아보고 구매하세요. 본사에서 운...</td>\n",
       "    </tr>\n",
       "    <tr>\n",
       "      <th>397</th>\n",
       "      <td>248,930</td>\n",
       "      <td>평점5</td>\n",
       "      <td>신세계몰</td>\n",
       "      <td>21.10.01.</td>\n",
       "      <td>쿠쿠홈시스 쿠쿠 CVC-A1420UG</td>\n",
       "      <td>기존 유선청소기 사용하면서 무선청소기에  관심을 갖고 검색중에 쿠쿠에서도 무선청소기...</td>\n",
       "    </tr>\n",
       "    <tr>\n",
       "      <th>398</th>\n",
       "      <td>248,930</td>\n",
       "      <td>평점5</td>\n",
       "      <td>SSG닷컴</td>\n",
       "      <td>20.09.22.</td>\n",
       "      <td>쿠쿠홈시스 쿠쿠 CVC-A1420UG</td>\n",
       "      <td>청소기 바꾸려고 고민하다가 가격이 적당해서 구입햇는데생각보다 너무 괜찮네요우선 제품...</td>\n",
       "    </tr>\n",
       "    <tr>\n",
       "      <th>399</th>\n",
       "      <td>248,930</td>\n",
       "      <td>평점5</td>\n",
       "      <td>쿠쿠홈시스 주식회사</td>\n",
       "      <td>21.09.30.</td>\n",
       "      <td>쿠쿠홈시스 쿠쿠 CVC-A1420UG</td>\n",
       "      <td>작동도 잘되고 상품좋아요 배터리도 홈페이지에서 추가신청 할수 있어서 신청햇어요 혜택...</td>\n",
       "    </tr>\n",
       "  </tbody>\n",
       "</table>\n",
       "<p>400 rows × 6 columns</p>\n",
       "</div>"
      ],
      "text/plain": [
       "          가격   평점          채널         날짜                   제품명  \\\n",
       "0    309,000  평점5   쿠쿠홈시스생활가전  21.10.02.  쿠쿠홈시스 쿠쿠 CVC-A1410UG   \n",
       "1    309,000  평점5  쿠쿠온라인공식판매점  20.09.17.  쿠쿠홈시스 쿠쿠 CVC-A1410UG   \n",
       "2    309,000  평점5        쿠쿠넬로  21.03.02.  쿠쿠홈시스 쿠쿠 CVC-A1410UG   \n",
       "3    309,000  평점3   주식회사 원어나더  21.05.24.  쿠쿠홈시스 쿠쿠 CVC-A1410UG   \n",
       "4    309,000  평점2          옥션  21.02.20.  쿠쿠홈시스 쿠쿠 CVC-A1410UG   \n",
       "..       ...  ...         ...        ...                   ...   \n",
       "395  248,930  평점5         G마켓  21.07.25.  쿠쿠홈시스 쿠쿠 CVC-A1420UG   \n",
       "396  248,930  평점3  쿠쿠홈시스 주식회사  21.01.02.  쿠쿠홈시스 쿠쿠 CVC-A1420UG   \n",
       "397  248,930  평점5        신세계몰  21.10.01.  쿠쿠홈시스 쿠쿠 CVC-A1420UG   \n",
       "398  248,930  평점5       SSG닷컴  20.09.22.  쿠쿠홈시스 쿠쿠 CVC-A1420UG   \n",
       "399  248,930  평점5  쿠쿠홈시스 주식회사  21.09.30.  쿠쿠홈시스 쿠쿠 CVC-A1420UG   \n",
       "\n",
       "                                                    리뷰  \n",
       "0                                        청소기 잘 샀네요~~~~  \n",
       "1                                           빠른배송 쵝오에요~  \n",
       "2                                           다이슨 보다 좋아요  \n",
       "3                                           가성비 좋은 청소기  \n",
       "4    플라스틱 사출 상태가 좋지 않고, 충전기 잭 연결쪽이 조금 뛰어 나와서 품질에 좀신...  \n",
       "..                                                 ...  \n",
       "395  가성비 최강입니다. 배터리도 하나더 준다고 하니 대기업제품 안부럽네요. 흡입력 사용...  \n",
       "396  26일에 주문했는데 31일에 받았고, 왠만하면 다 찾아보고 구매하세요. 본사에서 운...  \n",
       "397  기존 유선청소기 사용하면서 무선청소기에  관심을 갖고 검색중에 쿠쿠에서도 무선청소기...  \n",
       "398  청소기 바꾸려고 고민하다가 가격이 적당해서 구입햇는데생각보다 너무 괜찮네요우선 제품...  \n",
       "399  작동도 잘되고 상품좋아요 배터리도 홈페이지에서 추가신청 할수 있어서 신청햇어요 혜택...  \n",
       "\n",
       "[400 rows x 6 columns]"
      ]
     },
     "execution_count": 123,
     "metadata": {},
     "output_type": "execute_result"
    }
   ],
   "source": [
    "import pandas as pd\n",
    "cucu_df = pd.read_excel('./data/쿠쿠 홈시스.xlsx')\n",
    "cucu_df"
   ]
  },
  {
   "cell_type": "code",
   "execution_count": 124,
   "metadata": {
    "id": "4YuftuMj9vW2"
   },
   "outputs": [],
   "source": [
    "cucuname=cucu_df['제품명'].unique()\n",
    "cucuprice=cucu_df['가격'].unique()"
   ]
  },
  {
   "cell_type": "code",
   "execution_count": 126,
   "metadata": {
    "id": "Wr9XCccO9vnl"
   },
   "outputs": [],
   "source": [
    "cucu_list = [] \n",
    "\n",
    "for i, key in enumerate(cucuname):\n",
    "    cucu_dic = {}\n",
    "    cucu_dic['제품명'] = key\n",
    "    cucu_dic['가격'] = cucuprice[i]\n",
    "\n",
    "    cucu_item_df = cucu_df[cucu_df['제품명']==key]\n",
    "\n",
    "    cucu_dic['리뷰'] = cucu_item_df['리뷰'].tolist()\n",
    "    cucu_dic['채널'] = cucu_item_df['채널'].tolist()\n",
    "    cucu_dic['평점'] = cucu_item_df['평점'].tolist()\n",
    "    cucu_dic['날짜'] = cucu_item_df['날짜'].tolist()\n",
    "\n",
    "    cucu_list.append(cucu_dic)\n",
    "\n"
   ]
  },
  {
   "cell_type": "markdown",
   "metadata": {
    "id": "OcPV2Z2L98hn"
   },
   "source": [
    "### 보만"
   ]
  },
  {
   "cell_type": "code",
   "execution_count": 48,
   "metadata": {
    "id": "7iC5VEi2vUtU"
   },
   "outputs": [
    {
     "data": {
      "text/html": [
       "<div>\n",
       "<style scoped>\n",
       "    .dataframe tbody tr th:only-of-type {\n",
       "        vertical-align: middle;\n",
       "    }\n",
       "\n",
       "    .dataframe tbody tr th {\n",
       "        vertical-align: top;\n",
       "    }\n",
       "\n",
       "    .dataframe thead th {\n",
       "        text-align: right;\n",
       "    }\n",
       "</style>\n",
       "<table border=\"1\" class=\"dataframe\">\n",
       "  <thead>\n",
       "    <tr style=\"text-align: right;\">\n",
       "      <th></th>\n",
       "      <th>가격</th>\n",
       "      <th>평점</th>\n",
       "      <th>채널</th>\n",
       "      <th>날짜</th>\n",
       "      <th>제품명</th>\n",
       "      <th>리뷰</th>\n",
       "    </tr>\n",
       "  </thead>\n",
       "  <tbody>\n",
       "    <tr>\n",
       "      <th>0</th>\n",
       "      <td>36,890</td>\n",
       "      <td>평점5</td>\n",
       "      <td>보만코리아</td>\n",
       "      <td>20.05.30.</td>\n",
       "      <td>보만 VC7210</td>\n",
       "      <td>가격대비 성능 짱인것 같아요자취방에서 3개월정도 사용하려고 구입했어요그래서 너무고가...</td>\n",
       "    </tr>\n",
       "    <tr>\n",
       "      <th>1</th>\n",
       "      <td>36,890</td>\n",
       "      <td>평점5</td>\n",
       "      <td>보만코리아</td>\n",
       "      <td>19.10.08.</td>\n",
       "      <td>보만 VC7210</td>\n",
       "      <td>일단 배송빨랐어요. 박스포장도 깔끔해요.원룸에 청소기가 필요해서 구입했어요. 싼거 ...</td>\n",
       "    </tr>\n",
       "    <tr>\n",
       "      <th>2</th>\n",
       "      <td>36,890</td>\n",
       "      <td>평점4</td>\n",
       "      <td>11번가</td>\n",
       "      <td>19.11.04.</td>\n",
       "      <td>보만 VC7210</td>\n",
       "      <td>가격 디자인 모두 마음에 들어요..무게도 많이 무겁지 않고 사용법도 스위치만 켜면 ...</td>\n",
       "    </tr>\n",
       "    <tr>\n",
       "      <th>3</th>\n",
       "      <td>36,890</td>\n",
       "      <td>평점5</td>\n",
       "      <td>바디퓨</td>\n",
       "      <td>20.06.25.</td>\n",
       "      <td>보만 VC7210</td>\n",
       "      <td>집에 30만원짜리 삼* 청소기를 쓰다가 본체가 잘 따라오지도않고 무겁고 문턱에서 쿠...</td>\n",
       "    </tr>\n",
       "    <tr>\n",
       "      <th>4</th>\n",
       "      <td>36,890</td>\n",
       "      <td>평점4</td>\n",
       "      <td>보만코리아</td>\n",
       "      <td>21.03.11.</td>\n",
       "      <td>보만 VC7210</td>\n",
       "      <td>청소기 오자마자 써봤어요조그만게 핸디용으로 먼지 시원시원하게 잘빨리고 좋아요다이슨쓰...</td>\n",
       "    </tr>\n",
       "    <tr>\n",
       "      <th>...</th>\n",
       "      <td>...</td>\n",
       "      <td>...</td>\n",
       "      <td>...</td>\n",
       "      <td>...</td>\n",
       "      <td>...</td>\n",
       "      <td>...</td>\n",
       "    </tr>\n",
       "    <tr>\n",
       "      <th>795</th>\n",
       "      <td>49,790</td>\n",
       "      <td>평점5</td>\n",
       "      <td>코맘스</td>\n",
       "      <td>21.12.09.</td>\n",
       "      <td>보만 코맘스 KB0251</td>\n",
       "      <td>작은사이즈에 이정도 힘이면 잘 만드셨네요~잘쓰겠습니다~^^</td>\n",
       "    </tr>\n",
       "    <tr>\n",
       "      <th>796</th>\n",
       "      <td>49,790</td>\n",
       "      <td>평점5</td>\n",
       "      <td>코맘스</td>\n",
       "      <td>21.12.26.</td>\n",
       "      <td>보만 코맘스 KB0251</td>\n",
       "      <td>작아서 편리하고 디자이도 예뻐요~ 충전도 빨리되어 좋아요!</td>\n",
       "    </tr>\n",
       "    <tr>\n",
       "      <th>797</th>\n",
       "      <td>49,790</td>\n",
       "      <td>평점4</td>\n",
       "      <td>코맘스</td>\n",
       "      <td>22.01.03.</td>\n",
       "      <td>보만 코맘스 KB0251</td>\n",
       "      <td>이벤트해서 싸게 구매해서 만족해요.방에 머리카락이나 작은 먼지들 청소하기 좋구요, ...</td>\n",
       "    </tr>\n",
       "    <tr>\n",
       "      <th>798</th>\n",
       "      <td>49,790</td>\n",
       "      <td>평점5</td>\n",
       "      <td>코맘스</td>\n",
       "      <td>21.08.26.</td>\n",
       "      <td>보만 코맘스 KB0251</td>\n",
       "      <td>슬림해서 수납하기 좋고디자인도 예뻐서 넘 조아요흡입력도 좋고 다 괜찮고 한번 충전하...</td>\n",
       "    </tr>\n",
       "    <tr>\n",
       "      <th>799</th>\n",
       "      <td>49,790</td>\n",
       "      <td>평점5</td>\n",
       "      <td>코맘스</td>\n",
       "      <td>21.12.15.</td>\n",
       "      <td>보만 코맘스 KB0251</td>\n",
       "      <td>작은데 흡입력은 좋네요 자리차지도 많이 안해서 편해요!!</td>\n",
       "    </tr>\n",
       "  </tbody>\n",
       "</table>\n",
       "<p>800 rows × 6 columns</p>\n",
       "</div>"
      ],
      "text/plain": [
       "         가격   평점     채널         날짜            제품명  \\\n",
       "0    36,890  평점5  보만코리아  20.05.30.      보만 VC7210   \n",
       "1    36,890  평점5  보만코리아  19.10.08.      보만 VC7210   \n",
       "2    36,890  평점4   11번가  19.11.04.      보만 VC7210   \n",
       "3    36,890  평점5    바디퓨  20.06.25.      보만 VC7210   \n",
       "4    36,890  평점4  보만코리아  21.03.11.      보만 VC7210   \n",
       "..      ...  ...    ...        ...            ...   \n",
       "795  49,790  평점5    코맘스  21.12.09.  보만 코맘스 KB0251   \n",
       "796  49,790  평점5    코맘스  21.12.26.  보만 코맘스 KB0251   \n",
       "797  49,790  평점4    코맘스  22.01.03.  보만 코맘스 KB0251   \n",
       "798  49,790  평점5    코맘스  21.08.26.  보만 코맘스 KB0251   \n",
       "799  49,790  평점5    코맘스  21.12.15.  보만 코맘스 KB0251   \n",
       "\n",
       "                                                    리뷰  \n",
       "0    가격대비 성능 짱인것 같아요자취방에서 3개월정도 사용하려고 구입했어요그래서 너무고가...  \n",
       "1    일단 배송빨랐어요. 박스포장도 깔끔해요.원룸에 청소기가 필요해서 구입했어요. 싼거 ...  \n",
       "2    가격 디자인 모두 마음에 들어요..무게도 많이 무겁지 않고 사용법도 스위치만 켜면 ...  \n",
       "3    집에 30만원짜리 삼* 청소기를 쓰다가 본체가 잘 따라오지도않고 무겁고 문턱에서 쿠...  \n",
       "4    청소기 오자마자 써봤어요조그만게 핸디용으로 먼지 시원시원하게 잘빨리고 좋아요다이슨쓰...  \n",
       "..                                                 ...  \n",
       "795                   작은사이즈에 이정도 힘이면 잘 만드셨네요~잘쓰겠습니다~^^  \n",
       "796                   작아서 편리하고 디자이도 예뻐요~ 충전도 빨리되어 좋아요!  \n",
       "797  이벤트해서 싸게 구매해서 만족해요.방에 머리카락이나 작은 먼지들 청소하기 좋구요, ...  \n",
       "798  슬림해서 수납하기 좋고디자인도 예뻐서 넘 조아요흡입력도 좋고 다 괜찮고 한번 충전하...  \n",
       "799                    작은데 흡입력은 좋네요 자리차지도 많이 안해서 편해요!!  \n",
       "\n",
       "[800 rows x 6 columns]"
      ]
     },
     "execution_count": 48,
     "metadata": {},
     "output_type": "execute_result"
    }
   ],
   "source": [
    "boman_df =pd.read_excel('./data/보만.xlsx')\n",
    "boman_df"
   ]
  },
  {
   "cell_type": "code",
   "execution_count": 49,
   "metadata": {
    "id": "1RmtCoHo-MVt"
   },
   "outputs": [],
   "source": [
    "bomanname=boman_df['제품명'].unique()\n",
    "bomanprice=boman_df['가격'].unique()"
   ]
  },
  {
   "cell_type": "code",
   "execution_count": 127,
   "metadata": {
    "id": "_XsuQept-MM2"
   },
   "outputs": [],
   "source": [
    "boman_list = []\n",
    "\n",
    "for i , key in enumerate(bomanname):\n",
    "    boman_dic = {}\n",
    "    boman_dic['제품명'] = key\n",
    "    boman_dic['가격'] = bomanprice[i]\n",
    "\n",
    "    boman_item_df = boman_df[boman_df['제품명']==key]\n",
    "\n",
    "    boman_dic['리뷰'] = boman_item_df['리뷰'].tolist()\n",
    "    boman_dic['채널'] = boman_item_df['채널'].tolist()\n",
    "    boman_dic['평점'] = boman_item_df['평점'].tolist()\n",
    "    boman_dic['날짜'] = boman_item_df['날짜'].tolist()\n",
    "\n",
    "    boman_list.append(boman_dic)\n"
   ]
  },
  {
   "cell_type": "markdown",
   "metadata": {
    "id": "TNZmmfUn-BI2"
   },
   "source": [
    "### 비브르"
   ]
  },
  {
   "cell_type": "code",
   "execution_count": 51,
   "metadata": {
    "id": "9BOc4osFJY2n"
   },
   "outputs": [
    {
     "data": {
      "text/html": [
       "<div>\n",
       "<style scoped>\n",
       "    .dataframe tbody tr th:only-of-type {\n",
       "        vertical-align: middle;\n",
       "    }\n",
       "\n",
       "    .dataframe tbody tr th {\n",
       "        vertical-align: top;\n",
       "    }\n",
       "\n",
       "    .dataframe thead th {\n",
       "        text-align: right;\n",
       "    }\n",
       "</style>\n",
       "<table border=\"1\" class=\"dataframe\">\n",
       "  <thead>\n",
       "    <tr style=\"text-align: right;\">\n",
       "      <th></th>\n",
       "      <th>가격</th>\n",
       "      <th>평점</th>\n",
       "      <th>채널</th>\n",
       "      <th>날짜</th>\n",
       "      <th>제품명</th>\n",
       "      <th>리뷰</th>\n",
       "    </tr>\n",
       "  </thead>\n",
       "  <tbody>\n",
       "    <tr>\n",
       "      <th>0</th>\n",
       "      <td>107,160</td>\n",
       "      <td>평점3</td>\n",
       "      <td>VIVRE KOREA</td>\n",
       "      <td>19.11.15.</td>\n",
       "      <td>비브르 A9 PLUS</td>\n",
       "      <td>댕댕이 털갈이 때문에 구입했어요.한 달 사용해본 결과, 흡입력이 약하고 사용시간이 ...</td>\n",
       "    </tr>\n",
       "    <tr>\n",
       "      <th>1</th>\n",
       "      <td>107,160</td>\n",
       "      <td>평점1</td>\n",
       "      <td>VIVRE KOREA</td>\n",
       "      <td>19.09.04.</td>\n",
       "      <td>비브르 A9 PLUS</td>\n",
       "      <td>정말 별 한나도 아까운 청소기에요 흡입력도 약하고 고양이 두부모래 다시 뺏어내고 2...</td>\n",
       "    </tr>\n",
       "    <tr>\n",
       "      <th>2</th>\n",
       "      <td>107,160</td>\n",
       "      <td>평점5</td>\n",
       "      <td>VIVRE KOREA</td>\n",
       "      <td>19.08.28.</td>\n",
       "      <td>비브르 A9 PLUS</td>\n",
       "      <td>가성비 짱이네요.요즘 댕댕이 털 갈이 시작되어 고민하다 구입했구요.도착하자마자 돌려...</td>\n",
       "    </tr>\n",
       "    <tr>\n",
       "      <th>3</th>\n",
       "      <td>107,160</td>\n",
       "      <td>평점5</td>\n",
       "      <td>VIVRE KOREA</td>\n",
       "      <td>20.03.22.</td>\n",
       "      <td>비브르 A9 PLUS</td>\n",
       "      <td>일단 빠른 배송에 감동했구요!! 좋지 않은 후기들도 있어서 긴가민가하면서 구매했는데...</td>\n",
       "    </tr>\n",
       "    <tr>\n",
       "      <th>4</th>\n",
       "      <td>107,160</td>\n",
       "      <td>평점5</td>\n",
       "      <td>VIVRE KOREA</td>\n",
       "      <td>19.06.24.</td>\n",
       "      <td>비브르 A9 PLUS</td>\n",
       "      <td>가성비 대박이에요. 맘카페에서  좋다고 말이 많아서 검색하다 구입했는데..가볍고 필...</td>\n",
       "    </tr>\n",
       "    <tr>\n",
       "      <th>...</th>\n",
       "      <td>...</td>\n",
       "      <td>...</td>\n",
       "      <td>...</td>\n",
       "      <td>...</td>\n",
       "      <td>...</td>\n",
       "      <td>...</td>\n",
       "    </tr>\n",
       "    <tr>\n",
       "      <th>595</th>\n",
       "      <td>173,000</td>\n",
       "      <td>평점5</td>\n",
       "      <td>VIVRE KOREA</td>\n",
       "      <td>20.03.27.</td>\n",
       "      <td>비브르 스톰파워 VE30</td>\n",
       "      <td>일단 배송이 빨랐어요~~ 터치부분이 led라 고급스러워 보이구 세기조절도 3단계라 ...</td>\n",
       "    </tr>\n",
       "    <tr>\n",
       "      <th>596</th>\n",
       "      <td>173,000</td>\n",
       "      <td>평점5</td>\n",
       "      <td>VIVRE KOREA</td>\n",
       "      <td>20.12.17.</td>\n",
       "      <td>비브르 스톰파워 VE30</td>\n",
       "      <td>가성비 극강입니다!! 헤드도 다양하게 바꿀수 있고 1단일때는 밤에 돌려도 될 정도의...</td>\n",
       "    </tr>\n",
       "    <tr>\n",
       "      <th>597</th>\n",
       "      <td>173,000</td>\n",
       "      <td>평점5</td>\n",
       "      <td>VIVRE KOREA</td>\n",
       "      <td>20.08.27.</td>\n",
       "      <td>비브르 스톰파워 VE30</td>\n",
       "      <td>비브르 무선청소기를 처음 보았을 때 흡입력에 관한 의문이 들었는데 리뷰를 보고 동영...</td>\n",
       "    </tr>\n",
       "    <tr>\n",
       "      <th>598</th>\n",
       "      <td>173,000</td>\n",
       "      <td>평점4</td>\n",
       "      <td>VIVRE KOREA</td>\n",
       "      <td>20.09.07.</td>\n",
       "      <td>비브르 스톰파워 VE30</td>\n",
       "      <td>1. 배송 : 2일2. 제품 : 기존에 누르고 있는 버튼에 대비해서 터치식이라 편합...</td>\n",
       "    </tr>\n",
       "    <tr>\n",
       "      <th>599</th>\n",
       "      <td>173,000</td>\n",
       "      <td>평점1</td>\n",
       "      <td>VIVRE KOREA</td>\n",
       "      <td>20.06.29.</td>\n",
       "      <td>비브르 스톰파워 VE30</td>\n",
       "      <td>밑에 붙어있던건 사용한지 몇일만에 떨어져나갔고 브러쉬바꾸다 먼지통고정부분이 뚝 부려...</td>\n",
       "    </tr>\n",
       "  </tbody>\n",
       "</table>\n",
       "<p>600 rows × 6 columns</p>\n",
       "</div>"
      ],
      "text/plain": [
       "          가격   평점           채널         날짜            제품명  \\\n",
       "0    107,160  평점3  VIVRE KOREA  19.11.15.    비브르 A9 PLUS   \n",
       "1    107,160  평점1  VIVRE KOREA  19.09.04.    비브르 A9 PLUS   \n",
       "2    107,160  평점5  VIVRE KOREA  19.08.28.    비브르 A9 PLUS   \n",
       "3    107,160  평점5  VIVRE KOREA  20.03.22.    비브르 A9 PLUS   \n",
       "4    107,160  평점5  VIVRE KOREA  19.06.24.    비브르 A9 PLUS   \n",
       "..       ...  ...          ...        ...            ...   \n",
       "595  173,000  평점5  VIVRE KOREA  20.03.27.  비브르 스톰파워 VE30   \n",
       "596  173,000  평점5  VIVRE KOREA  20.12.17.  비브르 스톰파워 VE30   \n",
       "597  173,000  평점5  VIVRE KOREA  20.08.27.  비브르 스톰파워 VE30   \n",
       "598  173,000  평점4  VIVRE KOREA  20.09.07.  비브르 스톰파워 VE30   \n",
       "599  173,000  평점1  VIVRE KOREA  20.06.29.  비브르 스톰파워 VE30   \n",
       "\n",
       "                                                    리뷰  \n",
       "0    댕댕이 털갈이 때문에 구입했어요.한 달 사용해본 결과, 흡입력이 약하고 사용시간이 ...  \n",
       "1    정말 별 한나도 아까운 청소기에요 흡입력도 약하고 고양이 두부모래 다시 뺏어내고 2...  \n",
       "2    가성비 짱이네요.요즘 댕댕이 털 갈이 시작되어 고민하다 구입했구요.도착하자마자 돌려...  \n",
       "3    일단 빠른 배송에 감동했구요!! 좋지 않은 후기들도 있어서 긴가민가하면서 구매했는데...  \n",
       "4    가성비 대박이에요. 맘카페에서  좋다고 말이 많아서 검색하다 구입했는데..가볍고 필...  \n",
       "..                                                 ...  \n",
       "595  일단 배송이 빨랐어요~~ 터치부분이 led라 고급스러워 보이구 세기조절도 3단계라 ...  \n",
       "596  가성비 극강입니다!! 헤드도 다양하게 바꿀수 있고 1단일때는 밤에 돌려도 될 정도의...  \n",
       "597  비브르 무선청소기를 처음 보았을 때 흡입력에 관한 의문이 들었는데 리뷰를 보고 동영...  \n",
       "598  1. 배송 : 2일2. 제품 : 기존에 누르고 있는 버튼에 대비해서 터치식이라 편합...  \n",
       "599  밑에 붙어있던건 사용한지 몇일만에 떨어져나갔고 브러쉬바꾸다 먼지통고정부분이 뚝 부려...  \n",
       "\n",
       "[600 rows x 6 columns]"
      ]
     },
     "execution_count": 51,
     "metadata": {},
     "output_type": "execute_result"
    }
   ],
   "source": [
    "vivre_df=pd.read_excel('./data/비브르.xlsx')\n",
    "vivre_df"
   ]
  },
  {
   "cell_type": "code",
   "execution_count": 129,
   "metadata": {
    "id": "XNcx0nIh-YdN"
   },
   "outputs": [],
   "source": [
    "vivrename=vivre_df['제품명'].unique()\n",
    "vivreprice=vivre_df['가격'].unique()"
   ]
  },
  {
   "cell_type": "code",
   "execution_count": 130,
   "metadata": {
    "id": "N7JS8z-O-YUs"
   },
   "outputs": [],
   "source": [
    "vivre_list = []\n",
    "\n",
    "for i , key in enumerate(vivrename):\n",
    "    vivre_dic = {}\n",
    "    vivre_dic['제품명'] = key\n",
    "    vivre_dic['가격'] =vivreprice[i]\n",
    "\n",
    "    vivre_item_df = vivre_df[vivre_df['제품명']==key]\n",
    "\n",
    "    vivre_dic['리뷰']= vivre_item_df['리뷰'].tolist()\n",
    "    vivre_dic['채널']= vivre_item_df['채널'].tolist()\n",
    "    vivre_dic['평점']= vivre_item_df['평점'].tolist()\n",
    "    vivre_dic['날짜']= vivre_item_df['날짜'].tolist()\n",
    "\n",
    "    vivre_list.append(vivre_dic)"
   ]
  },
  {
   "cell_type": "markdown",
   "metadata": {
    "id": "QzUWPs5w-DsJ"
   },
   "source": [
    "### 오아 "
   ]
  },
  {
   "cell_type": "code",
   "execution_count": 131,
   "metadata": {
    "id": "_sA65WQSJXg5"
   },
   "outputs": [
    {
     "data": {
      "text/html": [
       "<div>\n",
       "<style scoped>\n",
       "    .dataframe tbody tr th:only-of-type {\n",
       "        vertical-align: middle;\n",
       "    }\n",
       "\n",
       "    .dataframe tbody tr th {\n",
       "        vertical-align: top;\n",
       "    }\n",
       "\n",
       "    .dataframe thead th {\n",
       "        text-align: right;\n",
       "    }\n",
       "</style>\n",
       "<table border=\"1\" class=\"dataframe\">\n",
       "  <thead>\n",
       "    <tr style=\"text-align: right;\">\n",
       "      <th></th>\n",
       "      <th>가격</th>\n",
       "      <th>평점</th>\n",
       "      <th>채널</th>\n",
       "      <th>날짜</th>\n",
       "      <th>제품명</th>\n",
       "      <th>리뷰</th>\n",
       "    </tr>\n",
       "  </thead>\n",
       "  <tbody>\n",
       "    <tr>\n",
       "      <th>0</th>\n",
       "      <td>69,000</td>\n",
       "      <td>평점4</td>\n",
       "      <td>오아스토어</td>\n",
       "      <td>20.07.07.</td>\n",
       "      <td>2020년형오아 클린스틱 OA-CL010</td>\n",
       "      <td>머리카락 같은거는 정말 잘되구요헌데 방하나 구석구석하고나니 모터가 엄청 뜨거워져서 ...</td>\n",
       "    </tr>\n",
       "    <tr>\n",
       "      <th>1</th>\n",
       "      <td>69,000</td>\n",
       "      <td>평점5</td>\n",
       "      <td>오아스토어</td>\n",
       "      <td>21.02.27.</td>\n",
       "      <td>2020년형오아 클린스틱 OA-CL010</td>\n",
       "      <td>방을 꾸미면서 카페트를 깔았는데 강아지 털과 먼지가 계속 쌓여서 돌돌이로는 어림도 ...</td>\n",
       "    </tr>\n",
       "    <tr>\n",
       "      <th>2</th>\n",
       "      <td>69,000</td>\n",
       "      <td>평점5</td>\n",
       "      <td>오아스토어</td>\n",
       "      <td>21.04.14.</td>\n",
       "      <td>2020년형오아 클린스틱 OA-CL010</td>\n",
       "      <td>흡입력짱입니다. 소음이 좀 있다는 후기가 있었는데 코드제로에 비교하면 비슷하거나 아...</td>\n",
       "    </tr>\n",
       "    <tr>\n",
       "      <th>3</th>\n",
       "      <td>69,000</td>\n",
       "      <td>평점5</td>\n",
       "      <td>오아스토어</td>\n",
       "      <td>21.01.06.</td>\n",
       "      <td>2020년형오아 클린스틱 OA-CL010</td>\n",
       "      <td>이번에 이사를 오면서 청소기 구매에 대해서 엄청 고민을 많이 했드래요~큰거는 하나가...</td>\n",
       "    </tr>\n",
       "    <tr>\n",
       "      <th>4</th>\n",
       "      <td>69,000</td>\n",
       "      <td>평점5</td>\n",
       "      <td>오아스토어</td>\n",
       "      <td>21.06.04.</td>\n",
       "      <td>2020년형오아 클린스틱 OA-CL010</td>\n",
       "      <td>매장에서 깊이 들어가있는 필터용 청소기로 사용하려고 주문 했었는데 너무 좋은거있죠 ...</td>\n",
       "    </tr>\n",
       "    <tr>\n",
       "      <th>...</th>\n",
       "      <td>...</td>\n",
       "      <td>...</td>\n",
       "      <td>...</td>\n",
       "      <td>...</td>\n",
       "      <td>...</td>\n",
       "      <td>...</td>\n",
       "    </tr>\n",
       "    <tr>\n",
       "      <th>195</th>\n",
       "      <td>69,000</td>\n",
       "      <td>평점5</td>\n",
       "      <td>오아스토어</td>\n",
       "      <td>20.12.29.</td>\n",
       "      <td>2020년형오아 클린스틱 OA-CL010</td>\n",
       "      <td>작아서 보관하기 좋고 쪼그만게 생각보다 잘 빨아드리네요. 집에 로봇청소기가 있어서 ...</td>\n",
       "    </tr>\n",
       "    <tr>\n",
       "      <th>196</th>\n",
       "      <td>69,000</td>\n",
       "      <td>평점5</td>\n",
       "      <td>오아스토어</td>\n",
       "      <td>21.09.12.</td>\n",
       "      <td>2020년형오아 클린스틱 OA-CL010</td>\n",
       "      <td>저렴한 가격에 아주 가벼운 청소기. 허리 숙이지 않아도 되어서 너무 편합니다. 가벼...</td>\n",
       "    </tr>\n",
       "    <tr>\n",
       "      <th>197</th>\n",
       "      <td>69,000</td>\n",
       "      <td>평점1</td>\n",
       "      <td>오아스토어</td>\n",
       "      <td>21.07.24.</td>\n",
       "      <td>2020년형오아 클린스틱 OA-CL010</td>\n",
       "      <td>머리가 작고 너무 가벼워서 헤드가 자꾸 뜸. 그래서 청소가 잘 안됨. 눈에 띄는 머...</td>\n",
       "    </tr>\n",
       "    <tr>\n",
       "      <th>198</th>\n",
       "      <td>69,000</td>\n",
       "      <td>평점5</td>\n",
       "      <td>오아스토어</td>\n",
       "      <td>21.08.13.</td>\n",
       "      <td>2020년형오아 클린스틱 OA-CL010</td>\n",
       "      <td>생각보다 크기가 엄청 큽니다ㅎㅎㅎ저는 차에 두고 쓰려고 했는데 크기만 보면 한 자리...</td>\n",
       "    </tr>\n",
       "    <tr>\n",
       "      <th>199</th>\n",
       "      <td>69,000</td>\n",
       "      <td>평점4</td>\n",
       "      <td>오아스토어</td>\n",
       "      <td>21.03.04.</td>\n",
       "      <td>2020년형오아 클린스틱 OA-CL010</td>\n",
       "      <td>가벼워서 좋긴한데 사진처럼 보통 여자 손 기준으로 생각보다 흡입구가 많이 작아요 그...</td>\n",
       "    </tr>\n",
       "  </tbody>\n",
       "</table>\n",
       "<p>200 rows × 6 columns</p>\n",
       "</div>"
      ],
      "text/plain": [
       "         가격   평점     채널         날짜                     제품명  \\\n",
       "0    69,000  평점4  오아스토어  20.07.07.  2020년형오아 클린스틱 OA-CL010   \n",
       "1    69,000  평점5  오아스토어  21.02.27.  2020년형오아 클린스틱 OA-CL010   \n",
       "2    69,000  평점5  오아스토어  21.04.14.  2020년형오아 클린스틱 OA-CL010   \n",
       "3    69,000  평점5  오아스토어  21.01.06.  2020년형오아 클린스틱 OA-CL010   \n",
       "4    69,000  평점5  오아스토어  21.06.04.  2020년형오아 클린스틱 OA-CL010   \n",
       "..      ...  ...    ...        ...                     ...   \n",
       "195  69,000  평점5  오아스토어  20.12.29.  2020년형오아 클린스틱 OA-CL010   \n",
       "196  69,000  평점5  오아스토어  21.09.12.  2020년형오아 클린스틱 OA-CL010   \n",
       "197  69,000  평점1  오아스토어  21.07.24.  2020년형오아 클린스틱 OA-CL010   \n",
       "198  69,000  평점5  오아스토어  21.08.13.  2020년형오아 클린스틱 OA-CL010   \n",
       "199  69,000  평점4  오아스토어  21.03.04.  2020년형오아 클린스틱 OA-CL010   \n",
       "\n",
       "                                                    리뷰  \n",
       "0    머리카락 같은거는 정말 잘되구요헌데 방하나 구석구석하고나니 모터가 엄청 뜨거워져서 ...  \n",
       "1    방을 꾸미면서 카페트를 깔았는데 강아지 털과 먼지가 계속 쌓여서 돌돌이로는 어림도 ...  \n",
       "2    흡입력짱입니다. 소음이 좀 있다는 후기가 있었는데 코드제로에 비교하면 비슷하거나 아...  \n",
       "3    이번에 이사를 오면서 청소기 구매에 대해서 엄청 고민을 많이 했드래요~큰거는 하나가...  \n",
       "4    매장에서 깊이 들어가있는 필터용 청소기로 사용하려고 주문 했었는데 너무 좋은거있죠 ...  \n",
       "..                                                 ...  \n",
       "195  작아서 보관하기 좋고 쪼그만게 생각보다 잘 빨아드리네요. 집에 로봇청소기가 있어서 ...  \n",
       "196  저렴한 가격에 아주 가벼운 청소기. 허리 숙이지 않아도 되어서 너무 편합니다. 가벼...  \n",
       "197  머리가 작고 너무 가벼워서 헤드가 자꾸 뜸. 그래서 청소가 잘 안됨. 눈에 띄는 머...  \n",
       "198  생각보다 크기가 엄청 큽니다ㅎㅎㅎ저는 차에 두고 쓰려고 했는데 크기만 보면 한 자리...  \n",
       "199  가벼워서 좋긴한데 사진처럼 보통 여자 손 기준으로 생각보다 흡입구가 많이 작아요 그...  \n",
       "\n",
       "[200 rows x 6 columns]"
      ]
     },
     "execution_count": 131,
     "metadata": {},
     "output_type": "execute_result"
    }
   ],
   "source": [
    "oa_df =pd.read_excel('./data/오아 클린스틱.xlsx')\n",
    "oa_df"
   ]
  },
  {
   "cell_type": "code",
   "execution_count": 132,
   "metadata": {
    "id": "t_jV1YCc-Vcq"
   },
   "outputs": [],
   "source": [
    "oaname=oa_df['제품명'].unique()\n",
    "oaprice=oa_df['가격'].unique()"
   ]
  },
  {
   "cell_type": "code",
   "execution_count": 133,
   "metadata": {
    "id": "OXtNo9x-KhWh"
   },
   "outputs": [],
   "source": [
    "oa_list = []\n",
    "\n",
    "for i, key in enumerate(oaname):\n",
    "    oa_dic = {}\n",
    "    oa_dic['제품명'] = key\n",
    "    oa_dic['가격'] = oaprice[i]\n",
    "\n",
    "    oa_item_df = oa_df[oa_df['제품명']==key]\n",
    "\n",
    "    oa_dic['리뷰'] = oa_item_df['리뷰'].tolist()\n",
    "    oa_dic['채널'] = oa_item_df['채널'].tolist()\n",
    "    oa_dic['평점'] = oa_item_df['평점'].tolist()\n",
    "    oa_dic['날짜'] = oa_item_df['날짜'].tolist()\n",
    "\n",
    "    oa_list.append(oa_dic)"
   ]
  },
  {
   "cell_type": "markdown",
   "metadata": {
    "id": "Z-r85ThCCS3V"
   },
   "source": [
    "# 각 제조사별 리뷰 말뭉치 제작\n",
    "맡은 제조사별로 말뭉치 만들어서 json으로 저장"
   ]
  },
  {
   "cell_type": "code",
   "execution_count": 8,
   "metadata": {
    "colab": {
     "base_uri": "https://localhost:8080/",
     "height": 248
    },
    "id": "7BNGS106CRbA",
    "outputId": "aa35d002-82db-4cad-93d9-e2bf7fe2b46d"
   },
   "outputs": [],
   "source": [
    "#말뭉치 생성\n",
    "\n",
    "import chardet\n",
    "spacing = Spacing()\n",
    "def do_stemming(reviews):\n",
    "    total_review = ''\n",
    "\n",
    "    for idx in range(len(reviews)):\n",
    "        review_text = reviews[idx]\n",
    "        # if chardet.detect(review_text.encode())['encoding'] == 'cp949':\n",
    "        #         review_text = unicode(review_text,'cp949').encode('utf-8')\n",
    "       \n",
    "        #하나의 리뷰에서 문장 단위로 자르기\n",
    "        for sentence in kkma.sentences(review_text):\n",
    "            # if chardet.detect(sentence.encode())['encoding'] == 'cp949':\n",
    "            #     sentence = unicode(sentence,'cp949').encode('utf-8')\n",
    "                \n",
    "            sentence = re.sub('([a-zA-Z])','',sentence)\n",
    "            sentence = re.sub('[ㄱ-ㅎㅏ-ㅣ]+','',sentence)\n",
    "            sentence = re.sub('[-=+,#/\\?:^$.@*\\\"※~&%ㆍ!』\\\\‘|\\(\\)\\[\\]\\<\\>`\\'…》]','',sentence)\n",
    "            \n",
    "            if len(sentence) == 0:\n",
    "                continue\n",
    "            if len(sentence) < 198:\n",
    "                sentence = spacing(sentence)\n",
    "            sentence += '. '\n",
    "            total_review += sentence           \n",
    "       \n",
    "    total_review = okt.normalize(total_review) \n",
    "    \n",
    "    return total_review"
   ]
  },
  {
   "cell_type": "markdown",
   "metadata": {},
   "source": [
    "## 김찬희"
   ]
  },
  {
   "cell_type": "code",
   "execution_count": 9,
   "metadata": {},
   "outputs": [],
   "source": [
    "chanhee_all_item = [dyson_list,dibea_list]"
   ]
  },
  {
   "cell_type": "code",
   "execution_count": 10,
   "metadata": {},
   "outputs": [],
   "source": [
    "for i, company in enumerate(chanhee_all_item): #제조사 선택\n",
    "    \n",
    "    for j, dic_data in enumerate(company):\n",
    "        item_review_list = dic_data['리뷰'] #각 제품당 리뷰를 가지고 온다\n",
    "        chanhee_all_item[i][j]['리뷰'] = do_stemming(item_review_list)"
   ]
  },
  {
   "cell_type": "code",
   "execution_count": 11,
   "metadata": {},
   "outputs": [],
   "source": [
    "chanhee_file_path = './data/dyson_dibea.json'"
   ]
  },
  {
   "cell_type": "code",
   "execution_count": 12,
   "metadata": {},
   "outputs": [],
   "source": [
    "with open(chanhee_file_path, 'w') as outfile:\n",
    "    json.dump(chanhee_all_item, outfile)"
   ]
  },
  {
   "cell_type": "code",
   "execution_count": 13,
   "metadata": {},
   "outputs": [],
   "source": [
    "with open(chanhee_file_path, 'r') as jsonfile:\n",
    "    chanhee_json_data = json.load(jsonfile)"
   ]
  },
  {
   "cell_type": "code",
   "execution_count": 14,
   "metadata": {},
   "outputs": [
    {
     "name": "stdout",
     "output_type": "stream",
     "text": [
      "<class 'list'>\n"
     ]
    }
   ],
   "source": [
    "print(type(chanhee_json_data))"
   ]
  },
  {
   "cell_type": "markdown",
   "metadata": {},
   "source": [
    "## 박유정"
   ]
  },
  {
   "cell_type": "code",
   "execution_count": null,
   "metadata": {},
   "outputs": [],
   "source": [
    "yujeong_all_item = [lg_list, tefal_list]"
   ]
  },
  {
   "cell_type": "code",
   "execution_count": null,
   "metadata": {},
   "outputs": [],
   "source": [
    "for i, company in enumerate(yujeong_all_item): #제조사 선택\n",
    "    for j, dic_data in enumerate(company):\n",
    "        item_review_list = dic_data['리뷰'] #각 제품당 리뷰를 가지고 온다\n",
    "        yujeong_all_item[i][j]['리뷰'] = do_stemming(item_review_list)\n"
   ]
  },
  {
   "cell_type": "code",
   "execution_count": null,
   "metadata": {},
   "outputs": [],
   "source": [
    "#for문이 끝나고 나서 all_item을 json으로 변환해서 data 폴더에 저장 \n",
    "yujeong_file_path = './data/lg_tefal.json'"
   ]
  },
  {
   "cell_type": "code",
   "execution_count": null,
   "metadata": {},
   "outputs": [],
   "source": [
    "#결과물 json으로 저장\n",
    "with open(yujeong_file_path, 'w') as outfile:\n",
    "    json.dump(yujeong_all_item, outfile)"
   ]
  },
  {
   "cell_type": "code",
   "execution_count": null,
   "metadata": {},
   "outputs": [],
   "source": [
    "#json로드\n",
    "with open(yujeong_file_path, 'r') as jsonfile:\n",
    "    yujeong_json_data = json.load(jsonfile)"
   ]
  },
  {
   "cell_type": "code",
   "execution_count": null,
   "metadata": {},
   "outputs": [],
   "source": [
    "print(type(yujeong_json_data))"
   ]
  },
  {
   "cell_type": "markdown",
   "metadata": {},
   "source": [
    "## 정새하"
   ]
  },
  {
   "cell_type": "code",
   "execution_count": 99,
   "metadata": {
    "colab": {
     "base_uri": "https://localhost:8080/"
    },
    "id": "gcVNd9wmJTs9",
    "outputId": "e0a2d733-002a-46ea-91e8-b6a94130e686"
   },
   "outputs": [],
   "source": [
    "#삼성, 신일\n",
    "saeha_all_item = [samsung_dic_list,sinil_dic_list] #위에서 만든 리스트 - 자기가 맡은 제조사 넣으면 됩니다 "
   ]
  },
  {
   "cell_type": "code",
   "execution_count": 100,
   "metadata": {
    "colab": {
     "base_uri": "https://localhost:8080/",
     "height": 1000
    },
    "id": "vwUnOGMMImSV",
    "outputId": "c280224f-1ffd-4b80-deea-6f72cdb095ec"
   },
   "outputs": [
    {
     "ename": "java.lang.NullPointerException",
     "evalue": "java.lang.NullPointerException: Cannot invoke \"java.util.List.size()\" because \"melAnalResult\" is null",
     "output_type": "error",
     "traceback": [
      "\u001b[1;31m---------------------------------------------------------------------------\u001b[0m",
      "\u001b[1;31mException\u001b[0m                                 Traceback (most recent call last)",
      "\u001b[1;32m~\\anaconda3\\envs\\tfenv\\lib\\site-packages\\_jpype.cp38-win_amd64.pyd\u001b[0m in \u001b[0;36mkr.lucypark.kkma.KkmaInterface.morphAnalyzer\u001b[1;34m()\u001b[0m\n",
      "\u001b[1;32m~\\anaconda3\\envs\\tfenv\\lib\\site-packages\\_jpype.cp38-win_amd64.pyd\u001b[0m in \u001b[0;36morg.snu.ids.ha.ma.MorphemeAnalyzer.postProcess\u001b[1;34m()\u001b[0m\n",
      "\u001b[1;31mException\u001b[0m: Java Exception",
      "\nThe above exception was the direct cause of the following exception:\n",
      "\u001b[1;31mjava.lang.NullPointerException\u001b[0m            Traceback (most recent call last)",
      "\u001b[1;32m~\\AppData\\Local\\Temp/ipykernel_21912/4006294180.py\u001b[0m in \u001b[0;36m<module>\u001b[1;34m\u001b[0m\n\u001b[0;32m      2\u001b[0m     \u001b[1;32mfor\u001b[0m \u001b[0mj\u001b[0m\u001b[1;33m,\u001b[0m \u001b[0mdic_data\u001b[0m \u001b[1;32min\u001b[0m \u001b[0menumerate\u001b[0m\u001b[1;33m(\u001b[0m\u001b[0mcompany\u001b[0m\u001b[1;33m)\u001b[0m\u001b[1;33m:\u001b[0m\u001b[1;33m\u001b[0m\u001b[1;33m\u001b[0m\u001b[0m\n\u001b[0;32m      3\u001b[0m         \u001b[0mitem_review_list\u001b[0m \u001b[1;33m=\u001b[0m \u001b[0mdic_data\u001b[0m\u001b[1;33m[\u001b[0m\u001b[1;34m'리뷰'\u001b[0m\u001b[1;33m]\u001b[0m \u001b[1;31m#각 제품당 리뷰를 가지고 온다\u001b[0m\u001b[1;33m\u001b[0m\u001b[1;33m\u001b[0m\u001b[0m\n\u001b[1;32m----> 4\u001b[1;33m         \u001b[0msaeha_all_item\u001b[0m\u001b[1;33m[\u001b[0m\u001b[0mi\u001b[0m\u001b[1;33m]\u001b[0m\u001b[1;33m[\u001b[0m\u001b[0mj\u001b[0m\u001b[1;33m]\u001b[0m\u001b[1;33m[\u001b[0m\u001b[1;34m'리뷰'\u001b[0m\u001b[1;33m]\u001b[0m \u001b[1;33m=\u001b[0m \u001b[0mdo_stemming\u001b[0m\u001b[1;33m(\u001b[0m\u001b[0mitem_review_list\u001b[0m\u001b[1;33m)\u001b[0m\u001b[1;33m\u001b[0m\u001b[1;33m\u001b[0m\u001b[0m\n\u001b[0m",
      "\u001b[1;32m~\\AppData\\Local\\Temp/ipykernel_21912/3158070095.py\u001b[0m in \u001b[0;36mdo_stemming\u001b[1;34m(reviews)\u001b[0m\n\u001b[0;32m     12\u001b[0m \u001b[1;33m\u001b[0m\u001b[0m\n\u001b[0;32m     13\u001b[0m         \u001b[1;31m#하나의 리뷰에서 문장 단위로 자르기\u001b[0m\u001b[1;33m\u001b[0m\u001b[1;33m\u001b[0m\u001b[1;33m\u001b[0m\u001b[0m\n\u001b[1;32m---> 14\u001b[1;33m         \u001b[1;32mfor\u001b[0m \u001b[0msentence\u001b[0m \u001b[1;32min\u001b[0m \u001b[0mkkma\u001b[0m\u001b[1;33m.\u001b[0m\u001b[0msentences\u001b[0m\u001b[1;33m(\u001b[0m\u001b[0mreview_text\u001b[0m\u001b[1;33m)\u001b[0m\u001b[1;33m:\u001b[0m\u001b[1;33m\u001b[0m\u001b[1;33m\u001b[0m\u001b[0m\n\u001b[0m\u001b[0;32m     15\u001b[0m             \u001b[1;31m# if chardet.detect(sentence.encode())['encoding'] == 'cp949':\u001b[0m\u001b[1;33m\u001b[0m\u001b[1;33m\u001b[0m\u001b[1;33m\u001b[0m\u001b[0m\n\u001b[0;32m     16\u001b[0m             \u001b[1;31m#     sentence = unicode(sentence,'cp949').encode('utf-8')\u001b[0m\u001b[1;33m\u001b[0m\u001b[1;33m\u001b[0m\u001b[1;33m\u001b[0m\u001b[0m\n",
      "\u001b[1;32m~\\anaconda3\\envs\\tfenv\\lib\\site-packages\\konlpy\\tag\\_kkma.py\u001b[0m in \u001b[0;36msentences\u001b[1;34m(self, phrase)\u001b[0m\n\u001b[0;32m     87\u001b[0m         \u001b[1;34m\"\"\"Sentence detection.\"\"\"\u001b[0m\u001b[1;33m\u001b[0m\u001b[1;33m\u001b[0m\u001b[0m\n\u001b[0;32m     88\u001b[0m \u001b[1;33m\u001b[0m\u001b[0m\n\u001b[1;32m---> 89\u001b[1;33m         \u001b[0msentences\u001b[0m \u001b[1;33m=\u001b[0m \u001b[0mself\u001b[0m\u001b[1;33m.\u001b[0m\u001b[0mjki\u001b[0m\u001b[1;33m.\u001b[0m\u001b[0mmorphAnalyzer\u001b[0m\u001b[1;33m(\u001b[0m\u001b[0mphrase\u001b[0m\u001b[1;33m)\u001b[0m\u001b[1;33m\u001b[0m\u001b[1;33m\u001b[0m\u001b[0m\n\u001b[0m\u001b[0;32m     90\u001b[0m         \u001b[1;32mif\u001b[0m \u001b[1;32mnot\u001b[0m \u001b[0msentences\u001b[0m\u001b[1;33m:\u001b[0m \u001b[1;32mreturn\u001b[0m \u001b[1;33m[\u001b[0m\u001b[1;33m]\u001b[0m\u001b[1;33m\u001b[0m\u001b[1;33m\u001b[0m\u001b[0m\n\u001b[0;32m     91\u001b[0m         \u001b[1;32mreturn\u001b[0m \u001b[1;33m[\u001b[0m\u001b[0msentences\u001b[0m\u001b[1;33m.\u001b[0m\u001b[0mget\u001b[0m\u001b[1;33m(\u001b[0m\u001b[0mi\u001b[0m\u001b[1;33m)\u001b[0m\u001b[1;33m.\u001b[0m\u001b[0mgetSentence\u001b[0m\u001b[1;33m(\u001b[0m\u001b[1;33m)\u001b[0m \u001b[1;32mfor\u001b[0m \u001b[0mi\u001b[0m \u001b[1;32min\u001b[0m \u001b[0mrange\u001b[0m\u001b[1;33m(\u001b[0m\u001b[0msentences\u001b[0m\u001b[1;33m.\u001b[0m\u001b[0msize\u001b[0m\u001b[1;33m(\u001b[0m\u001b[1;33m)\u001b[0m\u001b[1;33m)\u001b[0m\u001b[1;33m]\u001b[0m\u001b[1;33m\u001b[0m\u001b[1;33m\u001b[0m\u001b[0m\n",
      "\u001b[1;31mjava.lang.NullPointerException\u001b[0m: java.lang.NullPointerException: Cannot invoke \"java.util.List.size()\" because \"melAnalResult\" is null"
     ]
    }
   ],
   "source": [
    "for i, company in enumerate(saeha_all_item): #제조사 선택\n",
    "    for j, dic_data in enumerate(company):\n",
    "        item_review_list = dic_data['리뷰'] #각 제품당 리뷰를 가지고 온다\n",
    "        saeha_all_item[i][j]['리뷰'] = do_stemming(item_review_list)\n"
   ]
  },
  {
   "cell_type": "code",
   "execution_count": 81,
   "metadata": {},
   "outputs": [],
   "source": [
    "#for문이 끝나고 나서 all_item을 json으로 변환해서 data 폴더에 저장 \n",
    "saeha_file_path = './data/samsung_sinil.json'"
   ]
  },
  {
   "cell_type": "code",
   "execution_count": 82,
   "metadata": {},
   "outputs": [],
   "source": [
    "#결과물 json으로 저장\n",
    "with open(saeha_file_path, 'w') as outfile:\n",
    "    json.dump(saeha_all_item, outfile)"
   ]
  },
  {
   "cell_type": "code",
   "execution_count": 83,
   "metadata": {},
   "outputs": [],
   "source": [
    "#json로드\n",
    "with open(saeha_file_path, 'r') as jsonfile:\n",
    "    saeha_json_data = json.load(jsonfile)\n"
   ]
  },
  {
   "cell_type": "code",
   "execution_count": 84,
   "metadata": {},
   "outputs": [
    {
     "name": "stdout",
     "output_type": "stream",
     "text": [
      "<class 'list'>\n"
     ]
    }
   ],
   "source": [
    "print(type(saeha_json_data))"
   ]
  },
  {
   "cell_type": "markdown",
   "metadata": {},
   "source": [
    "## 정한슬"
   ]
  },
  {
   "cell_type": "code",
   "execution_count": null,
   "metadata": {},
   "outputs": [],
   "source": []
  },
  {
   "cell_type": "code",
   "execution_count": null,
   "metadata": {},
   "outputs": [],
   "source": []
  },
  {
   "cell_type": "code",
   "execution_count": null,
   "metadata": {},
   "outputs": [],
   "source": []
  },
  {
   "cell_type": "code",
   "execution_count": null,
   "metadata": {},
   "outputs": [],
   "source": []
  },
  {
   "cell_type": "code",
   "execution_count": null,
   "metadata": {},
   "outputs": [],
   "source": []
  },
  {
   "cell_type": "code",
   "execution_count": null,
   "metadata": {},
   "outputs": [],
   "source": []
  },
  {
   "cell_type": "markdown",
   "metadata": {},
   "source": [
    "# json 합치기"
   ]
  },
  {
   "cell_type": "code",
   "execution_count": 85,
   "metadata": {},
   "outputs": [],
   "source": [
    "json_data = saeha_json_data+chanhee_json_data"
   ]
  },
  {
   "cell_type": "markdown",
   "metadata": {
    "id": "oE1UiLbIxifH"
   },
   "source": [
    "# 감정 사전"
   ]
  },
  {
   "cell_type": "code",
   "execution_count": 90,
   "metadata": {
    "id": "wM3yFLcG_Gqo"
   },
   "outputs": [],
   "source": [
    "negative_word_emotion = ['안','않','못','없','아닌','아니']"
   ]
  },
  {
   "cell_type": "markdown",
   "metadata": {
    "id": "zsW9a7Td_YBN"
   },
   "source": [
    "## 김찬희\n",
    "김찬희 : 무게, 흡입력, 충전"
   ]
  },
  {
   "cell_type": "code",
   "execution_count": 15,
   "metadata": {
    "id": "T-v4yGq__ykv"
   },
   "outputs": [],
   "source": [
    "weight_good_feature = {'무게':['가볍','가벼','적당','괜찮','좋','무난','없']}                      \n",
    "weight_bad_feature = {'무게':['무거','무겁','나가','있']}\n",
    "power_good_feature ={'흡입':['좋','강','충분','만족','괜찮','잘','짱','적당']}\n",
    "power_bad_feature ={'흡입':['나쁘','별로','약','부족','아직','장난']}\n",
    "charge_good_feature= {'충전' : ['짧','빨리','급속', '대박','빠른','빠르게','번거','잘','편하','편한','쉬운','쉽']}\n",
    "charge_bad_feature={'충전' : ['오래', '길','짜증','느','불편','어렵','아쉽']}"
   ]
  },
  {
   "cell_type": "markdown",
   "metadata": {
    "id": "YA5zNwwE_YR5"
   },
   "source": [
    "## 박유정\n",
    "박유정 : 디자인, 가성비 "
   ]
  },
  {
   "cell_type": "code",
   "execution_count": null,
   "metadata": {
    "id": "9jxiH2Hz_zHc"
   },
   "outputs": [],
   "source": [
    "design_good_feature = { '디자인': ['예뻐','예뻐','이쁜', '이뻐','깔끔', '세련','고급','반해', '군더더기', '잘','스며드는' '굿', '무난', '만족', '칭찬', '좋'],\n",
    "                       '색상': ['예뻐','이쁜', '이뻐','깔끔', '세련','고급','반해', '군더더기', '잘','스며드는' '좋', '괜찮', '무난', '만족']\n",
    "                      }\n",
    "design_bad_feature = { '디자인': ['못', '실망', '별로', '구리', '나쁘', '이상', '투박', '별'],\n",
    "                     '색상': ['못', '실망', '별로', '구리', '나쁘', '이상', '투박'] }\n",
    "cost_effectiveness_good_feature =  { '가성': ['괜찮', '괜춘', '좋은', '최고', '굿','추천', '만족', '짱', '훌륭','있는'],\n",
    "                                     '가격 대비': ['괜찮', '괜춘', '좋아', '굿', '추천', '만족', '짱', '훌륭']}\n",
    "cost_effectiveness_bad_feature = { '가성':  ['별로','실망', '그닥', '없는' '배드','비추', '나쁘', '글쎄', '떨어'],\n",
    "                                   '가격 대비': ['별로', '실망', '그닥', '없는', '비추','나쁜', '글쎄', '떨어']}"
   ]
  },
  {
   "cell_type": "markdown",
   "metadata": {
    "id": "7DzpgyTo_YWB"
   },
   "source": [
    "## 정새하\n",
    "정새하 : 소음, 배터리, 가격\n"
   ]
  },
  {
   "cell_type": "code",
   "execution_count": 86,
   "metadata": {
    "id": "kKnOeany_0IA"
   },
   "outputs": [],
   "source": [
    "noise_good_feature = {'소음':['작아','조용','조용한','적당','크지않','크지','크진','적어','작은편','적고', '별로 크지', '생각보다 크지','괜찮', '크지 않', '시끄럽지', '큰맘'],\n",
    "                      '소리':['작아','조용','조용한','적당','크지않','크지','크진','적어','작은편','적고', '별로 크지','생각보다 크지','괜찮','크지 않', '시끄럽지', '큰맘']}\n",
    "noise_bad_feature = {'소음':['커','커서','시끄러','귀청', '크지만','시끄럽','거슬','심한','있는','큰편', '큰데', '작거나 하진', '약간', '심해'],\n",
    "                      '소리':['커','커서','시끄러','귀청','크지만','시끄럽','거슬','심한','있는','큰편','큰데', '작거나 하진', '약간','심해']} \n",
    "battery_good_feature = {'배터리':['길어','오래', '오래가'],\n",
    "                        '수명':['길어','오래','오래가']}\n",
    "battery_bad_feature = {'배터리':['짧아','약','약해','작아','빨리','없어','소모','짧긴'],\n",
    "                       '수명':['짧아','빨리','닳아']}\n",
    "\n",
    "price_good_feature = {'가격' : ['싸요', '싸고', '싸서', '가성비', '착해', '가격대비','싸게', '착한가격','저렴','만족','좋은','좋아','비싸지','비싸진','싸진','싸지']}\n",
    "price_bad_feature = {'가격' : ['비싸요', '비싸고', '비싸서']}"
   ]
  },
  {
   "cell_type": "markdown",
   "metadata": {
    "id": "ZxAV9htC_YYs"
   },
   "source": [
    "## 정한슬\n",
    "정한슬 : 내구성, 서비스"
   ]
  },
  {
   "cell_type": "code",
   "execution_count": null,
   "metadata": {
    "id": "36Wwrq5P_0u5"
   },
   "outputs": [],
   "source": [
    "durability_good_feature ={ '내구성': ['높', '강하', '좋','강력']}\n",
    "\n",
    "durability_bad_feature = { '내구성': ['떨어', '약', '좋지않']}\n",
    "\n",
    "as_good_feature = { 'as': ['편', '국내', '가능', '무상',] }\n",
    "\n",
    "as_bad_feature = {'as':  ['불편', '불가능', '유상']}\n"
   ]
  },
  {
   "cell_type": "markdown",
   "metadata": {
    "id": "kjvthfzi_YeD"
   },
   "source": [
    "# 키워드 추출 메소드"
   ]
  },
  {
   "cell_type": "code",
   "execution_count": 93,
   "metadata": {
    "id": "hnQmufIg_6Qp"
   },
   "outputs": [],
   "source": [
    "def get_feature_keywords(feature_keywords, review):\n",
    "    feature_temp = []\n",
    "    for keyword in feature_keywords: #감성 사전키 리스트에서 키를 뽑아서\n",
    "        if re.findall(keyword, review): #패턴을 찾음\n",
    "            sub_list = ['게','고','음','며','데','만','도','면']\n",
    "            \n",
    "            for sub in sub_list:\n",
    "                if sub+' ' in review: #리뷰안에 sub +' ' 가 있으면 \n",
    "                    review = re.sub(sub+' ', sub+',', review) # review 안에 sub+' '를 sub+','로 치환 \n",
    "                \n",
    "            a = re.findall(keyword +'+[ㄱ-ㅎ|ㅏ-ㅣ|가-힣]+\\s+[ㄱ-ㅎ|ㅏ-ㅣ|가-힣]+\\s+[ㄱ-ㅎ|ㅏ-ㅣ|가-힣]+',review) # K한 한 한글\n",
    "            #print('패턴찾기 1', a) # 키워드 뒤쪽 글자 가져오는 소음이 작아요 \n",
    "            b = re.findall(keyword + '+\\s+[ㄱ-ㅎ|ㅏ-ㅣ|가-힣]+\\s+[ㄱ-ㅎ|ㅏ-ㅣ|가-힣]+',review) # K 한 한글 \n",
    "            #print('패턴찾기 1', b) # 키워드 + 띄어쓰기 이후 글자 가져오는 소리 작아요\n",
    "            c = re.findall('[ㄱ-ㅎ|ㅏ-ㅣ|가-힣]+\\s+' + keyword +'[ㄱ-ㅎ|ㅏ-ㅣ|가-힣]+',review) # 한 K한글 예쁜 분위기가\n",
    "            #print('패턴찾기 1', c) #키워드 앞쪽 글자 가져오는 시끄러운 소음\n",
    "            d = re.findall('[ㄱ-ㅎ|ㅏ-ㅣ|가-힣]+\\s+' + keyword +'+\\s+[ㄱ-ㅎ|ㅏ-ㅣ|가-힣]+',review)\n",
    "            \n",
    "            for ngram in a: #패턴찾기로 찾아낸 문구들을 (문구, 키워드) 형태로 만드는 ['소음이 커요', '소음이 작아요','소음만 어찌했으면']\n",
    "                t = ()\n",
    "                feature_temp.append(t + (ngram,keyword)) # ('소음이 커요', '소음')\n",
    "            for ngram in b:\n",
    "                t = ()\n",
    "                feature_temp.append(t + (ngram,keyword))\n",
    "            for ngram in c:\n",
    "                t = ()\n",
    "                feature_temp.append(t + (ngram,keyword))\n",
    "            for ngram in d:\n",
    "                t = ()\n",
    "                feature_temp.append(t + (ngram,keyword))\n",
    "                \n",
    "    return feature_temp "
   ]
  },
  {
   "cell_type": "code",
   "execution_count": 88,
   "metadata": {},
   "outputs": [],
   "source": [
    "def get_feature_emotions(feature_good_dict,feature_bad_dict, feature_temp):\n",
    "    good_feature_emotion_list = []\n",
    "    bad_feature_emotion_list = []\n",
    "    \n",
    "    for ngrams in feature_temp: #(문구, 키워드)형태\n",
    "        keyword = ngrams[1]\n",
    "        ngram = ngrams[0]\n",
    "        is_bad_feature = None\n",
    "        \n",
    "        good_emotion_list = feature_good_dict[keyword] #키워드(key)를 이용해서 value 가져옴\n",
    "        bad_emotion_list = feature_bad_dict[keyword]\n",
    "        \n",
    "        #긍정\n",
    "        for emotion in good_emotion_list:\n",
    "            if re.findall(emotion, ngram): # 문구에서 가지고 온 value 리스트에서 단어 빼와서 패턴 찾기\n",
    "                is_bad_feature = False \n",
    "        #부정        \n",
    "        for emotion in bad_emotion_list:\n",
    "            if re.findall(emotion, ngram):\n",
    "                is_bad_feature = True  \n",
    "        #부정어       \n",
    "        for negative in negative_word_emotion: # 문구안에 부정적인 워드 있는지 확인\n",
    "            if re.findall(negative, ngram): \n",
    "                if is_bad_feature == True: \n",
    "                    is_bad_feature = False\n",
    "                    break\n",
    "                elif is_bad_feature == False:\n",
    "                    is_bad_feature = True\n",
    "                    break\n",
    "                else:\n",
    "                    is_bad_feature = True\n",
    "                    break \n",
    "                    \n",
    "        #긍정 부정 키워드 리스트 생성           \n",
    "        if is_bad_feature:\n",
    "            bad_feature_emotion_list.append(ngram)\n",
    "        elif is_bad_feature == False:\n",
    "            good_feature_emotion_list.append(ngram)\n",
    "        else:\n",
    "            pass\n",
    "    return good_feature_emotion_list, bad_feature_emotion_list"
   ]
  },
  {
   "cell_type": "markdown",
   "metadata": {},
   "source": [
    "# 점수화\n",
    "감정 사전을 이용해서 긍정, 부정에 대한 문구를 필터, 카운트"
   ]
  },
  {
   "cell_type": "code",
   "execution_count": 1,
   "metadata": {},
   "outputs": [
    {
     "ename": "NameError",
     "evalue": "name 'json_data' is not defined",
     "output_type": "error",
     "traceback": [
      "\u001b[1;31m---------------------------------------------------------------------------\u001b[0m",
      "\u001b[1;31mNameError\u001b[0m                                 Traceback (most recent call last)",
      "\u001b[1;32m~\\AppData\\Local\\Temp/ipykernel_22988/929746685.py\u001b[0m in \u001b[0;36m<module>\u001b[1;34m\u001b[0m\n\u001b[0;32m      1\u001b[0m \u001b[0mcheck_division\u001b[0m \u001b[1;33m=\u001b[0m \u001b[1;32mlambda\u001b[0m \u001b[0mx\u001b[0m\u001b[1;33m,\u001b[0m \u001b[0my\u001b[0m\u001b[1;33m:\u001b[0m \u001b[0my\u001b[0m \u001b[1;32mif\u001b[0m \u001b[0my\u001b[0m \u001b[1;33m==\u001b[0m\u001b[1;36m0\u001b[0m \u001b[1;32melse\u001b[0m \u001b[0mround\u001b[0m\u001b[1;33m(\u001b[0m\u001b[1;33m(\u001b[0m\u001b[0mx\u001b[0m \u001b[1;33m/\u001b[0m \u001b[0mfloat\u001b[0m\u001b[1;33m(\u001b[0m\u001b[0my\u001b[0m\u001b[1;33m)\u001b[0m\u001b[1;33m)\u001b[0m\u001b[1;33m,\u001b[0m\u001b[1;36m2\u001b[0m\u001b[1;33m)\u001b[0m\u001b[1;33m\u001b[0m\u001b[1;33m\u001b[0m\u001b[0m\n\u001b[1;32m----> 2\u001b[1;33m \u001b[1;32mfor\u001b[0m \u001b[0mk\u001b[0m\u001b[1;33m,\u001b[0m \u001b[0mcompany\u001b[0m \u001b[1;32min\u001b[0m \u001b[0menumerate\u001b[0m\u001b[1;33m(\u001b[0m\u001b[0mjson_data\u001b[0m\u001b[1;33m)\u001b[0m\u001b[1;33m:\u001b[0m\u001b[1;33m\u001b[0m\u001b[1;33m\u001b[0m\u001b[0m\n\u001b[0m\u001b[0;32m      3\u001b[0m \u001b[1;33m\u001b[0m\u001b[0m\n\u001b[0;32m      4\u001b[0m \u001b[1;33m\u001b[0m\u001b[0m\n\u001b[0;32m      5\u001b[0m     \u001b[1;32mfor\u001b[0m \u001b[0mi\u001b[0m\u001b[1;33m,\u001b[0m \u001b[0mitem\u001b[0m \u001b[1;32min\u001b[0m \u001b[0menumerate\u001b[0m\u001b[1;33m(\u001b[0m\u001b[0mcompany\u001b[0m\u001b[1;33m)\u001b[0m\u001b[1;33m:\u001b[0m\u001b[1;33m\u001b[0m\u001b[1;33m\u001b[0m\u001b[0m\n",
      "\u001b[1;31mNameError\u001b[0m: name 'json_data' is not defined"
     ]
    }
   ],
   "source": [
    "check_division = lambda x, y: y if y ==0 else round((x / float(y)),2)\n",
    "for k, company in enumerate(json_data):\n",
    "    \n",
    "\n",
    "    for i, item in enumerate(company):\n",
    "        \n",
    "        cleaner_good_design_count = 0\n",
    "        cleaner_bad_design_count = 0\n",
    "        cleaner_good_cost_eff_count =0\n",
    "        cleaner_bad_cost_eff_count =0\n",
    "\n",
    "        cleaner_good_noise_count = 0\n",
    "        cleaner_bad_noise_count = 0\n",
    "        cleaner_good_battery_count = 0\n",
    "        cleaner_bad_battery_count = 0\n",
    "        cleaner_good_price_count = 0\n",
    "        cleaner_bad_price_count = 0\n",
    "        cleaner_good_weight_count = 0\n",
    "        cleaner_bad_weight_count = 0\n",
    "        cleaner_good_power_count = 0\n",
    "        cleaner_bad_power_count = 0\n",
    "        cleaner_good_charge_count = 0\n",
    "        cleaner_bad_charge_count = 0\n",
    "        \n",
    "\n",
    "        \n",
    "        print(i, item['제품명'])\n",
    "        \n",
    "        #디자인\n",
    "        design_temp = get_feature_keywords(design_good_feature.keys(), item['리뷰'])\n",
    "        good_design,bad_disign = get_feature_emotions(design_good_feature,design_bad_feature, design_temp)  \n",
    "        print(\"좋은\", good_design)\n",
    "        print(\"안좋은\",bad_disign)\n",
    "    \n",
    "        #가성비\n",
    "        cost_eff_temp = get_feature_keywords(cost_effectiveness_good_feature.keys(), item['리뷰'])\n",
    "        good_cost_eff,bad_cost_eff = get_feature_emotions(cost_effectiveness_good_feature,cost_effectiveness_bad_feature, cost_eff_temp)\n",
    "        print(\"좋은\", good_cost_eff)\n",
    "        print(\"안좋은\",bad_cost_eff)\n",
    "    \n",
    "        \n",
    "        #소음\n",
    "        nois_temp = get_feature_keywords(noise_good_feature.keys(), item['리뷰'])        \n",
    "        good_noise,bad_noise = get_feature_emotions( noise_good_feature,noise_bad_feature, nois_temp)\n",
    "        print(\"좋은\", good_noise)\n",
    "        print(\"안좋은\",bad_noise)\n",
    "        \n",
    "        #배터리\n",
    "        battery_temp = get_feature_keywords(battery_good_feature.keys(), item['리뷰'])        \n",
    "        good_battery,bad_battery = get_feature_emotions( battery_good_feature,battery_bad_feature, battery_temp)\n",
    "        print(\"배터리 좋은\", good_battery)\n",
    "        print(\"배터리 안좋은\",bad_battery)\n",
    "        \n",
    "        #가격\n",
    "        price_temp = get_feature_keywords(price_good_feature.keys(), item['리뷰'])        \n",
    "        good_price,bad_price = get_feature_emotions( price_good_feature,price_bad_feature, price_temp)\n",
    "        \n",
<<<<<<< HEAD
    "        # 디자인 점수화\n",
    "        if len(good_noise) > len(bad_noise):\n",
    "            cleaner_good_noise_count += 1\n",
    "        elif len(good_noise) < len(bad_noise):\n",
    "            cleaner_bad_noise_count += 1\n",
    "        else:\n",
    "            pass        \n",
    "        \n",
    "        \n",
    "        # 가격 점수화 \n",
    "        \n",
    "        \n",
=======
    "        #무게\n",
    "        weight_temp = get_feature_keywords(weight_good_feature.keys(), item['리뷰'])\n",
    "        good_weight,bad_weight = get_feature_emotions( weight_good_feature,weight_bad_feature, weight_temp)\n",
    "        \n",
    "        #흡입력\n",
    "        power_temp = get_feature_keywords(power_good_feature.keys(), item['리뷰'])      \n",
    "        good_power,bad_power = get_feature_emotions( power_good_feature,power_bad_feature, power_temp)\n",
    "        \n",
    "        #충전\n",
    "        charge_temp = get_feature_keywords(charge_good_feature.keys(), item['리뷰'])      \n",
    "        good_charge,bad_charge = get_feature_emotions(charge_good_feature,charge_bad_feature, charge_temp)\n",
>>>>>>> 6207293886fb517552fcf83c326d614d421e5c05
    "        \n",
    "        #소음 점수화\n",
    "        if len(good_noise) > len(bad_noise):\n",
    "            cleaner_good_noise_count += 1\n",
    "        elif len(good_noise) < len(bad_noise):\n",
    "            cleaner_bad_noise_count += 1\n",
    "        else:\n",
    "            pass\n",
    "\n",
    "        #배터리 점수화\n",
    "        if len(good_battery) > len(bad_battery):\n",
    "            cleaner_good_battery_count += 1\n",
    "        elif len(good_battery) < len(bad_battery):\n",
    "            cleaner_bad_battery_count += 1\n",
    "        else:\n",
    "            pass\n",
    "        \n",
    "        #가격 점수화\n",
    "        if len(good_price) > len(bad_price):\n",
    "            cleaner_good_battery_count += 1\n",
    "        elif len(good_price) < len(bad_price):\n",
    "            cleaner_bad_battery_count += 1\n",
    "        else:\n",
    "            pass\n",
    "        \n",
    "        #무게 점수화\n",
    "        if len(good_weight) > len(bad_weight):\n",
    "            cleaner_good_weight_count += 1\n",
    "        elif len(good_weight) < len(bad_weight):\n",
    "            cleaner_bad_weight_count += 1\n",
    "        else:\n",
    "            pass\n",
    "        \n",
    "        #흡입력 점수화\n",
    "        if len(good_power) > len(bad_power):\n",
    "            cleaner_good_power_count += 1\n",
    "        elif len(good_power) < len(bad_power):\n",
    "            cleaner_bad_power_count += 1\n",
    "        else:\n",
    "            pass\n",
    "        \n",
    "        #충전 점수화\n",
    "        if len(good_charge) > len(bad_charge):\n",
    "            cleaner_good_charge_count += 1\n",
    "        elif len(good_charge) < len(bad_charge):\n",
    "            cleaner_bad_charge_count += 1\n",
    "        else:\n",
    "            pass\n",
    "\n",
    "\n",
    "            \n",
    "    #print('Total review count: {}'.format(len(reviews_list)))\n",
    "    print('Good noise: {}/{} = {}'.format(cleaner_good_noise_count,cleaner_good_noise_count + cleaner_bad_noise_count,100*check_division(cleaner_good_noise_count, cleaner_good_noise_count + cleaner_bad_noise_count)))\n",
    "    print('Good battery: {}/{} = {}'.format(cleaner_good_battery_count,cleaner_good_battery_count + cleaner_bad_battery_count,100*check_division(cleaner_good_battery_count,cleaner_good_battery_count + cleaner_bad_battery_count))) \n",
    "    print('Good price: {}/{} = {}'.format(cleaner_good_price_count,cleaner_good_price_count + cleaner_bad_price_count,100*check_division(cleaner_good_price_count,cleaner_good_price_count + cleaner_bad_price_count)))\n",
    "    print('Good power: {}/{} = {}'.format(cleaner_good_power_count,cleaner_good_power_count + cleaner_bad_power_count,100*check_division(cleaner_good_power_count,cleaner_good_power_count + cleaner_bad_power_count)))\n",
    "    print('Good weight: {}/{} = {}'.format(cleaner_good_weight_count,cleaner_good_weight_count + cleaner_bad_weight_count,100*check_division(cleaner_good_weight_count,cleaner_good_weight_count + cleaner_bad_weight_count)))\n",
    "    print('Good charge: {}/{} = {}'.format(cleaner_good_charge_count,cleaner_good_price_count + cleaner_bad_price_count,100*check_division(cleaner_good_price_count,cleaner_good_price_count + cleaner_bad_price_count)))\n"
   ]
  },
  {
   "cell_type": "code",
   "execution_count": null,
   "metadata": {},
   "outputs": [],
   "source": []
  }
 ],
 "metadata": {
  "colab": {
   "collapsed_sections": [],
   "name": "vacuum cleaner_natural language processing.ipynb",
   "provenance": []
  },
  "kernelspec": {
   "display_name": "Python 3 (ipykernel)",
   "language": "python",
   "name": "python3"
  },
  "language_info": {
   "codemirror_mode": {
    "name": "ipython",
    "version": 3
   },
   "file_extension": ".py",
   "mimetype": "text/x-python",
   "name": "python",
   "nbconvert_exporter": "python",
   "pygments_lexer": "ipython3",
   "version": "3.9.7"
  }
 },
 "nbformat": 4,
 "nbformat_minor": 4
}
